{
 "cells": [
  {
   "cell_type": "markdown",
   "id": "a16f1170-93f6-4538-b464-f4c955dc3bfb",
   "metadata": {},
   "source": [
    "# Tidy Modeling with R"
   ]
  },
  {
   "cell_type": "code",
   "execution_count": 2,
   "id": "5d6b03e5-7042-4f3b-bc54-d95ddc21a2ea",
   "metadata": {},
   "outputs": [
    {
     "data": {
      "text/html": [
       "<style>\n",
       ".list-inline {list-style: none; margin:0; padding: 0}\n",
       ".list-inline>li {display: inline-block}\n",
       ".list-inline>li:not(:last-child)::after {content: \"\\00b7\"; padding: 0 .5ex}\n",
       "</style>\n",
       "<ol class=list-inline><li>2930</li><li>74</li></ol>\n"
      ],
      "text/latex": [
       "\\begin{enumerate*}\n",
       "\\item 2930\n",
       "\\item 74\n",
       "\\end{enumerate*}\n"
      ],
      "text/markdown": [
       "1. 2930\n",
       "2. 74\n",
       "\n",
       "\n"
      ],
      "text/plain": [
       "[1] 2930   74"
      ]
     },
     "metadata": {},
     "output_type": "display_data"
    }
   ],
   "source": [
    "library(modeldata)\n",
    "\n",
    "data(ames)\n",
    "\n",
    "# What are the dimensions of this df\n",
    "dim(ames)"
   ]
  },
  {
   "cell_type": "code",
   "execution_count": 5,
   "id": "019ebcde-b962-437d-92a4-79d98c462f85",
   "metadata": {},
   "outputs": [
    {
     "data": {
      "image/png": "[encoded data removed]",
      "text/plain": [
       "plot without title"
      ]
     },
     "metadata": {
      "image/png": {
       "height": 420,
       "width": 420
      }
     },
     "output_type": "display_data"
    }
   ],
   "source": [
    "library(tidymodels)\n",
    "\n",
    "tidymodels_prefer()\n",
    "\n",
    "\n",
    "ggplot(\n",
    "        ames,\n",
    "        aes(x = Sale_Price)\n",
    "      ) +\n",
    "    geom_histogram(bins=50, col=\"white\") + \n",
    "    # Visualization shows a right skew so lets use the log to scale this\n",
    "    scale_x_log10()"
   ]
  },
  {
   "cell_type": "code",
   "execution_count": null,
   "id": "41953579-90ca-43b3-96d3-9e25f95c43e1",
   "metadata": {},
   "outputs": [],
   "source": [
    "# Choose to prelog all the y values\n",
    "# ames <- ames |>\n",
    "#             mutate(Sales_Price = log10(Sales_Price))"
   ]
  },
  {
   "cell_type": "markdown",
   "id": "24c7fb60-524b-4968-9f22-2a04899b06df",
   "metadata": {},
   "source": [
    "## Spliting Data"
   ]
  },
  {
   "cell_type": "code",
   "execution_count": 6,
   "id": "107b338f-97b7-4a07-b5ea-4277551bf06f",
   "metadata": {},
   "outputs": [],
   "source": [
    "set.seed(123)\n",
    "\n",
    "\n",
    "# Creating the r_split object\n",
    "ames_split <- initial_split(ames, prop = 0.8, strata = Sale_Price)\n",
    "\n",
    "ames_train <- training(ames_split)\n",
    "\n",
    "ames_test <- testing(ames_split)"
   ]
  },
  {
   "cell_type": "code",
   "execution_count": null,
   "id": "9d1f4509-5e8e-4e1c-a417-3e7c24e8dd85",
   "metadata": {},
   "outputs": [],
   "source": [
    "# # If Validation set is wanted:\n",
    "# set.seed(52)\n",
    "# # To put 60% into training, 20% in validation, and 20% in testing:\n",
    "# ames_val_split <- initial_validation_split(ames, prop = c(0.6, 0.2))\n",
    "\n",
    "# ames_train <- training(ames_val_split)\n",
    "# ames_test <- testing(ames_val_split)\n",
    "# ames_val <- validation(ames_val_split)"
   ]
  },
  {
   "cell_type": "markdown",
   "id": "19e433d2-1833-43e8-a03d-8de0a1d8ff0f",
   "metadata": {},
   "source": [
    "# Model Fitting\n",
    "\n",
    "For tidymodels, the approach to specifying a model is intended to be more unified:\r\n",
    "\r\n",
    "Specify the type of model based on its mathematical structure (e.g., linear regression, random forest, KNN, etc).\r\n",
    "\r\n",
    "Specify the engine for fitting the model. Most often this reflects the software package that should be used, like Stan or glmnet. These are models in their own right, and parsnip provides consistent interfaces by using these as engines for modeling.\r\n",
    "\r\n",
    "When required, declare the mode of the model. The mode reflects the type of prediction outcome. For numeric outcomes, the mode is regression; for qualitative outcomes, it is classification.14 If a model algorithm can only address one type of prediction outcome, such as linear regression, the mode is already set."
   ]
  },
  {
   "cell_type": "code",
   "execution_count": null,
   "id": "46b31755-265f-42a1-938d-07b1b7acf0af",
   "metadata": {},
   "outputs": [],
   "source": [
    "# Instantiate the regression model\n",
    "lm_model <- \n",
    "    linear_reg() |>\n",
    "    # Specify the engine used for regression\n",
    "    set_engine(\"lm\") |> # This could be set_engine(\"glmnet\") | set_engine(\"stan\")\n",
    "    # Use the translate function to provide details on how the library converts the user's code to the package syntax\n",
    "    translate()\n",
    "\n",
    "\n",
    "# linear_reg(penalty = 1) \n",
    "#     |> set_engine(\"glmnet\") \n",
    "#     |> translate()\n",
    "\n",
    "\n",
    "# linear_reg() \n",
    "#     |> set_engine(\"stan\") \n",
    "#     |> translate()"
   ]
  },
  {
   "cell_type": "code",
   "execution_count": 9,
   "id": "98af2de7-6d07-46e5-91bc-c00c076bee5b",
   "metadata": {},
   "outputs": [
    {
     "data": {
      "text/plain": [
       "parsnip model object\n",
       "\n",
       "\n",
       "Call:\n",
       "stats::lm(formula = Sale_Price ~ Longitude + Latitude, data = data)\n",
       "\n",
       "Coefficients:\n",
       "(Intercept)    Longitude     Latitude  \n",
       " -124970600      -774125      1252758  \n"
      ]
     },
     "metadata": {},
     "output_type": "display_data"
    }
   ],
   "source": [
    "# Instantiate the regression model\n",
    "lm_model <- \n",
    "    linear_reg() |>\n",
    "    # Specify the engine used for regression\n",
    "    set_engine(\"lm\") |> \n",
    "    # Use the translate function to provide details on how the library converts the user's code to the package syntax\n",
    "    translate()\n",
    "\n",
    "\n",
    "# Fitting the formula\n",
    "lm_form_fit <-\n",
    "    # Specify the model\n",
    "    lm_model |>\n",
    "    # Specify the formula using the training data\n",
    "    fit(Sale_Price ~ Longitude + Latitude, data = ames_train)\n",
    "\n",
    "\n",
    "lm_form_fit"
   ]
  },
  {
   "cell_type": "code",
   "execution_count": 12,
   "id": "34e10a2f-defb-4aeb-8fd4-6f218fbacd07",
   "metadata": {},
   "outputs": [
    {
     "data": {
      "text/plain": [
       "parsnip model object\n",
       "\n",
       "Ranger result\n",
       "\n",
       "Call:\n",
       " ranger::ranger(x = maybe_data_frame(x), y = y, num.trees = ~1000,      min.node.size = min_rows(~5, x), num.threads = 1, verbose = FALSE,      seed = sample.int(10^5, 1)) \n",
       "\n",
       "Type:                             Regression \n",
       "Number of trees:                  1000 \n",
       "Sample size:                      2342 \n",
       "Number of independent variables:  2 \n",
       "Mtry:                             1 \n",
       "Target node size:                 5 \n",
       "Variable importance mode:         none \n",
       "Splitrule:                        variance \n",
       "OOB prediction error (MSE):       1669670360 \n",
       "R squared (OOB):                  0.7272088 "
      ]
     },
     "metadata": {},
     "output_type": "display_data"
    }
   ],
   "source": [
    "# Using Random Forest arguments with parsnip\n",
    "rf_model <-   rand_forest(trees = 1000, min_n = 5) |>\n",
    "                    set_engine(\"ranger\") |>\n",
    "                    set_mode(\"regression\") |>\n",
    "                    translate()\n",
    "\n",
    "\n",
    "rf_form_fit <-\n",
    "                # Specify the fr model\n",
    "                rf_model |>\n",
    "                # Specify the formula\n",
    "                fit(Sale_Price ~ Longitude + Latitude, data = ames_train)\n",
    "\n",
    "\n",
    "rf_form_fit"
   ]
  },
  {
   "cell_type": "markdown",
   "id": "43c514ea-492c-4108-b05b-480614aa5ee4",
   "metadata": {},
   "source": [
    "## Using the model results"
   ]
  },
  {
   "cell_type": "code",
   "execution_count": 22,
   "id": "e85d1acb-4c4e-4566-8561-67bd024cb9c1",
   "metadata": {},
   "outputs": [
    {
     "data": {
      "text/plain": [
       "\n",
       "Call:\n",
       "stats::lm(formula = Sale_Price ~ Longitude + Latitude, data = data)\n",
       "\n",
       "Residuals:\n",
       "    Min      1Q  Median      3Q     Max \n",
       "-142269  -46064  -18811   32771  530253 \n",
       "\n",
       "Coefficients:\n",
       "              Estimate Std. Error t value Pr(>|t|)    \n",
       "(Intercept) -124970601    6535572  -19.12   <2e-16 ***\n",
       "Longitude      -774125      58123  -13.32   <2e-16 ***\n",
       "Latitude       1252758      81424   15.39   <2e-16 ***\n",
       "---\n",
       "Signif. codes:  0 '***' 0.001 '**' 0.01 '*' 0.05 '.' 0.1 ' ' 1\n",
       "\n",
       "Residual standard error: 72330 on 2339 degrees of freedom\n",
       "Multiple R-squared:  0.1459,\tAdjusted R-squared:  0.1452 \n",
       "F-statistic: 199.8 on 2 and 2339 DF,  p-value: < 2.2e-16\n"
      ]
     },
     "metadata": {},
     "output_type": "display_data"
    }
   ],
   "source": [
    "model_res <- lm_form_fit |>\n",
    "                extract_fit_engine() |>\n",
    "                summary()\n",
    "\n",
    "model_res"
   ]
  },
  {
   "cell_type": "code",
   "execution_count": 24,
   "id": "242ab5de-5c25-4595-8868-576a760f674f",
   "metadata": {},
   "outputs": [
    {
     "data": {
      "text/html": [
       "<table class=\"dataframe\">\n",
       "<caption>A matrix: 3 × 4 of type dbl</caption>\n",
       "<thead>\n",
       "\t<tr><th></th><th scope=col>Estimate</th><th scope=col>Std. Error</th><th scope=col>t value</th><th scope=col>Pr(&gt;|t|)</th></tr>\n",
       "</thead>\n",
       "<tbody>\n",
       "\t<tr><th scope=row>(Intercept)</th><td>-124970600.5</td><td>6535572.05</td><td>-19.12160</td><td>7.592333e-76</td></tr>\n",
       "\t<tr><th scope=row>Longitude</th><td>   -774125.2</td><td>  58123.27</td><td>-13.31868</td><td>4.597016e-39</td></tr>\n",
       "\t<tr><th scope=row>Latitude</th><td>   1252758.2</td><td>  81423.62</td><td> 15.38568</td><td>5.873653e-51</td></tr>\n",
       "</tbody>\n",
       "</table>\n"
      ],
      "text/latex": [
       "A matrix: 3 × 4 of type dbl\n",
       "\\begin{tabular}{r|llll}\n",
       "  & Estimate & Std. Error & t value & Pr(>\\textbar{}t\\textbar{})\\\\\n",
       "\\hline\n",
       "\t(Intercept) & -124970600.5 & 6535572.05 & -19.12160 & 7.592333e-76\\\\\n",
       "\tLongitude &    -774125.2 &   58123.27 & -13.31868 & 4.597016e-39\\\\\n",
       "\tLatitude &    1252758.2 &   81423.62 &  15.38568 & 5.873653e-51\\\\\n",
       "\\end{tabular}\n"
      ],
      "text/markdown": [
       "\n",
       "A matrix: 3 × 4 of type dbl\n",
       "\n",
       "| <!--/--> | Estimate | Std. Error | t value | Pr(&gt;|t|) |\n",
       "|---|---|---|---|---|\n",
       "| (Intercept) | -124970600.5 | 6535572.05 | -19.12160 | 7.592333e-76 |\n",
       "| Longitude |    -774125.2 |   58123.27 | -13.31868 | 4.597016e-39 |\n",
       "| Latitude |    1252758.2 |   81423.62 |  15.38568 | 5.873653e-51 |\n",
       "\n"
      ],
      "text/plain": [
       "            Estimate     Std. Error t value   Pr(>|t|)    \n",
       "(Intercept) -124970600.5 6535572.05 -19.12160 7.592333e-76\n",
       "Longitude      -774125.2   58123.27 -13.31868 4.597016e-39\n",
       "Latitude       1252758.2   81423.62  15.38568 5.873653e-51"
      ]
     },
     "metadata": {},
     "output_type": "display_data"
    }
   ],
   "source": [
    "# Get the model parameters\n",
    "coef(model_res)"
   ]
  },
  {
   "cell_type": "code",
   "execution_count": 20,
   "id": "e21bd377-3d31-4fa0-9026-4505ec2ad816",
   "metadata": {},
   "outputs": [
    {
     "data": {
      "text/plain": [
       "                          Length Class         Mode     \n",
       "predictions               2342   -none-        numeric  \n",
       "num.trees                    1   -none-        numeric  \n",
       "num.independent.variables    1   -none-        numeric  \n",
       "mtry                         1   -none-        numeric  \n",
       "min.node.size                1   -none-        numeric  \n",
       "prediction.error             1   -none-        numeric  \n",
       "forest                       7   ranger.forest list     \n",
       "splitrule                    1   -none-        character\n",
       "treetype                     1   -none-        character\n",
       "r.squared                    1   -none-        numeric  \n",
       "call                         8   -none-        call     \n",
       "importance.mode              1   -none-        character\n",
       "num.samples                  1   -none-        numeric  \n",
       "replace                      1   -none-        logical  "
      ]
     },
     "metadata": {},
     "output_type": "display_data"
    }
   ],
   "source": [
    "rf_form_fit |>\n",
    "    extract_fit_engine() "
   ]
  },
  {
   "cell_type": "code",
   "execution_count": 25,
   "id": "a6e4ea9b-eb2b-4166-8aed-f12817f6f737",
   "metadata": {},
   "outputs": [
    {
     "data": {
      "text/html": [
       "<table class=\"dataframe\">\n",
       "<caption>A tibble: 3 × 5</caption>\n",
       "<thead>\n",
       "\t<tr><th scope=col>term</th><th scope=col>estimate</th><th scope=col>std.error</th><th scope=col>statistic</th><th scope=col>p.value</th></tr>\n",
       "\t<tr><th scope=col>&lt;chr&gt;</th><th scope=col>&lt;dbl&gt;</th><th scope=col>&lt;dbl&gt;</th><th scope=col>&lt;dbl&gt;</th><th scope=col>&lt;dbl&gt;</th></tr>\n",
       "</thead>\n",
       "<tbody>\n",
       "\t<tr><td>(Intercept)</td><td>-124970600.5</td><td>6535572.05</td><td>-19.12160</td><td>7.592333e-76</td></tr>\n",
       "\t<tr><td>Longitude  </td><td>   -774125.2</td><td>  58123.27</td><td>-13.31868</td><td>4.597016e-39</td></tr>\n",
       "\t<tr><td>Latitude   </td><td>   1252758.2</td><td>  81423.62</td><td> 15.38568</td><td>5.873653e-51</td></tr>\n",
       "</tbody>\n",
       "</table>\n"
      ],
      "text/latex": [
       "A tibble: 3 × 5\n",
       "\\begin{tabular}{lllll}\n",
       " term & estimate & std.error & statistic & p.value\\\\\n",
       " <chr> & <dbl> & <dbl> & <dbl> & <dbl>\\\\\n",
       "\\hline\n",
       "\t (Intercept) & -124970600.5 & 6535572.05 & -19.12160 & 7.592333e-76\\\\\n",
       "\t Longitude   &    -774125.2 &   58123.27 & -13.31868 & 4.597016e-39\\\\\n",
       "\t Latitude    &    1252758.2 &   81423.62 &  15.38568 & 5.873653e-51\\\\\n",
       "\\end{tabular}\n"
      ],
      "text/markdown": [
       "\n",
       "A tibble: 3 × 5\n",
       "\n",
       "| term &lt;chr&gt; | estimate &lt;dbl&gt; | std.error &lt;dbl&gt; | statistic &lt;dbl&gt; | p.value &lt;dbl&gt; |\n",
       "|---|---|---|---|---|\n",
       "| (Intercept) | -124970600.5 | 6535572.05 | -19.12160 | 7.592333e-76 |\n",
       "| Longitude   |    -774125.2 |   58123.27 | -13.31868 | 4.597016e-39 |\n",
       "| Latitude    |    1252758.2 |   81423.62 |  15.38568 | 5.873653e-51 |\n",
       "\n"
      ],
      "text/plain": [
       "  term        estimate     std.error  statistic p.value     \n",
       "1 (Intercept) -124970600.5 6535572.05 -19.12160 7.592333e-76\n",
       "2 Longitude      -774125.2   58123.27 -13.31868 4.597016e-39\n",
       "3 Latitude       1252758.2   81423.62  15.38568 5.873653e-51"
      ]
     },
     "metadata": {},
     "output_type": "display_data"
    }
   ],
   "source": [
    "# Preview model parameters\n",
    "tidy(lm_form_fit)"
   ]
  },
  {
   "cell_type": "markdown",
   "id": "9a3adad7-ab2b-40b8-ae20-ee768a32678d",
   "metadata": {},
   "source": [
    "## Making Predictions"
   ]
  },
  {
   "cell_type": "code",
   "execution_count": 26,
   "id": "d971cdc6-5ad9-45b8-a6d0-28eb6a44b621",
   "metadata": {},
   "outputs": [
    {
     "data": {
      "text/html": [
       "<table class=\"dataframe\">\n",
       "<caption>A tibble: 5 × 74</caption>\n",
       "<thead>\n",
       "\t<tr><th scope=col>MS_SubClass</th><th scope=col>MS_Zoning</th><th scope=col>Lot_Frontage</th><th scope=col>Lot_Area</th><th scope=col>Street</th><th scope=col>Alley</th><th scope=col>Lot_Shape</th><th scope=col>Land_Contour</th><th scope=col>Utilities</th><th scope=col>Lot_Config</th><th scope=col>⋯</th><th scope=col>Fence</th><th scope=col>Misc_Feature</th><th scope=col>Misc_Val</th><th scope=col>Mo_Sold</th><th scope=col>Year_Sold</th><th scope=col>Sale_Type</th><th scope=col>Sale_Condition</th><th scope=col>Sale_Price</th><th scope=col>Longitude</th><th scope=col>Latitude</th></tr>\n",
       "\t<tr><th scope=col>&lt;fct&gt;</th><th scope=col>&lt;fct&gt;</th><th scope=col>&lt;dbl&gt;</th><th scope=col>&lt;int&gt;</th><th scope=col>&lt;fct&gt;</th><th scope=col>&lt;fct&gt;</th><th scope=col>&lt;fct&gt;</th><th scope=col>&lt;fct&gt;</th><th scope=col>&lt;fct&gt;</th><th scope=col>&lt;fct&gt;</th><th scope=col>⋯</th><th scope=col>&lt;fct&gt;</th><th scope=col>&lt;fct&gt;</th><th scope=col>&lt;int&gt;</th><th scope=col>&lt;int&gt;</th><th scope=col>&lt;int&gt;</th><th scope=col>&lt;fct&gt;</th><th scope=col>&lt;fct&gt;</th><th scope=col>&lt;int&gt;</th><th scope=col>&lt;dbl&gt;</th><th scope=col>&lt;dbl&gt;</th></tr>\n",
       "</thead>\n",
       "<tbody>\n",
       "\t<tr><td>One_Story_1946_and_Newer_All_Styles</td><td>Residential_High_Density</td><td>80</td><td>11622</td><td>Pave</td><td>No_Alley_Access</td><td>Regular           </td><td>Lvl</td><td>AllPub</td><td>Inside</td><td>⋯</td><td>Minimum_Privacy</td><td>None</td><td>    0</td><td>6</td><td>2010</td><td>WD   </td><td>Normal </td><td>105000</td><td>-93.61976</td><td>42.05301</td></tr>\n",
       "\t<tr><td>One_Story_1946_and_Newer_All_Styles</td><td>Residential_Low_Density </td><td>81</td><td>14267</td><td>Pave</td><td>No_Alley_Access</td><td>Slightly_Irregular</td><td>Lvl</td><td>AllPub</td><td>Corner</td><td>⋯</td><td>No_Fence       </td><td>Gar2</td><td>12500</td><td>6</td><td>2010</td><td>WD   </td><td>Normal </td><td>172000</td><td>-93.61939</td><td>42.05266</td></tr>\n",
       "\t<tr><td>Two_Story_1946_and_Newer           </td><td>Residential_Low_Density </td><td>74</td><td>13830</td><td>Pave</td><td>No_Alley_Access</td><td>Slightly_Irregular</td><td>Lvl</td><td>AllPub</td><td>Inside</td><td>⋯</td><td>Minimum_Privacy</td><td>None</td><td>    0</td><td>3</td><td>2010</td><td>WD   </td><td>Normal </td><td>189900</td><td>-93.63893</td><td>42.06090</td></tr>\n",
       "\t<tr><td>One_Story_1946_and_Newer_All_Styles</td><td>Residential_Low_Density </td><td>70</td><td>10500</td><td>Pave</td><td>No_Alley_Access</td><td>Regular           </td><td>Lvl</td><td>AllPub</td><td>FR2   </td><td>⋯</td><td>No_Fence       </td><td>None</td><td>    0</td><td>4</td><td>2010</td><td>ConLI</td><td>Normal </td><td>115000</td><td>-93.62277</td><td>42.05638</td></tr>\n",
       "\t<tr><td>One_Story_1946_and_Newer_All_Styles</td><td>Residential_Low_Density </td><td>83</td><td>10159</td><td>Pave</td><td>No_Alley_Access</td><td>Slightly_Irregular</td><td>Lvl</td><td>AllPub</td><td>Inside</td><td>⋯</td><td>No_Fence       </td><td>None</td><td>    0</td><td>4</td><td>2010</td><td>New  </td><td>Partial</td><td>395192</td><td>-93.65373</td><td>42.06113</td></tr>\n",
       "</tbody>\n",
       "</table>\n"
      ],
      "text/latex": [
       "A tibble: 5 × 74\n",
       "\\begin{tabular}{lllllllllllllllllllll}\n",
       " MS\\_SubClass & MS\\_Zoning & Lot\\_Frontage & Lot\\_Area & Street & Alley & Lot\\_Shape & Land\\_Contour & Utilities & Lot\\_Config & ⋯ & Fence & Misc\\_Feature & Misc\\_Val & Mo\\_Sold & Year\\_Sold & Sale\\_Type & Sale\\_Condition & Sale\\_Price & Longitude & Latitude\\\\\n",
       " <fct> & <fct> & <dbl> & <int> & <fct> & <fct> & <fct> & <fct> & <fct> & <fct> & ⋯ & <fct> & <fct> & <int> & <int> & <int> & <fct> & <fct> & <int> & <dbl> & <dbl>\\\\\n",
       "\\hline\n",
       "\t One\\_Story\\_1946\\_and\\_Newer\\_All\\_Styles & Residential\\_High\\_Density & 80 & 11622 & Pave & No\\_Alley\\_Access & Regular            & Lvl & AllPub & Inside & ⋯ & Minimum\\_Privacy & None &     0 & 6 & 2010 & WD    & Normal  & 105000 & -93.61976 & 42.05301\\\\\n",
       "\t One\\_Story\\_1946\\_and\\_Newer\\_All\\_Styles & Residential\\_Low\\_Density  & 81 & 14267 & Pave & No\\_Alley\\_Access & Slightly\\_Irregular & Lvl & AllPub & Corner & ⋯ & No\\_Fence        & Gar2 & 12500 & 6 & 2010 & WD    & Normal  & 172000 & -93.61939 & 42.05266\\\\\n",
       "\t Two\\_Story\\_1946\\_and\\_Newer            & Residential\\_Low\\_Density  & 74 & 13830 & Pave & No\\_Alley\\_Access & Slightly\\_Irregular & Lvl & AllPub & Inside & ⋯ & Minimum\\_Privacy & None &     0 & 3 & 2010 & WD    & Normal  & 189900 & -93.63893 & 42.06090\\\\\n",
       "\t One\\_Story\\_1946\\_and\\_Newer\\_All\\_Styles & Residential\\_Low\\_Density  & 70 & 10500 & Pave & No\\_Alley\\_Access & Regular            & Lvl & AllPub & FR2    & ⋯ & No\\_Fence        & None &     0 & 4 & 2010 & ConLI & Normal  & 115000 & -93.62277 & 42.05638\\\\\n",
       "\t One\\_Story\\_1946\\_and\\_Newer\\_All\\_Styles & Residential\\_Low\\_Density  & 83 & 10159 & Pave & No\\_Alley\\_Access & Slightly\\_Irregular & Lvl & AllPub & Inside & ⋯ & No\\_Fence        & None &     0 & 4 & 2010 & New   & Partial & 395192 & -93.65373 & 42.06113\\\\\n",
       "\\end{tabular}\n"
      ],
      "text/markdown": [
       "\n",
       "A tibble: 5 × 74\n",
       "\n",
       "| MS_SubClass &lt;fct&gt; | MS_Zoning &lt;fct&gt; | Lot_Frontage &lt;dbl&gt; | Lot_Area &lt;int&gt; | Street &lt;fct&gt; | Alley &lt;fct&gt; | Lot_Shape &lt;fct&gt; | Land_Contour &lt;fct&gt; | Utilities &lt;fct&gt; | Lot_Config &lt;fct&gt; | ⋯ ⋯ | Fence &lt;fct&gt; | Misc_Feature &lt;fct&gt; | Misc_Val &lt;int&gt; | Mo_Sold &lt;int&gt; | Year_Sold &lt;int&gt; | Sale_Type &lt;fct&gt; | Sale_Condition &lt;fct&gt; | Sale_Price &lt;int&gt; | Longitude &lt;dbl&gt; | Latitude &lt;dbl&gt; |\n",
       "|---|---|---|---|---|---|---|---|---|---|---|---|---|---|---|---|---|---|---|---|---|\n",
       "| One_Story_1946_and_Newer_All_Styles | Residential_High_Density | 80 | 11622 | Pave | No_Alley_Access | Regular            | Lvl | AllPub | Inside | ⋯ | Minimum_Privacy | None |     0 | 6 | 2010 | WD    | Normal  | 105000 | -93.61976 | 42.05301 |\n",
       "| One_Story_1946_and_Newer_All_Styles | Residential_Low_Density  | 81 | 14267 | Pave | No_Alley_Access | Slightly_Irregular | Lvl | AllPub | Corner | ⋯ | No_Fence        | Gar2 | 12500 | 6 | 2010 | WD    | Normal  | 172000 | -93.61939 | 42.05266 |\n",
       "| Two_Story_1946_and_Newer            | Residential_Low_Density  | 74 | 13830 | Pave | No_Alley_Access | Slightly_Irregular | Lvl | AllPub | Inside | ⋯ | Minimum_Privacy | None |     0 | 3 | 2010 | WD    | Normal  | 189900 | -93.63893 | 42.06090 |\n",
       "| One_Story_1946_and_Newer_All_Styles | Residential_Low_Density  | 70 | 10500 | Pave | No_Alley_Access | Regular            | Lvl | AllPub | FR2    | ⋯ | No_Fence        | None |     0 | 4 | 2010 | ConLI | Normal  | 115000 | -93.62277 | 42.05638 |\n",
       "| One_Story_1946_and_Newer_All_Styles | Residential_Low_Density  | 83 | 10159 | Pave | No_Alley_Access | Slightly_Irregular | Lvl | AllPub | Inside | ⋯ | No_Fence        | None |     0 | 4 | 2010 | New   | Partial | 395192 | -93.65373 | 42.06113 |\n",
       "\n"
      ],
      "text/plain": [
       "  MS_SubClass                         MS_Zoning                Lot_Frontage\n",
       "1 One_Story_1946_and_Newer_All_Styles Residential_High_Density 80          \n",
       "2 One_Story_1946_and_Newer_All_Styles Residential_Low_Density  81          \n",
       "3 Two_Story_1946_and_Newer            Residential_Low_Density  74          \n",
       "4 One_Story_1946_and_Newer_All_Styles Residential_Low_Density  70          \n",
       "5 One_Story_1946_and_Newer_All_Styles Residential_Low_Density  83          \n",
       "  Lot_Area Street Alley           Lot_Shape          Land_Contour Utilities\n",
       "1 11622    Pave   No_Alley_Access Regular            Lvl          AllPub   \n",
       "2 14267    Pave   No_Alley_Access Slightly_Irregular Lvl          AllPub   \n",
       "3 13830    Pave   No_Alley_Access Slightly_Irregular Lvl          AllPub   \n",
       "4 10500    Pave   No_Alley_Access Regular            Lvl          AllPub   \n",
       "5 10159    Pave   No_Alley_Access Slightly_Irregular Lvl          AllPub   \n",
       "  Lot_Config ⋯ Fence           Misc_Feature Misc_Val Mo_Sold Year_Sold\n",
       "1 Inside     ⋯ Minimum_Privacy None             0    6       2010     \n",
       "2 Corner     ⋯ No_Fence        Gar2         12500    6       2010     \n",
       "3 Inside     ⋯ Minimum_Privacy None             0    3       2010     \n",
       "4 FR2        ⋯ No_Fence        None             0    4       2010     \n",
       "5 Inside     ⋯ No_Fence        None             0    4       2010     \n",
       "  Sale_Type Sale_Condition Sale_Price Longitude Latitude\n",
       "1 WD        Normal         105000     -93.61976 42.05301\n",
       "2 WD        Normal         172000     -93.61939 42.05266\n",
       "3 WD        Normal         189900     -93.63893 42.06090\n",
       "4 ConLI     Normal         115000     -93.62277 42.05638\n",
       "5 New       Partial        395192     -93.65373 42.06113"
      ]
     },
     "metadata": {},
     "output_type": "display_data"
    }
   ],
   "source": [
    "ames_test |>\n",
    "    slice(1:5)"
   ]
  },
  {
   "cell_type": "code",
   "execution_count": 27,
   "id": "2603897d-8dd9-401f-a218-97da224c9403",
   "metadata": {},
   "outputs": [
    {
     "data": {
      "text/html": [
       "<table class=\"dataframe\">\n",
       "<caption>A tibble: 5 × 4</caption>\n",
       "<thead>\n",
       "\t<tr><th scope=col>Sale_Price</th><th scope=col>.pred</th><th scope=col>.pred_lower</th><th scope=col>.pred_upper</th></tr>\n",
       "\t<tr><th scope=col>&lt;int&gt;</th><th scope=col>&lt;dbl&gt;</th><th scope=col>&lt;dbl&gt;</th><th scope=col>&lt;dbl&gt;</th></tr>\n",
       "</thead>\n",
       "<tbody>\n",
       "\t<tr><td>105000</td><td>185072.5</td><td>43143.37</td><td>327001.6</td></tr>\n",
       "\t<tr><td>172000</td><td>184342.4</td><td>42413.60</td><td>326271.1</td></tr>\n",
       "\t<tr><td>189900</td><td>209795.9</td><td>67857.25</td><td>351734.6</td></tr>\n",
       "\t<tr><td>115000</td><td>191615.5</td><td>49680.16</td><td>333550.8</td></tr>\n",
       "\t<tr><td>395192</td><td>221546.2</td><td>79599.91</td><td>363492.4</td></tr>\n",
       "</tbody>\n",
       "</table>\n"
      ],
      "text/latex": [
       "A tibble: 5 × 4\n",
       "\\begin{tabular}{llll}\n",
       " Sale\\_Price & .pred & .pred\\_lower & .pred\\_upper\\\\\n",
       " <int> & <dbl> & <dbl> & <dbl>\\\\\n",
       "\\hline\n",
       "\t 105000 & 185072.5 & 43143.37 & 327001.6\\\\\n",
       "\t 172000 & 184342.4 & 42413.60 & 326271.1\\\\\n",
       "\t 189900 & 209795.9 & 67857.25 & 351734.6\\\\\n",
       "\t 115000 & 191615.5 & 49680.16 & 333550.8\\\\\n",
       "\t 395192 & 221546.2 & 79599.91 & 363492.4\\\\\n",
       "\\end{tabular}\n"
      ],
      "text/markdown": [
       "\n",
       "A tibble: 5 × 4\n",
       "\n",
       "| Sale_Price &lt;int&gt; | .pred &lt;dbl&gt; | .pred_lower &lt;dbl&gt; | .pred_upper &lt;dbl&gt; |\n",
       "|---|---|---|---|\n",
       "| 105000 | 185072.5 | 43143.37 | 327001.6 |\n",
       "| 172000 | 184342.4 | 42413.60 | 326271.1 |\n",
       "| 189900 | 209795.9 | 67857.25 | 351734.6 |\n",
       "| 115000 | 191615.5 | 49680.16 | 333550.8 |\n",
       "| 395192 | 221546.2 | 79599.91 | 363492.4 |\n",
       "\n"
      ],
      "text/plain": [
       "  Sale_Price .pred    .pred_lower .pred_upper\n",
       "1 105000     185072.5 43143.37    327001.6   \n",
       "2 172000     184342.4 42413.60    326271.1   \n",
       "3 189900     209795.9 67857.25    351734.6   \n",
       "4 115000     191615.5 49680.16    333550.8   \n",
       "5 395192     221546.2 79599.91    363492.4   "
      ]
     },
     "metadata": {},
     "output_type": "display_data"
    }
   ],
   "source": [
    "ames_test_small <- ames_test |>\n",
    "                    slice(1:5)\n",
    "\n",
    "\n",
    "ames_test_small |>\n",
    "    select(Sale_Price) |>\n",
    "    # Add th predictions \n",
    "    bind_cols(predict(lm_form_fit, ames_test_small)) |>\n",
    "    # Add the 95% prediction intervals\n",
    "    bind_cols(predict(lm_form_fit, ames_test_small, type = \"pred_int\" ))"
   ]
  },
  {
   "cell_type": "markdown",
   "id": "a9a61042-24e5-48f0-8944-7858e4e807a8",
   "metadata": {},
   "source": [
    "# Model Workflows"
   ]
  },
  {
   "cell_type": "markdown",
   "id": "eb0afd14-7042-4031-8d31-54f9cb03baba",
   "metadata": {},
   "source": [
    "> It is important to focus on the broader modeling process, instead of only fitting the specific model used to estimate parameters. This broader process includes any preprocessing steps, the model fit itself, as well as potential post-processing activities. In this book, we will refer to this more comprehensive concept as the model workflow and highlight how to handle all its components to produce a final model equation.\n",
    "\n",
    "> In other software, such as Python or Spark, similar collections of steps are called pipelines. In tidymodels, the term “pipeline” already connotes a sequence of operations chained together with a pipe operator (such as %>% from magrittr or the newer native |>). Rather than using ambiguous terminology in this context, we call the sequence of computational operations related to modeling workflows."
   ]
  },
  {
   "cell_type": "code",
   "execution_count": 34,
   "id": "0486a7b9-1152-49bc-a758-06b21aaa440b",
   "metadata": {},
   "outputs": [
    {
     "data": {
      "text/plain": [
       "══ Workflow ═══════════════════════════════════════════════════════════════════════════════════════════════════════════════════════════════\n",
       "\u001b[3mPreprocessor:\u001b[23m Variables\n",
       "\u001b[3mModel:\u001b[23m linear_reg()\n",
       "\n",
       "── Preprocessor ───────────────────────────────────────────────────────────────────────────────────────────────────────────────────────────\n",
       "Outcomes: Sale_Price\n",
       "Predictors: c(Longitude, Latitude)\n",
       "\n",
       "── Model ──────────────────────────────────────────────────────────────────────────────────────────────────────────────────────────────────\n",
       "Linear Regression Model Specification (regression)\n",
       "\n",
       "Computational engine: lm \n"
      ]
     },
     "metadata": {},
     "output_type": "display_data"
    }
   ],
   "source": [
    "lm_model <- \n",
    "            linear_reg() |> \n",
    "            set_engine(\"lm\")\n",
    "\n",
    "\n",
    "lm_wflow <- \n",
    "        # Add a workflow object\n",
    "        workflow() |>\n",
    "        add_model(lm_model) |>\n",
    "        add_variables(outcome=Sale_Price, predictors = c(Longitude, Latitude))\n",
    "\n",
    "\n",
    "lm_wflow"
   ]
  },
  {
   "cell_type": "markdown",
   "id": "5de2833f-c80e-4a01-b4f6-b955ef8cb7dd",
   "metadata": {},
   "source": [
    "# Feature Engineering\n",
    "\n",
    "Feature engineering entails reformatting predictor values to make them easier for a model to use effectively. This includes transformations and encodings of the data to best represent their important characteristics. Imagine that you have two predictors in a data set that can be more effectively represented in your model as a ratio; creating a new predictor from the ratio of the original two is a simple example of feature engineering.\n",
    "\n",
    "Take the location of a house in Ames as a more involved example. There are a variety of ways that this spatial information can be exposed to a model, including neighborhood (a qualitative measure), longitude/latitude, distance to the nearest school or Iowa State University, and so on. When choosing how to encode these data in modeling, we might choose an option we believe is most associated with the outcome. The original format of the data, for example numeric (e.g., distance) versus categorical (e.g., neighborhood), is also a driving factor in feature engineering choices.\n",
    "\n",
    "Other examples of preprocessing to build better features for modeling include:\n",
    "\n",
    "- Correlation between predictors can be reduced via feature extraction or the removal of some predictors.\n",
    "\n",
    "- When some predictors have missing values, they can be imputed using a sub-model.\n",
    "\n",
    "- Models that use variance-type measures may benefit from coercing the distribution of some skewed predictors to be symmetric by estimating a transformation.\n",
    "\n",
    "Feature engineering and data preprocessing can also involve reformatting that may be required by the model. Some models use geometric distance metrics and, consequently, numeric predictors should be centered and scaled so that they are all in the same units. Otherwise, the distance values would be biased by the scale of each column."
   ]
  },
  {
   "cell_type": "markdown",
   "id": "551a8000-7f4c-4e70-ad3a-cab434f8955d",
   "metadata": {},
   "source": [
    "Suppose that an initial ordinary linear regression model were fit to these data. Recalling that, in Chapter 4, the sale prices were pre-logged, a standard call to lm() might look like:\n",
    "\n",
    "```{R}\n",
    "lm(Sale_Price ~ Neighborhood + log10(Gr_Liv_Area) + Year_Built + Bldg_Type, data = ames)\n",
    "```\n",
    "\n",
    "\n",
    "When this function is executed, the data are converted from a data frame to a numeric design matrix (also called a model matrix) and then the least squares method is used to estimate parameters. In Section 3.2 we listed the multiple purposes of the R model formula; let’s focus only on the data manipulation aspects for now. What this formula does can be decomposed into a series of steps:\n",
    "\n",
    "- Sale price is defined as the outcome while neighborhood, gross living area, the year built, and building type variables are all defined as predictors.\n",
    "\n",
    "- A log transformation is applied to the gross living area predictor.\n",
    "\n",
    "- The neighborhood and building type columns are converted from a non-numeric format to a numeric format (since least squares requires numeric predictors).\n",
    "\n"
   ]
  },
  {
   "cell_type": "markdown",
   "id": "2dcc3a57-ca26-4e66-896a-5515e5feffd5",
   "metadata": {},
   "source": [
    "> A recipe is also an object that defines a series of steps for data processing. Unlike the formula method inside a modeling function, the recipe defines the steps via `step_*()` functions without immediately executing them; it is only a specification of what should be done. Here is a recipe equivalent to the previous formula that builds on the code summary above"
   ]
  },
  {
   "cell_type": "code",
   "execution_count": 35,
   "id": "b946b355-c0e1-4c7b-ac75-62dcab4b2d5e",
   "metadata": {},
   "outputs": [
    {
     "name": "stderr",
     "output_type": "stream",
     "text": [
      "\n",
      "\n",
      "\u001b[36m──\u001b[39m \u001b[1mRecipe\u001b[22m \u001b[36m─────────────────────────────────────────────────────────────────────────────────────────────────────────────────────────────────\u001b[39m\n",
      "\n",
      "\n",
      "\n",
      "── Inputs \n",
      "\n",
      "Number of variables by role\n",
      "\n",
      "outcome:   1\n",
      "predictor: 4\n",
      "\n",
      "\n",
      "\n",
      "── Operations \n",
      "\n",
      "\u001b[36m•\u001b[39m Log transformation on: \u001b[34mGr_Liv_Area\u001b[39m\n",
      "\n",
      "\u001b[36m•\u001b[39m Dummy variables from: \u001b[34mall_nominal_predictors()\u001b[39m\n",
      "\n"
     ]
    }
   ],
   "source": [
    "simple_ames <-\n",
    "    recipe(Sale_Price ~ Neighborhood + Gr_Liv_Area + Year_Built + Bldg_Type, \n",
    "          data = ames_train) |>\n",
    "    step_log(Gr_Liv_Area, base = 10) |>\n",
    "    step_dummy(all_nominal_predictors())\n",
    "\n",
    "\n",
    "simple_ames"
   ]
  },
  {
   "cell_type": "markdown",
   "id": "b8c7bb4e-a639-46ec-90d1-4b25214a42be",
   "metadata": {},
   "source": [
    "Let’s break this down:\n",
    "\n",
    "- The call to recipe() with a formula tells the recipe the roles of the “ingredients” or variables (e.g., predictor, outcome). It only uses the data ames_train to determine the data types for the columns.\n",
    "\n",
    "- step_log() declares that Gr_Liv_Area should be log transformed.\n",
    "\n",
    "- step_dummy() specifies which variables should be converted from a qualitative format to a quantitative format, in this case, using dummy or indicator variables. An indicator or dummy variable is a binary numeric variable (a column of ones and zeroes) that encodes qualitative information; we will dig deeper into these kinds of variables in Section 8.4.1.\n",
    "\n",
    "The function all_nominal_predictors() captures the names of any predictor columns that are currently factor or character (i.e., nominal) in nature. This is a dplyr-like selector function similar to starts_with() or matches() but that can only be used inside of a recipe."
   ]
  },
  {
   "cell_type": "markdown",
   "id": "bf78d2fd-33d0-4d05-ae07-f6cf5ac3a6be",
   "metadata": {},
   "source": [
    "> Other selectors specific to the recipes package are: all_numeric_predictors(), all_numeric(), all_predictors(), and all_outcomes(). As with dplyr, one or more unquoted expressions, separated by commas, can be used to select which columns are affected by each step."
   ]
  },
  {
   "cell_type": "markdown",
   "id": "c30ce473-fb55-42dc-a2b6-d9ba5dfe1ee0",
   "metadata": {},
   "source": [
    "What is the advantage to using a recipe, over a formula or raw predictors? There are a few, including:\n",
    "\n",
    "- These computations can be recycled across models since they are not tightly coupled to the modeling function.\n",
    "- A recipe enables a broader set of data processing choices than formulas can offer.\n",
    "- The syntax can be very compact. For example, all_nominal_predictors() can be used to capture many variables for specific types of processing while a formula would require each to be explicitly listed.\n",
    "- All data processing can be captured in a single R object instead of in scripts that are repeated, or even spread across different files."
   ]
  },
  {
   "cell_type": "code",
   "execution_count": 37,
   "id": "64dbaa58-a4aa-46ec-baaf-b043ab3bda0c",
   "metadata": {},
   "outputs": [
    {
     "data": {
      "text/plain": [
       "══ Workflow ═══════════════════════════════════════════════════════════════════════════════════════════════════════════════════════════════\n",
       "\u001b[3mPreprocessor:\u001b[23m Recipe\n",
       "\u001b[3mModel:\u001b[23m linear_reg()\n",
       "\n",
       "── Preprocessor ───────────────────────────────────────────────────────────────────────────────────────────────────────────────────────────\n",
       "2 Recipe Steps\n",
       "\n",
       "• step_log()\n",
       "• step_dummy()\n",
       "\n",
       "── Model ──────────────────────────────────────────────────────────────────────────────────────────────────────────────────────────────────\n",
       "Linear Regression Model Specification (regression)\n",
       "\n",
       "Computational engine: lm \n"
      ]
     },
     "metadata": {},
     "output_type": "display_data"
    }
   ],
   "source": [
    "# Addomg tp workflow\n",
    "\n",
    "\n",
    "lm_wflow <-\n",
    "    lm_wflow |>\n",
    "    # Remove the existing variables\n",
    "    remove_variables() |>\n",
    "    # Add the recipe\n",
    "    add_recipe(simple_ames)\n",
    "\n",
    "lm_wflow"
   ]
  },
  {
   "cell_type": "code",
   "execution_count": 39,
   "id": "374f5986-d49f-43a6-a0e4-e15d2c9cde96",
   "metadata": {},
   "outputs": [
    {
     "name": "stderr",
     "output_type": "stream",
     "text": [
      "Warning message in predict.lm(object = object$fit, newdata = new_data, type = \"response\"):\n",
      "\"prediction from rank-deficient fit; attr(*, \"non-estim\") has doubtful cases\"\n"
     ]
    },
    {
     "data": {
      "text/html": [
       "<table class=\"dataframe\">\n",
       "<caption>A tibble: 3 × 1</caption>\n",
       "<thead>\n",
       "\t<tr><th scope=col>.pred_res</th></tr>\n",
       "\t<tr><th scope=col>&lt;dbl&gt;</th></tr>\n",
       "</thead>\n",
       "<tbody>\n",
       "\t<tr><td>113505.0</td></tr>\n",
       "\t<tr><td>153679.2</td></tr>\n",
       "\t<tr><td>190172.6</td></tr>\n",
       "</tbody>\n",
       "</table>\n"
      ],
      "text/latex": [
       "A tibble: 3 × 1\n",
       "\\begin{tabular}{l}\n",
       " .pred\\_res\\\\\n",
       " <dbl>\\\\\n",
       "\\hline\n",
       "\t 113505.0\\\\\n",
       "\t 153679.2\\\\\n",
       "\t 190172.6\\\\\n",
       "\\end{tabular}\n"
      ],
      "text/markdown": [
       "\n",
       "A tibble: 3 × 1\n",
       "\n",
       "| .pred_res &lt;dbl&gt; |\n",
       "|---|\n",
       "| 113505.0 |\n",
       "| 153679.2 |\n",
       "| 190172.6 |\n",
       "\n"
      ],
      "text/plain": [
       "  .pred_res\n",
       "1 113505.0 \n",
       "2 153679.2 \n",
       "3 190172.6 "
      ]
     },
     "metadata": {},
     "output_type": "display_data"
    }
   ],
   "source": [
    "# Fit the workflow to the training data\n",
    "lm_fit <- fit(lm_wflow, ames_train)\n",
    "\n",
    "\n",
    "# Predict with the test data\n",
    "predict(\n",
    "        lm_fit, \n",
    "        ames_test |>\n",
    "        slice(1:3)\n",
    "       )"
   ]
  },
  {
   "cell_type": "code",
   "execution_count": 40,
   "id": "adf169fe-3e36-4845-9764-680869932823",
   "metadata": {},
   "outputs": [
    {
     "name": "stderr",
     "output_type": "stream",
     "text": [
      "\n",
      "\n",
      "\u001b[36m──\u001b[39m \u001b[1mRecipe\u001b[22m \u001b[36m─────────────────────────────────────────────────────────────────────────────────────────────────────────────────────────────────\u001b[39m\n",
      "\n",
      "\n",
      "\n",
      "── Inputs \n",
      "\n",
      "Number of variables by role\n",
      "\n",
      "outcome:   1\n",
      "predictor: 4\n",
      "\n",
      "\n",
      "\n",
      "── Training information \n",
      "\n",
      "Training data contained 2342 data points and no incomplete rows.\n",
      "\n",
      "\n",
      "\n",
      "── Operations \n",
      "\n",
      "\u001b[36m•\u001b[39m Log transformation on: \u001b[34mGr_Liv_Area\u001b[39m | \u001b[3mTrained\u001b[23m\n",
      "\n",
      "\u001b[36m•\u001b[39m Dummy variables from: \u001b[34mNeighborhood\u001b[39m, \u001b[34mBldg_Type\u001b[39m | \u001b[3mTrained\u001b[23m\n",
      "\n"
     ]
    }
   ],
   "source": [
    "# Extracting the bare model\n",
    "lm_fit |>\n",
    "    extract_recipe(estimated = TRUE)"
   ]
  },
  {
   "cell_type": "code",
   "execution_count": 41,
   "id": "e064910b-a0a1-445f-b714-671b9df2fb3e",
   "metadata": {},
   "outputs": [
    {
     "data": {
      "text/html": [
       "<table class=\"dataframe\">\n",
       "<caption>A tibble: 35 × 5</caption>\n",
       "<thead>\n",
       "\t<tr><th scope=col>term</th><th scope=col>estimate</th><th scope=col>std.error</th><th scope=col>statistic</th><th scope=col>p.value</th></tr>\n",
       "\t<tr><th scope=col>&lt;chr&gt;</th><th scope=col>&lt;dbl&gt;</th><th scope=col>&lt;dbl&gt;</th><th scope=col>&lt;dbl&gt;</th><th scope=col>&lt;dbl&gt;</th></tr>\n",
       "</thead>\n",
       "<tbody>\n",
       "\t<tr><td>(Intercept)                                         </td><td>-2266435.4619</td><td>107944.91458</td><td>-20.9962227</td><td> 1.028301e-89</td></tr>\n",
       "\t<tr><td>Gr_Liv_Area                                         </td><td>  249327.3043</td><td>  6617.11155</td><td> 37.6791750</td><td>1.439224e-242</td></tr>\n",
       "\t<tr><td>Year_Built                                          </td><td>     838.2710</td><td>    54.72702</td><td> 15.3173145</td><td> 1.641322e-50</td></tr>\n",
       "\t<tr><td>Neighborhood_College_Creek                          </td><td>    6786.9656</td><td>  3826.72008</td><td>  1.7735725</td><td> 7.626572e-02</td></tr>\n",
       "\t<tr><td>Neighborhood_Old_Town                               </td><td>    -811.3768</td><td>  4002.48600</td><td> -0.2027182</td><td> 8.393731e-01</td></tr>\n",
       "\t<tr><td>Neighborhood_Edwards                                </td><td>  -10207.5813</td><td>  3578.98571</td><td> -2.8520877</td><td> 4.381954e-03</td></tr>\n",
       "\t<tr><td>Neighborhood_Somerset                               </td><td>   33567.8546</td><td>  4501.45524</td><td>  7.4571117</td><td> 1.244372e-13</td></tr>\n",
       "\t<tr><td>Neighborhood_Northridge_Heights                     </td><td>   95832.6135</td><td>  4773.07834</td><td> 20.0777374</td><td> 9.002444e-83</td></tr>\n",
       "\t<tr><td>Neighborhood_Gilbert                                </td><td>  -18238.7151</td><td>  4392.77440</td><td> -4.1519808</td><td> 3.415821e-05</td></tr>\n",
       "\t<tr><td>Neighborhood_Sawyer                                 </td><td>   -1380.4645</td><td>  3975.76653</td><td> -0.3472197</td><td> 7.284579e-01</td></tr>\n",
       "\t<tr><td>Neighborhood_Northwest_Ames                         </td><td>   -2637.4264</td><td>  4297.62602</td><td> -0.6136938</td><td> 5.394782e-01</td></tr>\n",
       "\t<tr><td>Neighborhood_Sawyer_West                            </td><td>   -4993.1636</td><td>  4471.42226</td><td> -1.1166835</td><td> 2.642459e-01</td></tr>\n",
       "\t<tr><td>Neighborhood_Mitchell                               </td><td>    2581.9133</td><td>  4543.56444</td><td>  0.5682572</td><td> 5.699156e-01</td></tr>\n",
       "\t<tr><td>Neighborhood_Brookside                              </td><td>    5485.5802</td><td>  4813.92571</td><td>  1.1395232</td><td> 2.546032e-01</td></tr>\n",
       "\t<tr><td>Neighborhood_Crawford                               </td><td>   43711.2331</td><td>  4684.56260</td><td>  9.3309102</td><td> 2.381909e-20</td></tr>\n",
       "\t<tr><td>Neighborhood_Iowa_DOT_and_Rail_Road                 </td><td>   -6605.8541</td><td>  4912.34906</td><td> -1.3447444</td><td> 1.788399e-01</td></tr>\n",
       "\t<tr><td>Neighborhood_Timberland                             </td><td>   37523.3183</td><td>  5780.65934</td><td>  6.4911831</td><td> 1.039120e-10</td></tr>\n",
       "\t<tr><td>Neighborhood_Northridge                             </td><td>   75324.2535</td><td>  5865.85510</td><td> 12.8411378</td><td> 1.661445e-36</td></tr>\n",
       "\t<tr><td>Neighborhood_Stone_Brook                            </td><td>  120779.1182</td><td>  6694.11768</td><td> 18.0425747</td><td> 3.507691e-68</td></tr>\n",
       "\t<tr><td>Neighborhood_South_and_West_of_Iowa_State_University</td><td>   -7142.6966</td><td>  7208.07907</td><td> -0.9909293</td><td> 3.218240e-01</td></tr>\n",
       "\t<tr><td>Neighborhood_Clear_Creek                            </td><td>   23365.1323</td><td>  6779.93322</td><td>  3.4462187</td><td> 5.786589e-04</td></tr>\n",
       "\t<tr><td>Neighborhood_Meadow_Village                         </td><td>    6875.8480</td><td>  7997.16603</td><td>  0.8597856</td><td> 3.899965e-01</td></tr>\n",
       "\t<tr><td>Neighborhood_Briardale                              </td><td>   14427.5118</td><td>  8832.84892</td><td>  1.6333928</td><td> 1.025228e-01</td></tr>\n",
       "\t<tr><td>Neighborhood_Bloomington_Heights                    </td><td>   31590.8651</td><td>  8824.86428</td><td>  3.5797565</td><td> 3.510113e-04</td></tr>\n",
       "\t<tr><td>Neighborhood_Veenker                                </td><td>   57897.3557</td><td>  8953.80097</td><td>  6.4662321</td><td> 1.222325e-10</td></tr>\n",
       "\t<tr><td>Neighborhood_Northpark_Villa                        </td><td>   29480.1024</td><td>  9340.21281</td><td>  3.1562560</td><td> 1.618696e-03</td></tr>\n",
       "\t<tr><td>Neighborhood_Blueste                                </td><td>   36290.8664</td><td> 13821.10619</td><td>  2.6257570</td><td> 8.702759e-03</td></tr>\n",
       "\t<tr><td>Neighborhood_Greens                                 </td><td>   87287.6268</td><td> 15758.73430</td><td>  5.5389998</td><td> 3.387562e-08</td></tr>\n",
       "\t<tr><td>Neighborhood_Green_Hills                            </td><td>  130263.5125</td><td> 26742.05437</td><td>  4.8711109</td><td> 1.184967e-06</td></tr>\n",
       "\t<tr><td>Neighborhood_Landmark                               </td><td>   15174.7340</td><td> 37855.91285</td><td>  0.4008551</td><td> 6.885639e-01</td></tr>\n",
       "\t<tr><td>Neighborhood_Hayden_Lake                            </td><td>           NA</td><td>          NA</td><td>         NA</td><td>           NA</td></tr>\n",
       "\t<tr><td>Bldg_Type_TwoFmCon                                  </td><td>  -13841.8339</td><td>  5756.51699</td><td> -2.4045502</td><td> 1.627070e-02</td></tr>\n",
       "\t<tr><td>Bldg_Type_Duplex                                    </td><td>  -40075.3496</td><td>  4065.51675</td><td> -9.8573815</td><td> 1.758098e-22</td></tr>\n",
       "\t<tr><td>Bldg_Type_Twnhs                                     </td><td>  -60457.6534</td><td>  5757.16070</td><td>-10.5012968</td><td> 3.126288e-25</td></tr>\n",
       "\t<tr><td>Bldg_Type_TwnhsE                                    </td><td>  -37666.0661</td><td>  3581.61765</td><td>-10.5164955</td><td> 2.680661e-25</td></tr>\n",
       "</tbody>\n",
       "</table>\n"
      ],
      "text/latex": [
       "A tibble: 35 × 5\n",
       "\\begin{tabular}{lllll}\n",
       " term & estimate & std.error & statistic & p.value\\\\\n",
       " <chr> & <dbl> & <dbl> & <dbl> & <dbl>\\\\\n",
       "\\hline\n",
       "\t (Intercept)                                          & -2266435.4619 & 107944.91458 & -20.9962227 &  1.028301e-89\\\\\n",
       "\t Gr\\_Liv\\_Area                                          &   249327.3043 &   6617.11155 &  37.6791750 & 1.439224e-242\\\\\n",
       "\t Year\\_Built                                           &      838.2710 &     54.72702 &  15.3173145 &  1.641322e-50\\\\\n",
       "\t Neighborhood\\_College\\_Creek                           &     6786.9656 &   3826.72008 &   1.7735725 &  7.626572e-02\\\\\n",
       "\t Neighborhood\\_Old\\_Town                                &     -811.3768 &   4002.48600 &  -0.2027182 &  8.393731e-01\\\\\n",
       "\t Neighborhood\\_Edwards                                 &   -10207.5813 &   3578.98571 &  -2.8520877 &  4.381954e-03\\\\\n",
       "\t Neighborhood\\_Somerset                                &    33567.8546 &   4501.45524 &   7.4571117 &  1.244372e-13\\\\\n",
       "\t Neighborhood\\_Northridge\\_Heights                      &    95832.6135 &   4773.07834 &  20.0777374 &  9.002444e-83\\\\\n",
       "\t Neighborhood\\_Gilbert                                 &   -18238.7151 &   4392.77440 &  -4.1519808 &  3.415821e-05\\\\\n",
       "\t Neighborhood\\_Sawyer                                  &    -1380.4645 &   3975.76653 &  -0.3472197 &  7.284579e-01\\\\\n",
       "\t Neighborhood\\_Northwest\\_Ames                          &    -2637.4264 &   4297.62602 &  -0.6136938 &  5.394782e-01\\\\\n",
       "\t Neighborhood\\_Sawyer\\_West                             &    -4993.1636 &   4471.42226 &  -1.1166835 &  2.642459e-01\\\\\n",
       "\t Neighborhood\\_Mitchell                                &     2581.9133 &   4543.56444 &   0.5682572 &  5.699156e-01\\\\\n",
       "\t Neighborhood\\_Brookside                               &     5485.5802 &   4813.92571 &   1.1395232 &  2.546032e-01\\\\\n",
       "\t Neighborhood\\_Crawford                                &    43711.2331 &   4684.56260 &   9.3309102 &  2.381909e-20\\\\\n",
       "\t Neighborhood\\_Iowa\\_DOT\\_and\\_Rail\\_Road                  &    -6605.8541 &   4912.34906 &  -1.3447444 &  1.788399e-01\\\\\n",
       "\t Neighborhood\\_Timberland                              &    37523.3183 &   5780.65934 &   6.4911831 &  1.039120e-10\\\\\n",
       "\t Neighborhood\\_Northridge                              &    75324.2535 &   5865.85510 &  12.8411378 &  1.661445e-36\\\\\n",
       "\t Neighborhood\\_Stone\\_Brook                             &   120779.1182 &   6694.11768 &  18.0425747 &  3.507691e-68\\\\\n",
       "\t Neighborhood\\_South\\_and\\_West\\_of\\_Iowa\\_State\\_University &    -7142.6966 &   7208.07907 &  -0.9909293 &  3.218240e-01\\\\\n",
       "\t Neighborhood\\_Clear\\_Creek                             &    23365.1323 &   6779.93322 &   3.4462187 &  5.786589e-04\\\\\n",
       "\t Neighborhood\\_Meadow\\_Village                          &     6875.8480 &   7997.16603 &   0.8597856 &  3.899965e-01\\\\\n",
       "\t Neighborhood\\_Briardale                               &    14427.5118 &   8832.84892 &   1.6333928 &  1.025228e-01\\\\\n",
       "\t Neighborhood\\_Bloomington\\_Heights                     &    31590.8651 &   8824.86428 &   3.5797565 &  3.510113e-04\\\\\n",
       "\t Neighborhood\\_Veenker                                 &    57897.3557 &   8953.80097 &   6.4662321 &  1.222325e-10\\\\\n",
       "\t Neighborhood\\_Northpark\\_Villa                         &    29480.1024 &   9340.21281 &   3.1562560 &  1.618696e-03\\\\\n",
       "\t Neighborhood\\_Blueste                                 &    36290.8664 &  13821.10619 &   2.6257570 &  8.702759e-03\\\\\n",
       "\t Neighborhood\\_Greens                                  &    87287.6268 &  15758.73430 &   5.5389998 &  3.387562e-08\\\\\n",
       "\t Neighborhood\\_Green\\_Hills                             &   130263.5125 &  26742.05437 &   4.8711109 &  1.184967e-06\\\\\n",
       "\t Neighborhood\\_Landmark                                &    15174.7340 &  37855.91285 &   0.4008551 &  6.885639e-01\\\\\n",
       "\t Neighborhood\\_Hayden\\_Lake                             &            NA &           NA &          NA &            NA\\\\\n",
       "\t Bldg\\_Type\\_TwoFmCon                                   &   -13841.8339 &   5756.51699 &  -2.4045502 &  1.627070e-02\\\\\n",
       "\t Bldg\\_Type\\_Duplex                                     &   -40075.3496 &   4065.51675 &  -9.8573815 &  1.758098e-22\\\\\n",
       "\t Bldg\\_Type\\_Twnhs                                      &   -60457.6534 &   5757.16070 & -10.5012968 &  3.126288e-25\\\\\n",
       "\t Bldg\\_Type\\_TwnhsE                                     &   -37666.0661 &   3581.61765 & -10.5164955 &  2.680661e-25\\\\\n",
       "\\end{tabular}\n"
      ],
      "text/markdown": [
       "\n",
       "A tibble: 35 × 5\n",
       "\n",
       "| term &lt;chr&gt; | estimate &lt;dbl&gt; | std.error &lt;dbl&gt; | statistic &lt;dbl&gt; | p.value &lt;dbl&gt; |\n",
       "|---|---|---|---|---|\n",
       "| (Intercept)                                          | -2266435.4619 | 107944.91458 | -20.9962227 |  1.028301e-89 |\n",
       "| Gr_Liv_Area                                          |   249327.3043 |   6617.11155 |  37.6791750 | 1.439224e-242 |\n",
       "| Year_Built                                           |      838.2710 |     54.72702 |  15.3173145 |  1.641322e-50 |\n",
       "| Neighborhood_College_Creek                           |     6786.9656 |   3826.72008 |   1.7735725 |  7.626572e-02 |\n",
       "| Neighborhood_Old_Town                                |     -811.3768 |   4002.48600 |  -0.2027182 |  8.393731e-01 |\n",
       "| Neighborhood_Edwards                                 |   -10207.5813 |   3578.98571 |  -2.8520877 |  4.381954e-03 |\n",
       "| Neighborhood_Somerset                                |    33567.8546 |   4501.45524 |   7.4571117 |  1.244372e-13 |\n",
       "| Neighborhood_Northridge_Heights                      |    95832.6135 |   4773.07834 |  20.0777374 |  9.002444e-83 |\n",
       "| Neighborhood_Gilbert                                 |   -18238.7151 |   4392.77440 |  -4.1519808 |  3.415821e-05 |\n",
       "| Neighborhood_Sawyer                                  |    -1380.4645 |   3975.76653 |  -0.3472197 |  7.284579e-01 |\n",
       "| Neighborhood_Northwest_Ames                          |    -2637.4264 |   4297.62602 |  -0.6136938 |  5.394782e-01 |\n",
       "| Neighborhood_Sawyer_West                             |    -4993.1636 |   4471.42226 |  -1.1166835 |  2.642459e-01 |\n",
       "| Neighborhood_Mitchell                                |     2581.9133 |   4543.56444 |   0.5682572 |  5.699156e-01 |\n",
       "| Neighborhood_Brookside                               |     5485.5802 |   4813.92571 |   1.1395232 |  2.546032e-01 |\n",
       "| Neighborhood_Crawford                                |    43711.2331 |   4684.56260 |   9.3309102 |  2.381909e-20 |\n",
       "| Neighborhood_Iowa_DOT_and_Rail_Road                  |    -6605.8541 |   4912.34906 |  -1.3447444 |  1.788399e-01 |\n",
       "| Neighborhood_Timberland                              |    37523.3183 |   5780.65934 |   6.4911831 |  1.039120e-10 |\n",
       "| Neighborhood_Northridge                              |    75324.2535 |   5865.85510 |  12.8411378 |  1.661445e-36 |\n",
       "| Neighborhood_Stone_Brook                             |   120779.1182 |   6694.11768 |  18.0425747 |  3.507691e-68 |\n",
       "| Neighborhood_South_and_West_of_Iowa_State_University |    -7142.6966 |   7208.07907 |  -0.9909293 |  3.218240e-01 |\n",
       "| Neighborhood_Clear_Creek                             |    23365.1323 |   6779.93322 |   3.4462187 |  5.786589e-04 |\n",
       "| Neighborhood_Meadow_Village                          |     6875.8480 |   7997.16603 |   0.8597856 |  3.899965e-01 |\n",
       "| Neighborhood_Briardale                               |    14427.5118 |   8832.84892 |   1.6333928 |  1.025228e-01 |\n",
       "| Neighborhood_Bloomington_Heights                     |    31590.8651 |   8824.86428 |   3.5797565 |  3.510113e-04 |\n",
       "| Neighborhood_Veenker                                 |    57897.3557 |   8953.80097 |   6.4662321 |  1.222325e-10 |\n",
       "| Neighborhood_Northpark_Villa                         |    29480.1024 |   9340.21281 |   3.1562560 |  1.618696e-03 |\n",
       "| Neighborhood_Blueste                                 |    36290.8664 |  13821.10619 |   2.6257570 |  8.702759e-03 |\n",
       "| Neighborhood_Greens                                  |    87287.6268 |  15758.73430 |   5.5389998 |  3.387562e-08 |\n",
       "| Neighborhood_Green_Hills                             |   130263.5125 |  26742.05437 |   4.8711109 |  1.184967e-06 |\n",
       "| Neighborhood_Landmark                                |    15174.7340 |  37855.91285 |   0.4008551 |  6.885639e-01 |\n",
       "| Neighborhood_Hayden_Lake                             |            NA |           NA |          NA |            NA |\n",
       "| Bldg_Type_TwoFmCon                                   |   -13841.8339 |   5756.51699 |  -2.4045502 |  1.627070e-02 |\n",
       "| Bldg_Type_Duplex                                     |   -40075.3496 |   4065.51675 |  -9.8573815 |  1.758098e-22 |\n",
       "| Bldg_Type_Twnhs                                      |   -60457.6534 |   5757.16070 | -10.5012968 |  3.126288e-25 |\n",
       "| Bldg_Type_TwnhsE                                     |   -37666.0661 |   3581.61765 | -10.5164955 |  2.680661e-25 |\n",
       "\n"
      ],
      "text/plain": [
       "   term                                                 estimate     \n",
       "1  (Intercept)                                          -2266435.4619\n",
       "2  Gr_Liv_Area                                            249327.3043\n",
       "3  Year_Built                                                838.2710\n",
       "4  Neighborhood_College_Creek                               6786.9656\n",
       "5  Neighborhood_Old_Town                                    -811.3768\n",
       "6  Neighborhood_Edwards                                   -10207.5813\n",
       "7  Neighborhood_Somerset                                   33567.8546\n",
       "8  Neighborhood_Northridge_Heights                         95832.6135\n",
       "9  Neighborhood_Gilbert                                   -18238.7151\n",
       "10 Neighborhood_Sawyer                                     -1380.4645\n",
       "11 Neighborhood_Northwest_Ames                             -2637.4264\n",
       "12 Neighborhood_Sawyer_West                                -4993.1636\n",
       "13 Neighborhood_Mitchell                                    2581.9133\n",
       "14 Neighborhood_Brookside                                   5485.5802\n",
       "15 Neighborhood_Crawford                                   43711.2331\n",
       "16 Neighborhood_Iowa_DOT_and_Rail_Road                     -6605.8541\n",
       "17 Neighborhood_Timberland                                 37523.3183\n",
       "18 Neighborhood_Northridge                                 75324.2535\n",
       "19 Neighborhood_Stone_Brook                               120779.1182\n",
       "20 Neighborhood_South_and_West_of_Iowa_State_University    -7142.6966\n",
       "21 Neighborhood_Clear_Creek                                23365.1323\n",
       "22 Neighborhood_Meadow_Village                              6875.8480\n",
       "23 Neighborhood_Briardale                                  14427.5118\n",
       "24 Neighborhood_Bloomington_Heights                        31590.8651\n",
       "25 Neighborhood_Veenker                                    57897.3557\n",
       "26 Neighborhood_Northpark_Villa                            29480.1024\n",
       "27 Neighborhood_Blueste                                    36290.8664\n",
       "28 Neighborhood_Greens                                     87287.6268\n",
       "29 Neighborhood_Green_Hills                               130263.5125\n",
       "30 Neighborhood_Landmark                                   15174.7340\n",
       "31 Neighborhood_Hayden_Lake                                        NA\n",
       "32 Bldg_Type_TwoFmCon                                     -13841.8339\n",
       "33 Bldg_Type_Duplex                                       -40075.3496\n",
       "34 Bldg_Type_Twnhs                                        -60457.6534\n",
       "35 Bldg_Type_TwnhsE                                       -37666.0661\n",
       "   std.error    statistic   p.value      \n",
       "1  107944.91458 -20.9962227  1.028301e-89\n",
       "2    6617.11155  37.6791750 1.439224e-242\n",
       "3      54.72702  15.3173145  1.641322e-50\n",
       "4    3826.72008   1.7735725  7.626572e-02\n",
       "5    4002.48600  -0.2027182  8.393731e-01\n",
       "6    3578.98571  -2.8520877  4.381954e-03\n",
       "7    4501.45524   7.4571117  1.244372e-13\n",
       "8    4773.07834  20.0777374  9.002444e-83\n",
       "9    4392.77440  -4.1519808  3.415821e-05\n",
       "10   3975.76653  -0.3472197  7.284579e-01\n",
       "11   4297.62602  -0.6136938  5.394782e-01\n",
       "12   4471.42226  -1.1166835  2.642459e-01\n",
       "13   4543.56444   0.5682572  5.699156e-01\n",
       "14   4813.92571   1.1395232  2.546032e-01\n",
       "15   4684.56260   9.3309102  2.381909e-20\n",
       "16   4912.34906  -1.3447444  1.788399e-01\n",
       "17   5780.65934   6.4911831  1.039120e-10\n",
       "18   5865.85510  12.8411378  1.661445e-36\n",
       "19   6694.11768  18.0425747  3.507691e-68\n",
       "20   7208.07907  -0.9909293  3.218240e-01\n",
       "21   6779.93322   3.4462187  5.786589e-04\n",
       "22   7997.16603   0.8597856  3.899965e-01\n",
       "23   8832.84892   1.6333928  1.025228e-01\n",
       "24   8824.86428   3.5797565  3.510113e-04\n",
       "25   8953.80097   6.4662321  1.222325e-10\n",
       "26   9340.21281   3.1562560  1.618696e-03\n",
       "27  13821.10619   2.6257570  8.702759e-03\n",
       "28  15758.73430   5.5389998  3.387562e-08\n",
       "29  26742.05437   4.8711109  1.184967e-06\n",
       "30  37855.91285   0.4008551  6.885639e-01\n",
       "31           NA          NA            NA\n",
       "32   5756.51699  -2.4045502  1.627070e-02\n",
       "33   4065.51675  -9.8573815  1.758098e-22\n",
       "34   5757.16070 -10.5012968  3.126288e-25\n",
       "35   3581.61765 -10.5164955  2.680661e-25"
      ]
     },
     "metadata": {},
     "output_type": "display_data"
    }
   ],
   "source": [
    "# To tidy the model fit: \n",
    "lm_fit |> \n",
    "  # This returns the parsnip object:\n",
    "  extract_fit_parsnip() |>\n",
    "  # Now tidy the linear model object:\n",
    "  tidy()"
   ]
  },
  {
   "cell_type": "markdown",
   "id": "b36a2dca-c042-49e0-9ca8-2a27206cd5bd",
   "metadata": {},
   "source": [
    "## ENCODING QUALITATIVE DATA IN A NUMERIC FORMAT"
   ]
  },
  {
   "cell_type": "code",
   "execution_count": 43,
   "id": "b37a95ee-96f5-44b8-a97c-c2bb4951ba24",
   "metadata": {},
   "outputs": [
    {
     "name": "stderr",
     "output_type": "stream",
     "text": [
      "\n",
      "\n",
      "\u001b[36m──\u001b[39m \u001b[1mRecipe\u001b[22m \u001b[36m─────────────────────────────────────────────────────────────────────────────────────────────────────────────────────────────────\u001b[39m\n",
      "\n",
      "\n",
      "\n",
      "── Inputs \n",
      "\n",
      "Number of variables by role\n",
      "\n",
      "outcome:   1\n",
      "predictor: 4\n",
      "\n",
      "\n",
      "\n",
      "── Operations \n",
      "\n",
      "\u001b[36m•\u001b[39m Log transformation on: \u001b[34mGr_Liv_Area\u001b[39m\n",
      "\n",
      "\u001b[36m•\u001b[39m Collapsing factor levels for: \u001b[34mNeighborhood\u001b[39m\n",
      "\n",
      "\u001b[36m•\u001b[39m Dummy variables from: \u001b[34mall_nominal_predictors()\u001b[39m\n",
      "\n"
     ]
    }
   ],
   "source": [
    "simple_ames <- \n",
    "  recipe(Sale_Price ~ Neighborhood + Gr_Liv_Area + Year_Built + Bldg_Type,\n",
    "         data = ames_train) |>\n",
    "  step_log(Gr_Liv_Area, base = 10) |>\n",
    "  # Encoding all neighborhood into categorical with the bottom 1% as other \n",
    "  step_other(Neighborhood, threshold = 0.01) |>\n",
    "  step_dummy(all_nominal_predictors())\n",
    "\n",
    "\n",
    "simple_ames"
   ]
  },
  {
   "cell_type": "markdown",
   "id": "e96f074a-d223-43c4-9edb-fd53ebcf8895",
   "metadata": {},
   "source": [
    "## Interaction"
   ]
  },
  {
   "cell_type": "code",
   "execution_count": null,
   "id": "da71e696-5437-45e6-bd34-e6e42b227fa2",
   "metadata": {},
   "outputs": [],
   "source": [
    "simple_ames <- \n",
    "  recipe(Sale_Price ~ Neighborhood + Gr_Liv_Area + Year_Built + Bldg_Type,\n",
    "         data = ames_train) |>\n",
    "  step_log(Gr_Liv_Area, base = 10) |> \n",
    "  step_other(Neighborhood, threshold = 0.01) |> \n",
    "  step_dummy(all_nominal_predictors()) |> \n",
    "  # Gr_Liv_Area is on the log scale from a previous step\n",
    "  step_interact( ~ Gr_Liv_Area:starts_with(\"Bldg_Type_\") )"
   ]
  },
  {
   "cell_type": "markdown",
   "id": "72bd3b1d-65a5-41e7-a0cb-a5daa41f790d",
   "metadata": {},
   "source": [
    "> Additional interactions can be specified in this formula by separating them by +. Also note that the recipe will only use interactions between different variables; if the formula uses var_1:var_1, this term will be ignored."
   ]
  },
  {
   "cell_type": "code",
   "execution_count": 44,
   "id": "c3537a7c-997b-413e-830f-129dca433b7e",
   "metadata": {},
   "outputs": [],
   "source": [
    "library(tidymodels)\n",
    "data(ames)\n",
    "ames <- mutate(ames, Sale_Price = log10(Sale_Price))\n",
    "\n",
    "set.seed(502)\n",
    "ames_split <- initial_split(ames, prop = 0.80, strata = Sale_Price)\n",
    "ames_train <- training(ames_split)\n",
    "ames_test  <-  testing(ames_split)\n",
    "\n",
    "ames_rec <- \n",
    "  recipe(Sale_Price ~ Neighborhood + Gr_Liv_Area + Year_Built + Bldg_Type + \n",
    "           Latitude + Longitude, data = ames_train) %>%\n",
    "  step_log(Gr_Liv_Area, base = 10) %>% \n",
    "  step_other(Neighborhood, threshold = 0.01) %>% \n",
    "  step_dummy(all_nominal_predictors()) %>% \n",
    "  step_interact( ~ Gr_Liv_Area:starts_with(\"Bldg_Type_\") ) %>% \n",
    "  step_ns(Latitude, Longitude, deg_free = 20)\n",
    "  \n",
    "lm_model <- linear_reg() %>% set_engine(\"lm\")\n",
    "\n",
    "lm_wflow <- \n",
    "  workflow() %>% \n",
    "  add_model(lm_model) %>% \n",
    "  add_recipe(ames_rec)\n",
    "\n",
    "lm_fit <- fit(lm_wflow, ames_train)"
   ]
  },
  {
   "cell_type": "code",
   "execution_count": 45,
   "id": "1b2182e9-0334-4b1f-8bf1-3b74916a4e56",
   "metadata": {},
   "outputs": [
    {
     "data": {
      "text/plain": [
       "══ Workflow ═══════════════════════════════════════════════════════════════════════════════════════════════════════════════════════════════\n",
       "\u001b[3mPreprocessor:\u001b[23m Recipe\n",
       "\u001b[3mModel:\u001b[23m linear_reg()\n",
       "\n",
       "── Preprocessor ───────────────────────────────────────────────────────────────────────────────────────────────────────────────────────────\n",
       "5 Recipe Steps\n",
       "\n",
       "• step_log()\n",
       "• step_other()\n",
       "• step_dummy()\n",
       "• step_interact()\n",
       "• step_ns()\n",
       "\n",
       "── Model ──────────────────────────────────────────────────────────────────────────────────────────────────────────────────────────────────\n",
       "Linear Regression Model Specification (regression)\n",
       "\n",
       "Computational engine: lm \n"
      ]
     },
     "metadata": {},
     "output_type": "display_data"
    }
   ],
   "source": [
    "lm_wflow"
   ]
  },
  {
   "cell_type": "code",
   "execution_count": 46,
   "id": "4b82b30f-49fb-456a-af5d-f4c7db3579d9",
   "metadata": {},
   "outputs": [
    {
     "data": {
      "text/html": [
       "<table class=\"dataframe\">\n",
       "<caption>A tibble: 73 × 5</caption>\n",
       "<thead>\n",
       "\t<tr><th scope=col>term</th><th scope=col>estimate</th><th scope=col>std.error</th><th scope=col>statistic</th><th scope=col>p.value</th></tr>\n",
       "\t<tr><th scope=col>&lt;chr&gt;</th><th scope=col>&lt;dbl&gt;</th><th scope=col>&lt;dbl&gt;</th><th scope=col>&lt;dbl&gt;</th><th scope=col>&lt;dbl&gt;</th></tr>\n",
       "</thead>\n",
       "<tbody>\n",
       "\t<tr><td>(Intercept)                                         </td><td>-0.080200368</td><td>0.2884852084</td><td>-0.27800513</td><td> 7.810338e-01</td></tr>\n",
       "\t<tr><td>Gr_Liv_Area                                         </td><td> 0.627763872</td><td>0.0156228121</td><td>40.18251428</td><td>4.145926e-267</td></tr>\n",
       "\t<tr><td>Year_Built                                          </td><td> 0.001730214</td><td>0.0001352983</td><td>12.78814535</td><td> 3.291818e-36</td></tr>\n",
       "\t<tr><td>Neighborhood_College_Creek                          </td><td>-0.007893667</td><td>0.0336743019</td><td>-0.23441219</td><td> 8.146861e-01</td></tr>\n",
       "\t<tr><td>Neighborhood_Old_Town                               </td><td>-0.058906314</td><td>0.0124818976</td><td>-4.71933967</td><td> 2.510175e-06</td></tr>\n",
       "\t<tr><td>Neighborhood_Edwards                                </td><td>-0.088994814</td><td>0.0282016318</td><td>-3.15566187</td><td> 1.622338e-03</td></tr>\n",
       "\t<tr><td>Neighborhood_Somerset                               </td><td> 0.082687855</td><td>0.0192334481</td><td> 4.29916959</td><td> 1.786888e-05</td></tr>\n",
       "\t<tr><td>Neighborhood_Northridge_Heights                     </td><td> 0.141633002</td><td>0.0350141171</td><td> 4.04502567</td><td> 5.406598e-05</td></tr>\n",
       "\t<tr><td>Neighborhood_Gilbert                                </td><td> 0.013521741</td><td>0.0318128130</td><td> 0.42504071</td><td> 6.708473e-01</td></tr>\n",
       "\t<tr><td>Neighborhood_Sawyer                                 </td><td>-0.098668641</td><td>0.0264453237</td><td>-3.73104304</td><td> 1.953701e-04</td></tr>\n",
       "\t<tr><td>Neighborhood_Northwest_Ames                         </td><td> 0.017752788</td><td>0.0166686867</td><td> 1.06503822</td><td> 2.869720e-01</td></tr>\n",
       "\t<tr><td>Neighborhood_Sawyer_West                            </td><td>-0.105964636</td><td>0.0320530181</td><td>-3.30591758</td><td> 9.614075e-04</td></tr>\n",
       "\t<tr><td>Neighborhood_Mitchell                               </td><td>-0.034351833</td><td>0.0508271916</td><td>-0.67585543</td><td> 4.992013e-01</td></tr>\n",
       "\t<tr><td>Neighborhood_Brookside                              </td><td>-0.032585384</td><td>0.0145599218</td><td>-2.23801916</td><td> 2.531648e-02</td></tr>\n",
       "\t<tr><td>Neighborhood_Crawford                               </td><td> 0.165628873</td><td>0.0222812529</td><td> 7.43355294</td><td> 1.489754e-13</td></tr>\n",
       "\t<tr><td>Neighborhood_Iowa_DOT_and_Rail_Road                 </td><td>-0.046756378</td><td>0.0207180406</td><td>-2.25679534</td><td> 2.411563e-02</td></tr>\n",
       "\t<tr><td>Neighborhood_Timberland                             </td><td>-0.001209089</td><td>0.0489398397</td><td>-0.02470562</td><td> 9.802919e-01</td></tr>\n",
       "\t<tr><td>Neighborhood_Northridge                             </td><td> 0.080473196</td><td>0.0240686910</td><td> 3.34348037</td><td> 8.407893e-04</td></tr>\n",
       "\t<tr><td>Neighborhood_Stone_Brook                            </td><td> 0.179336033</td><td>0.0353074835</td><td> 5.07926410</td><td> 4.097815e-07</td></tr>\n",
       "\t<tr><td>Neighborhood_South_and_West_of_Iowa_State_University</td><td> 0.019170541</td><td>0.0257255688</td><td> 0.74519404</td><td> 4.562316e-01</td></tr>\n",
       "\t<tr><td>Neighborhood_Clear_Creek                            </td><td>-0.037543375</td><td>0.0283075862</td><td>-1.32626550</td><td> 1.848853e-01</td></tr>\n",
       "\t<tr><td>Neighborhood_Meadow_Village                         </td><td>-0.177445512</td><td>0.0560126243</td><td>-3.16795570</td><td> 1.555566e-03</td></tr>\n",
       "\t<tr><td>Neighborhood_Briardale                              </td><td>-0.093355437</td><td>0.0253292163</td><td>-3.68568201</td><td> 2.334370e-04</td></tr>\n",
       "\t<tr><td>Neighborhood_Bloomington_Heights                    </td><td> 0.045484598</td><td>0.0397990805</td><td> 1.14285549</td><td> 2.532192e-01</td></tr>\n",
       "\t<tr><td>Neighborhood_other                                  </td><td> 0.077765397</td><td>0.0187626495</td><td> 4.14469168</td><td> 3.527610e-05</td></tr>\n",
       "\t<tr><td>Bldg_Type_TwoFmCon                                  </td><td> 0.661549069</td><td>0.2606576269</td><td> 2.53800005</td><td> 1.121517e-02</td></tr>\n",
       "\t<tr><td>Bldg_Type_Duplex                                    </td><td> 0.697756938</td><td>0.2098872606</td><td> 3.32443683</td><td> 9.000661e-04</td></tr>\n",
       "\t<tr><td>Bldg_Type_Twnhs                                     </td><td> 1.075005433</td><td>0.2961174857</td><td> 3.63033419</td><td> 2.893196e-04</td></tr>\n",
       "\t<tr><td>Bldg_Type_TwnhsE                                    </td><td>-0.023720231</td><td>0.2088718362</td><td>-0.11356357</td><td> 9.095938e-01</td></tr>\n",
       "\t<tr><td>Gr_Liv_Area_x_Bldg_Type_TwoFmCon                    </td><td>-0.223402086</td><td>0.0825870496</td><td>-2.70504985</td><td> 6.880465e-03</td></tr>\n",
       "\t<tr><td>⋮</td><td>⋮</td><td>⋮</td><td>⋮</td><td>⋮</td></tr>\n",
       "\t<tr><td>Latitude_ns_11 </td><td> 0.019895149</td><td>0.05496782</td><td> 0.3619418</td><td>0.7174292452</td></tr>\n",
       "\t<tr><td>Latitude_ns_12 </td><td>-0.006972908</td><td>0.05389491</td><td>-0.1293797</td><td>0.8970686657</td></tr>\n",
       "\t<tr><td>Latitude_ns_13 </td><td>-0.016392855</td><td>0.05458300</td><td>-0.3003289</td><td>0.7639537841</td></tr>\n",
       "\t<tr><td>Latitude_ns_14 </td><td>-0.048756031</td><td>0.05344033</td><td>-0.9123453</td><td>0.3616839053</td></tr>\n",
       "\t<tr><td>Latitude_ns_15 </td><td>-0.013087096</td><td>0.05397883</td><td>-0.2424487</td><td>0.8084544185</td></tr>\n",
       "\t<tr><td>Latitude_ns_16 </td><td> 0.011291345</td><td>0.05514628</td><td> 0.2047526</td><td>0.8377837845</td></tr>\n",
       "\t<tr><td>Latitude_ns_17 </td><td>-0.076130503</td><td>0.06671727</td><td>-1.1410913</td><td>0.2539523374</td></tr>\n",
       "\t<tr><td>Latitude_ns_18 </td><td>-0.071066226</td><td>0.05894646</td><td>-1.2056064</td><td>0.2280950167</td></tr>\n",
       "\t<tr><td>Latitude_ns_19 </td><td> 0.087140746</td><td>0.06955127</td><td> 1.2528994</td><td>0.2103714239</td></tr>\n",
       "\t<tr><td>Latitude_ns_20 </td><td>-0.073248671</td><td>0.06354103</td><td>-1.1527776</td><td>0.2491231129</td></tr>\n",
       "\t<tr><td>Longitude_ns_01</td><td> 0.033208597</td><td>0.01954197</td><td> 1.6993475</td><td>0.0893907944</td></tr>\n",
       "\t<tr><td>Longitude_ns_02</td><td> 0.008363722</td><td>0.03510499</td><td> 0.2382488</td><td>0.8117096222</td></tr>\n",
       "\t<tr><td>Longitude_ns_03</td><td> 0.034142478</td><td>0.03199955</td><td> 1.0669674</td><td>0.2861000554</td></tr>\n",
       "\t<tr><td>Longitude_ns_04</td><td>-0.020355225</td><td>0.03539978</td><td>-0.5750099</td><td>0.5653416105</td></tr>\n",
       "\t<tr><td>Longitude_ns_05</td><td>-0.030846041</td><td>0.03516121</td><td>-0.8772748</td><td>0.3804302638</td></tr>\n",
       "\t<tr><td>Longitude_ns_06</td><td>-0.072590596</td><td>0.03508188</td><td>-2.0691761</td><td>0.0386425484</td></tr>\n",
       "\t<tr><td>Longitude_ns_07</td><td>-0.065931357</td><td>0.03663254</td><td>-1.7998030</td><td>0.0720245482</td></tr>\n",
       "\t<tr><td>Longitude_ns_08</td><td>-0.130890663</td><td>0.03589621</td><td>-3.6463644</td><td>0.0002719628</td></tr>\n",
       "\t<tr><td>Longitude_ns_09</td><td>-0.052196915</td><td>0.03684426</td><td>-1.4166906</td><td>0.1567106910</td></tr>\n",
       "\t<tr><td>Longitude_ns_10</td><td>-0.106403756</td><td>0.04080625</td><td>-2.6075360</td><td>0.0091794182</td></tr>\n",
       "\t<tr><td>Longitude_ns_11</td><td>-0.091077630</td><td>0.04395069</td><td>-2.0722685</td><td>0.0383531148</td></tr>\n",
       "\t<tr><td>Longitude_ns_12</td><td>-0.032650678</td><td>0.03881463</td><td>-0.8411952</td><td>0.4003272418</td></tr>\n",
       "\t<tr><td>Longitude_ns_13</td><td>-0.099841930</td><td>0.03795206</td><td>-2.6307384</td><td>0.0085775937</td></tr>\n",
       "\t<tr><td>Longitude_ns_14</td><td>-0.086795822</td><td>0.03978950</td><td>-2.1813749</td><td>0.0292580246</td></tr>\n",
       "\t<tr><td>Longitude_ns_15</td><td>-0.092354416</td><td>0.03939051</td><td>-2.3445857</td><td>0.0191340292</td></tr>\n",
       "\t<tr><td>Longitude_ns_16</td><td>-0.039907634</td><td>0.03964408</td><td>-1.0066480</td><td>0.3142112825</td></tr>\n",
       "\t<tr><td>Longitude_ns_17</td><td>-0.106836434</td><td>0.03829966</td><td>-2.7894877</td><td>0.0053232369</td></tr>\n",
       "\t<tr><td>Longitude_ns_18</td><td>-0.072570656</td><td>0.04466582</td><td>-1.6247471</td><td>0.1043553438</td></tr>\n",
       "\t<tr><td>Longitude_ns_19</td><td>-0.078846699</td><td>0.06187232</td><td>-1.2743452</td><td>0.2026715913</td></tr>\n",
       "\t<tr><td>Longitude_ns_20</td><td>-0.139057403</td><td>0.07806621</td><td>-1.7812753</td><td>0.0750012223</td></tr>\n",
       "</tbody>\n",
       "</table>\n"
      ],
      "text/latex": [
       "A tibble: 73 × 5\n",
       "\\begin{tabular}{lllll}\n",
       " term & estimate & std.error & statistic & p.value\\\\\n",
       " <chr> & <dbl> & <dbl> & <dbl> & <dbl>\\\\\n",
       "\\hline\n",
       "\t (Intercept)                                          & -0.080200368 & 0.2884852084 & -0.27800513 &  7.810338e-01\\\\\n",
       "\t Gr\\_Liv\\_Area                                          &  0.627763872 & 0.0156228121 & 40.18251428 & 4.145926e-267\\\\\n",
       "\t Year\\_Built                                           &  0.001730214 & 0.0001352983 & 12.78814535 &  3.291818e-36\\\\\n",
       "\t Neighborhood\\_College\\_Creek                           & -0.007893667 & 0.0336743019 & -0.23441219 &  8.146861e-01\\\\\n",
       "\t Neighborhood\\_Old\\_Town                                & -0.058906314 & 0.0124818976 & -4.71933967 &  2.510175e-06\\\\\n",
       "\t Neighborhood\\_Edwards                                 & -0.088994814 & 0.0282016318 & -3.15566187 &  1.622338e-03\\\\\n",
       "\t Neighborhood\\_Somerset                                &  0.082687855 & 0.0192334481 &  4.29916959 &  1.786888e-05\\\\\n",
       "\t Neighborhood\\_Northridge\\_Heights                      &  0.141633002 & 0.0350141171 &  4.04502567 &  5.406598e-05\\\\\n",
       "\t Neighborhood\\_Gilbert                                 &  0.013521741 & 0.0318128130 &  0.42504071 &  6.708473e-01\\\\\n",
       "\t Neighborhood\\_Sawyer                                  & -0.098668641 & 0.0264453237 & -3.73104304 &  1.953701e-04\\\\\n",
       "\t Neighborhood\\_Northwest\\_Ames                          &  0.017752788 & 0.0166686867 &  1.06503822 &  2.869720e-01\\\\\n",
       "\t Neighborhood\\_Sawyer\\_West                             & -0.105964636 & 0.0320530181 & -3.30591758 &  9.614075e-04\\\\\n",
       "\t Neighborhood\\_Mitchell                                & -0.034351833 & 0.0508271916 & -0.67585543 &  4.992013e-01\\\\\n",
       "\t Neighborhood\\_Brookside                               & -0.032585384 & 0.0145599218 & -2.23801916 &  2.531648e-02\\\\\n",
       "\t Neighborhood\\_Crawford                                &  0.165628873 & 0.0222812529 &  7.43355294 &  1.489754e-13\\\\\n",
       "\t Neighborhood\\_Iowa\\_DOT\\_and\\_Rail\\_Road                  & -0.046756378 & 0.0207180406 & -2.25679534 &  2.411563e-02\\\\\n",
       "\t Neighborhood\\_Timberland                              & -0.001209089 & 0.0489398397 & -0.02470562 &  9.802919e-01\\\\\n",
       "\t Neighborhood\\_Northridge                              &  0.080473196 & 0.0240686910 &  3.34348037 &  8.407893e-04\\\\\n",
       "\t Neighborhood\\_Stone\\_Brook                             &  0.179336033 & 0.0353074835 &  5.07926410 &  4.097815e-07\\\\\n",
       "\t Neighborhood\\_South\\_and\\_West\\_of\\_Iowa\\_State\\_University &  0.019170541 & 0.0257255688 &  0.74519404 &  4.562316e-01\\\\\n",
       "\t Neighborhood\\_Clear\\_Creek                             & -0.037543375 & 0.0283075862 & -1.32626550 &  1.848853e-01\\\\\n",
       "\t Neighborhood\\_Meadow\\_Village                          & -0.177445512 & 0.0560126243 & -3.16795570 &  1.555566e-03\\\\\n",
       "\t Neighborhood\\_Briardale                               & -0.093355437 & 0.0253292163 & -3.68568201 &  2.334370e-04\\\\\n",
       "\t Neighborhood\\_Bloomington\\_Heights                     &  0.045484598 & 0.0397990805 &  1.14285549 &  2.532192e-01\\\\\n",
       "\t Neighborhood\\_other                                   &  0.077765397 & 0.0187626495 &  4.14469168 &  3.527610e-05\\\\\n",
       "\t Bldg\\_Type\\_TwoFmCon                                   &  0.661549069 & 0.2606576269 &  2.53800005 &  1.121517e-02\\\\\n",
       "\t Bldg\\_Type\\_Duplex                                     &  0.697756938 & 0.2098872606 &  3.32443683 &  9.000661e-04\\\\\n",
       "\t Bldg\\_Type\\_Twnhs                                      &  1.075005433 & 0.2961174857 &  3.63033419 &  2.893196e-04\\\\\n",
       "\t Bldg\\_Type\\_TwnhsE                                     & -0.023720231 & 0.2088718362 & -0.11356357 &  9.095938e-01\\\\\n",
       "\t Gr\\_Liv\\_Area\\_x\\_Bldg\\_Type\\_TwoFmCon                     & -0.223402086 & 0.0825870496 & -2.70504985 &  6.880465e-03\\\\\n",
       "\t ⋮ & ⋮ & ⋮ & ⋮ & ⋮\\\\\n",
       "\t Latitude\\_ns\\_11  &  0.019895149 & 0.05496782 &  0.3619418 & 0.7174292452\\\\\n",
       "\t Latitude\\_ns\\_12  & -0.006972908 & 0.05389491 & -0.1293797 & 0.8970686657\\\\\n",
       "\t Latitude\\_ns\\_13  & -0.016392855 & 0.05458300 & -0.3003289 & 0.7639537841\\\\\n",
       "\t Latitude\\_ns\\_14  & -0.048756031 & 0.05344033 & -0.9123453 & 0.3616839053\\\\\n",
       "\t Latitude\\_ns\\_15  & -0.013087096 & 0.05397883 & -0.2424487 & 0.8084544185\\\\\n",
       "\t Latitude\\_ns\\_16  &  0.011291345 & 0.05514628 &  0.2047526 & 0.8377837845\\\\\n",
       "\t Latitude\\_ns\\_17  & -0.076130503 & 0.06671727 & -1.1410913 & 0.2539523374\\\\\n",
       "\t Latitude\\_ns\\_18  & -0.071066226 & 0.05894646 & -1.2056064 & 0.2280950167\\\\\n",
       "\t Latitude\\_ns\\_19  &  0.087140746 & 0.06955127 &  1.2528994 & 0.2103714239\\\\\n",
       "\t Latitude\\_ns\\_20  & -0.073248671 & 0.06354103 & -1.1527776 & 0.2491231129\\\\\n",
       "\t Longitude\\_ns\\_01 &  0.033208597 & 0.01954197 &  1.6993475 & 0.0893907944\\\\\n",
       "\t Longitude\\_ns\\_02 &  0.008363722 & 0.03510499 &  0.2382488 & 0.8117096222\\\\\n",
       "\t Longitude\\_ns\\_03 &  0.034142478 & 0.03199955 &  1.0669674 & 0.2861000554\\\\\n",
       "\t Longitude\\_ns\\_04 & -0.020355225 & 0.03539978 & -0.5750099 & 0.5653416105\\\\\n",
       "\t Longitude\\_ns\\_05 & -0.030846041 & 0.03516121 & -0.8772748 & 0.3804302638\\\\\n",
       "\t Longitude\\_ns\\_06 & -0.072590596 & 0.03508188 & -2.0691761 & 0.0386425484\\\\\n",
       "\t Longitude\\_ns\\_07 & -0.065931357 & 0.03663254 & -1.7998030 & 0.0720245482\\\\\n",
       "\t Longitude\\_ns\\_08 & -0.130890663 & 0.03589621 & -3.6463644 & 0.0002719628\\\\\n",
       "\t Longitude\\_ns\\_09 & -0.052196915 & 0.03684426 & -1.4166906 & 0.1567106910\\\\\n",
       "\t Longitude\\_ns\\_10 & -0.106403756 & 0.04080625 & -2.6075360 & 0.0091794182\\\\\n",
       "\t Longitude\\_ns\\_11 & -0.091077630 & 0.04395069 & -2.0722685 & 0.0383531148\\\\\n",
       "\t Longitude\\_ns\\_12 & -0.032650678 & 0.03881463 & -0.8411952 & 0.4003272418\\\\\n",
       "\t Longitude\\_ns\\_13 & -0.099841930 & 0.03795206 & -2.6307384 & 0.0085775937\\\\\n",
       "\t Longitude\\_ns\\_14 & -0.086795822 & 0.03978950 & -2.1813749 & 0.0292580246\\\\\n",
       "\t Longitude\\_ns\\_15 & -0.092354416 & 0.03939051 & -2.3445857 & 0.0191340292\\\\\n",
       "\t Longitude\\_ns\\_16 & -0.039907634 & 0.03964408 & -1.0066480 & 0.3142112825\\\\\n",
       "\t Longitude\\_ns\\_17 & -0.106836434 & 0.03829966 & -2.7894877 & 0.0053232369\\\\\n",
       "\t Longitude\\_ns\\_18 & -0.072570656 & 0.04466582 & -1.6247471 & 0.1043553438\\\\\n",
       "\t Longitude\\_ns\\_19 & -0.078846699 & 0.06187232 & -1.2743452 & 0.2026715913\\\\\n",
       "\t Longitude\\_ns\\_20 & -0.139057403 & 0.07806621 & -1.7812753 & 0.0750012223\\\\\n",
       "\\end{tabular}\n"
      ],
      "text/markdown": [
       "\n",
       "A tibble: 73 × 5\n",
       "\n",
       "| term &lt;chr&gt; | estimate &lt;dbl&gt; | std.error &lt;dbl&gt; | statistic &lt;dbl&gt; | p.value &lt;dbl&gt; |\n",
       "|---|---|---|---|---|\n",
       "| (Intercept)                                          | -0.080200368 | 0.2884852084 | -0.27800513 |  7.810338e-01 |\n",
       "| Gr_Liv_Area                                          |  0.627763872 | 0.0156228121 | 40.18251428 | 4.145926e-267 |\n",
       "| Year_Built                                           |  0.001730214 | 0.0001352983 | 12.78814535 |  3.291818e-36 |\n",
       "| Neighborhood_College_Creek                           | -0.007893667 | 0.0336743019 | -0.23441219 |  8.146861e-01 |\n",
       "| Neighborhood_Old_Town                                | -0.058906314 | 0.0124818976 | -4.71933967 |  2.510175e-06 |\n",
       "| Neighborhood_Edwards                                 | -0.088994814 | 0.0282016318 | -3.15566187 |  1.622338e-03 |\n",
       "| Neighborhood_Somerset                                |  0.082687855 | 0.0192334481 |  4.29916959 |  1.786888e-05 |\n",
       "| Neighborhood_Northridge_Heights                      |  0.141633002 | 0.0350141171 |  4.04502567 |  5.406598e-05 |\n",
       "| Neighborhood_Gilbert                                 |  0.013521741 | 0.0318128130 |  0.42504071 |  6.708473e-01 |\n",
       "| Neighborhood_Sawyer                                  | -0.098668641 | 0.0264453237 | -3.73104304 |  1.953701e-04 |\n",
       "| Neighborhood_Northwest_Ames                          |  0.017752788 | 0.0166686867 |  1.06503822 |  2.869720e-01 |\n",
       "| Neighborhood_Sawyer_West                             | -0.105964636 | 0.0320530181 | -3.30591758 |  9.614075e-04 |\n",
       "| Neighborhood_Mitchell                                | -0.034351833 | 0.0508271916 | -0.67585543 |  4.992013e-01 |\n",
       "| Neighborhood_Brookside                               | -0.032585384 | 0.0145599218 | -2.23801916 |  2.531648e-02 |\n",
       "| Neighborhood_Crawford                                |  0.165628873 | 0.0222812529 |  7.43355294 |  1.489754e-13 |\n",
       "| Neighborhood_Iowa_DOT_and_Rail_Road                  | -0.046756378 | 0.0207180406 | -2.25679534 |  2.411563e-02 |\n",
       "| Neighborhood_Timberland                              | -0.001209089 | 0.0489398397 | -0.02470562 |  9.802919e-01 |\n",
       "| Neighborhood_Northridge                              |  0.080473196 | 0.0240686910 |  3.34348037 |  8.407893e-04 |\n",
       "| Neighborhood_Stone_Brook                             |  0.179336033 | 0.0353074835 |  5.07926410 |  4.097815e-07 |\n",
       "| Neighborhood_South_and_West_of_Iowa_State_University |  0.019170541 | 0.0257255688 |  0.74519404 |  4.562316e-01 |\n",
       "| Neighborhood_Clear_Creek                             | -0.037543375 | 0.0283075862 | -1.32626550 |  1.848853e-01 |\n",
       "| Neighborhood_Meadow_Village                          | -0.177445512 | 0.0560126243 | -3.16795570 |  1.555566e-03 |\n",
       "| Neighborhood_Briardale                               | -0.093355437 | 0.0253292163 | -3.68568201 |  2.334370e-04 |\n",
       "| Neighborhood_Bloomington_Heights                     |  0.045484598 | 0.0397990805 |  1.14285549 |  2.532192e-01 |\n",
       "| Neighborhood_other                                   |  0.077765397 | 0.0187626495 |  4.14469168 |  3.527610e-05 |\n",
       "| Bldg_Type_TwoFmCon                                   |  0.661549069 | 0.2606576269 |  2.53800005 |  1.121517e-02 |\n",
       "| Bldg_Type_Duplex                                     |  0.697756938 | 0.2098872606 |  3.32443683 |  9.000661e-04 |\n",
       "| Bldg_Type_Twnhs                                      |  1.075005433 | 0.2961174857 |  3.63033419 |  2.893196e-04 |\n",
       "| Bldg_Type_TwnhsE                                     | -0.023720231 | 0.2088718362 | -0.11356357 |  9.095938e-01 |\n",
       "| Gr_Liv_Area_x_Bldg_Type_TwoFmCon                     | -0.223402086 | 0.0825870496 | -2.70504985 |  6.880465e-03 |\n",
       "| ⋮ | ⋮ | ⋮ | ⋮ | ⋮ |\n",
       "| Latitude_ns_11  |  0.019895149 | 0.05496782 |  0.3619418 | 0.7174292452 |\n",
       "| Latitude_ns_12  | -0.006972908 | 0.05389491 | -0.1293797 | 0.8970686657 |\n",
       "| Latitude_ns_13  | -0.016392855 | 0.05458300 | -0.3003289 | 0.7639537841 |\n",
       "| Latitude_ns_14  | -0.048756031 | 0.05344033 | -0.9123453 | 0.3616839053 |\n",
       "| Latitude_ns_15  | -0.013087096 | 0.05397883 | -0.2424487 | 0.8084544185 |\n",
       "| Latitude_ns_16  |  0.011291345 | 0.05514628 |  0.2047526 | 0.8377837845 |\n",
       "| Latitude_ns_17  | -0.076130503 | 0.06671727 | -1.1410913 | 0.2539523374 |\n",
       "| Latitude_ns_18  | -0.071066226 | 0.05894646 | -1.2056064 | 0.2280950167 |\n",
       "| Latitude_ns_19  |  0.087140746 | 0.06955127 |  1.2528994 | 0.2103714239 |\n",
       "| Latitude_ns_20  | -0.073248671 | 0.06354103 | -1.1527776 | 0.2491231129 |\n",
       "| Longitude_ns_01 |  0.033208597 | 0.01954197 |  1.6993475 | 0.0893907944 |\n",
       "| Longitude_ns_02 |  0.008363722 | 0.03510499 |  0.2382488 | 0.8117096222 |\n",
       "| Longitude_ns_03 |  0.034142478 | 0.03199955 |  1.0669674 | 0.2861000554 |\n",
       "| Longitude_ns_04 | -0.020355225 | 0.03539978 | -0.5750099 | 0.5653416105 |\n",
       "| Longitude_ns_05 | -0.030846041 | 0.03516121 | -0.8772748 | 0.3804302638 |\n",
       "| Longitude_ns_06 | -0.072590596 | 0.03508188 | -2.0691761 | 0.0386425484 |\n",
       "| Longitude_ns_07 | -0.065931357 | 0.03663254 | -1.7998030 | 0.0720245482 |\n",
       "| Longitude_ns_08 | -0.130890663 | 0.03589621 | -3.6463644 | 0.0002719628 |\n",
       "| Longitude_ns_09 | -0.052196915 | 0.03684426 | -1.4166906 | 0.1567106910 |\n",
       "| Longitude_ns_10 | -0.106403756 | 0.04080625 | -2.6075360 | 0.0091794182 |\n",
       "| Longitude_ns_11 | -0.091077630 | 0.04395069 | -2.0722685 | 0.0383531148 |\n",
       "| Longitude_ns_12 | -0.032650678 | 0.03881463 | -0.8411952 | 0.4003272418 |\n",
       "| Longitude_ns_13 | -0.099841930 | 0.03795206 | -2.6307384 | 0.0085775937 |\n",
       "| Longitude_ns_14 | -0.086795822 | 0.03978950 | -2.1813749 | 0.0292580246 |\n",
       "| Longitude_ns_15 | -0.092354416 | 0.03939051 | -2.3445857 | 0.0191340292 |\n",
       "| Longitude_ns_16 | -0.039907634 | 0.03964408 | -1.0066480 | 0.3142112825 |\n",
       "| Longitude_ns_17 | -0.106836434 | 0.03829966 | -2.7894877 | 0.0053232369 |\n",
       "| Longitude_ns_18 | -0.072570656 | 0.04466582 | -1.6247471 | 0.1043553438 |\n",
       "| Longitude_ns_19 | -0.078846699 | 0.06187232 | -1.2743452 | 0.2026715913 |\n",
       "| Longitude_ns_20 | -0.139057403 | 0.07806621 | -1.7812753 | 0.0750012223 |\n",
       "\n"
      ],
      "text/plain": [
       "   term                                                 estimate    \n",
       "1  (Intercept)                                          -0.080200368\n",
       "2  Gr_Liv_Area                                           0.627763872\n",
       "3  Year_Built                                            0.001730214\n",
       "4  Neighborhood_College_Creek                           -0.007893667\n",
       "5  Neighborhood_Old_Town                                -0.058906314\n",
       "6  Neighborhood_Edwards                                 -0.088994814\n",
       "7  Neighborhood_Somerset                                 0.082687855\n",
       "8  Neighborhood_Northridge_Heights                       0.141633002\n",
       "9  Neighborhood_Gilbert                                  0.013521741\n",
       "10 Neighborhood_Sawyer                                  -0.098668641\n",
       "11 Neighborhood_Northwest_Ames                           0.017752788\n",
       "12 Neighborhood_Sawyer_West                             -0.105964636\n",
       "13 Neighborhood_Mitchell                                -0.034351833\n",
       "14 Neighborhood_Brookside                               -0.032585384\n",
       "15 Neighborhood_Crawford                                 0.165628873\n",
       "16 Neighborhood_Iowa_DOT_and_Rail_Road                  -0.046756378\n",
       "17 Neighborhood_Timberland                              -0.001209089\n",
       "18 Neighborhood_Northridge                               0.080473196\n",
       "19 Neighborhood_Stone_Brook                              0.179336033\n",
       "20 Neighborhood_South_and_West_of_Iowa_State_University  0.019170541\n",
       "21 Neighborhood_Clear_Creek                             -0.037543375\n",
       "22 Neighborhood_Meadow_Village                          -0.177445512\n",
       "23 Neighborhood_Briardale                               -0.093355437\n",
       "24 Neighborhood_Bloomington_Heights                      0.045484598\n",
       "25 Neighborhood_other                                    0.077765397\n",
       "26 Bldg_Type_TwoFmCon                                    0.661549069\n",
       "27 Bldg_Type_Duplex                                      0.697756938\n",
       "28 Bldg_Type_Twnhs                                       1.075005433\n",
       "29 Bldg_Type_TwnhsE                                     -0.023720231\n",
       "30 Gr_Liv_Area_x_Bldg_Type_TwoFmCon                     -0.223402086\n",
       "⋮  ⋮                                                    ⋮           \n",
       "44 Latitude_ns_11                                        0.019895149\n",
       "45 Latitude_ns_12                                       -0.006972908\n",
       "46 Latitude_ns_13                                       -0.016392855\n",
       "47 Latitude_ns_14                                       -0.048756031\n",
       "48 Latitude_ns_15                                       -0.013087096\n",
       "49 Latitude_ns_16                                        0.011291345\n",
       "50 Latitude_ns_17                                       -0.076130503\n",
       "51 Latitude_ns_18                                       -0.071066226\n",
       "52 Latitude_ns_19                                        0.087140746\n",
       "53 Latitude_ns_20                                       -0.073248671\n",
       "54 Longitude_ns_01                                       0.033208597\n",
       "55 Longitude_ns_02                                       0.008363722\n",
       "56 Longitude_ns_03                                       0.034142478\n",
       "57 Longitude_ns_04                                      -0.020355225\n",
       "58 Longitude_ns_05                                      -0.030846041\n",
       "59 Longitude_ns_06                                      -0.072590596\n",
       "60 Longitude_ns_07                                      -0.065931357\n",
       "61 Longitude_ns_08                                      -0.130890663\n",
       "62 Longitude_ns_09                                      -0.052196915\n",
       "63 Longitude_ns_10                                      -0.106403756\n",
       "64 Longitude_ns_11                                      -0.091077630\n",
       "65 Longitude_ns_12                                      -0.032650678\n",
       "66 Longitude_ns_13                                      -0.099841930\n",
       "67 Longitude_ns_14                                      -0.086795822\n",
       "68 Longitude_ns_15                                      -0.092354416\n",
       "69 Longitude_ns_16                                      -0.039907634\n",
       "70 Longitude_ns_17                                      -0.106836434\n",
       "71 Longitude_ns_18                                      -0.072570656\n",
       "72 Longitude_ns_19                                      -0.078846699\n",
       "73 Longitude_ns_20                                      -0.139057403\n",
       "   std.error    statistic   p.value      \n",
       "1  0.2884852084 -0.27800513  7.810338e-01\n",
       "2  0.0156228121 40.18251428 4.145926e-267\n",
       "3  0.0001352983 12.78814535  3.291818e-36\n",
       "4  0.0336743019 -0.23441219  8.146861e-01\n",
       "5  0.0124818976 -4.71933967  2.510175e-06\n",
       "6  0.0282016318 -3.15566187  1.622338e-03\n",
       "7  0.0192334481  4.29916959  1.786888e-05\n",
       "8  0.0350141171  4.04502567  5.406598e-05\n",
       "9  0.0318128130  0.42504071  6.708473e-01\n",
       "10 0.0264453237 -3.73104304  1.953701e-04\n",
       "11 0.0166686867  1.06503822  2.869720e-01\n",
       "12 0.0320530181 -3.30591758  9.614075e-04\n",
       "13 0.0508271916 -0.67585543  4.992013e-01\n",
       "14 0.0145599218 -2.23801916  2.531648e-02\n",
       "15 0.0222812529  7.43355294  1.489754e-13\n",
       "16 0.0207180406 -2.25679534  2.411563e-02\n",
       "17 0.0489398397 -0.02470562  9.802919e-01\n",
       "18 0.0240686910  3.34348037  8.407893e-04\n",
       "19 0.0353074835  5.07926410  4.097815e-07\n",
       "20 0.0257255688  0.74519404  4.562316e-01\n",
       "21 0.0283075862 -1.32626550  1.848853e-01\n",
       "22 0.0560126243 -3.16795570  1.555566e-03\n",
       "23 0.0253292163 -3.68568201  2.334370e-04\n",
       "24 0.0397990805  1.14285549  2.532192e-01\n",
       "25 0.0187626495  4.14469168  3.527610e-05\n",
       "26 0.2606576269  2.53800005  1.121517e-02\n",
       "27 0.2098872606  3.32443683  9.000661e-04\n",
       "28 0.2961174857  3.63033419  2.893196e-04\n",
       "29 0.2088718362 -0.11356357  9.095938e-01\n",
       "30 0.0825870496 -2.70504985  6.880465e-03\n",
       "⋮  ⋮            ⋮           ⋮            \n",
       "44 0.05496782    0.3619418  0.7174292452 \n",
       "45 0.05389491   -0.1293797  0.8970686657 \n",
       "46 0.05458300   -0.3003289  0.7639537841 \n",
       "47 0.05344033   -0.9123453  0.3616839053 \n",
       "48 0.05397883   -0.2424487  0.8084544185 \n",
       "49 0.05514628    0.2047526  0.8377837845 \n",
       "50 0.06671727   -1.1410913  0.2539523374 \n",
       "51 0.05894646   -1.2056064  0.2280950167 \n",
       "52 0.06955127    1.2528994  0.2103714239 \n",
       "53 0.06354103   -1.1527776  0.2491231129 \n",
       "54 0.01954197    1.6993475  0.0893907944 \n",
       "55 0.03510499    0.2382488  0.8117096222 \n",
       "56 0.03199955    1.0669674  0.2861000554 \n",
       "57 0.03539978   -0.5750099  0.5653416105 \n",
       "58 0.03516121   -0.8772748  0.3804302638 \n",
       "59 0.03508188   -2.0691761  0.0386425484 \n",
       "60 0.03663254   -1.7998030  0.0720245482 \n",
       "61 0.03589621   -3.6463644  0.0002719628 \n",
       "62 0.03684426   -1.4166906  0.1567106910 \n",
       "63 0.04080625   -2.6075360  0.0091794182 \n",
       "64 0.04395069   -2.0722685  0.0383531148 \n",
       "65 0.03881463   -0.8411952  0.4003272418 \n",
       "66 0.03795206   -2.6307384  0.0085775937 \n",
       "67 0.03978950   -2.1813749  0.0292580246 \n",
       "68 0.03939051   -2.3445857  0.0191340292 \n",
       "69 0.03964408   -1.0066480  0.3142112825 \n",
       "70 0.03829966   -2.7894877  0.0053232369 \n",
       "71 0.04466582   -1.6247471  0.1043553438 \n",
       "72 0.06187232   -1.2743452  0.2026715913 \n",
       "73 0.07806621   -1.7812753  0.0750012223 "
      ]
     },
     "metadata": {},
     "output_type": "display_data"
    }
   ],
   "source": [
    "# To tidy the model fit: \n",
    "lm_fit |> \n",
    "  # This returns the parsnip object:\n",
    "  extract_fit_parsnip() |>\n",
    "  # Now tidy the linear model object:\n",
    "  tidy()"
   ]
  },
  {
   "cell_type": "markdown",
   "id": "6721e9ea-1b91-4262-aad2-8bbdc910afa6",
   "metadata": {},
   "source": [
    "## Model Performance and Inference\n",
    "\n",
    "The effectiveness of any given model depends on how the model will be used. An inferential model is used primarily to understand relationships, and typically emphasizes the choice (and validity) of probabilistic distributions and other generative qualities that define the model. For a model used primarily for prediction, by contrast, predictive strength is of primary importance and other concerns about underlying statistical qualities may be less important. Predictive strength is usually determined by how close our predictions come to the observed data, i.e., fidelity of the model predictions to the actual results. \n",
    "\n"
   ]
  },
  {
   "cell_type": "code",
   "execution_count": 47,
   "id": "8dac3a4e-fedc-4063-bc2c-f65d5800083b",
   "metadata": {},
   "outputs": [],
   "source": [
    "# Instantiating a Regression Model\n",
    "\n",
    "rf_model <- \n",
    "  rand_forest(trees = 1000) |> \n",
    "  set_engine(\"ranger\") |> \n",
    "  set_mode(\"regression\")\n",
    "\n",
    "\n",
    "# Adding th worflow with co recipes\n",
    "rf_wflow <- \n",
    "  workflow() |> \n",
    "  add_formula(\n",
    "    Sale_Price ~ Neighborhood + Gr_Liv_Area + Year_Built + Bldg_Type + \n",
    "      Latitude + Longitude) |> \n",
    "  add_model(rf_model) \n",
    "\n",
    "\n",
    "# Fitting the model\n",
    "rf_fit <- \n",
    "        rf_wflow |> \n",
    "        fit(data = ames_train)"
   ]
  },
  {
   "cell_type": "code",
   "execution_count": 48,
   "id": "7bbd5920-3d59-4a63-9790-274cb0849cb8",
   "metadata": {},
   "outputs": [],
   "source": [
    "estimate_perf <- function(model, dat) {\n",
    "  # Capture the names of the `model` and `dat` objects\n",
    "  cl <- match.call()\n",
    "  obj_name <- as.character(cl$model)\n",
    "  data_name <- as.character(cl$dat)\n",
    "  data_name <- gsub(\"ames_\", \"\", data_name)\n",
    "  \n",
    "  # Estimate these metrics:\n",
    "  reg_metrics <- metric_set(rmse, rsq)\n",
    "  \n",
    "  model %>%\n",
    "    predict(dat) %>%\n",
    "    bind_cols(dat %>% select(Sale_Price)) %>%\n",
    "    reg_metrics(Sale_Price, .pred) %>%\n",
    "    select(-.estimator) %>%\n",
    "    mutate(object = obj_name, data = data_name)\n",
    "}"
   ]
  },
  {
   "cell_type": "code",
   "execution_count": 49,
   "id": "0305eda0-3fbc-4e20-880d-2f9bc328faa1",
   "metadata": {},
   "outputs": [
    {
     "data": {
      "text/html": [
       "<table class=\"dataframe\">\n",
       "<caption>A tibble: 2 × 4</caption>\n",
       "<thead>\n",
       "\t<tr><th scope=col>.metric</th><th scope=col>.estimate</th><th scope=col>object</th><th scope=col>data</th></tr>\n",
       "\t<tr><th scope=col>&lt;chr&gt;</th><th scope=col>&lt;dbl&gt;</th><th scope=col>&lt;chr&gt;</th><th scope=col>&lt;chr&gt;</th></tr>\n",
       "</thead>\n",
       "<tbody>\n",
       "\t<tr><td>rmse</td><td>0.03642541</td><td>rf_fit</td><td>train</td></tr>\n",
       "\t<tr><td>rsq </td><td>0.96017230</td><td>rf_fit</td><td>train</td></tr>\n",
       "</tbody>\n",
       "</table>\n"
      ],
      "text/latex": [
       "A tibble: 2 × 4\n",
       "\\begin{tabular}{llll}\n",
       " .metric & .estimate & object & data\\\\\n",
       " <chr> & <dbl> & <chr> & <chr>\\\\\n",
       "\\hline\n",
       "\t rmse & 0.03642541 & rf\\_fit & train\\\\\n",
       "\t rsq  & 0.96017230 & rf\\_fit & train\\\\\n",
       "\\end{tabular}\n"
      ],
      "text/markdown": [
       "\n",
       "A tibble: 2 × 4\n",
       "\n",
       "| .metric &lt;chr&gt; | .estimate &lt;dbl&gt; | object &lt;chr&gt; | data &lt;chr&gt; |\n",
       "|---|---|---|---|\n",
       "| rmse | 0.03642541 | rf_fit | train |\n",
       "| rsq  | 0.96017230 | rf_fit | train |\n",
       "\n"
      ],
      "text/plain": [
       "  .metric .estimate  object data \n",
       "1 rmse    0.03642541 rf_fit train\n",
       "2 rsq     0.96017230 rf_fit train"
      ]
     },
     "metadata": {},
     "output_type": "display_data"
    }
   ],
   "source": [
    "estimate_perf(rf_fit, ames_train)"
   ]
  },
  {
   "cell_type": "code",
   "execution_count": 50,
   "id": "c3a221d8-ea8e-4b9a-a507-bf76173f38de",
   "metadata": {},
   "outputs": [
    {
     "data": {
      "text/html": [
       "<table class=\"dataframe\">\n",
       "<caption>A tibble: 2 × 4</caption>\n",
       "<thead>\n",
       "\t<tr><th scope=col>.metric</th><th scope=col>.estimate</th><th scope=col>object</th><th scope=col>data</th></tr>\n",
       "\t<tr><th scope=col>&lt;chr&gt;</th><th scope=col>&lt;dbl&gt;</th><th scope=col>&lt;chr&gt;</th><th scope=col>&lt;chr&gt;</th></tr>\n",
       "</thead>\n",
       "<tbody>\n",
       "\t<tr><td>rmse</td><td>0.07544502</td><td>lm_fit</td><td>train</td></tr>\n",
       "\t<tr><td>rsq </td><td>0.81581489</td><td>lm_fit</td><td>train</td></tr>\n",
       "</tbody>\n",
       "</table>\n"
      ],
      "text/latex": [
       "A tibble: 2 × 4\n",
       "\\begin{tabular}{llll}\n",
       " .metric & .estimate & object & data\\\\\n",
       " <chr> & <dbl> & <chr> & <chr>\\\\\n",
       "\\hline\n",
       "\t rmse & 0.07544502 & lm\\_fit & train\\\\\n",
       "\t rsq  & 0.81581489 & lm\\_fit & train\\\\\n",
       "\\end{tabular}\n"
      ],
      "text/markdown": [
       "\n",
       "A tibble: 2 × 4\n",
       "\n",
       "| .metric &lt;chr&gt; | .estimate &lt;dbl&gt; | object &lt;chr&gt; | data &lt;chr&gt; |\n",
       "|---|---|---|---|\n",
       "| rmse | 0.07544502 | lm_fit | train |\n",
       "| rsq  | 0.81581489 | lm_fit | train |\n",
       "\n"
      ],
      "text/plain": [
       "  .metric .estimate  object data \n",
       "1 rmse    0.07544502 lm_fit train\n",
       "2 rsq     0.81581489 lm_fit train"
      ]
     },
     "metadata": {},
     "output_type": "display_data"
    }
   ],
   "source": [
    "estimate_perf(lm_fit, ames_train)"
   ]
  },
  {
   "cell_type": "code",
   "execution_count": 51,
   "id": "75feb23b-7ece-43e0-9fa2-c351f113afe7",
   "metadata": {},
   "outputs": [
    {
     "data": {
      "text/html": [
       "<table class=\"dataframe\">\n",
       "<caption>A tibble: 2 × 4</caption>\n",
       "<thead>\n",
       "\t<tr><th scope=col>.metric</th><th scope=col>.estimate</th><th scope=col>object</th><th scope=col>data</th></tr>\n",
       "\t<tr><th scope=col>&lt;chr&gt;</th><th scope=col>&lt;dbl&gt;</th><th scope=col>&lt;chr&gt;</th><th scope=col>&lt;chr&gt;</th></tr>\n",
       "</thead>\n",
       "<tbody>\n",
       "\t<tr><td>rmse</td><td>0.07362974</td><td>lm_fit</td><td>test</td></tr>\n",
       "\t<tr><td>rsq </td><td>0.83593999</td><td>lm_fit</td><td>test</td></tr>\n",
       "</tbody>\n",
       "</table>\n"
      ],
      "text/latex": [
       "A tibble: 2 × 4\n",
       "\\begin{tabular}{llll}\n",
       " .metric & .estimate & object & data\\\\\n",
       " <chr> & <dbl> & <chr> & <chr>\\\\\n",
       "\\hline\n",
       "\t rmse & 0.07362974 & lm\\_fit & test\\\\\n",
       "\t rsq  & 0.83593999 & lm\\_fit & test\\\\\n",
       "\\end{tabular}\n"
      ],
      "text/markdown": [
       "\n",
       "A tibble: 2 × 4\n",
       "\n",
       "| .metric &lt;chr&gt; | .estimate &lt;dbl&gt; | object &lt;chr&gt; | data &lt;chr&gt; |\n",
       "|---|---|---|---|\n",
       "| rmse | 0.07362974 | lm_fit | test |\n",
       "| rsq  | 0.83593999 | lm_fit | test |\n",
       "\n"
      ],
      "text/plain": [
       "  .metric .estimate  object data\n",
       "1 rmse    0.07362974 lm_fit test\n",
       "2 rsq     0.83593999 lm_fit test"
      ]
     },
     "metadata": {},
     "output_type": "display_data"
    }
   ],
   "source": [
    "# Using the rf_model on the test set\n",
    "estimate_perf(lm_fit, ames_test)"
   ]
  },
  {
   "cell_type": "markdown",
   "id": "6c461b99-a085-4bc5-adfb-c8268ce5f760",
   "metadata": {},
   "source": [
    "> Random Forrest model overfits the data here."
   ]
  },
  {
   "cell_type": "code",
   "execution_count": 53,
   "id": "63111f17-789a-4cb1-a2da-b8563dee0ca2",
   "metadata": {},
   "outputs": [
    {
     "data": {
      "text/html": [
       "<table class=\"dataframe\">\n",
       "<caption>A tibble: 2 × 6</caption>\n",
       "<thead>\n",
       "\t<tr><th scope=col>.metric</th><th scope=col>.estimator</th><th scope=col>mean</th><th scope=col>n</th><th scope=col>std_err</th><th scope=col>.config</th></tr>\n",
       "\t<tr><th scope=col>&lt;chr&gt;</th><th scope=col>&lt;chr&gt;</th><th scope=col>&lt;dbl&gt;</th><th scope=col>&lt;int&gt;</th><th scope=col>&lt;dbl&gt;</th><th scope=col>&lt;chr&gt;</th></tr>\n",
       "</thead>\n",
       "<tbody>\n",
       "\t<tr><td>rmse</td><td>standard</td><td>0.07209269</td><td>10</td><td>0.003054732</td><td>Preprocessor1_Model1</td></tr>\n",
       "\t<tr><td>rsq </td><td>standard</td><td>0.83132795</td><td>10</td><td>0.010800604</td><td>Preprocessor1_Model1</td></tr>\n",
       "</tbody>\n",
       "</table>\n"
      ],
      "text/latex": [
       "A tibble: 2 × 6\n",
       "\\begin{tabular}{llllll}\n",
       " .metric & .estimator & mean & n & std\\_err & .config\\\\\n",
       " <chr> & <chr> & <dbl> & <int> & <dbl> & <chr>\\\\\n",
       "\\hline\n",
       "\t rmse & standard & 0.07209269 & 10 & 0.003054732 & Preprocessor1\\_Model1\\\\\n",
       "\t rsq  & standard & 0.83132795 & 10 & 0.010800604 & Preprocessor1\\_Model1\\\\\n",
       "\\end{tabular}\n"
      ],
      "text/markdown": [
       "\n",
       "A tibble: 2 × 6\n",
       "\n",
       "| .metric &lt;chr&gt; | .estimator &lt;chr&gt; | mean &lt;dbl&gt; | n &lt;int&gt; | std_err &lt;dbl&gt; | .config &lt;chr&gt; |\n",
       "|---|---|---|---|---|---|\n",
       "| rmse | standard | 0.07209269 | 10 | 0.003054732 | Preprocessor1_Model1 |\n",
       "| rsq  | standard | 0.83132795 | 10 | 0.010800604 | Preprocessor1_Model1 |\n",
       "\n"
      ],
      "text/plain": [
       "  .metric .estimator mean       n  std_err     .config             \n",
       "1 rmse    standard   0.07209269 10 0.003054732 Preprocessor1_Model1\n",
       "2 rsq     standard   0.83132795 10 0.010800604 Preprocessor1_Model1"
      ]
     },
     "metadata": {},
     "output_type": "display_data"
    }
   ],
   "source": [
    "# Performing Resampling\n",
    "library(tidymodels)\n",
    "data(ames)\n",
    "ames <- mutate(ames, Sale_Price = log10(Sale_Price))\n",
    "\n",
    "set.seed(502)\n",
    "ames_split <- initial_split(ames, prop = 0.80, strata = Sale_Price)\n",
    "ames_train <- training(ames_split)\n",
    "ames_test  <-  testing(ames_split)\n",
    "\n",
    "ames_rec <- \n",
    "  recipe(Sale_Price ~ Neighborhood + Gr_Liv_Area + Year_Built + Bldg_Type + \n",
    "           Latitude + Longitude, data = ames_train) %>%\n",
    "  step_log(Gr_Liv_Area, base = 10) %>% \n",
    "  step_other(Neighborhood, threshold = 0.01) %>% \n",
    "  step_dummy(all_nominal_predictors()) %>% \n",
    "  step_interact( ~ Gr_Liv_Area:starts_with(\"Bldg_Type_\") ) %>% \n",
    "  step_ns(Latitude, Longitude, deg_free = 20)\n",
    "\n",
    "lm_model <- linear_reg() %>% set_engine(\"lm\")\n",
    "\n",
    "lm_wflow <- \n",
    "  workflow() %>% \n",
    "  add_model(lm_model) %>% \n",
    "  add_recipe(ames_rec)\n",
    "\n",
    "lm_fit <- fit(lm_wflow, ames_train)\n",
    "\n",
    "rf_model <- \n",
    "  rand_forest(trees = 1000) %>% \n",
    "  set_engine(\"ranger\") %>% \n",
    "  set_mode(\"regression\")\n",
    "\n",
    "rf_wflow <- \n",
    "  workflow() %>% \n",
    "  add_formula(\n",
    "    Sale_Price ~ Neighborhood + Gr_Liv_Area + Year_Built + Bldg_Type + \n",
    "      Latitude + Longitude) %>% \n",
    "  add_model(rf_model) \n",
    "\n",
    "\n",
    "# Performing Reampling - Cross validation of the Training Set\n",
    "set.seed(1001)\n",
    "ames_folds <- vfold_cv(ames_train, v = 10)\n",
    "\n",
    "keep_pred <- control_resamples(save_pred = TRUE, save_workflow = TRUE)\n",
    "\n",
    "set.seed(1003)\n",
    "# RF fit for resampled data\n",
    "rf_res <- rf_wflow |>\n",
    "          fit_resamples(\n",
    "              resamples = ames_folds, \n",
    "              control = keep_pred)\n",
    "\n",
    "\n",
    "collect_metrics(rf_res)"
   ]
  },
  {
   "cell_type": "markdown",
   "id": "a577a59d-1798-4823-9225-c8d6a3306e84",
   "metadata": {},
   "source": [
    "## Comparing Models with Resampling"
   ]
  },
  {
   "cell_type": "markdown",
   "id": "c83cd4a1-e12c-4234-8cee-2e7c6561e4a2",
   "metadata": {},
   "source": [
    "### CREATING MULTIPLE MODELS WITH WORKFLOW SETS"
   ]
  },
  {
   "cell_type": "code",
   "execution_count": 56,
   "id": "2f67acd1-decf-4d12-a4b4-5b2d71b01ac2",
   "metadata": {},
   "outputs": [],
   "source": [
    "library(tidymodels)\n",
    "tidymodels_prefer()\n",
    "\n",
    "basic_rec <- \n",
    "  recipe(Sale_Price ~ Neighborhood + Gr_Liv_Area + Year_Built + Bldg_Type + \n",
    "           Latitude + Longitude, data = ames_train) %>%\n",
    "  step_log(Gr_Liv_Area, base = 10) %>% \n",
    "  step_other(Neighborhood, threshold = 0.01) %>% \n",
    "  step_dummy(all_nominal_predictors())\n",
    "\n",
    "interaction_rec <- \n",
    "  basic_rec %>% \n",
    "  step_interact( ~ Gr_Liv_Area:starts_with(\"Bldg_Type_\") ) \n",
    "\n",
    "spline_rec <- \n",
    "  interaction_rec %>% \n",
    "  step_ns(Latitude, Longitude, deg_free = 50)\n",
    "\n",
    "preproc <- \n",
    "  list(basic = basic_rec, \n",
    "       interact = interaction_rec, \n",
    "       splines = spline_rec\n",
    "  )\n",
    "\n",
    "lm_models <- workflow_set(preproc, list(lm = linear_reg()), cross = FALSE)\n",
    "\n"
   ]
  },
  {
   "cell_type": "markdown",
   "id": "a32e656d-70a4-4bf7-b8f9-fc6ab8897729",
   "metadata": {},
   "source": [
    "We’d like to resample each of these models in turn. To do so, we will use a purrr-like function called workflow_map(). This function takes an initial argument of the function to apply to the workflows, followed by options to that function. We also set a verbose argument that will print the progress as well as a seed argument that makes sure that each model uses the same random number stream as the others."
   ]
  },
  {
   "cell_type": "code",
   "execution_count": 57,
   "id": "201a1cae-af9c-4de7-9399-3295d86f2842",
   "metadata": {},
   "outputs": [
    {
     "name": "stderr",
     "output_type": "stream",
     "text": [
      "\u001b[34mi\u001b[39m \u001b[30m1 of 3 resampling: basic_lm\u001b[39m\n",
      "\n",
      "\u001b[32m✔\u001b[39m \u001b[30m1 of 3 resampling: basic_lm\u001b[39m\u001b[30m (891ms)\u001b[39m\n",
      "\n",
      "\u001b[34mi\u001b[39m \u001b[30m2 of 3 resampling: interact_lm\u001b[39m\n",
      "\n",
      "\u001b[32m✔\u001b[39m \u001b[30m2 of 3 resampling: interact_lm\u001b[39m\u001b[30m (1.1s)\u001b[39m\n",
      "\n",
      "\u001b[34mi\u001b[39m \u001b[30m3 of 3 resampling: splines_lm\u001b[39m\n",
      "\n",
      "\u001b[32m✔\u001b[39m \u001b[30m3 of 3 resampling: splines_lm\u001b[39m\u001b[30m (1.6s)\u001b[39m\n",
      "\n"
     ]
    }
   ],
   "source": [
    "lm_models <- \n",
    "  lm_models %>% \n",
    "  workflow_map(\"fit_resamples\", \n",
    "               # Options to `workflow_map()`: \n",
    "               seed = 1101, verbose = TRUE,\n",
    "               # Options to `fit_resamples()`: \n",
    "               resamples = ames_folds, control = keep_pred)\n",
    "\n",
    "lm_models"
   ]
  },
  {
   "cell_type": "code",
   "execution_count": 58,
   "id": "5faca6ab-3ce8-48e5-8f7a-1d064497b954",
   "metadata": {},
   "outputs": [
    {
     "data": {
      "text/html": [
       "<table class=\"dataframe\">\n",
       "<caption>A tibble: 6 × 9</caption>\n",
       "<thead>\n",
       "\t<tr><th scope=col>wflow_id</th><th scope=col>.config</th><th scope=col>preproc</th><th scope=col>model</th><th scope=col>.metric</th><th scope=col>.estimator</th><th scope=col>mean</th><th scope=col>n</th><th scope=col>std_err</th></tr>\n",
       "\t<tr><th scope=col>&lt;chr&gt;</th><th scope=col>&lt;chr&gt;</th><th scope=col>&lt;chr&gt;</th><th scope=col>&lt;chr&gt;</th><th scope=col>&lt;chr&gt;</th><th scope=col>&lt;chr&gt;</th><th scope=col>&lt;dbl&gt;</th><th scope=col>&lt;int&gt;</th><th scope=col>&lt;dbl&gt;</th></tr>\n",
       "</thead>\n",
       "<tbody>\n",
       "\t<tr><td>basic_lm   </td><td>Preprocessor1_Model1</td><td>recipe</td><td>linear_reg</td><td>rmse</td><td>standard</td><td>0.08032984</td><td>10</td><td>0.002641246</td></tr>\n",
       "\t<tr><td>basic_lm   </td><td>Preprocessor1_Model1</td><td>recipe</td><td>linear_reg</td><td>rsq </td><td>standard</td><td>0.79055454</td><td>10</td><td>0.010302555</td></tr>\n",
       "\t<tr><td>interact_lm</td><td>Preprocessor1_Model1</td><td>recipe</td><td>linear_reg</td><td>rmse</td><td>standard</td><td>0.07990482</td><td>10</td><td>0.002724045</td></tr>\n",
       "\t<tr><td>interact_lm</td><td>Preprocessor1_Model1</td><td>recipe</td><td>linear_reg</td><td>rsq </td><td>standard</td><td>0.79305941</td><td>10</td><td>0.010648154</td></tr>\n",
       "\t<tr><td>splines_lm </td><td>Preprocessor1_Model1</td><td>recipe</td><td>linear_reg</td><td>rmse</td><td>standard</td><td>0.07848118</td><td>10</td><td>0.002824448</td></tr>\n",
       "\t<tr><td>splines_lm </td><td>Preprocessor1_Model1</td><td>recipe</td><td>linear_reg</td><td>rsq </td><td>standard</td><td>0.79968589</td><td>10</td><td>0.011135779</td></tr>\n",
       "</tbody>\n",
       "</table>\n"
      ],
      "text/latex": [
       "A tibble: 6 × 9\n",
       "\\begin{tabular}{lllllllll}\n",
       " wflow\\_id & .config & preproc & model & .metric & .estimator & mean & n & std\\_err\\\\\n",
       " <chr> & <chr> & <chr> & <chr> & <chr> & <chr> & <dbl> & <int> & <dbl>\\\\\n",
       "\\hline\n",
       "\t basic\\_lm    & Preprocessor1\\_Model1 & recipe & linear\\_reg & rmse & standard & 0.08032984 & 10 & 0.002641246\\\\\n",
       "\t basic\\_lm    & Preprocessor1\\_Model1 & recipe & linear\\_reg & rsq  & standard & 0.79055454 & 10 & 0.010302555\\\\\n",
       "\t interact\\_lm & Preprocessor1\\_Model1 & recipe & linear\\_reg & rmse & standard & 0.07990482 & 10 & 0.002724045\\\\\n",
       "\t interact\\_lm & Preprocessor1\\_Model1 & recipe & linear\\_reg & rsq  & standard & 0.79305941 & 10 & 0.010648154\\\\\n",
       "\t splines\\_lm  & Preprocessor1\\_Model1 & recipe & linear\\_reg & rmse & standard & 0.07848118 & 10 & 0.002824448\\\\\n",
       "\t splines\\_lm  & Preprocessor1\\_Model1 & recipe & linear\\_reg & rsq  & standard & 0.79968589 & 10 & 0.011135779\\\\\n",
       "\\end{tabular}\n"
      ],
      "text/markdown": [
       "\n",
       "A tibble: 6 × 9\n",
       "\n",
       "| wflow_id &lt;chr&gt; | .config &lt;chr&gt; | preproc &lt;chr&gt; | model &lt;chr&gt; | .metric &lt;chr&gt; | .estimator &lt;chr&gt; | mean &lt;dbl&gt; | n &lt;int&gt; | std_err &lt;dbl&gt; |\n",
       "|---|---|---|---|---|---|---|---|---|\n",
       "| basic_lm    | Preprocessor1_Model1 | recipe | linear_reg | rmse | standard | 0.08032984 | 10 | 0.002641246 |\n",
       "| basic_lm    | Preprocessor1_Model1 | recipe | linear_reg | rsq  | standard | 0.79055454 | 10 | 0.010302555 |\n",
       "| interact_lm | Preprocessor1_Model1 | recipe | linear_reg | rmse | standard | 0.07990482 | 10 | 0.002724045 |\n",
       "| interact_lm | Preprocessor1_Model1 | recipe | linear_reg | rsq  | standard | 0.79305941 | 10 | 0.010648154 |\n",
       "| splines_lm  | Preprocessor1_Model1 | recipe | linear_reg | rmse | standard | 0.07848118 | 10 | 0.002824448 |\n",
       "| splines_lm  | Preprocessor1_Model1 | recipe | linear_reg | rsq  | standard | 0.79968589 | 10 | 0.011135779 |\n",
       "\n"
      ],
      "text/plain": [
       "  wflow_id    .config              preproc model      .metric .estimator\n",
       "1 basic_lm    Preprocessor1_Model1 recipe  linear_reg rmse    standard  \n",
       "2 basic_lm    Preprocessor1_Model1 recipe  linear_reg rsq     standard  \n",
       "3 interact_lm Preprocessor1_Model1 recipe  linear_reg rmse    standard  \n",
       "4 interact_lm Preprocessor1_Model1 recipe  linear_reg rsq     standard  \n",
       "5 splines_lm  Preprocessor1_Model1 recipe  linear_reg rmse    standard  \n",
       "6 splines_lm  Preprocessor1_Model1 recipe  linear_reg rsq     standard  \n",
       "  mean       n  std_err    \n",
       "1 0.08032984 10 0.002641246\n",
       "2 0.79055454 10 0.010302555\n",
       "3 0.07990482 10 0.002724045\n",
       "4 0.79305941 10 0.010648154\n",
       "5 0.07848118 10 0.002824448\n",
       "6 0.79968589 10 0.011135779"
      ]
     },
     "metadata": {},
     "output_type": "display_data"
    }
   ],
   "source": [
    "collect_metrics(lm_models)"
   ]
  },
  {
   "cell_type": "code",
   "execution_count": 59,
   "id": "20edc38f-7aa7-48f8-a982-0974e641da95",
   "metadata": {},
   "outputs": [
    {
     "data": {
      "text/html": [
       "<table class=\"dataframe\">\n",
       "<caption>A tibble: 3 × 9</caption>\n",
       "<thead>\n",
       "\t<tr><th scope=col>wflow_id</th><th scope=col>.config</th><th scope=col>preproc</th><th scope=col>model</th><th scope=col>.metric</th><th scope=col>.estimator</th><th scope=col>mean</th><th scope=col>n</th><th scope=col>std_err</th></tr>\n",
       "\t<tr><th scope=col>&lt;chr&gt;</th><th scope=col>&lt;chr&gt;</th><th scope=col>&lt;chr&gt;</th><th scope=col>&lt;chr&gt;</th><th scope=col>&lt;chr&gt;</th><th scope=col>&lt;chr&gt;</th><th scope=col>&lt;dbl&gt;</th><th scope=col>&lt;int&gt;</th><th scope=col>&lt;dbl&gt;</th></tr>\n",
       "</thead>\n",
       "<tbody>\n",
       "\t<tr><td>basic_lm   </td><td>Preprocessor1_Model1</td><td>recipe</td><td>linear_reg</td><td>rmse</td><td>standard</td><td>0.08032984</td><td>10</td><td>0.002641246</td></tr>\n",
       "\t<tr><td>interact_lm</td><td>Preprocessor1_Model1</td><td>recipe</td><td>linear_reg</td><td>rmse</td><td>standard</td><td>0.07990482</td><td>10</td><td>0.002724045</td></tr>\n",
       "\t<tr><td>splines_lm </td><td>Preprocessor1_Model1</td><td>recipe</td><td>linear_reg</td><td>rmse</td><td>standard</td><td>0.07848118</td><td>10</td><td>0.002824448</td></tr>\n",
       "</tbody>\n",
       "</table>\n"
      ],
      "text/latex": [
       "A tibble: 3 × 9\n",
       "\\begin{tabular}{lllllllll}\n",
       " wflow\\_id & .config & preproc & model & .metric & .estimator & mean & n & std\\_err\\\\\n",
       " <chr> & <chr> & <chr> & <chr> & <chr> & <chr> & <dbl> & <int> & <dbl>\\\\\n",
       "\\hline\n",
       "\t basic\\_lm    & Preprocessor1\\_Model1 & recipe & linear\\_reg & rmse & standard & 0.08032984 & 10 & 0.002641246\\\\\n",
       "\t interact\\_lm & Preprocessor1\\_Model1 & recipe & linear\\_reg & rmse & standard & 0.07990482 & 10 & 0.002724045\\\\\n",
       "\t splines\\_lm  & Preprocessor1\\_Model1 & recipe & linear\\_reg & rmse & standard & 0.07848118 & 10 & 0.002824448\\\\\n",
       "\\end{tabular}\n"
      ],
      "text/markdown": [
       "\n",
       "A tibble: 3 × 9\n",
       "\n",
       "| wflow_id &lt;chr&gt; | .config &lt;chr&gt; | preproc &lt;chr&gt; | model &lt;chr&gt; | .metric &lt;chr&gt; | .estimator &lt;chr&gt; | mean &lt;dbl&gt; | n &lt;int&gt; | std_err &lt;dbl&gt; |\n",
       "|---|---|---|---|---|---|---|---|---|\n",
       "| basic_lm    | Preprocessor1_Model1 | recipe | linear_reg | rmse | standard | 0.08032984 | 10 | 0.002641246 |\n",
       "| interact_lm | Preprocessor1_Model1 | recipe | linear_reg | rmse | standard | 0.07990482 | 10 | 0.002724045 |\n",
       "| splines_lm  | Preprocessor1_Model1 | recipe | linear_reg | rmse | standard | 0.07848118 | 10 | 0.002824448 |\n",
       "\n"
      ],
      "text/plain": [
       "  wflow_id    .config              preproc model      .metric .estimator\n",
       "1 basic_lm    Preprocessor1_Model1 recipe  linear_reg rmse    standard  \n",
       "2 interact_lm Preprocessor1_Model1 recipe  linear_reg rmse    standard  \n",
       "3 splines_lm  Preprocessor1_Model1 recipe  linear_reg rmse    standard  \n",
       "  mean       n  std_err    \n",
       "1 0.08032984 10 0.002641246\n",
       "2 0.07990482 10 0.002724045\n",
       "3 0.07848118 10 0.002824448"
      ]
     },
     "metadata": {},
     "output_type": "display_data"
    }
   ],
   "source": [
    "collect_metrics(lm_models) %>% \n",
    "  filter(.metric == \"rmse\")"
   ]
  },
  {
   "cell_type": "code",
   "execution_count": 60,
   "id": "1fcc6194-acb2-422b-a9a5-ab04df149f68",
   "metadata": {},
   "outputs": [
    {
     "data": {
      "text/html": [
       "<table class=\"dataframe\">\n",
       "<caption>A tibble: 3 × 9</caption>\n",
       "<thead>\n",
       "\t<tr><th scope=col>wflow_id</th><th scope=col>.config</th><th scope=col>preproc</th><th scope=col>model</th><th scope=col>.metric</th><th scope=col>.estimator</th><th scope=col>mean</th><th scope=col>n</th><th scope=col>std_err</th></tr>\n",
       "\t<tr><th scope=col>&lt;chr&gt;</th><th scope=col>&lt;chr&gt;</th><th scope=col>&lt;chr&gt;</th><th scope=col>&lt;chr&gt;</th><th scope=col>&lt;chr&gt;</th><th scope=col>&lt;chr&gt;</th><th scope=col>&lt;dbl&gt;</th><th scope=col>&lt;int&gt;</th><th scope=col>&lt;dbl&gt;</th></tr>\n",
       "</thead>\n",
       "<tbody>\n",
       "\t<tr><td>basic_lm   </td><td>Preprocessor1_Model1</td><td>recipe</td><td>linear_reg</td><td>rsq</td><td>standard</td><td>0.7905545</td><td>10</td><td>0.01030256</td></tr>\n",
       "\t<tr><td>interact_lm</td><td>Preprocessor1_Model1</td><td>recipe</td><td>linear_reg</td><td>rsq</td><td>standard</td><td>0.7930594</td><td>10</td><td>0.01064815</td></tr>\n",
       "\t<tr><td>splines_lm </td><td>Preprocessor1_Model1</td><td>recipe</td><td>linear_reg</td><td>rsq</td><td>standard</td><td>0.7996859</td><td>10</td><td>0.01113578</td></tr>\n",
       "</tbody>\n",
       "</table>\n"
      ],
      "text/latex": [
       "A tibble: 3 × 9\n",
       "\\begin{tabular}{lllllllll}\n",
       " wflow\\_id & .config & preproc & model & .metric & .estimator & mean & n & std\\_err\\\\\n",
       " <chr> & <chr> & <chr> & <chr> & <chr> & <chr> & <dbl> & <int> & <dbl>\\\\\n",
       "\\hline\n",
       "\t basic\\_lm    & Preprocessor1\\_Model1 & recipe & linear\\_reg & rsq & standard & 0.7905545 & 10 & 0.01030256\\\\\n",
       "\t interact\\_lm & Preprocessor1\\_Model1 & recipe & linear\\_reg & rsq & standard & 0.7930594 & 10 & 0.01064815\\\\\n",
       "\t splines\\_lm  & Preprocessor1\\_Model1 & recipe & linear\\_reg & rsq & standard & 0.7996859 & 10 & 0.01113578\\\\\n",
       "\\end{tabular}\n"
      ],
      "text/markdown": [
       "\n",
       "A tibble: 3 × 9\n",
       "\n",
       "| wflow_id &lt;chr&gt; | .config &lt;chr&gt; | preproc &lt;chr&gt; | model &lt;chr&gt; | .metric &lt;chr&gt; | .estimator &lt;chr&gt; | mean &lt;dbl&gt; | n &lt;int&gt; | std_err &lt;dbl&gt; |\n",
       "|---|---|---|---|---|---|---|---|---|\n",
       "| basic_lm    | Preprocessor1_Model1 | recipe | linear_reg | rsq | standard | 0.7905545 | 10 | 0.01030256 |\n",
       "| interact_lm | Preprocessor1_Model1 | recipe | linear_reg | rsq | standard | 0.7930594 | 10 | 0.01064815 |\n",
       "| splines_lm  | Preprocessor1_Model1 | recipe | linear_reg | rsq | standard | 0.7996859 | 10 | 0.01113578 |\n",
       "\n"
      ],
      "text/plain": [
       "  wflow_id    .config              preproc model      .metric .estimator\n",
       "1 basic_lm    Preprocessor1_Model1 recipe  linear_reg rsq     standard  \n",
       "2 interact_lm Preprocessor1_Model1 recipe  linear_reg rsq     standard  \n",
       "3 splines_lm  Preprocessor1_Model1 recipe  linear_reg rsq     standard  \n",
       "  mean      n  std_err   \n",
       "1 0.7905545 10 0.01030256\n",
       "2 0.7930594 10 0.01064815\n",
       "3 0.7996859 10 0.01113578"
      ]
     },
     "metadata": {},
     "output_type": "display_data"
    }
   ],
   "source": [
    "collect_metrics(lm_models) %>% \n",
    "  filter(.metric == \"rsq\")"
   ]
  },
  {
   "cell_type": "code",
   "execution_count": 84,
   "id": "71adf739-6039-42fc-bd1b-1cbc563be52e",
   "metadata": {},
   "outputs": [],
   "source": [
    "four_models <- \n",
    "                as_workflow_set(random_forest=rf_res) |>\n",
    "                bind_rows(lm_models)\n",
    "\n",
    "\n",
    "four_models"
   ]
  },
  {
   "cell_type": "code",
   "execution_count": 62,
   "id": "8436a5e9-24cd-4fc3-8c4c-3e78383ab09b",
   "metadata": {},
   "outputs": [
    {
     "data": {
      "image/png": "[encoded data removed]",
      "text/plain": [
       "plot without title"
      ]
     },
     "metadata": {
      "image/png": {
       "height": 420,
       "width": 420
      }
     },
     "output_type": "display_data"
    }
   ],
   "source": [
    "library(ggrepel)\n",
    "autoplot(four_models, metric = \"rsq\") +\n",
    "  geom_text_repel(aes(label = wflow_id), nudge_x = 1/8, nudge_y = 1/100) +\n",
    "  theme(legend.position = \"none\")"
   ]
  },
  {
   "cell_type": "code",
   "execution_count": 64,
   "id": "771cafc6-8bf2-46fb-95b0-33673c9e4eb9",
   "metadata": {},
   "outputs": [
    {
     "data": {
      "text/html": [
       "<table class=\"dataframe\">\n",
       "<caption>A tibble: 4 × 9</caption>\n",
       "<thead>\n",
       "\t<tr><th scope=col>wflow_id</th><th scope=col>.config</th><th scope=col>preproc</th><th scope=col>model</th><th scope=col>.metric</th><th scope=col>.estimator</th><th scope=col>mean</th><th scope=col>n</th><th scope=col>std_err</th></tr>\n",
       "\t<tr><th scope=col>&lt;chr&gt;</th><th scope=col>&lt;chr&gt;</th><th scope=col>&lt;chr&gt;</th><th scope=col>&lt;chr&gt;</th><th scope=col>&lt;chr&gt;</th><th scope=col>&lt;chr&gt;</th><th scope=col>&lt;dbl&gt;</th><th scope=col>&lt;int&gt;</th><th scope=col>&lt;dbl&gt;</th></tr>\n",
       "</thead>\n",
       "<tbody>\n",
       "\t<tr><td>random_forest</td><td>Preprocessor1_Model1</td><td>formula</td><td>rand_forest</td><td>rsq</td><td>standard</td><td>0.8313279</td><td>10</td><td>0.01080060</td></tr>\n",
       "\t<tr><td>basic_lm     </td><td>Preprocessor1_Model1</td><td>recipe </td><td>linear_reg </td><td>rsq</td><td>standard</td><td>0.7905545</td><td>10</td><td>0.01030256</td></tr>\n",
       "\t<tr><td>interact_lm  </td><td>Preprocessor1_Model1</td><td>recipe </td><td>linear_reg </td><td>rsq</td><td>standard</td><td>0.7930594</td><td>10</td><td>0.01064815</td></tr>\n",
       "\t<tr><td>splines_lm   </td><td>Preprocessor1_Model1</td><td>recipe </td><td>linear_reg </td><td>rsq</td><td>standard</td><td>0.7996859</td><td>10</td><td>0.01113578</td></tr>\n",
       "</tbody>\n",
       "</table>\n"
      ],
      "text/latex": [
       "A tibble: 4 × 9\n",
       "\\begin{tabular}{lllllllll}\n",
       " wflow\\_id & .config & preproc & model & .metric & .estimator & mean & n & std\\_err\\\\\n",
       " <chr> & <chr> & <chr> & <chr> & <chr> & <chr> & <dbl> & <int> & <dbl>\\\\\n",
       "\\hline\n",
       "\t random\\_forest & Preprocessor1\\_Model1 & formula & rand\\_forest & rsq & standard & 0.8313279 & 10 & 0.01080060\\\\\n",
       "\t basic\\_lm      & Preprocessor1\\_Model1 & recipe  & linear\\_reg  & rsq & standard & 0.7905545 & 10 & 0.01030256\\\\\n",
       "\t interact\\_lm   & Preprocessor1\\_Model1 & recipe  & linear\\_reg  & rsq & standard & 0.7930594 & 10 & 0.01064815\\\\\n",
       "\t splines\\_lm    & Preprocessor1\\_Model1 & recipe  & linear\\_reg  & rsq & standard & 0.7996859 & 10 & 0.01113578\\\\\n",
       "\\end{tabular}\n"
      ],
      "text/markdown": [
       "\n",
       "A tibble: 4 × 9\n",
       "\n",
       "| wflow_id &lt;chr&gt; | .config &lt;chr&gt; | preproc &lt;chr&gt; | model &lt;chr&gt; | .metric &lt;chr&gt; | .estimator &lt;chr&gt; | mean &lt;dbl&gt; | n &lt;int&gt; | std_err &lt;dbl&gt; |\n",
       "|---|---|---|---|---|---|---|---|---|\n",
       "| random_forest | Preprocessor1_Model1 | formula | rand_forest | rsq | standard | 0.8313279 | 10 | 0.01080060 |\n",
       "| basic_lm      | Preprocessor1_Model1 | recipe  | linear_reg  | rsq | standard | 0.7905545 | 10 | 0.01030256 |\n",
       "| interact_lm   | Preprocessor1_Model1 | recipe  | linear_reg  | rsq | standard | 0.7930594 | 10 | 0.01064815 |\n",
       "| splines_lm    | Preprocessor1_Model1 | recipe  | linear_reg  | rsq | standard | 0.7996859 | 10 | 0.01113578 |\n",
       "\n"
      ],
      "text/plain": [
       "  wflow_id      .config              preproc model       .metric .estimator\n",
       "1 random_forest Preprocessor1_Model1 formula rand_forest rsq     standard  \n",
       "2 basic_lm      Preprocessor1_Model1 recipe  linear_reg  rsq     standard  \n",
       "3 interact_lm   Preprocessor1_Model1 recipe  linear_reg  rsq     standard  \n",
       "4 splines_lm    Preprocessor1_Model1 recipe  linear_reg  rsq     standard  \n",
       "  mean      n  std_err   \n",
       "1 0.8313279 10 0.01080060\n",
       "2 0.7905545 10 0.01030256\n",
       "3 0.7930594 10 0.01064815\n",
       "4 0.7996859 10 0.01113578"
      ]
     },
     "metadata": {},
     "output_type": "display_data"
    }
   ],
   "source": [
    "collect_metrics(four_models) %>% \n",
    "  filter(.metric == \"rsq\")"
   ]
  },
  {
   "cell_type": "markdown",
   "id": "62ebf66a-d0da-481b-bad4-d3ca5fa2eba5",
   "metadata": {},
   "source": [
    "# Screening Many Models"
   ]
  },
  {
   "cell_type": "markdown",
   "id": "54ea9dda-a6ec-4188-b74e-61899c9cdb12",
   "metadata": {},
   "source": [
    "For projects with new data sets that have not yet been well understood, a data practitioner may need to screen many combinations of models and preprocessors. It is common to have little or no a priori knowledge about which method will work best with a novel data set.\n",
    "\n",
    "> A good strategy is to spend some initial effort trying a variety of modeling approaches, determine what works best, then invest additional time tweaking/optimizing a small set of models.\n",
    "\n",
    "A wide variety of models were evaluated with different predictor sets and preprocessing needs. How can workflow sets make such a process of large scale testing for models easier?\r\n",
    "\r\n",
    "First, let’s define the data splitting and resampling schemes.els)"
   ]
  },
  {
   "cell_type": "code",
   "execution_count": 65,
   "id": "5af8f43b-44e7-43e9-b652-07a96a990a18",
   "metadata": {},
   "outputs": [
    {
     "name": "stdout",
     "output_type": "stream",
     "text": [
      "Rows: 1,030\n",
      "Columns: 9\n",
      "$ cement               \u001b[3m\u001b[90m<dbl>\u001b[39m\u001b[23m 540.0, 540.0, 332.5, 332.5, 198.6, 266.0, 380.0, …\n",
      "$ blast_furnace_slag   \u001b[3m\u001b[90m<dbl>\u001b[39m\u001b[23m 0.0, 0.0, 142.5, 142.5, 132.4, 114.0, 95.0, 95.0,…\n",
      "$ fly_ash              \u001b[3m\u001b[90m<dbl>\u001b[39m\u001b[23m 0, 0, 0, 0, 0, 0, 0, 0, 0, 0, 0, 0, 0, 0, 0, 0, 0…\n",
      "$ water                \u001b[3m\u001b[90m<dbl>\u001b[39m\u001b[23m 162, 162, 228, 228, 192, 228, 228, 228, 228, 228,…\n",
      "$ superplasticizer     \u001b[3m\u001b[90m<dbl>\u001b[39m\u001b[23m 2.5, 2.5, 0.0, 0.0, 0.0, 0.0, 0.0, 0.0, 0.0, 0.0,…\n",
      "$ coarse_aggregate     \u001b[3m\u001b[90m<dbl>\u001b[39m\u001b[23m 1040.0, 1055.0, 932.0, 932.0, 978.4, 932.0, 932.0…\n",
      "$ fine_aggregate       \u001b[3m\u001b[90m<dbl>\u001b[39m\u001b[23m 676.0, 676.0, 594.0, 594.0, 825.5, 670.0, 594.0, …\n",
      "$ age                  \u001b[3m\u001b[90m<int>\u001b[39m\u001b[23m 28, 28, 270, 365, 360, 90, 365, 28, 28, 28, 90, 2…\n",
      "$ compressive_strength \u001b[3m\u001b[90m<dbl>\u001b[39m\u001b[23m 79.99, 61.89, 40.27, 41.05, 44.30, 47.03, 43.70, …\n"
     ]
    }
   ],
   "source": [
    "library(tidymodels)\n",
    "tidymodels_prefer()\n",
    "\n",
    "data(concrete, package = \"modeldata\")\n",
    "glimpse(concrete)"
   ]
  },
  {
   "cell_type": "markdown",
   "id": "e394740a-3105-4a68-beef-e45839f4d5b8",
   "metadata": {},
   "source": [
    "The compressive_strength column is the outcome. The age predictor tells us the age of the concrete sample at testing in days (concrete strengthens over time) and the rest of the predictors like cement and water are concrete components in units of kilograms per cubic meter.\r\n",
    "> \r\n",
    "For some cases in this data set, the same concrete formula was tested multiple times. We’d rather not include these replicate mixtures as individual data points since they might be distributed across both the training and test set. Doing so might artificially inflate our performance estimates."
   ]
  },
  {
   "cell_type": "code",
   "execution_count": 73,
   "id": "4b04435e-5c3f-4411-89c5-d15497f42b15",
   "metadata": {},
   "outputs": [
    {
     "data": {
      "text/html": [
       "<table class=\"dataframe\">\n",
       "<caption>A tibble: 6 × 9</caption>\n",
       "<thead>\n",
       "\t<tr><th scope=col>cement</th><th scope=col>blast_furnace_slag</th><th scope=col>fly_ash</th><th scope=col>water</th><th scope=col>superplasticizer</th><th scope=col>coarse_aggregate</th><th scope=col>fine_aggregate</th><th scope=col>age</th><th scope=col>compressive_strength</th></tr>\n",
       "\t<tr><th scope=col>&lt;dbl&gt;</th><th scope=col>&lt;dbl&gt;</th><th scope=col>&lt;dbl&gt;</th><th scope=col>&lt;dbl&gt;</th><th scope=col>&lt;dbl&gt;</th><th scope=col>&lt;dbl&gt;</th><th scope=col>&lt;dbl&gt;</th><th scope=col>&lt;int&gt;</th><th scope=col>&lt;dbl&gt;</th></tr>\n",
       "</thead>\n",
       "<tbody>\n",
       "\t<tr><td>102.0</td><td>153.0</td><td>0</td><td>192.0</td><td>0</td><td>887.0</td><td>942</td><td> 3</td><td> 4.57</td></tr>\n",
       "\t<tr><td>102.0</td><td>153.0</td><td>0</td><td>192.0</td><td>0</td><td>887.0</td><td>942</td><td> 7</td><td> 7.68</td></tr>\n",
       "\t<tr><td>102.0</td><td>153.0</td><td>0</td><td>192.0</td><td>0</td><td>887.0</td><td>942</td><td>28</td><td>17.28</td></tr>\n",
       "\t<tr><td>102.0</td><td>153.0</td><td>0</td><td>192.0</td><td>0</td><td>887.0</td><td>942</td><td>90</td><td>25.46</td></tr>\n",
       "\t<tr><td>108.3</td><td>162.4</td><td>0</td><td>203.5</td><td>0</td><td>938.2</td><td>849</td><td> 3</td><td> 2.33</td></tr>\n",
       "\t<tr><td>108.3</td><td>162.4</td><td>0</td><td>203.5</td><td>0</td><td>938.2</td><td>849</td><td> 7</td><td> 7.72</td></tr>\n",
       "</tbody>\n",
       "</table>\n"
      ],
      "text/latex": [
       "A tibble: 6 × 9\n",
       "\\begin{tabular}{lllllllll}\n",
       " cement & blast\\_furnace\\_slag & fly\\_ash & water & superplasticizer & coarse\\_aggregate & fine\\_aggregate & age & compressive\\_strength\\\\\n",
       " <dbl> & <dbl> & <dbl> & <dbl> & <dbl> & <dbl> & <dbl> & <int> & <dbl>\\\\\n",
       "\\hline\n",
       "\t 102.0 & 153.0 & 0 & 192.0 & 0 & 887.0 & 942 &  3 &  4.57\\\\\n",
       "\t 102.0 & 153.0 & 0 & 192.0 & 0 & 887.0 & 942 &  7 &  7.68\\\\\n",
       "\t 102.0 & 153.0 & 0 & 192.0 & 0 & 887.0 & 942 & 28 & 17.28\\\\\n",
       "\t 102.0 & 153.0 & 0 & 192.0 & 0 & 887.0 & 942 & 90 & 25.46\\\\\n",
       "\t 108.3 & 162.4 & 0 & 203.5 & 0 & 938.2 & 849 &  3 &  2.33\\\\\n",
       "\t 108.3 & 162.4 & 0 & 203.5 & 0 & 938.2 & 849 &  7 &  7.72\\\\\n",
       "\\end{tabular}\n"
      ],
      "text/markdown": [
       "\n",
       "A tibble: 6 × 9\n",
       "\n",
       "| cement &lt;dbl&gt; | blast_furnace_slag &lt;dbl&gt; | fly_ash &lt;dbl&gt; | water &lt;dbl&gt; | superplasticizer &lt;dbl&gt; | coarse_aggregate &lt;dbl&gt; | fine_aggregate &lt;dbl&gt; | age &lt;int&gt; | compressive_strength &lt;dbl&gt; |\n",
       "|---|---|---|---|---|---|---|---|---|\n",
       "| 102.0 | 153.0 | 0 | 192.0 | 0 | 887.0 | 942 |  3 |  4.57 |\n",
       "| 102.0 | 153.0 | 0 | 192.0 | 0 | 887.0 | 942 |  7 |  7.68 |\n",
       "| 102.0 | 153.0 | 0 | 192.0 | 0 | 887.0 | 942 | 28 | 17.28 |\n",
       "| 102.0 | 153.0 | 0 | 192.0 | 0 | 887.0 | 942 | 90 | 25.46 |\n",
       "| 108.3 | 162.4 | 0 | 203.5 | 0 | 938.2 | 849 |  3 |  2.33 |\n",
       "| 108.3 | 162.4 | 0 | 203.5 | 0 | 938.2 | 849 |  7 |  7.72 |\n",
       "\n"
      ],
      "text/plain": [
       "  cement blast_furnace_slag fly_ash water superplasticizer coarse_aggregate\n",
       "1 102.0  153.0              0       192.0 0                887.0           \n",
       "2 102.0  153.0              0       192.0 0                887.0           \n",
       "3 102.0  153.0              0       192.0 0                887.0           \n",
       "4 102.0  153.0              0       192.0 0                887.0           \n",
       "5 108.3  162.4              0       203.5 0                938.2           \n",
       "6 108.3  162.4              0       203.5 0                938.2           \n",
       "  fine_aggregate age compressive_strength\n",
       "1 942             3   4.57               \n",
       "2 942             7   7.68               \n",
       "3 942            28  17.28               \n",
       "4 942            90  25.46               \n",
       "5 849             3   2.33               \n",
       "6 849             7   7.72               "
      ]
     },
     "metadata": {},
     "output_type": "display_data"
    }
   ],
   "source": [
    "concrete <- concrete |>\n",
    "    group_by(across(-compressive_strength)) |>\n",
    "    summarize(compressive_strength = mean(compressive_strength),\n",
    "             .groups = \"drop\")\n",
    "\n",
    "head(concrete)"
   ]
  },
  {
   "cell_type": "code",
   "execution_count": 74,
   "id": "ca6eaa33-4294-480c-ba6f-4d294d936340",
   "metadata": {},
   "outputs": [],
   "source": [
    "# Let’s split the data using the default 3:1 ratio of training-to-test and resample the training set using five repeats of 10-fold cross-validation:\n",
    "\n",
    "set.seed(1501)\n",
    "concrete_split <- initial_split(concrete, strata = compressive_strength)\n",
    "concrete_train <- training(concrete_split)\n",
    "concrete_test  <- testing(concrete_split)\n",
    "\n",
    "set.seed(1502)\n",
    "concrete_folds <- \n",
    "   vfold_cv(concrete_train, strata = compressive_strength, repeats = 5)"
   ]
  },
  {
   "cell_type": "markdown",
   "id": "5acc90ca-d892-44d0-9275-3567344452ac",
   "metadata": {},
   "source": [
    "Some models (notably neural networks, KNN, and support vector machines) require predictors that have been centered and scaled, so some model workflows will require recipes with these preprocessing steps. For other models, a traditional response surface design model expansion (i.e., quadratic and two-way interactions) is a good idea. For these purposes, we create two recipes:"
   ]
  },
  {
   "cell_type": "code",
   "execution_count": 75,
   "id": "cb905264-d166-4ff4-a192-b84f1f2c2999",
   "metadata": {},
   "outputs": [],
   "source": [
    "normalized_rec <- \n",
    "   recipe(compressive_strength ~ ., data = concrete_train) %>% \n",
    "   step_normalize(all_predictors()) \n",
    "\n",
    "poly_recipe <- \n",
    "   normalized_rec %>% \n",
    "   step_poly(all_predictors()) %>% \n",
    "   step_interact(~ all_predictors():all_predictors())"
   ]
  },
  {
   "cell_type": "code",
   "execution_count": 80,
   "id": "5f1f74f3-71c7-4d66-8198-25a79c187d39",
   "metadata": {},
   "outputs": [
    {
     "name": "stderr",
     "output_type": "stream",
     "text": [
      "Warning message:\n",
      "\"package 'baguette' was built under R version 4.3.2\"\n"
     ]
    }
   ],
   "source": [
    "library(rules)\n",
    "library(baguette)\n",
    "\n",
    "# Regularized regression\n",
    "linear_reg_spec <- \n",
    "   linear_reg(penalty = tune(), mixture = tune()) %>% \n",
    "   set_engine(\"glmnet\")\n",
    "\n",
    "\n",
    "# Neural Network\n",
    "nnet_spec <- \n",
    "   mlp(hidden_units = tune(), penalty = tune(), epochs = tune()) %>% \n",
    "   set_engine(\"nnet\", MaxNWts = 2600) %>% \n",
    "   set_mode(\"regression\")\n",
    "\n",
    "\n",
    "\n",
    "mars_spec <- \n",
    "   mars(prod_degree = tune()) %>%  #<- use GCV to choose terms\n",
    "   set_engine(\"earth\") %>% \n",
    "   set_mode(\"regression\")\n",
    "\n",
    "\n",
    "# RBF SVM\n",
    "svm_r_spec <- \n",
    "   svm_rbf(cost = tune(), rbf_sigma = tune()) %>% \n",
    "   set_engine(\"kernlab\") %>% \n",
    "   set_mode(\"regression\")\n",
    "\n",
    "# SVM\n",
    "svm_p_spec <- \n",
    "   svm_poly(cost = tune(), degree = tune()) %>% \n",
    "   set_engine(\"kernlab\") %>% \n",
    "   set_mode(\"regression\")\n",
    "\n",
    "\n",
    "# KNN\n",
    "knn_spec <- \n",
    "   nearest_neighbor(neighbors = tune(), dist_power = tune(), weight_func = tune()) %>% \n",
    "   set_engine(\"kknn\") %>% \n",
    "   set_mode(\"regression\")\n",
    "\n",
    "\n",
    "# CART\n",
    "cart_spec <- \n",
    "   decision_tree(cost_complexity = tune(), min_n = tune()) %>% \n",
    "   set_engine(\"rpart\") %>% \n",
    "   set_mode(\"regression\")\n",
    "\n",
    "\n",
    "# Bag CART\n",
    "bag_cart_spec <- \n",
    "   bag_tree() %>% \n",
    "   set_engine(\"rpart\", times = 50L) %>% \n",
    "   set_mode(\"regression\")\n",
    "\n",
    "\n",
    "# RF model\n",
    "rf_spec <- \n",
    "   rand_forest(mtry = tune(), min_n = tune(), trees = 1000) %>% \n",
    "   set_engine(\"ranger\") %>% \n",
    "   set_mode(\"regression\")\n",
    "\n",
    "\n",
    "# XGBoost\n",
    "xgb_spec <- \n",
    "   boost_tree(tree_depth = tune(), learn_rate = tune(), loss_reduction = tune(), \n",
    "              min_n = tune(), sample_size = tune(), trees = tune()) %>% \n",
    "   set_engine(\"xgboost\") %>% \n",
    "   set_mode(\"regression\")\n",
    "\n",
    "\n",
    "# \n",
    "cubist_spec <- \n",
    "   cubist_rules(committees = tune(), neighbors = tune()) %>% \n",
    "   set_engine(\"Cubist\")"
   ]
  },
  {
   "cell_type": "markdown",
   "id": "18062a8a-965b-46cf-a37f-616a4969e875",
   "metadata": {},
   "source": [
    "The analysis in M. Kuhn and Johnson (2013) specifies that the neural network should have up to 27 hidden units in the layer. The extract_parameter_set_dials() function extracts the parameter set, which we modify to have the correct parameter range:"
   ]
  },
  {
   "cell_type": "code",
   "execution_count": 81,
   "id": "488cfeaf-32fb-42e6-82ad-781297e091ff",
   "metadata": {},
   "outputs": [],
   "source": [
    "nnet_param <- \n",
    "   nnet_spec %>% \n",
    "   extract_parameter_set_dials() %>% \n",
    "   update(hidden_units = hidden_units(c(1, 27)))"
   ]
  },
  {
   "cell_type": "markdown",
   "id": "a8256250-253b-4f58-a970-c18e82dbadf8",
   "metadata": {},
   "source": [
    "## Creating A workflow set"
   ]
  },
  {
   "cell_type": "code",
   "execution_count": 86,
   "id": "6eabaf70-6232-4090-89af-36197c0746b5",
   "metadata": {},
   "outputs": [],
   "source": [
    "normalized <- \n",
    "   workflow_set(\n",
    "      preproc = list(normalized = normalized_rec), \n",
    "      models = list(SVM_radial = svm_r_spec, SVM_poly = svm_p_spec, \n",
    "                    KNN = knn_spec, neural_network = nnet_spec)\n",
    "   )\n",
    "# normalized"
   ]
  },
  {
   "cell_type": "code",
   "execution_count": 90,
   "id": "61066d45-bb83-4d5c-8afe-aaf9fa43a2c5",
   "metadata": {},
   "outputs": [
    {
     "data": {
      "text/plain": [
       "══ Workflow ═══════════════════════════════════════════════════════════════════════════════════════════════════════════════════════════════\n",
       "\u001b[3mPreprocessor:\u001b[23m Recipe\n",
       "\u001b[3mModel:\u001b[23m nearest_neighbor()\n",
       "\n",
       "── Preprocessor ───────────────────────────────────────────────────────────────────────────────────────────────────────────────────────────\n",
       "1 Recipe Step\n",
       "\n",
       "• step_normalize()\n",
       "\n",
       "── Model ──────────────────────────────────────────────────────────────────────────────────────────────────────────────────────────────────\n",
       "K-Nearest Neighbor Model Specification (regression)\n",
       "\n",
       "Main Arguments:\n",
       "  neighbors = tune()\n",
       "  weight_func = tune()\n",
       "  dist_power = tune()\n",
       "\n",
       "Computational engine: kknn \n"
      ]
     },
     "metadata": {},
     "output_type": "display_data"
    }
   ],
   "source": [
    "normalized |>\n",
    "    extract_workflow(id = \"normalized_KNN\")"
   ]
  },
  {
   "cell_type": "markdown",
   "id": "f4df501b-b722-4109-9e8d-4e9a5952a320",
   "metadata": {},
   "source": [
    "The option column is a placeholder for any arguments to use when we evaluate the workflow. For example, to add the neural network parameter object:"
   ]
  },
  {
   "cell_type": "code",
   "execution_count": 91,
   "id": "dbc62242-b448-4dd4-8b62-c9cda770da43",
   "metadata": {},
   "outputs": [],
   "source": [
    "normalized <- \n",
    "   normalized %>% \n",
    "   option_add(param_info = nnet_param, id = \"normalized_neural_network\")"
   ]
  },
  {
   "cell_type": "code",
   "execution_count": 92,
   "id": "1f7beaf6-ac4d-4a26-a82d-6686faea1b47",
   "metadata": {},
   "outputs": [
    {
     "data": {
      "text/html": [
       "<table class=\"dataframe\">\n",
       "<caption>A workflow_set: 6 × 4</caption>\n",
       "<thead>\n",
       "\t<tr><th scope=col>wflow_id</th><th scope=col>info</th><th scope=col>option</th><th scope=col>result</th></tr>\n",
       "\t<tr><th scope=col>&lt;chr&gt;</th><th scope=col>&lt;list&gt;</th><th scope=col>&lt;list&gt;</th><th scope=col>&lt;list&gt;</th></tr>\n",
       "</thead>\n",
       "<tbody>\n",
       "\t<tr><td>simple_MARS       </td><td>~compressive_strength, ~everything(), ~NULL, ~tune(), ~NULL, regression, TRUE, earth, TRUE, FALSE, workflow_variables, mars, </td><td>NULL</td><td>NULL</td></tr>\n",
       "\t<tr><td>simple_CART       </td><td>~compressive_strength, ~everything(), ~tune(), ~NULL, ~tune(), regression, TRUE, rpart, TRUE, FALSE, workflow_variables, decision_tree, </td><td>NULL</td><td>NULL</td></tr>\n",
       "\t<tr><td>simple_CART_bagged</td><td>~compressive_strength, ~everything(), ~0, ~NULL, ~2, ~NULL, ~50L, regression, TRUE, rpart, TRUE, FALSE, workflow_variables, bag_tree, </td><td>NULL</td><td>NULL</td></tr>\n",
       "\t<tr><td>simple_RF         </td><td>~compressive_strength, ~everything(), ~tune(), ~1000, ~tune(), regression, TRUE, ranger, TRUE, FALSE, workflow_variables, rand_forest, </td><td>NULL</td><td>NULL</td></tr>\n",
       "\t<tr><td>simple_boosting   </td><td>~compressive_strength, ~everything(), ~NULL, ~tune(), ~tune(), ~tune(), ~tune(), ~tune(), ~tune(), ~NULL, regression, TRUE, xgboost, TRUE, FALSE, workflow_variables, boost_tree, </td><td>NULL</td><td>NULL</td></tr>\n",
       "\t<tr><td>simple_Cubist     </td><td>~compressive_strength, ~everything(), ~tune(), ~tune(), ~NULL, regression, FALSE, Cubist, TRUE, FALSE, workflow_variables, cubist_rules, </td><td>NULL</td><td>NULL</td></tr>\n",
       "</tbody>\n",
       "</table>\n"
      ],
      "text/latex": [
       "A workflow\\_set: 6 × 4\n",
       "\\begin{tabular}{llll}\n",
       " wflow\\_id & info & option & result\\\\\n",
       " <chr> & <list> & <list> & <list>\\\\\n",
       "\\hline\n",
       "\t simple\\_MARS        & \\textasciitilde{}compressive\\_strength, \\textasciitilde{}everything(), \\textasciitilde{}NULL, \\textasciitilde{}tune(), \\textasciitilde{}NULL, regression, TRUE, earth, TRUE, FALSE, workflow\\_variables, mars,  & NULL & NULL\\\\\n",
       "\t simple\\_CART        & \\textasciitilde{}compressive\\_strength, \\textasciitilde{}everything(), \\textasciitilde{}tune(), \\textasciitilde{}NULL, \\textasciitilde{}tune(), regression, TRUE, rpart, TRUE, FALSE, workflow\\_variables, decision\\_tree,  & NULL & NULL\\\\\n",
       "\t simple\\_CART\\_bagged & \\textasciitilde{}compressive\\_strength, \\textasciitilde{}everything(), \\textasciitilde{}0, \\textasciitilde{}NULL, \\textasciitilde{}2, \\textasciitilde{}NULL, \\textasciitilde{}50L, regression, TRUE, rpart, TRUE, FALSE, workflow\\_variables, bag\\_tree,  & NULL & NULL\\\\\n",
       "\t simple\\_RF          & \\textasciitilde{}compressive\\_strength, \\textasciitilde{}everything(), \\textasciitilde{}tune(), \\textasciitilde{}1000, \\textasciitilde{}tune(), regression, TRUE, ranger, TRUE, FALSE, workflow\\_variables, rand\\_forest,  & NULL & NULL\\\\\n",
       "\t simple\\_boosting    & \\textasciitilde{}compressive\\_strength, \\textasciitilde{}everything(), \\textasciitilde{}NULL, \\textasciitilde{}tune(), \\textasciitilde{}tune(), \\textasciitilde{}tune(), \\textasciitilde{}tune(), \\textasciitilde{}tune(), \\textasciitilde{}tune(), \\textasciitilde{}NULL, regression, TRUE, xgboost, TRUE, FALSE, workflow\\_variables, boost\\_tree,  & NULL & NULL\\\\\n",
       "\t simple\\_Cubist      & \\textasciitilde{}compressive\\_strength, \\textasciitilde{}everything(), \\textasciitilde{}tune(), \\textasciitilde{}tune(), \\textasciitilde{}NULL, regression, FALSE, Cubist, TRUE, FALSE, workflow\\_variables, cubist\\_rules,  & NULL & NULL\\\\\n",
       "\\end{tabular}\n"
      ],
      "text/markdown": [
       "\n",
       "A workflow_set: 6 × 4\n",
       "\n",
       "| wflow_id &lt;chr&gt; | info &lt;list&gt; | option &lt;list&gt; | result &lt;list&gt; |\n",
       "|---|---|---|---|\n",
       "| simple_MARS        | ~compressive_strength, ~everything(), ~NULL, ~tune(), ~NULL, regression, TRUE, earth, TRUE, FALSE, workflow_variables, mars,  | NULL | NULL |\n",
       "| simple_CART        | ~compressive_strength, ~everything(), ~tune(), ~NULL, ~tune(), regression, TRUE, rpart, TRUE, FALSE, workflow_variables, decision_tree,  | NULL | NULL |\n",
       "| simple_CART_bagged | ~compressive_strength, ~everything(), ~0, ~NULL, ~2, ~NULL, ~50L, regression, TRUE, rpart, TRUE, FALSE, workflow_variables, bag_tree,  | NULL | NULL |\n",
       "| simple_RF          | ~compressive_strength, ~everything(), ~tune(), ~1000, ~tune(), regression, TRUE, ranger, TRUE, FALSE, workflow_variables, rand_forest,  | NULL | NULL |\n",
       "| simple_boosting    | ~compressive_strength, ~everything(), ~NULL, ~tune(), ~tune(), ~tune(), ~tune(), ~tune(), ~tune(), ~NULL, regression, TRUE, xgboost, TRUE, FALSE, workflow_variables, boost_tree,  | NULL | NULL |\n",
       "| simple_Cubist      | ~compressive_strength, ~everything(), ~tune(), ~tune(), ~NULL, regression, FALSE, Cubist, TRUE, FALSE, workflow_variables, cubist_rules,  | NULL | NULL |\n",
       "\n"
      ],
      "text/plain": [
       "  wflow_id          \n",
       "1 simple_MARS       \n",
       "2 simple_CART       \n",
       "3 simple_CART_bagged\n",
       "4 simple_RF         \n",
       "5 simple_boosting   \n",
       "6 simple_Cubist     \n",
       "  info                                                                                                                                                                              \n",
       "1 ~compressive_strength, ~everything(), ~NULL, ~tune(), ~NULL, regression, TRUE, earth, TRUE, FALSE, workflow_variables, mars,                                                      \n",
       "2 ~compressive_strength, ~everything(), ~tune(), ~NULL, ~tune(), regression, TRUE, rpart, TRUE, FALSE, workflow_variables, decision_tree,                                           \n",
       "3 ~compressive_strength, ~everything(), ~0, ~NULL, ~2, ~NULL, ~50L, regression, TRUE, rpart, TRUE, FALSE, workflow_variables, bag_tree,                                             \n",
       "4 ~compressive_strength, ~everything(), ~tune(), ~1000, ~tune(), regression, TRUE, ranger, TRUE, FALSE, workflow_variables, rand_forest,                                            \n",
       "5 ~compressive_strength, ~everything(), ~NULL, ~tune(), ~tune(), ~tune(), ~tune(), ~tune(), ~tune(), ~NULL, regression, TRUE, xgboost, TRUE, FALSE, workflow_variables, boost_tree, \n",
       "6 ~compressive_strength, ~everything(), ~tune(), ~tune(), ~NULL, regression, FALSE, Cubist, TRUE, FALSE, workflow_variables, cubist_rules,                                          \n",
       "  option result\n",
       "1 NULL   NULL  \n",
       "2 NULL   NULL  \n",
       "3 NULL   NULL  \n",
       "4 NULL   NULL  \n",
       "5 NULL   NULL  \n",
       "6 NULL   NULL  "
      ]
     },
     "metadata": {},
     "output_type": "display_data"
    }
   ],
   "source": [
    "# Other workflows\n",
    "\n",
    "model_vars <- \n",
    "   workflow_variables(outcomes = compressive_strength, \n",
    "                      predictors = everything())\n",
    "\n",
    "no_pre_proc <- \n",
    "   workflow_set(\n",
    "      preproc = list(simple = model_vars), \n",
    "      models = list(MARS = mars_spec, CART = cart_spec, CART_bagged = bag_cart_spec,\n",
    "                    RF = rf_spec, boosting = xgb_spec, Cubist = cubist_spec)\n",
    "   )\n",
    "no_pre_proc"
   ]
  },
  {
   "cell_type": "markdown",
   "id": "d1080ddd-8aa9-4759-b9ac-183886b44ecd",
   "metadata": {},
   "source": [
    "Finally, we assemble the set that uses nonlinear terms and interactions with the appropriate models:"
   ]
  },
  {
   "cell_type": "code",
   "execution_count": 94,
   "id": "4082001b-acf2-46f8-a35b-c217ffaf61ff",
   "metadata": {},
   "outputs": [],
   "source": [
    "with_features <- \n",
    "   workflow_set(\n",
    "      preproc = list(full_quad = poly_recipe), \n",
    "      models = list(linear_reg = linear_reg_spec, KNN = knn_spec)\n",
    "   )"
   ]
  },
  {
   "cell_type": "code",
   "execution_count": 97,
   "id": "88d59a93-bfbd-48fc-a7c8-78001ef0f3c0",
   "metadata": {},
   "outputs": [],
   "source": [
    "all_workflows <- \n",
    "   bind_rows(no_pre_proc, normalized, with_features) %>% \n",
    "   # Make the workflow ID's a little more simple: \n",
    "   mutate(wflow_id = gsub(\"(simple_)|(normalized_)\", \"\", wflow_id))\n",
    "\n",
    "# all_workflows"
   ]
  },
  {
   "cell_type": "markdown",
   "id": "a04d4e41-d739-4204-b22e-a3430c10fbbf",
   "metadata": {},
   "source": [
    "## TUNING AND EVALUATING THE MODELS\n",
    "\n",
    "Almost all of the members of all_workflows contain tuning parameters. To evaluate their performance, we can use the standard tuning or resampling functions (e.g., tune_grid() and so on). The workflow_map() function will apply the same function to all of the workflows in the set; the default is tune_grid().\r\n",
    "\r\n",
    "For this example, grid search is applied to each workflow using up to 25 different parameter candidates. There are a set of common options to use with each execution of tune_grid(). For example, in the following code we will use the same resampling and control objects for each workflow, along with a grid size of 25. The workflow_map() function has an additional argument called seed, which is used to ensure that each execution of tune_grid() consumes the same random numbers."
   ]
  },
  {
   "cell_type": "code",
   "execution_count": 106,
   "id": "1d26ee45-feee-48ea-8876-b4f3c9a01310",
   "metadata": {},
   "outputs": [
    {
     "name": "stderr",
     "output_type": "stream",
     "text": [
      "\u001b[34mi\u001b[39m \u001b[30mCreating pre-processing data to finalize unknown parameter: mtry\u001b[39m\n",
      "\n",
      "Warning message:\n",
      "\"package 'xgboost' was built under R version 4.3.2\"\n",
      "Warning message:\n",
      "\"package 'kknn' was built under R version 4.3.2\"\n",
      "Warning message:\n",
      "\"package 'glmnet' was built under R version 4.3.2\"\n"
     ]
    }
   ],
   "source": [
    "grid_ctrl <-\n",
    "   control_grid(\n",
    "      save_pred = TRUE,\n",
    "      parallel_over = \"everything\",\n",
    "      save_workflow = TRUE\n",
    "   )\n",
    "\n",
    "\n",
    "\n",
    "grid_results <-\n",
    "   all_workflows %>%\n",
    "   workflow_map(\n",
    "      seed = 1503,\n",
    "      resamples = concrete_folds,\n",
    "      grid = 25,\n",
    "      control = grid_ctrl\n",
    "   )\n",
    "\n",
    "\n",
    "# grid_results"
   ]
  },
  {
   "cell_type": "code",
   "execution_count": 117,
   "id": "0d5b9509-29bc-4390-be3c-9199cde7f5df",
   "metadata": {},
   "outputs": [
    {
     "data": {
      "text/html": [
       "<table class=\"dataframe\">\n",
       "<caption>A tibble: 504 × 9</caption>\n",
       "<thead>\n",
       "\t<tr><th scope=col>wflow_id</th><th scope=col>.config</th><th scope=col>preproc</th><th scope=col>model</th><th scope=col>.metric</th><th scope=col>.estimator</th><th scope=col>mean</th><th scope=col>n</th><th scope=col>std_err</th></tr>\n",
       "\t<tr><th scope=col>&lt;chr&gt;</th><th scope=col>&lt;chr&gt;</th><th scope=col>&lt;chr&gt;</th><th scope=col>&lt;chr&gt;</th><th scope=col>&lt;chr&gt;</th><th scope=col>&lt;chr&gt;</th><th scope=col>&lt;dbl&gt;</th><th scope=col>&lt;int&gt;</th><th scope=col>&lt;dbl&gt;</th></tr>\n",
       "</thead>\n",
       "<tbody>\n",
       "\t<tr><td>MARS</td><td>Preprocessor1_Model1 </td><td>workflow_variables</td><td>mars         </td><td>rmse</td><td>standard</td><td> 6.5186023</td><td>50</td><td>0.158459881</td></tr>\n",
       "\t<tr><td>MARS</td><td>Preprocessor1_Model1 </td><td>workflow_variables</td><td>mars         </td><td>rsq </td><td>standard</td><td> 0.8437498</td><td>50</td><td>0.007994067</td></tr>\n",
       "\t<tr><td>MARS</td><td>Preprocessor1_Model2 </td><td>workflow_variables</td><td>mars         </td><td>rmse</td><td>standard</td><td> 6.2801635</td><td>50</td><td>0.089738723</td></tr>\n",
       "\t<tr><td>MARS</td><td>Preprocessor1_Model2 </td><td>workflow_variables</td><td>mars         </td><td>rsq </td><td>standard</td><td> 0.8553238</td><td>50</td><td>0.004521954</td></tr>\n",
       "\t<tr><td>CART</td><td>Preprocessor1_Model01</td><td>workflow_variables</td><td>decision_tree</td><td>rmse</td><td>standard</td><td>11.5016313</td><td>50</td><td>0.138620364</td></tr>\n",
       "\t<tr><td>CART</td><td>Preprocessor1_Model01</td><td>workflow_variables</td><td>decision_tree</td><td>rsq </td><td>standard</td><td> 0.5160462</td><td>50</td><td>0.008660939</td></tr>\n",
       "\t<tr><td>CART</td><td>Preprocessor1_Model02</td><td>workflow_variables</td><td>decision_tree</td><td>rmse</td><td>standard</td><td> 7.3737907</td><td>50</td><td>0.165406832</td></tr>\n",
       "\t<tr><td>CART</td><td>Preprocessor1_Model02</td><td>workflow_variables</td><td>decision_tree</td><td>rsq </td><td>standard</td><td> 0.8066402</td><td>50</td><td>0.007766903</td></tr>\n",
       "\t<tr><td>CART</td><td>Preprocessor1_Model03</td><td>workflow_variables</td><td>decision_tree</td><td>rmse</td><td>standard</td><td> 8.2384269</td><td>50</td><td>0.139988859</td></tr>\n",
       "\t<tr><td>CART</td><td>Preprocessor1_Model03</td><td>workflow_variables</td><td>decision_tree</td><td>rsq </td><td>standard</td><td> 0.7531325</td><td>50</td><td>0.007704693</td></tr>\n",
       "\t<tr><td>CART</td><td>Preprocessor1_Model04</td><td>workflow_variables</td><td>decision_tree</td><td>rmse</td><td>standard</td><td> 8.2986013</td><td>50</td><td>0.140278343</td></tr>\n",
       "\t<tr><td>CART</td><td>Preprocessor1_Model04</td><td>workflow_variables</td><td>decision_tree</td><td>rsq </td><td>standard</td><td> 0.7493755</td><td>50</td><td>0.007743206</td></tr>\n",
       "\t<tr><td>CART</td><td>Preprocessor1_Model05</td><td>workflow_variables</td><td>decision_tree</td><td>rmse</td><td>standard</td><td> 7.6084830</td><td>50</td><td>0.138221066</td></tr>\n",
       "\t<tr><td>CART</td><td>Preprocessor1_Model05</td><td>workflow_variables</td><td>decision_tree</td><td>rsq </td><td>standard</td><td> 0.7919826</td><td>50</td><td>0.006752378</td></tr>\n",
       "\t<tr><td>CART</td><td>Preprocessor1_Model06</td><td>workflow_variables</td><td>decision_tree</td><td>rmse</td><td>standard</td><td> 8.1461463</td><td>50</td><td>0.137748609</td></tr>\n",
       "\t<tr><td>CART</td><td>Preprocessor1_Model06</td><td>workflow_variables</td><td>decision_tree</td><td>rsq </td><td>standard</td><td> 0.7593822</td><td>50</td><td>0.007392608</td></tr>\n",
       "\t<tr><td>CART</td><td>Preprocessor1_Model07</td><td>workflow_variables</td><td>decision_tree</td><td>rmse</td><td>standard</td><td> 7.9387669</td><td>50</td><td>0.147578275</td></tr>\n",
       "\t<tr><td>CART</td><td>Preprocessor1_Model07</td><td>workflow_variables</td><td>decision_tree</td><td>rsq </td><td>standard</td><td> 0.7721042</td><td>50</td><td>0.007759511</td></tr>\n",
       "\t<tr><td>CART</td><td>Preprocessor1_Model08</td><td>workflow_variables</td><td>decision_tree</td><td>rmse</td><td>standard</td><td> 8.7232121</td><td>50</td><td>0.129055478</td></tr>\n",
       "\t<tr><td>CART</td><td>Preprocessor1_Model08</td><td>workflow_variables</td><td>decision_tree</td><td>rsq </td><td>standard</td><td> 0.7235015</td><td>50</td><td>0.007234694</td></tr>\n",
       "\t<tr><td>CART</td><td>Preprocessor1_Model09</td><td>workflow_variables</td><td>decision_tree</td><td>rmse</td><td>standard</td><td> 8.4258204</td><td>50</td><td>0.146709963</td></tr>\n",
       "\t<tr><td>CART</td><td>Preprocessor1_Model09</td><td>workflow_variables</td><td>decision_tree</td><td>rsq </td><td>standard</td><td> 0.7407418</td><td>50</td><td>0.008606364</td></tr>\n",
       "\t<tr><td>CART</td><td>Preprocessor1_Model10</td><td>workflow_variables</td><td>decision_tree</td><td>rmse</td><td>standard</td><td> 7.3737907</td><td>50</td><td>0.165406832</td></tr>\n",
       "\t<tr><td>CART</td><td>Preprocessor1_Model10</td><td>workflow_variables</td><td>decision_tree</td><td>rsq </td><td>standard</td><td> 0.8066402</td><td>50</td><td>0.007766903</td></tr>\n",
       "\t<tr><td>CART</td><td>Preprocessor1_Model11</td><td>workflow_variables</td><td>decision_tree</td><td>rmse</td><td>standard</td><td> 8.4073209</td><td>50</td><td>0.136521568</td></tr>\n",
       "\t<tr><td>CART</td><td>Preprocessor1_Model11</td><td>workflow_variables</td><td>decision_tree</td><td>rsq </td><td>standard</td><td> 0.7426835</td><td>50</td><td>0.007873070</td></tr>\n",
       "\t<tr><td>CART</td><td>Preprocessor1_Model12</td><td>workflow_variables</td><td>decision_tree</td><td>rmse</td><td>standard</td><td> 8.5728040</td><td>50</td><td>0.139375765</td></tr>\n",
       "\t<tr><td>CART</td><td>Preprocessor1_Model12</td><td>workflow_variables</td><td>decision_tree</td><td>rsq </td><td>standard</td><td> 0.7313535</td><td>50</td><td>0.008123649</td></tr>\n",
       "\t<tr><td>CART</td><td>Preprocessor1_Model13</td><td>workflow_variables</td><td>decision_tree</td><td>rmse</td><td>standard</td><td> 7.7448443</td><td>50</td><td>0.138306523</td></tr>\n",
       "\t<tr><td>CART</td><td>Preprocessor1_Model13</td><td>workflow_variables</td><td>decision_tree</td><td>rsq </td><td>standard</td><td> 0.7842379</td><td>50</td><td>0.006950588</td></tr>\n",
       "\t<tr><td>⋮</td><td>⋮</td><td>⋮</td><td>⋮</td><td>⋮</td><td>⋮</td><td>⋮</td><td>⋮</td><td>⋮</td></tr>\n",
       "\t<tr><td>full_quad_KNN</td><td>Preprocessor1_Model11</td><td>recipe</td><td>nearest_neighbor</td><td>rmse</td><td>standard</td><td>11.2675661</td><td>50</td><td>0.153747122</td></tr>\n",
       "\t<tr><td>full_quad_KNN</td><td>Preprocessor1_Model11</td><td>recipe</td><td>nearest_neighbor</td><td>rsq </td><td>standard</td><td> 0.5464276</td><td>50</td><td>0.012524304</td></tr>\n",
       "\t<tr><td>full_quad_KNN</td><td>Preprocessor1_Model12</td><td>recipe</td><td>nearest_neighbor</td><td>rmse</td><td>standard</td><td> 8.3145878</td><td>50</td><td>0.158979782</td></tr>\n",
       "\t<tr><td>full_quad_KNN</td><td>Preprocessor1_Model12</td><td>recipe</td><td>nearest_neighbor</td><td>rsq </td><td>standard</td><td> 0.7467589</td><td>50</td><td>0.009683173</td></tr>\n",
       "\t<tr><td>full_quad_KNN</td><td>Preprocessor1_Model13</td><td>recipe</td><td>nearest_neighbor</td><td>rmse</td><td>standard</td><td> 8.3708657</td><td>50</td><td>0.163597927</td></tr>\n",
       "\t<tr><td>full_quad_KNN</td><td>Preprocessor1_Model13</td><td>recipe</td><td>nearest_neighbor</td><td>rsq </td><td>standard</td><td> 0.7434900</td><td>50</td><td>0.009898716</td></tr>\n",
       "\t<tr><td>full_quad_KNN</td><td>Preprocessor1_Model14</td><td>recipe</td><td>nearest_neighbor</td><td>rmse</td><td>standard</td><td> 9.2268733</td><td>50</td><td>0.142621058</td></tr>\n",
       "\t<tr><td>full_quad_KNN</td><td>Preprocessor1_Model14</td><td>recipe</td><td>nearest_neighbor</td><td>rsq </td><td>standard</td><td> 0.7030194</td><td>50</td><td>0.010931188</td></tr>\n",
       "\t<tr><td>full_quad_KNN</td><td>Preprocessor1_Model15</td><td>recipe</td><td>nearest_neighbor</td><td>rmse</td><td>standard</td><td> 8.6402542</td><td>50</td><td>0.147053418</td></tr>\n",
       "\t<tr><td>full_quad_KNN</td><td>Preprocessor1_Model15</td><td>recipe</td><td>nearest_neighbor</td><td>rsq </td><td>standard</td><td> 0.7369444</td><td>50</td><td>0.009987499</td></tr>\n",
       "\t<tr><td>full_quad_KNN</td><td>Preprocessor1_Model16</td><td>recipe</td><td>nearest_neighbor</td><td>rmse</td><td>standard</td><td> 8.2610965</td><td>50</td><td>0.133895603</td></tr>\n",
       "\t<tr><td>full_quad_KNN</td><td>Preprocessor1_Model16</td><td>recipe</td><td>nearest_neighbor</td><td>rsq </td><td>standard</td><td> 0.7584431</td><td>50</td><td>0.007992042</td></tr>\n",
       "\t<tr><td>full_quad_KNN</td><td>Preprocessor1_Model17</td><td>recipe</td><td>nearest_neighbor</td><td>rmse</td><td>standard</td><td> 9.4192488</td><td>50</td><td>0.141540380</td></tr>\n",
       "\t<tr><td>full_quad_KNN</td><td>Preprocessor1_Model17</td><td>recipe</td><td>nearest_neighbor</td><td>rsq </td><td>standard</td><td> 0.7000913</td><td>50</td><td>0.010855484</td></tr>\n",
       "\t<tr><td>full_quad_KNN</td><td>Preprocessor1_Model18</td><td>recipe</td><td>nearest_neighbor</td><td>rmse</td><td>standard</td><td> 8.2304132</td><td>50</td><td>0.147872132</td></tr>\n",
       "\t<tr><td>full_quad_KNN</td><td>Preprocessor1_Model18</td><td>recipe</td><td>nearest_neighbor</td><td>rsq </td><td>standard</td><td> 0.7517257</td><td>50</td><td>0.009245172</td></tr>\n",
       "\t<tr><td>full_quad_KNN</td><td>Preprocessor1_Model19</td><td>recipe</td><td>nearest_neighbor</td><td>rmse</td><td>standard</td><td> 9.5263942</td><td>50</td><td>0.139666882</td></tr>\n",
       "\t<tr><td>full_quad_KNN</td><td>Preprocessor1_Model19</td><td>recipe</td><td>nearest_neighbor</td><td>rsq </td><td>standard</td><td> 0.6873536</td><td>50</td><td>0.010504636</td></tr>\n",
       "\t<tr><td>full_quad_KNN</td><td>Preprocessor1_Model20</td><td>recipe</td><td>nearest_neighbor</td><td>rmse</td><td>standard</td><td> 9.6426714</td><td>50</td><td>0.144018435</td></tr>\n",
       "\t<tr><td>full_quad_KNN</td><td>Preprocessor1_Model20</td><td>recipe</td><td>nearest_neighbor</td><td>rsq </td><td>standard</td><td> 0.6806104</td><td>50</td><td>0.010376711</td></tr>\n",
       "\t<tr><td>full_quad_KNN</td><td>Preprocessor1_Model21</td><td>recipe</td><td>nearest_neighbor</td><td>rmse</td><td>standard</td><td>10.5173369</td><td>50</td><td>0.178481156</td></tr>\n",
       "\t<tr><td>full_quad_KNN</td><td>Preprocessor1_Model21</td><td>recipe</td><td>nearest_neighbor</td><td>rsq </td><td>standard</td><td> 0.6236349</td><td>50</td><td>0.011638502</td></tr>\n",
       "\t<tr><td>full_quad_KNN</td><td>Preprocessor1_Model22</td><td>recipe</td><td>nearest_neighbor</td><td>rmse</td><td>standard</td><td> 9.5810732</td><td>50</td><td>0.157772535</td></tr>\n",
       "\t<tr><td>full_quad_KNN</td><td>Preprocessor1_Model22</td><td>recipe</td><td>nearest_neighbor</td><td>rsq </td><td>standard</td><td> 0.6648044</td><td>50</td><td>0.011574299</td></tr>\n",
       "\t<tr><td>full_quad_KNN</td><td>Preprocessor1_Model23</td><td>recipe</td><td>nearest_neighbor</td><td>rmse</td><td>standard</td><td> 8.2888770</td><td>50</td><td>0.136124153</td></tr>\n",
       "\t<tr><td>full_quad_KNN</td><td>Preprocessor1_Model23</td><td>recipe</td><td>nearest_neighbor</td><td>rsq </td><td>standard</td><td> 0.7525780</td><td>50</td><td>0.008294015</td></tr>\n",
       "\t<tr><td>full_quad_KNN</td><td>Preprocessor1_Model24</td><td>recipe</td><td>nearest_neighbor</td><td>rmse</td><td>standard</td><td> 9.3719932</td><td>50</td><td>0.179012266</td></tr>\n",
       "\t<tr><td>full_quad_KNN</td><td>Preprocessor1_Model24</td><td>recipe</td><td>nearest_neighbor</td><td>rsq </td><td>standard</td><td> 0.6789514</td><td>50</td><td>0.011791393</td></tr>\n",
       "\t<tr><td>full_quad_KNN</td><td>Preprocessor1_Model25</td><td>recipe</td><td>nearest_neighbor</td><td>rmse</td><td>standard</td><td> 8.4859272</td><td>50</td><td>0.159453980</td></tr>\n",
       "\t<tr><td>full_quad_KNN</td><td>Preprocessor1_Model25</td><td>recipe</td><td>nearest_neighbor</td><td>rsq </td><td>standard</td><td> 0.7349379</td><td>50</td><td>0.009769000</td></tr>\n",
       "</tbody>\n",
       "</table>\n"
      ],
      "text/latex": [
       "A tibble: 504 × 9\n",
       "\\begin{tabular}{lllllllll}\n",
       " wflow\\_id & .config & preproc & model & .metric & .estimator & mean & n & std\\_err\\\\\n",
       " <chr> & <chr> & <chr> & <chr> & <chr> & <chr> & <dbl> & <int> & <dbl>\\\\\n",
       "\\hline\n",
       "\t MARS & Preprocessor1\\_Model1  & workflow\\_variables & mars          & rmse & standard &  6.5186023 & 50 & 0.158459881\\\\\n",
       "\t MARS & Preprocessor1\\_Model1  & workflow\\_variables & mars          & rsq  & standard &  0.8437498 & 50 & 0.007994067\\\\\n",
       "\t MARS & Preprocessor1\\_Model2  & workflow\\_variables & mars          & rmse & standard &  6.2801635 & 50 & 0.089738723\\\\\n",
       "\t MARS & Preprocessor1\\_Model2  & workflow\\_variables & mars          & rsq  & standard &  0.8553238 & 50 & 0.004521954\\\\\n",
       "\t CART & Preprocessor1\\_Model01 & workflow\\_variables & decision\\_tree & rmse & standard & 11.5016313 & 50 & 0.138620364\\\\\n",
       "\t CART & Preprocessor1\\_Model01 & workflow\\_variables & decision\\_tree & rsq  & standard &  0.5160462 & 50 & 0.008660939\\\\\n",
       "\t CART & Preprocessor1\\_Model02 & workflow\\_variables & decision\\_tree & rmse & standard &  7.3737907 & 50 & 0.165406832\\\\\n",
       "\t CART & Preprocessor1\\_Model02 & workflow\\_variables & decision\\_tree & rsq  & standard &  0.8066402 & 50 & 0.007766903\\\\\n",
       "\t CART & Preprocessor1\\_Model03 & workflow\\_variables & decision\\_tree & rmse & standard &  8.2384269 & 50 & 0.139988859\\\\\n",
       "\t CART & Preprocessor1\\_Model03 & workflow\\_variables & decision\\_tree & rsq  & standard &  0.7531325 & 50 & 0.007704693\\\\\n",
       "\t CART & Preprocessor1\\_Model04 & workflow\\_variables & decision\\_tree & rmse & standard &  8.2986013 & 50 & 0.140278343\\\\\n",
       "\t CART & Preprocessor1\\_Model04 & workflow\\_variables & decision\\_tree & rsq  & standard &  0.7493755 & 50 & 0.007743206\\\\\n",
       "\t CART & Preprocessor1\\_Model05 & workflow\\_variables & decision\\_tree & rmse & standard &  7.6084830 & 50 & 0.138221066\\\\\n",
       "\t CART & Preprocessor1\\_Model05 & workflow\\_variables & decision\\_tree & rsq  & standard &  0.7919826 & 50 & 0.006752378\\\\\n",
       "\t CART & Preprocessor1\\_Model06 & workflow\\_variables & decision\\_tree & rmse & standard &  8.1461463 & 50 & 0.137748609\\\\\n",
       "\t CART & Preprocessor1\\_Model06 & workflow\\_variables & decision\\_tree & rsq  & standard &  0.7593822 & 50 & 0.007392608\\\\\n",
       "\t CART & Preprocessor1\\_Model07 & workflow\\_variables & decision\\_tree & rmse & standard &  7.9387669 & 50 & 0.147578275\\\\\n",
       "\t CART & Preprocessor1\\_Model07 & workflow\\_variables & decision\\_tree & rsq  & standard &  0.7721042 & 50 & 0.007759511\\\\\n",
       "\t CART & Preprocessor1\\_Model08 & workflow\\_variables & decision\\_tree & rmse & standard &  8.7232121 & 50 & 0.129055478\\\\\n",
       "\t CART & Preprocessor1\\_Model08 & workflow\\_variables & decision\\_tree & rsq  & standard &  0.7235015 & 50 & 0.007234694\\\\\n",
       "\t CART & Preprocessor1\\_Model09 & workflow\\_variables & decision\\_tree & rmse & standard &  8.4258204 & 50 & 0.146709963\\\\\n",
       "\t CART & Preprocessor1\\_Model09 & workflow\\_variables & decision\\_tree & rsq  & standard &  0.7407418 & 50 & 0.008606364\\\\\n",
       "\t CART & Preprocessor1\\_Model10 & workflow\\_variables & decision\\_tree & rmse & standard &  7.3737907 & 50 & 0.165406832\\\\\n",
       "\t CART & Preprocessor1\\_Model10 & workflow\\_variables & decision\\_tree & rsq  & standard &  0.8066402 & 50 & 0.007766903\\\\\n",
       "\t CART & Preprocessor1\\_Model11 & workflow\\_variables & decision\\_tree & rmse & standard &  8.4073209 & 50 & 0.136521568\\\\\n",
       "\t CART & Preprocessor1\\_Model11 & workflow\\_variables & decision\\_tree & rsq  & standard &  0.7426835 & 50 & 0.007873070\\\\\n",
       "\t CART & Preprocessor1\\_Model12 & workflow\\_variables & decision\\_tree & rmse & standard &  8.5728040 & 50 & 0.139375765\\\\\n",
       "\t CART & Preprocessor1\\_Model12 & workflow\\_variables & decision\\_tree & rsq  & standard &  0.7313535 & 50 & 0.008123649\\\\\n",
       "\t CART & Preprocessor1\\_Model13 & workflow\\_variables & decision\\_tree & rmse & standard &  7.7448443 & 50 & 0.138306523\\\\\n",
       "\t CART & Preprocessor1\\_Model13 & workflow\\_variables & decision\\_tree & rsq  & standard &  0.7842379 & 50 & 0.006950588\\\\\n",
       "\t ⋮ & ⋮ & ⋮ & ⋮ & ⋮ & ⋮ & ⋮ & ⋮ & ⋮\\\\\n",
       "\t full\\_quad\\_KNN & Preprocessor1\\_Model11 & recipe & nearest\\_neighbor & rmse & standard & 11.2675661 & 50 & 0.153747122\\\\\n",
       "\t full\\_quad\\_KNN & Preprocessor1\\_Model11 & recipe & nearest\\_neighbor & rsq  & standard &  0.5464276 & 50 & 0.012524304\\\\\n",
       "\t full\\_quad\\_KNN & Preprocessor1\\_Model12 & recipe & nearest\\_neighbor & rmse & standard &  8.3145878 & 50 & 0.158979782\\\\\n",
       "\t full\\_quad\\_KNN & Preprocessor1\\_Model12 & recipe & nearest\\_neighbor & rsq  & standard &  0.7467589 & 50 & 0.009683173\\\\\n",
       "\t full\\_quad\\_KNN & Preprocessor1\\_Model13 & recipe & nearest\\_neighbor & rmse & standard &  8.3708657 & 50 & 0.163597927\\\\\n",
       "\t full\\_quad\\_KNN & Preprocessor1\\_Model13 & recipe & nearest\\_neighbor & rsq  & standard &  0.7434900 & 50 & 0.009898716\\\\\n",
       "\t full\\_quad\\_KNN & Preprocessor1\\_Model14 & recipe & nearest\\_neighbor & rmse & standard &  9.2268733 & 50 & 0.142621058\\\\\n",
       "\t full\\_quad\\_KNN & Preprocessor1\\_Model14 & recipe & nearest\\_neighbor & rsq  & standard &  0.7030194 & 50 & 0.010931188\\\\\n",
       "\t full\\_quad\\_KNN & Preprocessor1\\_Model15 & recipe & nearest\\_neighbor & rmse & standard &  8.6402542 & 50 & 0.147053418\\\\\n",
       "\t full\\_quad\\_KNN & Preprocessor1\\_Model15 & recipe & nearest\\_neighbor & rsq  & standard &  0.7369444 & 50 & 0.009987499\\\\\n",
       "\t full\\_quad\\_KNN & Preprocessor1\\_Model16 & recipe & nearest\\_neighbor & rmse & standard &  8.2610965 & 50 & 0.133895603\\\\\n",
       "\t full\\_quad\\_KNN & Preprocessor1\\_Model16 & recipe & nearest\\_neighbor & rsq  & standard &  0.7584431 & 50 & 0.007992042\\\\\n",
       "\t full\\_quad\\_KNN & Preprocessor1\\_Model17 & recipe & nearest\\_neighbor & rmse & standard &  9.4192488 & 50 & 0.141540380\\\\\n",
       "\t full\\_quad\\_KNN & Preprocessor1\\_Model17 & recipe & nearest\\_neighbor & rsq  & standard &  0.7000913 & 50 & 0.010855484\\\\\n",
       "\t full\\_quad\\_KNN & Preprocessor1\\_Model18 & recipe & nearest\\_neighbor & rmse & standard &  8.2304132 & 50 & 0.147872132\\\\\n",
       "\t full\\_quad\\_KNN & Preprocessor1\\_Model18 & recipe & nearest\\_neighbor & rsq  & standard &  0.7517257 & 50 & 0.009245172\\\\\n",
       "\t full\\_quad\\_KNN & Preprocessor1\\_Model19 & recipe & nearest\\_neighbor & rmse & standard &  9.5263942 & 50 & 0.139666882\\\\\n",
       "\t full\\_quad\\_KNN & Preprocessor1\\_Model19 & recipe & nearest\\_neighbor & rsq  & standard &  0.6873536 & 50 & 0.010504636\\\\\n",
       "\t full\\_quad\\_KNN & Preprocessor1\\_Model20 & recipe & nearest\\_neighbor & rmse & standard &  9.6426714 & 50 & 0.144018435\\\\\n",
       "\t full\\_quad\\_KNN & Preprocessor1\\_Model20 & recipe & nearest\\_neighbor & rsq  & standard &  0.6806104 & 50 & 0.010376711\\\\\n",
       "\t full\\_quad\\_KNN & Preprocessor1\\_Model21 & recipe & nearest\\_neighbor & rmse & standard & 10.5173369 & 50 & 0.178481156\\\\\n",
       "\t full\\_quad\\_KNN & Preprocessor1\\_Model21 & recipe & nearest\\_neighbor & rsq  & standard &  0.6236349 & 50 & 0.011638502\\\\\n",
       "\t full\\_quad\\_KNN & Preprocessor1\\_Model22 & recipe & nearest\\_neighbor & rmse & standard &  9.5810732 & 50 & 0.157772535\\\\\n",
       "\t full\\_quad\\_KNN & Preprocessor1\\_Model22 & recipe & nearest\\_neighbor & rsq  & standard &  0.6648044 & 50 & 0.011574299\\\\\n",
       "\t full\\_quad\\_KNN & Preprocessor1\\_Model23 & recipe & nearest\\_neighbor & rmse & standard &  8.2888770 & 50 & 0.136124153\\\\\n",
       "\t full\\_quad\\_KNN & Preprocessor1\\_Model23 & recipe & nearest\\_neighbor & rsq  & standard &  0.7525780 & 50 & 0.008294015\\\\\n",
       "\t full\\_quad\\_KNN & Preprocessor1\\_Model24 & recipe & nearest\\_neighbor & rmse & standard &  9.3719932 & 50 & 0.179012266\\\\\n",
       "\t full\\_quad\\_KNN & Preprocessor1\\_Model24 & recipe & nearest\\_neighbor & rsq  & standard &  0.6789514 & 50 & 0.011791393\\\\\n",
       "\t full\\_quad\\_KNN & Preprocessor1\\_Model25 & recipe & nearest\\_neighbor & rmse & standard &  8.4859272 & 50 & 0.159453980\\\\\n",
       "\t full\\_quad\\_KNN & Preprocessor1\\_Model25 & recipe & nearest\\_neighbor & rsq  & standard &  0.7349379 & 50 & 0.009769000\\\\\n",
       "\\end{tabular}\n"
      ],
      "text/markdown": [
       "\n",
       "A tibble: 504 × 9\n",
       "\n",
       "| wflow_id &lt;chr&gt; | .config &lt;chr&gt; | preproc &lt;chr&gt; | model &lt;chr&gt; | .metric &lt;chr&gt; | .estimator &lt;chr&gt; | mean &lt;dbl&gt; | n &lt;int&gt; | std_err &lt;dbl&gt; |\n",
       "|---|---|---|---|---|---|---|---|---|\n",
       "| MARS | Preprocessor1_Model1  | workflow_variables | mars          | rmse | standard |  6.5186023 | 50 | 0.158459881 |\n",
       "| MARS | Preprocessor1_Model1  | workflow_variables | mars          | rsq  | standard |  0.8437498 | 50 | 0.007994067 |\n",
       "| MARS | Preprocessor1_Model2  | workflow_variables | mars          | rmse | standard |  6.2801635 | 50 | 0.089738723 |\n",
       "| MARS | Preprocessor1_Model2  | workflow_variables | mars          | rsq  | standard |  0.8553238 | 50 | 0.004521954 |\n",
       "| CART | Preprocessor1_Model01 | workflow_variables | decision_tree | rmse | standard | 11.5016313 | 50 | 0.138620364 |\n",
       "| CART | Preprocessor1_Model01 | workflow_variables | decision_tree | rsq  | standard |  0.5160462 | 50 | 0.008660939 |\n",
       "| CART | Preprocessor1_Model02 | workflow_variables | decision_tree | rmse | standard |  7.3737907 | 50 | 0.165406832 |\n",
       "| CART | Preprocessor1_Model02 | workflow_variables | decision_tree | rsq  | standard |  0.8066402 | 50 | 0.007766903 |\n",
       "| CART | Preprocessor1_Model03 | workflow_variables | decision_tree | rmse | standard |  8.2384269 | 50 | 0.139988859 |\n",
       "| CART | Preprocessor1_Model03 | workflow_variables | decision_tree | rsq  | standard |  0.7531325 | 50 | 0.007704693 |\n",
       "| CART | Preprocessor1_Model04 | workflow_variables | decision_tree | rmse | standard |  8.2986013 | 50 | 0.140278343 |\n",
       "| CART | Preprocessor1_Model04 | workflow_variables | decision_tree | rsq  | standard |  0.7493755 | 50 | 0.007743206 |\n",
       "| CART | Preprocessor1_Model05 | workflow_variables | decision_tree | rmse | standard |  7.6084830 | 50 | 0.138221066 |\n",
       "| CART | Preprocessor1_Model05 | workflow_variables | decision_tree | rsq  | standard |  0.7919826 | 50 | 0.006752378 |\n",
       "| CART | Preprocessor1_Model06 | workflow_variables | decision_tree | rmse | standard |  8.1461463 | 50 | 0.137748609 |\n",
       "| CART | Preprocessor1_Model06 | workflow_variables | decision_tree | rsq  | standard |  0.7593822 | 50 | 0.007392608 |\n",
       "| CART | Preprocessor1_Model07 | workflow_variables | decision_tree | rmse | standard |  7.9387669 | 50 | 0.147578275 |\n",
       "| CART | Preprocessor1_Model07 | workflow_variables | decision_tree | rsq  | standard |  0.7721042 | 50 | 0.007759511 |\n",
       "| CART | Preprocessor1_Model08 | workflow_variables | decision_tree | rmse | standard |  8.7232121 | 50 | 0.129055478 |\n",
       "| CART | Preprocessor1_Model08 | workflow_variables | decision_tree | rsq  | standard |  0.7235015 | 50 | 0.007234694 |\n",
       "| CART | Preprocessor1_Model09 | workflow_variables | decision_tree | rmse | standard |  8.4258204 | 50 | 0.146709963 |\n",
       "| CART | Preprocessor1_Model09 | workflow_variables | decision_tree | rsq  | standard |  0.7407418 | 50 | 0.008606364 |\n",
       "| CART | Preprocessor1_Model10 | workflow_variables | decision_tree | rmse | standard |  7.3737907 | 50 | 0.165406832 |\n",
       "| CART | Preprocessor1_Model10 | workflow_variables | decision_tree | rsq  | standard |  0.8066402 | 50 | 0.007766903 |\n",
       "| CART | Preprocessor1_Model11 | workflow_variables | decision_tree | rmse | standard |  8.4073209 | 50 | 0.136521568 |\n",
       "| CART | Preprocessor1_Model11 | workflow_variables | decision_tree | rsq  | standard |  0.7426835 | 50 | 0.007873070 |\n",
       "| CART | Preprocessor1_Model12 | workflow_variables | decision_tree | rmse | standard |  8.5728040 | 50 | 0.139375765 |\n",
       "| CART | Preprocessor1_Model12 | workflow_variables | decision_tree | rsq  | standard |  0.7313535 | 50 | 0.008123649 |\n",
       "| CART | Preprocessor1_Model13 | workflow_variables | decision_tree | rmse | standard |  7.7448443 | 50 | 0.138306523 |\n",
       "| CART | Preprocessor1_Model13 | workflow_variables | decision_tree | rsq  | standard |  0.7842379 | 50 | 0.006950588 |\n",
       "| ⋮ | ⋮ | ⋮ | ⋮ | ⋮ | ⋮ | ⋮ | ⋮ | ⋮ |\n",
       "| full_quad_KNN | Preprocessor1_Model11 | recipe | nearest_neighbor | rmse | standard | 11.2675661 | 50 | 0.153747122 |\n",
       "| full_quad_KNN | Preprocessor1_Model11 | recipe | nearest_neighbor | rsq  | standard |  0.5464276 | 50 | 0.012524304 |\n",
       "| full_quad_KNN | Preprocessor1_Model12 | recipe | nearest_neighbor | rmse | standard |  8.3145878 | 50 | 0.158979782 |\n",
       "| full_quad_KNN | Preprocessor1_Model12 | recipe | nearest_neighbor | rsq  | standard |  0.7467589 | 50 | 0.009683173 |\n",
       "| full_quad_KNN | Preprocessor1_Model13 | recipe | nearest_neighbor | rmse | standard |  8.3708657 | 50 | 0.163597927 |\n",
       "| full_quad_KNN | Preprocessor1_Model13 | recipe | nearest_neighbor | rsq  | standard |  0.7434900 | 50 | 0.009898716 |\n",
       "| full_quad_KNN | Preprocessor1_Model14 | recipe | nearest_neighbor | rmse | standard |  9.2268733 | 50 | 0.142621058 |\n",
       "| full_quad_KNN | Preprocessor1_Model14 | recipe | nearest_neighbor | rsq  | standard |  0.7030194 | 50 | 0.010931188 |\n",
       "| full_quad_KNN | Preprocessor1_Model15 | recipe | nearest_neighbor | rmse | standard |  8.6402542 | 50 | 0.147053418 |\n",
       "| full_quad_KNN | Preprocessor1_Model15 | recipe | nearest_neighbor | rsq  | standard |  0.7369444 | 50 | 0.009987499 |\n",
       "| full_quad_KNN | Preprocessor1_Model16 | recipe | nearest_neighbor | rmse | standard |  8.2610965 | 50 | 0.133895603 |\n",
       "| full_quad_KNN | Preprocessor1_Model16 | recipe | nearest_neighbor | rsq  | standard |  0.7584431 | 50 | 0.007992042 |\n",
       "| full_quad_KNN | Preprocessor1_Model17 | recipe | nearest_neighbor | rmse | standard |  9.4192488 | 50 | 0.141540380 |\n",
       "| full_quad_KNN | Preprocessor1_Model17 | recipe | nearest_neighbor | rsq  | standard |  0.7000913 | 50 | 0.010855484 |\n",
       "| full_quad_KNN | Preprocessor1_Model18 | recipe | nearest_neighbor | rmse | standard |  8.2304132 | 50 | 0.147872132 |\n",
       "| full_quad_KNN | Preprocessor1_Model18 | recipe | nearest_neighbor | rsq  | standard |  0.7517257 | 50 | 0.009245172 |\n",
       "| full_quad_KNN | Preprocessor1_Model19 | recipe | nearest_neighbor | rmse | standard |  9.5263942 | 50 | 0.139666882 |\n",
       "| full_quad_KNN | Preprocessor1_Model19 | recipe | nearest_neighbor | rsq  | standard |  0.6873536 | 50 | 0.010504636 |\n",
       "| full_quad_KNN | Preprocessor1_Model20 | recipe | nearest_neighbor | rmse | standard |  9.6426714 | 50 | 0.144018435 |\n",
       "| full_quad_KNN | Preprocessor1_Model20 | recipe | nearest_neighbor | rsq  | standard |  0.6806104 | 50 | 0.010376711 |\n",
       "| full_quad_KNN | Preprocessor1_Model21 | recipe | nearest_neighbor | rmse | standard | 10.5173369 | 50 | 0.178481156 |\n",
       "| full_quad_KNN | Preprocessor1_Model21 | recipe | nearest_neighbor | rsq  | standard |  0.6236349 | 50 | 0.011638502 |\n",
       "| full_quad_KNN | Preprocessor1_Model22 | recipe | nearest_neighbor | rmse | standard |  9.5810732 | 50 | 0.157772535 |\n",
       "| full_quad_KNN | Preprocessor1_Model22 | recipe | nearest_neighbor | rsq  | standard |  0.6648044 | 50 | 0.011574299 |\n",
       "| full_quad_KNN | Preprocessor1_Model23 | recipe | nearest_neighbor | rmse | standard |  8.2888770 | 50 | 0.136124153 |\n",
       "| full_quad_KNN | Preprocessor1_Model23 | recipe | nearest_neighbor | rsq  | standard |  0.7525780 | 50 | 0.008294015 |\n",
       "| full_quad_KNN | Preprocessor1_Model24 | recipe | nearest_neighbor | rmse | standard |  9.3719932 | 50 | 0.179012266 |\n",
       "| full_quad_KNN | Preprocessor1_Model24 | recipe | nearest_neighbor | rsq  | standard |  0.6789514 | 50 | 0.011791393 |\n",
       "| full_quad_KNN | Preprocessor1_Model25 | recipe | nearest_neighbor | rmse | standard |  8.4859272 | 50 | 0.159453980 |\n",
       "| full_quad_KNN | Preprocessor1_Model25 | recipe | nearest_neighbor | rsq  | standard |  0.7349379 | 50 | 0.009769000 |\n",
       "\n"
      ],
      "text/plain": [
       "    wflow_id      .config               preproc            model           \n",
       "1   MARS          Preprocessor1_Model1  workflow_variables mars            \n",
       "2   MARS          Preprocessor1_Model1  workflow_variables mars            \n",
       "3   MARS          Preprocessor1_Model2  workflow_variables mars            \n",
       "4   MARS          Preprocessor1_Model2  workflow_variables mars            \n",
       "5   CART          Preprocessor1_Model01 workflow_variables decision_tree   \n",
       "6   CART          Preprocessor1_Model01 workflow_variables decision_tree   \n",
       "7   CART          Preprocessor1_Model02 workflow_variables decision_tree   \n",
       "8   CART          Preprocessor1_Model02 workflow_variables decision_tree   \n",
       "9   CART          Preprocessor1_Model03 workflow_variables decision_tree   \n",
       "10  CART          Preprocessor1_Model03 workflow_variables decision_tree   \n",
       "11  CART          Preprocessor1_Model04 workflow_variables decision_tree   \n",
       "12  CART          Preprocessor1_Model04 workflow_variables decision_tree   \n",
       "13  CART          Preprocessor1_Model05 workflow_variables decision_tree   \n",
       "14  CART          Preprocessor1_Model05 workflow_variables decision_tree   \n",
       "15  CART          Preprocessor1_Model06 workflow_variables decision_tree   \n",
       "16  CART          Preprocessor1_Model06 workflow_variables decision_tree   \n",
       "17  CART          Preprocessor1_Model07 workflow_variables decision_tree   \n",
       "18  CART          Preprocessor1_Model07 workflow_variables decision_tree   \n",
       "19  CART          Preprocessor1_Model08 workflow_variables decision_tree   \n",
       "20  CART          Preprocessor1_Model08 workflow_variables decision_tree   \n",
       "21  CART          Preprocessor1_Model09 workflow_variables decision_tree   \n",
       "22  CART          Preprocessor1_Model09 workflow_variables decision_tree   \n",
       "23  CART          Preprocessor1_Model10 workflow_variables decision_tree   \n",
       "24  CART          Preprocessor1_Model10 workflow_variables decision_tree   \n",
       "25  CART          Preprocessor1_Model11 workflow_variables decision_tree   \n",
       "26  CART          Preprocessor1_Model11 workflow_variables decision_tree   \n",
       "27  CART          Preprocessor1_Model12 workflow_variables decision_tree   \n",
       "28  CART          Preprocessor1_Model12 workflow_variables decision_tree   \n",
       "29  CART          Preprocessor1_Model13 workflow_variables decision_tree   \n",
       "30  CART          Preprocessor1_Model13 workflow_variables decision_tree   \n",
       "⋮   ⋮             ⋮                     ⋮                  ⋮               \n",
       "475 full_quad_KNN Preprocessor1_Model11 recipe             nearest_neighbor\n",
       "476 full_quad_KNN Preprocessor1_Model11 recipe             nearest_neighbor\n",
       "477 full_quad_KNN Preprocessor1_Model12 recipe             nearest_neighbor\n",
       "478 full_quad_KNN Preprocessor1_Model12 recipe             nearest_neighbor\n",
       "479 full_quad_KNN Preprocessor1_Model13 recipe             nearest_neighbor\n",
       "480 full_quad_KNN Preprocessor1_Model13 recipe             nearest_neighbor\n",
       "481 full_quad_KNN Preprocessor1_Model14 recipe             nearest_neighbor\n",
       "482 full_quad_KNN Preprocessor1_Model14 recipe             nearest_neighbor\n",
       "483 full_quad_KNN Preprocessor1_Model15 recipe             nearest_neighbor\n",
       "484 full_quad_KNN Preprocessor1_Model15 recipe             nearest_neighbor\n",
       "485 full_quad_KNN Preprocessor1_Model16 recipe             nearest_neighbor\n",
       "486 full_quad_KNN Preprocessor1_Model16 recipe             nearest_neighbor\n",
       "487 full_quad_KNN Preprocessor1_Model17 recipe             nearest_neighbor\n",
       "488 full_quad_KNN Preprocessor1_Model17 recipe             nearest_neighbor\n",
       "489 full_quad_KNN Preprocessor1_Model18 recipe             nearest_neighbor\n",
       "490 full_quad_KNN Preprocessor1_Model18 recipe             nearest_neighbor\n",
       "491 full_quad_KNN Preprocessor1_Model19 recipe             nearest_neighbor\n",
       "492 full_quad_KNN Preprocessor1_Model19 recipe             nearest_neighbor\n",
       "493 full_quad_KNN Preprocessor1_Model20 recipe             nearest_neighbor\n",
       "494 full_quad_KNN Preprocessor1_Model20 recipe             nearest_neighbor\n",
       "495 full_quad_KNN Preprocessor1_Model21 recipe             nearest_neighbor\n",
       "496 full_quad_KNN Preprocessor1_Model21 recipe             nearest_neighbor\n",
       "497 full_quad_KNN Preprocessor1_Model22 recipe             nearest_neighbor\n",
       "498 full_quad_KNN Preprocessor1_Model22 recipe             nearest_neighbor\n",
       "499 full_quad_KNN Preprocessor1_Model23 recipe             nearest_neighbor\n",
       "500 full_quad_KNN Preprocessor1_Model23 recipe             nearest_neighbor\n",
       "501 full_quad_KNN Preprocessor1_Model24 recipe             nearest_neighbor\n",
       "502 full_quad_KNN Preprocessor1_Model24 recipe             nearest_neighbor\n",
       "503 full_quad_KNN Preprocessor1_Model25 recipe             nearest_neighbor\n",
       "504 full_quad_KNN Preprocessor1_Model25 recipe             nearest_neighbor\n",
       "    .metric .estimator mean       n  std_err    \n",
       "1   rmse    standard    6.5186023 50 0.158459881\n",
       "2   rsq     standard    0.8437498 50 0.007994067\n",
       "3   rmse    standard    6.2801635 50 0.089738723\n",
       "4   rsq     standard    0.8553238 50 0.004521954\n",
       "5   rmse    standard   11.5016313 50 0.138620364\n",
       "6   rsq     standard    0.5160462 50 0.008660939\n",
       "7   rmse    standard    7.3737907 50 0.165406832\n",
       "8   rsq     standard    0.8066402 50 0.007766903\n",
       "9   rmse    standard    8.2384269 50 0.139988859\n",
       "10  rsq     standard    0.7531325 50 0.007704693\n",
       "11  rmse    standard    8.2986013 50 0.140278343\n",
       "12  rsq     standard    0.7493755 50 0.007743206\n",
       "13  rmse    standard    7.6084830 50 0.138221066\n",
       "14  rsq     standard    0.7919826 50 0.006752378\n",
       "15  rmse    standard    8.1461463 50 0.137748609\n",
       "16  rsq     standard    0.7593822 50 0.007392608\n",
       "17  rmse    standard    7.9387669 50 0.147578275\n",
       "18  rsq     standard    0.7721042 50 0.007759511\n",
       "19  rmse    standard    8.7232121 50 0.129055478\n",
       "20  rsq     standard    0.7235015 50 0.007234694\n",
       "21  rmse    standard    8.4258204 50 0.146709963\n",
       "22  rsq     standard    0.7407418 50 0.008606364\n",
       "23  rmse    standard    7.3737907 50 0.165406832\n",
       "24  rsq     standard    0.8066402 50 0.007766903\n",
       "25  rmse    standard    8.4073209 50 0.136521568\n",
       "26  rsq     standard    0.7426835 50 0.007873070\n",
       "27  rmse    standard    8.5728040 50 0.139375765\n",
       "28  rsq     standard    0.7313535 50 0.008123649\n",
       "29  rmse    standard    7.7448443 50 0.138306523\n",
       "30  rsq     standard    0.7842379 50 0.006950588\n",
       "⋮   ⋮       ⋮          ⋮          ⋮  ⋮          \n",
       "475 rmse    standard   11.2675661 50 0.153747122\n",
       "476 rsq     standard    0.5464276 50 0.012524304\n",
       "477 rmse    standard    8.3145878 50 0.158979782\n",
       "478 rsq     standard    0.7467589 50 0.009683173\n",
       "479 rmse    standard    8.3708657 50 0.163597927\n",
       "480 rsq     standard    0.7434900 50 0.009898716\n",
       "481 rmse    standard    9.2268733 50 0.142621058\n",
       "482 rsq     standard    0.7030194 50 0.010931188\n",
       "483 rmse    standard    8.6402542 50 0.147053418\n",
       "484 rsq     standard    0.7369444 50 0.009987499\n",
       "485 rmse    standard    8.2610965 50 0.133895603\n",
       "486 rsq     standard    0.7584431 50 0.007992042\n",
       "487 rmse    standard    9.4192488 50 0.141540380\n",
       "488 rsq     standard    0.7000913 50 0.010855484\n",
       "489 rmse    standard    8.2304132 50 0.147872132\n",
       "490 rsq     standard    0.7517257 50 0.009245172\n",
       "491 rmse    standard    9.5263942 50 0.139666882\n",
       "492 rsq     standard    0.6873536 50 0.010504636\n",
       "493 rmse    standard    9.6426714 50 0.144018435\n",
       "494 rsq     standard    0.6806104 50 0.010376711\n",
       "495 rmse    standard   10.5173369 50 0.178481156\n",
       "496 rsq     standard    0.6236349 50 0.011638502\n",
       "497 rmse    standard    9.5810732 50 0.157772535\n",
       "498 rsq     standard    0.6648044 50 0.011574299\n",
       "499 rmse    standard    8.2888770 50 0.136124153\n",
       "500 rsq     standard    0.7525780 50 0.008294015\n",
       "501 rmse    standard    9.3719932 50 0.179012266\n",
       "502 rsq     standard    0.6789514 50 0.011791393\n",
       "503 rmse    standard    8.4859272 50 0.159453980\n",
       "504 rsq     standard    0.7349379 50 0.009769000"
      ]
     },
     "metadata": {},
     "output_type": "display_data"
    }
   ],
   "source": [
    "collect_metrics(grid_results)"
   ]
  },
  {
   "cell_type": "code",
   "execution_count": 115,
   "id": "9223caf5-88d5-48ce-bbde-41f8a8015a10",
   "metadata": {},
   "outputs": [
    {
     "data": {
      "text/html": [
       "<table class=\"dataframe\">\n",
       "<caption>A tibble: 252 × 9</caption>\n",
       "<thead>\n",
       "\t<tr><th scope=col>wflow_id</th><th scope=col>.config</th><th scope=col>preproc</th><th scope=col>model</th><th scope=col>.metric</th><th scope=col>.estimator</th><th scope=col>mean</th><th scope=col>n</th><th scope=col>std_err</th></tr>\n",
       "\t<tr><th scope=col>&lt;chr&gt;</th><th scope=col>&lt;chr&gt;</th><th scope=col>&lt;chr&gt;</th><th scope=col>&lt;chr&gt;</th><th scope=col>&lt;chr&gt;</th><th scope=col>&lt;chr&gt;</th><th scope=col>&lt;dbl&gt;</th><th scope=col>&lt;int&gt;</th><th scope=col>&lt;dbl&gt;</th></tr>\n",
       "</thead>\n",
       "<tbody>\n",
       "\t<tr><td>boosting</td><td>Preprocessor1_Model04</td><td>workflow_variables</td><td>boost_tree  </td><td>rsq</td><td>standard</td><td>0.9334518</td><td>50</td><td>0.002990715</td></tr>\n",
       "\t<tr><td>boosting</td><td>Preprocessor1_Model06</td><td>workflow_variables</td><td>boost_tree  </td><td>rsq</td><td>standard</td><td>0.9319413</td><td>50</td><td>0.002997219</td></tr>\n",
       "\t<tr><td>boosting</td><td>Preprocessor1_Model13</td><td>workflow_variables</td><td>boost_tree  </td><td>rsq</td><td>standard</td><td>0.9314912</td><td>50</td><td>0.003003389</td></tr>\n",
       "\t<tr><td>boosting</td><td>Preprocessor1_Model14</td><td>workflow_variables</td><td>boost_tree  </td><td>rsq</td><td>standard</td><td>0.9286359</td><td>50</td><td>0.003268780</td></tr>\n",
       "\t<tr><td>boosting</td><td>Preprocessor1_Model03</td><td>workflow_variables</td><td>boost_tree  </td><td>rsq</td><td>standard</td><td>0.9271602</td><td>50</td><td>0.002853788</td></tr>\n",
       "\t<tr><td>boosting</td><td>Preprocessor1_Model16</td><td>workflow_variables</td><td>boost_tree  </td><td>rsq</td><td>standard</td><td>0.9267659</td><td>50</td><td>0.003002573</td></tr>\n",
       "\t<tr><td>boosting</td><td>Preprocessor1_Model15</td><td>workflow_variables</td><td>boost_tree  </td><td>rsq</td><td>standard</td><td>0.9264740</td><td>50</td><td>0.002941339</td></tr>\n",
       "\t<tr><td>boosting</td><td>Preprocessor1_Model05</td><td>workflow_variables</td><td>boost_tree  </td><td>rsq</td><td>standard</td><td>0.9244940</td><td>50</td><td>0.002858795</td></tr>\n",
       "\t<tr><td>Cubist  </td><td>Preprocessor1_Model24</td><td>workflow_variables</td><td>cubist_rules</td><td>rsq</td><td>standard</td><td>0.9190887</td><td>50</td><td>0.002993511</td></tr>\n",
       "\t<tr><td>Cubist  </td><td>Preprocessor1_Model21</td><td>workflow_variables</td><td>cubist_rules</td><td>rsq</td><td>standard</td><td>0.9189927</td><td>50</td><td>0.003004175</td></tr>\n",
       "\t<tr><td>boosting</td><td>Preprocessor1_Model20</td><td>workflow_variables</td><td>boost_tree  </td><td>rsq</td><td>standard</td><td>0.9188046</td><td>50</td><td>0.003061342</td></tr>\n",
       "\t<tr><td>Cubist  </td><td>Preprocessor1_Model10</td><td>workflow_variables</td><td>cubist_rules</td><td>rsq</td><td>standard</td><td>0.9175625</td><td>50</td><td>0.003057829</td></tr>\n",
       "\t<tr><td>Cubist  </td><td>Preprocessor1_Model16</td><td>workflow_variables</td><td>cubist_rules</td><td>rsq</td><td>standard</td><td>0.9170111</td><td>50</td><td>0.002759348</td></tr>\n",
       "\t<tr><td>Cubist  </td><td>Preprocessor1_Model23</td><td>workflow_variables</td><td>cubist_rules</td><td>rsq</td><td>standard</td><td>0.9169959</td><td>50</td><td>0.002640568</td></tr>\n",
       "\t<tr><td>Cubist  </td><td>Preprocessor1_Model19</td><td>workflow_variables</td><td>cubist_rules</td><td>rsq</td><td>standard</td><td>0.9168524</td><td>50</td><td>0.002638382</td></tr>\n",
       "\t<tr><td>Cubist  </td><td>Preprocessor1_Model22</td><td>workflow_variables</td><td>cubist_rules</td><td>rsq</td><td>standard</td><td>0.9150346</td><td>50</td><td>0.002647351</td></tr>\n",
       "\t<tr><td>Cubist  </td><td>Preprocessor1_Model17</td><td>workflow_variables</td><td>cubist_rules</td><td>rsq</td><td>standard</td><td>0.9148244</td><td>50</td><td>0.002645028</td></tr>\n",
       "\t<tr><td>boosting</td><td>Preprocessor1_Model08</td><td>workflow_variables</td><td>boost_tree  </td><td>rsq</td><td>standard</td><td>0.9144055</td><td>50</td><td>0.002926898</td></tr>\n",
       "\t<tr><td>Cubist  </td><td>Preprocessor1_Model08</td><td>workflow_variables</td><td>cubist_rules</td><td>rsq</td><td>standard</td><td>0.9136809</td><td>50</td><td>0.002681420</td></tr>\n",
       "\t<tr><td>Cubist  </td><td>Preprocessor1_Model18</td><td>workflow_variables</td><td>cubist_rules</td><td>rsq</td><td>standard</td><td>0.9132194</td><td>50</td><td>0.002668568</td></tr>\n",
       "\t<tr><td>Cubist  </td><td>Preprocessor1_Model15</td><td>workflow_variables</td><td>cubist_rules</td><td>rsq</td><td>standard</td><td>0.9129347</td><td>50</td><td>0.002659153</td></tr>\n",
       "\t<tr><td>Cubist  </td><td>Preprocessor1_Model12</td><td>workflow_variables</td><td>cubist_rules</td><td>rsq</td><td>standard</td><td>0.9110438</td><td>50</td><td>0.002668513</td></tr>\n",
       "\t<tr><td>Cubist  </td><td>Preprocessor1_Model09</td><td>workflow_variables</td><td>cubist_rules</td><td>rsq</td><td>standard</td><td>0.9106780</td><td>50</td><td>0.002668719</td></tr>\n",
       "\t<tr><td>Cubist  </td><td>Preprocessor1_Model25</td><td>workflow_variables</td><td>cubist_rules</td><td>rsq</td><td>standard</td><td>0.9105721</td><td>50</td><td>0.002724486</td></tr>\n",
       "\t<tr><td>Cubist  </td><td>Preprocessor1_Model20</td><td>workflow_variables</td><td>cubist_rules</td><td>rsq</td><td>standard</td><td>0.9104115</td><td>50</td><td>0.002724694</td></tr>\n",
       "\t<tr><td>Cubist  </td><td>Preprocessor1_Model03</td><td>workflow_variables</td><td>cubist_rules</td><td>rsq</td><td>standard</td><td>0.9098240</td><td>50</td><td>0.002754861</td></tr>\n",
       "\t<tr><td>Cubist  </td><td>Preprocessor1_Model13</td><td>workflow_variables</td><td>cubist_rules</td><td>rsq</td><td>standard</td><td>0.9097659</td><td>50</td><td>0.002715273</td></tr>\n",
       "\t<tr><td>Cubist  </td><td>Preprocessor1_Model06</td><td>workflow_variables</td><td>cubist_rules</td><td>rsq</td><td>standard</td><td>0.9096834</td><td>50</td><td>0.002693834</td></tr>\n",
       "\t<tr><td>Cubist  </td><td>Preprocessor1_Model02</td><td>workflow_variables</td><td>cubist_rules</td><td>rsq</td><td>standard</td><td>0.9096831</td><td>50</td><td>0.003031990</td></tr>\n",
       "\t<tr><td>Cubist  </td><td>Preprocessor1_Model14</td><td>workflow_variables</td><td>cubist_rules</td><td>rsq</td><td>standard</td><td>0.9084483</td><td>50</td><td>0.002737892</td></tr>\n",
       "\t<tr><td>⋮</td><td>⋮</td><td>⋮</td><td>⋮</td><td>⋮</td><td>⋮</td><td>⋮</td><td>⋮</td><td>⋮</td></tr>\n",
       "\t<tr><td>SVM_poly     </td><td>Preprocessor1_Model19</td><td>recipe            </td><td>svm_poly        </td><td>rsq</td><td>standard</td><td>0.5793741</td><td>50</td><td>0.011979968</td></tr>\n",
       "\t<tr><td>SVM_poly     </td><td>Preprocessor1_Model11</td><td>recipe            </td><td>svm_poly        </td><td>rsq</td><td>standard</td><td>0.5786372</td><td>50</td><td>0.012887472</td></tr>\n",
       "\t<tr><td>SVM_poly     </td><td>Preprocessor1_Model02</td><td>recipe            </td><td>svm_poly        </td><td>rsq</td><td>standard</td><td>0.5746722</td><td>50</td><td>0.011407642</td></tr>\n",
       "\t<tr><td>SVM_poly     </td><td>Preprocessor1_Model10</td><td>recipe            </td><td>svm_poly        </td><td>rsq</td><td>standard</td><td>0.5709892</td><td>50</td><td>0.011170153</td></tr>\n",
       "\t<tr><td>SVM_radial   </td><td>Preprocessor1_Model08</td><td>recipe            </td><td>svm_rbf         </td><td>rsq</td><td>standard</td><td>0.5615738</td><td>50</td><td>0.010387700</td></tr>\n",
       "\t<tr><td>SVM_radial   </td><td>Preprocessor1_Model03</td><td>recipe            </td><td>svm_rbf         </td><td>rsq</td><td>standard</td><td>0.5534907</td><td>50</td><td>0.010042181</td></tr>\n",
       "\t<tr><td>SVM_radial   </td><td>Preprocessor1_Model04</td><td>recipe            </td><td>svm_rbf         </td><td>rsq</td><td>standard</td><td>0.5529841</td><td>50</td><td>0.010036241</td></tr>\n",
       "\t<tr><td>full_quad_KNN</td><td>Preprocessor1_Model11</td><td>recipe            </td><td>nearest_neighbor</td><td>rsq</td><td>standard</td><td>0.5464276</td><td>50</td><td>0.012524304</td></tr>\n",
       "\t<tr><td>SVM_radial   </td><td>Preprocessor1_Model18</td><td>recipe            </td><td>svm_rbf         </td><td>rsq</td><td>standard</td><td>0.5462543</td><td>50</td><td>0.010124418</td></tr>\n",
       "\t<tr><td>SVM_radial   </td><td>Preprocessor1_Model17</td><td>recipe            </td><td>svm_rbf         </td><td>rsq</td><td>standard</td><td>0.5459209</td><td>50</td><td>0.010133167</td></tr>\n",
       "\t<tr><td>SVM_radial   </td><td>Preprocessor1_Model14</td><td>recipe            </td><td>svm_rbf         </td><td>rsq</td><td>standard</td><td>0.5404456</td><td>50</td><td>0.010360900</td></tr>\n",
       "\t<tr><td>SVM_radial   </td><td>Preprocessor1_Model07</td><td>recipe            </td><td>svm_rbf         </td><td>rsq</td><td>standard</td><td>0.5404042</td><td>50</td><td>0.010376206</td></tr>\n",
       "\t<tr><td>SVM_radial   </td><td>Preprocessor1_Model15</td><td>recipe            </td><td>svm_rbf         </td><td>rsq</td><td>standard</td><td>0.5403643</td><td>50</td><td>0.010377567</td></tr>\n",
       "\t<tr><td>SVM_radial   </td><td>Preprocessor1_Model02</td><td>recipe            </td><td>svm_rbf         </td><td>rsq</td><td>standard</td><td>0.5401245</td><td>50</td><td>0.010378136</td></tr>\n",
       "\t<tr><td>SVM_radial   </td><td>Preprocessor1_Model19</td><td>recipe            </td><td>svm_rbf         </td><td>rsq</td><td>standard</td><td>0.5401244</td><td>50</td><td>0.010378140</td></tr>\n",
       "\t<tr><td>SVM_radial   </td><td>Preprocessor1_Model10</td><td>recipe            </td><td>svm_rbf         </td><td>rsq</td><td>standard</td><td>0.5401244</td><td>50</td><td>0.010378138</td></tr>\n",
       "\t<tr><td>SVM_radial   </td><td>Preprocessor1_Model20</td><td>recipe            </td><td>svm_rbf         </td><td>rsq</td><td>standard</td><td>0.5401101</td><td>50</td><td>0.010359292</td></tr>\n",
       "\t<tr><td>SVM_radial   </td><td>Preprocessor1_Model22</td><td>recipe            </td><td>svm_rbf         </td><td>rsq</td><td>standard</td><td>0.5400438</td><td>50</td><td>0.010380819</td></tr>\n",
       "\t<tr><td>SVM_radial   </td><td>Preprocessor1_Model06</td><td>recipe            </td><td>svm_rbf         </td><td>rsq</td><td>standard</td><td>0.5399771</td><td>50</td><td>0.010397742</td></tr>\n",
       "\t<tr><td>SVM_radial   </td><td>Preprocessor1_Model05</td><td>recipe            </td><td>svm_rbf         </td><td>rsq</td><td>standard</td><td>0.5399528</td><td>50</td><td>0.010383442</td></tr>\n",
       "\t<tr><td>SVM_radial   </td><td>Preprocessor1_Model16</td><td>recipe            </td><td>svm_rbf         </td><td>rsq</td><td>standard</td><td>0.5399383</td><td>50</td><td>0.010400814</td></tr>\n",
       "\t<tr><td>SVM_radial   </td><td>Preprocessor1_Model21</td><td>recipe            </td><td>svm_rbf         </td><td>rsq</td><td>standard</td><td>0.5399265</td><td>50</td><td>0.010401747</td></tr>\n",
       "\t<tr><td>SVM_radial   </td><td>Preprocessor1_Model11</td><td>recipe            </td><td>svm_rbf         </td><td>rsq</td><td>standard</td><td>0.5398894</td><td>50</td><td>0.010358748</td></tr>\n",
       "\t<tr><td>SVM_radial   </td><td>Preprocessor1_Model23</td><td>recipe            </td><td>svm_rbf         </td><td>rsq</td><td>standard</td><td>0.5398633</td><td>50</td><td>0.010427954</td></tr>\n",
       "\t<tr><td>SVM_radial   </td><td>Preprocessor1_Model13</td><td>recipe            </td><td>svm_rbf         </td><td>rsq</td><td>standard</td><td>0.5398632</td><td>50</td><td>0.010427964</td></tr>\n",
       "\t<tr><td>CART         </td><td>Preprocessor1_Model20</td><td>workflow_variables</td><td>decision_tree   </td><td>rsq</td><td>standard</td><td>0.5385069</td><td>50</td><td>0.007945303</td></tr>\n",
       "\t<tr><td>KNN          </td><td>Preprocessor1_Model11</td><td>recipe            </td><td>nearest_neighbor</td><td>rsq</td><td>standard</td><td>0.5251417</td><td>50</td><td>0.012690308</td></tr>\n",
       "\t<tr><td>CART         </td><td>Preprocessor1_Model01</td><td>workflow_variables</td><td>decision_tree   </td><td>rsq</td><td>standard</td><td>0.5160462</td><td>50</td><td>0.008660939</td></tr>\n",
       "\t<tr><td>KNN          </td><td>Preprocessor1_Model01</td><td>recipe            </td><td>nearest_neighbor</td><td>rsq</td><td>standard</td><td>0.4989405</td><td>50</td><td>0.012494975</td></tr>\n",
       "\t<tr><td>full_quad_KNN</td><td>Preprocessor1_Model01</td><td>recipe            </td><td>nearest_neighbor</td><td>rsq</td><td>standard</td><td>0.4805978</td><td>50</td><td>0.013464463</td></tr>\n",
       "</tbody>\n",
       "</table>\n"
      ],
      "text/latex": [
       "A tibble: 252 × 9\n",
       "\\begin{tabular}{lllllllll}\n",
       " wflow\\_id & .config & preproc & model & .metric & .estimator & mean & n & std\\_err\\\\\n",
       " <chr> & <chr> & <chr> & <chr> & <chr> & <chr> & <dbl> & <int> & <dbl>\\\\\n",
       "\\hline\n",
       "\t boosting & Preprocessor1\\_Model04 & workflow\\_variables & boost\\_tree   & rsq & standard & 0.9334518 & 50 & 0.002990715\\\\\n",
       "\t boosting & Preprocessor1\\_Model06 & workflow\\_variables & boost\\_tree   & rsq & standard & 0.9319413 & 50 & 0.002997219\\\\\n",
       "\t boosting & Preprocessor1\\_Model13 & workflow\\_variables & boost\\_tree   & rsq & standard & 0.9314912 & 50 & 0.003003389\\\\\n",
       "\t boosting & Preprocessor1\\_Model14 & workflow\\_variables & boost\\_tree   & rsq & standard & 0.9286359 & 50 & 0.003268780\\\\\n",
       "\t boosting & Preprocessor1\\_Model03 & workflow\\_variables & boost\\_tree   & rsq & standard & 0.9271602 & 50 & 0.002853788\\\\\n",
       "\t boosting & Preprocessor1\\_Model16 & workflow\\_variables & boost\\_tree   & rsq & standard & 0.9267659 & 50 & 0.003002573\\\\\n",
       "\t boosting & Preprocessor1\\_Model15 & workflow\\_variables & boost\\_tree   & rsq & standard & 0.9264740 & 50 & 0.002941339\\\\\n",
       "\t boosting & Preprocessor1\\_Model05 & workflow\\_variables & boost\\_tree   & rsq & standard & 0.9244940 & 50 & 0.002858795\\\\\n",
       "\t Cubist   & Preprocessor1\\_Model24 & workflow\\_variables & cubist\\_rules & rsq & standard & 0.9190887 & 50 & 0.002993511\\\\\n",
       "\t Cubist   & Preprocessor1\\_Model21 & workflow\\_variables & cubist\\_rules & rsq & standard & 0.9189927 & 50 & 0.003004175\\\\\n",
       "\t boosting & Preprocessor1\\_Model20 & workflow\\_variables & boost\\_tree   & rsq & standard & 0.9188046 & 50 & 0.003061342\\\\\n",
       "\t Cubist   & Preprocessor1\\_Model10 & workflow\\_variables & cubist\\_rules & rsq & standard & 0.9175625 & 50 & 0.003057829\\\\\n",
       "\t Cubist   & Preprocessor1\\_Model16 & workflow\\_variables & cubist\\_rules & rsq & standard & 0.9170111 & 50 & 0.002759348\\\\\n",
       "\t Cubist   & Preprocessor1\\_Model23 & workflow\\_variables & cubist\\_rules & rsq & standard & 0.9169959 & 50 & 0.002640568\\\\\n",
       "\t Cubist   & Preprocessor1\\_Model19 & workflow\\_variables & cubist\\_rules & rsq & standard & 0.9168524 & 50 & 0.002638382\\\\\n",
       "\t Cubist   & Preprocessor1\\_Model22 & workflow\\_variables & cubist\\_rules & rsq & standard & 0.9150346 & 50 & 0.002647351\\\\\n",
       "\t Cubist   & Preprocessor1\\_Model17 & workflow\\_variables & cubist\\_rules & rsq & standard & 0.9148244 & 50 & 0.002645028\\\\\n",
       "\t boosting & Preprocessor1\\_Model08 & workflow\\_variables & boost\\_tree   & rsq & standard & 0.9144055 & 50 & 0.002926898\\\\\n",
       "\t Cubist   & Preprocessor1\\_Model08 & workflow\\_variables & cubist\\_rules & rsq & standard & 0.9136809 & 50 & 0.002681420\\\\\n",
       "\t Cubist   & Preprocessor1\\_Model18 & workflow\\_variables & cubist\\_rules & rsq & standard & 0.9132194 & 50 & 0.002668568\\\\\n",
       "\t Cubist   & Preprocessor1\\_Model15 & workflow\\_variables & cubist\\_rules & rsq & standard & 0.9129347 & 50 & 0.002659153\\\\\n",
       "\t Cubist   & Preprocessor1\\_Model12 & workflow\\_variables & cubist\\_rules & rsq & standard & 0.9110438 & 50 & 0.002668513\\\\\n",
       "\t Cubist   & Preprocessor1\\_Model09 & workflow\\_variables & cubist\\_rules & rsq & standard & 0.9106780 & 50 & 0.002668719\\\\\n",
       "\t Cubist   & Preprocessor1\\_Model25 & workflow\\_variables & cubist\\_rules & rsq & standard & 0.9105721 & 50 & 0.002724486\\\\\n",
       "\t Cubist   & Preprocessor1\\_Model20 & workflow\\_variables & cubist\\_rules & rsq & standard & 0.9104115 & 50 & 0.002724694\\\\\n",
       "\t Cubist   & Preprocessor1\\_Model03 & workflow\\_variables & cubist\\_rules & rsq & standard & 0.9098240 & 50 & 0.002754861\\\\\n",
       "\t Cubist   & Preprocessor1\\_Model13 & workflow\\_variables & cubist\\_rules & rsq & standard & 0.9097659 & 50 & 0.002715273\\\\\n",
       "\t Cubist   & Preprocessor1\\_Model06 & workflow\\_variables & cubist\\_rules & rsq & standard & 0.9096834 & 50 & 0.002693834\\\\\n",
       "\t Cubist   & Preprocessor1\\_Model02 & workflow\\_variables & cubist\\_rules & rsq & standard & 0.9096831 & 50 & 0.003031990\\\\\n",
       "\t Cubist   & Preprocessor1\\_Model14 & workflow\\_variables & cubist\\_rules & rsq & standard & 0.9084483 & 50 & 0.002737892\\\\\n",
       "\t ⋮ & ⋮ & ⋮ & ⋮ & ⋮ & ⋮ & ⋮ & ⋮ & ⋮\\\\\n",
       "\t SVM\\_poly      & Preprocessor1\\_Model19 & recipe             & svm\\_poly         & rsq & standard & 0.5793741 & 50 & 0.011979968\\\\\n",
       "\t SVM\\_poly      & Preprocessor1\\_Model11 & recipe             & svm\\_poly         & rsq & standard & 0.5786372 & 50 & 0.012887472\\\\\n",
       "\t SVM\\_poly      & Preprocessor1\\_Model02 & recipe             & svm\\_poly         & rsq & standard & 0.5746722 & 50 & 0.011407642\\\\\n",
       "\t SVM\\_poly      & Preprocessor1\\_Model10 & recipe             & svm\\_poly         & rsq & standard & 0.5709892 & 50 & 0.011170153\\\\\n",
       "\t SVM\\_radial    & Preprocessor1\\_Model08 & recipe             & svm\\_rbf          & rsq & standard & 0.5615738 & 50 & 0.010387700\\\\\n",
       "\t SVM\\_radial    & Preprocessor1\\_Model03 & recipe             & svm\\_rbf          & rsq & standard & 0.5534907 & 50 & 0.010042181\\\\\n",
       "\t SVM\\_radial    & Preprocessor1\\_Model04 & recipe             & svm\\_rbf          & rsq & standard & 0.5529841 & 50 & 0.010036241\\\\\n",
       "\t full\\_quad\\_KNN & Preprocessor1\\_Model11 & recipe             & nearest\\_neighbor & rsq & standard & 0.5464276 & 50 & 0.012524304\\\\\n",
       "\t SVM\\_radial    & Preprocessor1\\_Model18 & recipe             & svm\\_rbf          & rsq & standard & 0.5462543 & 50 & 0.010124418\\\\\n",
       "\t SVM\\_radial    & Preprocessor1\\_Model17 & recipe             & svm\\_rbf          & rsq & standard & 0.5459209 & 50 & 0.010133167\\\\\n",
       "\t SVM\\_radial    & Preprocessor1\\_Model14 & recipe             & svm\\_rbf          & rsq & standard & 0.5404456 & 50 & 0.010360900\\\\\n",
       "\t SVM\\_radial    & Preprocessor1\\_Model07 & recipe             & svm\\_rbf          & rsq & standard & 0.5404042 & 50 & 0.010376206\\\\\n",
       "\t SVM\\_radial    & Preprocessor1\\_Model15 & recipe             & svm\\_rbf          & rsq & standard & 0.5403643 & 50 & 0.010377567\\\\\n",
       "\t SVM\\_radial    & Preprocessor1\\_Model02 & recipe             & svm\\_rbf          & rsq & standard & 0.5401245 & 50 & 0.010378136\\\\\n",
       "\t SVM\\_radial    & Preprocessor1\\_Model19 & recipe             & svm\\_rbf          & rsq & standard & 0.5401244 & 50 & 0.010378140\\\\\n",
       "\t SVM\\_radial    & Preprocessor1\\_Model10 & recipe             & svm\\_rbf          & rsq & standard & 0.5401244 & 50 & 0.010378138\\\\\n",
       "\t SVM\\_radial    & Preprocessor1\\_Model20 & recipe             & svm\\_rbf          & rsq & standard & 0.5401101 & 50 & 0.010359292\\\\\n",
       "\t SVM\\_radial    & Preprocessor1\\_Model22 & recipe             & svm\\_rbf          & rsq & standard & 0.5400438 & 50 & 0.010380819\\\\\n",
       "\t SVM\\_radial    & Preprocessor1\\_Model06 & recipe             & svm\\_rbf          & rsq & standard & 0.5399771 & 50 & 0.010397742\\\\\n",
       "\t SVM\\_radial    & Preprocessor1\\_Model05 & recipe             & svm\\_rbf          & rsq & standard & 0.5399528 & 50 & 0.010383442\\\\\n",
       "\t SVM\\_radial    & Preprocessor1\\_Model16 & recipe             & svm\\_rbf          & rsq & standard & 0.5399383 & 50 & 0.010400814\\\\\n",
       "\t SVM\\_radial    & Preprocessor1\\_Model21 & recipe             & svm\\_rbf          & rsq & standard & 0.5399265 & 50 & 0.010401747\\\\\n",
       "\t SVM\\_radial    & Preprocessor1\\_Model11 & recipe             & svm\\_rbf          & rsq & standard & 0.5398894 & 50 & 0.010358748\\\\\n",
       "\t SVM\\_radial    & Preprocessor1\\_Model23 & recipe             & svm\\_rbf          & rsq & standard & 0.5398633 & 50 & 0.010427954\\\\\n",
       "\t SVM\\_radial    & Preprocessor1\\_Model13 & recipe             & svm\\_rbf          & rsq & standard & 0.5398632 & 50 & 0.010427964\\\\\n",
       "\t CART          & Preprocessor1\\_Model20 & workflow\\_variables & decision\\_tree    & rsq & standard & 0.5385069 & 50 & 0.007945303\\\\\n",
       "\t KNN           & Preprocessor1\\_Model11 & recipe             & nearest\\_neighbor & rsq & standard & 0.5251417 & 50 & 0.012690308\\\\\n",
       "\t CART          & Preprocessor1\\_Model01 & workflow\\_variables & decision\\_tree    & rsq & standard & 0.5160462 & 50 & 0.008660939\\\\\n",
       "\t KNN           & Preprocessor1\\_Model01 & recipe             & nearest\\_neighbor & rsq & standard & 0.4989405 & 50 & 0.012494975\\\\\n",
       "\t full\\_quad\\_KNN & Preprocessor1\\_Model01 & recipe             & nearest\\_neighbor & rsq & standard & 0.4805978 & 50 & 0.013464463\\\\\n",
       "\\end{tabular}\n"
      ],
      "text/markdown": [
       "\n",
       "A tibble: 252 × 9\n",
       "\n",
       "| wflow_id &lt;chr&gt; | .config &lt;chr&gt; | preproc &lt;chr&gt; | model &lt;chr&gt; | .metric &lt;chr&gt; | .estimator &lt;chr&gt; | mean &lt;dbl&gt; | n &lt;int&gt; | std_err &lt;dbl&gt; |\n",
       "|---|---|---|---|---|---|---|---|---|\n",
       "| boosting | Preprocessor1_Model04 | workflow_variables | boost_tree   | rsq | standard | 0.9334518 | 50 | 0.002990715 |\n",
       "| boosting | Preprocessor1_Model06 | workflow_variables | boost_tree   | rsq | standard | 0.9319413 | 50 | 0.002997219 |\n",
       "| boosting | Preprocessor1_Model13 | workflow_variables | boost_tree   | rsq | standard | 0.9314912 | 50 | 0.003003389 |\n",
       "| boosting | Preprocessor1_Model14 | workflow_variables | boost_tree   | rsq | standard | 0.9286359 | 50 | 0.003268780 |\n",
       "| boosting | Preprocessor1_Model03 | workflow_variables | boost_tree   | rsq | standard | 0.9271602 | 50 | 0.002853788 |\n",
       "| boosting | Preprocessor1_Model16 | workflow_variables | boost_tree   | rsq | standard | 0.9267659 | 50 | 0.003002573 |\n",
       "| boosting | Preprocessor1_Model15 | workflow_variables | boost_tree   | rsq | standard | 0.9264740 | 50 | 0.002941339 |\n",
       "| boosting | Preprocessor1_Model05 | workflow_variables | boost_tree   | rsq | standard | 0.9244940 | 50 | 0.002858795 |\n",
       "| Cubist   | Preprocessor1_Model24 | workflow_variables | cubist_rules | rsq | standard | 0.9190887 | 50 | 0.002993511 |\n",
       "| Cubist   | Preprocessor1_Model21 | workflow_variables | cubist_rules | rsq | standard | 0.9189927 | 50 | 0.003004175 |\n",
       "| boosting | Preprocessor1_Model20 | workflow_variables | boost_tree   | rsq | standard | 0.9188046 | 50 | 0.003061342 |\n",
       "| Cubist   | Preprocessor1_Model10 | workflow_variables | cubist_rules | rsq | standard | 0.9175625 | 50 | 0.003057829 |\n",
       "| Cubist   | Preprocessor1_Model16 | workflow_variables | cubist_rules | rsq | standard | 0.9170111 | 50 | 0.002759348 |\n",
       "| Cubist   | Preprocessor1_Model23 | workflow_variables | cubist_rules | rsq | standard | 0.9169959 | 50 | 0.002640568 |\n",
       "| Cubist   | Preprocessor1_Model19 | workflow_variables | cubist_rules | rsq | standard | 0.9168524 | 50 | 0.002638382 |\n",
       "| Cubist   | Preprocessor1_Model22 | workflow_variables | cubist_rules | rsq | standard | 0.9150346 | 50 | 0.002647351 |\n",
       "| Cubist   | Preprocessor1_Model17 | workflow_variables | cubist_rules | rsq | standard | 0.9148244 | 50 | 0.002645028 |\n",
       "| boosting | Preprocessor1_Model08 | workflow_variables | boost_tree   | rsq | standard | 0.9144055 | 50 | 0.002926898 |\n",
       "| Cubist   | Preprocessor1_Model08 | workflow_variables | cubist_rules | rsq | standard | 0.9136809 | 50 | 0.002681420 |\n",
       "| Cubist   | Preprocessor1_Model18 | workflow_variables | cubist_rules | rsq | standard | 0.9132194 | 50 | 0.002668568 |\n",
       "| Cubist   | Preprocessor1_Model15 | workflow_variables | cubist_rules | rsq | standard | 0.9129347 | 50 | 0.002659153 |\n",
       "| Cubist   | Preprocessor1_Model12 | workflow_variables | cubist_rules | rsq | standard | 0.9110438 | 50 | 0.002668513 |\n",
       "| Cubist   | Preprocessor1_Model09 | workflow_variables | cubist_rules | rsq | standard | 0.9106780 | 50 | 0.002668719 |\n",
       "| Cubist   | Preprocessor1_Model25 | workflow_variables | cubist_rules | rsq | standard | 0.9105721 | 50 | 0.002724486 |\n",
       "| Cubist   | Preprocessor1_Model20 | workflow_variables | cubist_rules | rsq | standard | 0.9104115 | 50 | 0.002724694 |\n",
       "| Cubist   | Preprocessor1_Model03 | workflow_variables | cubist_rules | rsq | standard | 0.9098240 | 50 | 0.002754861 |\n",
       "| Cubist   | Preprocessor1_Model13 | workflow_variables | cubist_rules | rsq | standard | 0.9097659 | 50 | 0.002715273 |\n",
       "| Cubist   | Preprocessor1_Model06 | workflow_variables | cubist_rules | rsq | standard | 0.9096834 | 50 | 0.002693834 |\n",
       "| Cubist   | Preprocessor1_Model02 | workflow_variables | cubist_rules | rsq | standard | 0.9096831 | 50 | 0.003031990 |\n",
       "| Cubist   | Preprocessor1_Model14 | workflow_variables | cubist_rules | rsq | standard | 0.9084483 | 50 | 0.002737892 |\n",
       "| ⋮ | ⋮ | ⋮ | ⋮ | ⋮ | ⋮ | ⋮ | ⋮ | ⋮ |\n",
       "| SVM_poly      | Preprocessor1_Model19 | recipe             | svm_poly         | rsq | standard | 0.5793741 | 50 | 0.011979968 |\n",
       "| SVM_poly      | Preprocessor1_Model11 | recipe             | svm_poly         | rsq | standard | 0.5786372 | 50 | 0.012887472 |\n",
       "| SVM_poly      | Preprocessor1_Model02 | recipe             | svm_poly         | rsq | standard | 0.5746722 | 50 | 0.011407642 |\n",
       "| SVM_poly      | Preprocessor1_Model10 | recipe             | svm_poly         | rsq | standard | 0.5709892 | 50 | 0.011170153 |\n",
       "| SVM_radial    | Preprocessor1_Model08 | recipe             | svm_rbf          | rsq | standard | 0.5615738 | 50 | 0.010387700 |\n",
       "| SVM_radial    | Preprocessor1_Model03 | recipe             | svm_rbf          | rsq | standard | 0.5534907 | 50 | 0.010042181 |\n",
       "| SVM_radial    | Preprocessor1_Model04 | recipe             | svm_rbf          | rsq | standard | 0.5529841 | 50 | 0.010036241 |\n",
       "| full_quad_KNN | Preprocessor1_Model11 | recipe             | nearest_neighbor | rsq | standard | 0.5464276 | 50 | 0.012524304 |\n",
       "| SVM_radial    | Preprocessor1_Model18 | recipe             | svm_rbf          | rsq | standard | 0.5462543 | 50 | 0.010124418 |\n",
       "| SVM_radial    | Preprocessor1_Model17 | recipe             | svm_rbf          | rsq | standard | 0.5459209 | 50 | 0.010133167 |\n",
       "| SVM_radial    | Preprocessor1_Model14 | recipe             | svm_rbf          | rsq | standard | 0.5404456 | 50 | 0.010360900 |\n",
       "| SVM_radial    | Preprocessor1_Model07 | recipe             | svm_rbf          | rsq | standard | 0.5404042 | 50 | 0.010376206 |\n",
       "| SVM_radial    | Preprocessor1_Model15 | recipe             | svm_rbf          | rsq | standard | 0.5403643 | 50 | 0.010377567 |\n",
       "| SVM_radial    | Preprocessor1_Model02 | recipe             | svm_rbf          | rsq | standard | 0.5401245 | 50 | 0.010378136 |\n",
       "| SVM_radial    | Preprocessor1_Model19 | recipe             | svm_rbf          | rsq | standard | 0.5401244 | 50 | 0.010378140 |\n",
       "| SVM_radial    | Preprocessor1_Model10 | recipe             | svm_rbf          | rsq | standard | 0.5401244 | 50 | 0.010378138 |\n",
       "| SVM_radial    | Preprocessor1_Model20 | recipe             | svm_rbf          | rsq | standard | 0.5401101 | 50 | 0.010359292 |\n",
       "| SVM_radial    | Preprocessor1_Model22 | recipe             | svm_rbf          | rsq | standard | 0.5400438 | 50 | 0.010380819 |\n",
       "| SVM_radial    | Preprocessor1_Model06 | recipe             | svm_rbf          | rsq | standard | 0.5399771 | 50 | 0.010397742 |\n",
       "| SVM_radial    | Preprocessor1_Model05 | recipe             | svm_rbf          | rsq | standard | 0.5399528 | 50 | 0.010383442 |\n",
       "| SVM_radial    | Preprocessor1_Model16 | recipe             | svm_rbf          | rsq | standard | 0.5399383 | 50 | 0.010400814 |\n",
       "| SVM_radial    | Preprocessor1_Model21 | recipe             | svm_rbf          | rsq | standard | 0.5399265 | 50 | 0.010401747 |\n",
       "| SVM_radial    | Preprocessor1_Model11 | recipe             | svm_rbf          | rsq | standard | 0.5398894 | 50 | 0.010358748 |\n",
       "| SVM_radial    | Preprocessor1_Model23 | recipe             | svm_rbf          | rsq | standard | 0.5398633 | 50 | 0.010427954 |\n",
       "| SVM_radial    | Preprocessor1_Model13 | recipe             | svm_rbf          | rsq | standard | 0.5398632 | 50 | 0.010427964 |\n",
       "| CART          | Preprocessor1_Model20 | workflow_variables | decision_tree    | rsq | standard | 0.5385069 | 50 | 0.007945303 |\n",
       "| KNN           | Preprocessor1_Model11 | recipe             | nearest_neighbor | rsq | standard | 0.5251417 | 50 | 0.012690308 |\n",
       "| CART          | Preprocessor1_Model01 | workflow_variables | decision_tree    | rsq | standard | 0.5160462 | 50 | 0.008660939 |\n",
       "| KNN           | Preprocessor1_Model01 | recipe             | nearest_neighbor | rsq | standard | 0.4989405 | 50 | 0.012494975 |\n",
       "| full_quad_KNN | Preprocessor1_Model01 | recipe             | nearest_neighbor | rsq | standard | 0.4805978 | 50 | 0.013464463 |\n",
       "\n"
      ],
      "text/plain": [
       "    wflow_id      .config               preproc            model           \n",
       "1   boosting      Preprocessor1_Model04 workflow_variables boost_tree      \n",
       "2   boosting      Preprocessor1_Model06 workflow_variables boost_tree      \n",
       "3   boosting      Preprocessor1_Model13 workflow_variables boost_tree      \n",
       "4   boosting      Preprocessor1_Model14 workflow_variables boost_tree      \n",
       "5   boosting      Preprocessor1_Model03 workflow_variables boost_tree      \n",
       "6   boosting      Preprocessor1_Model16 workflow_variables boost_tree      \n",
       "7   boosting      Preprocessor1_Model15 workflow_variables boost_tree      \n",
       "8   boosting      Preprocessor1_Model05 workflow_variables boost_tree      \n",
       "9   Cubist        Preprocessor1_Model24 workflow_variables cubist_rules    \n",
       "10  Cubist        Preprocessor1_Model21 workflow_variables cubist_rules    \n",
       "11  boosting      Preprocessor1_Model20 workflow_variables boost_tree      \n",
       "12  Cubist        Preprocessor1_Model10 workflow_variables cubist_rules    \n",
       "13  Cubist        Preprocessor1_Model16 workflow_variables cubist_rules    \n",
       "14  Cubist        Preprocessor1_Model23 workflow_variables cubist_rules    \n",
       "15  Cubist        Preprocessor1_Model19 workflow_variables cubist_rules    \n",
       "16  Cubist        Preprocessor1_Model22 workflow_variables cubist_rules    \n",
       "17  Cubist        Preprocessor1_Model17 workflow_variables cubist_rules    \n",
       "18  boosting      Preprocessor1_Model08 workflow_variables boost_tree      \n",
       "19  Cubist        Preprocessor1_Model08 workflow_variables cubist_rules    \n",
       "20  Cubist        Preprocessor1_Model18 workflow_variables cubist_rules    \n",
       "21  Cubist        Preprocessor1_Model15 workflow_variables cubist_rules    \n",
       "22  Cubist        Preprocessor1_Model12 workflow_variables cubist_rules    \n",
       "23  Cubist        Preprocessor1_Model09 workflow_variables cubist_rules    \n",
       "24  Cubist        Preprocessor1_Model25 workflow_variables cubist_rules    \n",
       "25  Cubist        Preprocessor1_Model20 workflow_variables cubist_rules    \n",
       "26  Cubist        Preprocessor1_Model03 workflow_variables cubist_rules    \n",
       "27  Cubist        Preprocessor1_Model13 workflow_variables cubist_rules    \n",
       "28  Cubist        Preprocessor1_Model06 workflow_variables cubist_rules    \n",
       "29  Cubist        Preprocessor1_Model02 workflow_variables cubist_rules    \n",
       "30  Cubist        Preprocessor1_Model14 workflow_variables cubist_rules    \n",
       "⋮   ⋮             ⋮                     ⋮                  ⋮               \n",
       "223 SVM_poly      Preprocessor1_Model19 recipe             svm_poly        \n",
       "224 SVM_poly      Preprocessor1_Model11 recipe             svm_poly        \n",
       "225 SVM_poly      Preprocessor1_Model02 recipe             svm_poly        \n",
       "226 SVM_poly      Preprocessor1_Model10 recipe             svm_poly        \n",
       "227 SVM_radial    Preprocessor1_Model08 recipe             svm_rbf         \n",
       "228 SVM_radial    Preprocessor1_Model03 recipe             svm_rbf         \n",
       "229 SVM_radial    Preprocessor1_Model04 recipe             svm_rbf         \n",
       "230 full_quad_KNN Preprocessor1_Model11 recipe             nearest_neighbor\n",
       "231 SVM_radial    Preprocessor1_Model18 recipe             svm_rbf         \n",
       "232 SVM_radial    Preprocessor1_Model17 recipe             svm_rbf         \n",
       "233 SVM_radial    Preprocessor1_Model14 recipe             svm_rbf         \n",
       "234 SVM_radial    Preprocessor1_Model07 recipe             svm_rbf         \n",
       "235 SVM_radial    Preprocessor1_Model15 recipe             svm_rbf         \n",
       "236 SVM_radial    Preprocessor1_Model02 recipe             svm_rbf         \n",
       "237 SVM_radial    Preprocessor1_Model19 recipe             svm_rbf         \n",
       "238 SVM_radial    Preprocessor1_Model10 recipe             svm_rbf         \n",
       "239 SVM_radial    Preprocessor1_Model20 recipe             svm_rbf         \n",
       "240 SVM_radial    Preprocessor1_Model22 recipe             svm_rbf         \n",
       "241 SVM_radial    Preprocessor1_Model06 recipe             svm_rbf         \n",
       "242 SVM_radial    Preprocessor1_Model05 recipe             svm_rbf         \n",
       "243 SVM_radial    Preprocessor1_Model16 recipe             svm_rbf         \n",
       "244 SVM_radial    Preprocessor1_Model21 recipe             svm_rbf         \n",
       "245 SVM_radial    Preprocessor1_Model11 recipe             svm_rbf         \n",
       "246 SVM_radial    Preprocessor1_Model23 recipe             svm_rbf         \n",
       "247 SVM_radial    Preprocessor1_Model13 recipe             svm_rbf         \n",
       "248 CART          Preprocessor1_Model20 workflow_variables decision_tree   \n",
       "249 KNN           Preprocessor1_Model11 recipe             nearest_neighbor\n",
       "250 CART          Preprocessor1_Model01 workflow_variables decision_tree   \n",
       "251 KNN           Preprocessor1_Model01 recipe             nearest_neighbor\n",
       "252 full_quad_KNN Preprocessor1_Model01 recipe             nearest_neighbor\n",
       "    .metric .estimator mean      n  std_err    \n",
       "1   rsq     standard   0.9334518 50 0.002990715\n",
       "2   rsq     standard   0.9319413 50 0.002997219\n",
       "3   rsq     standard   0.9314912 50 0.003003389\n",
       "4   rsq     standard   0.9286359 50 0.003268780\n",
       "5   rsq     standard   0.9271602 50 0.002853788\n",
       "6   rsq     standard   0.9267659 50 0.003002573\n",
       "7   rsq     standard   0.9264740 50 0.002941339\n",
       "8   rsq     standard   0.9244940 50 0.002858795\n",
       "9   rsq     standard   0.9190887 50 0.002993511\n",
       "10  rsq     standard   0.9189927 50 0.003004175\n",
       "11  rsq     standard   0.9188046 50 0.003061342\n",
       "12  rsq     standard   0.9175625 50 0.003057829\n",
       "13  rsq     standard   0.9170111 50 0.002759348\n",
       "14  rsq     standard   0.9169959 50 0.002640568\n",
       "15  rsq     standard   0.9168524 50 0.002638382\n",
       "16  rsq     standard   0.9150346 50 0.002647351\n",
       "17  rsq     standard   0.9148244 50 0.002645028\n",
       "18  rsq     standard   0.9144055 50 0.002926898\n",
       "19  rsq     standard   0.9136809 50 0.002681420\n",
       "20  rsq     standard   0.9132194 50 0.002668568\n",
       "21  rsq     standard   0.9129347 50 0.002659153\n",
       "22  rsq     standard   0.9110438 50 0.002668513\n",
       "23  rsq     standard   0.9106780 50 0.002668719\n",
       "24  rsq     standard   0.9105721 50 0.002724486\n",
       "25  rsq     standard   0.9104115 50 0.002724694\n",
       "26  rsq     standard   0.9098240 50 0.002754861\n",
       "27  rsq     standard   0.9097659 50 0.002715273\n",
       "28  rsq     standard   0.9096834 50 0.002693834\n",
       "29  rsq     standard   0.9096831 50 0.003031990\n",
       "30  rsq     standard   0.9084483 50 0.002737892\n",
       "⋮   ⋮       ⋮          ⋮         ⋮  ⋮          \n",
       "223 rsq     standard   0.5793741 50 0.011979968\n",
       "224 rsq     standard   0.5786372 50 0.012887472\n",
       "225 rsq     standard   0.5746722 50 0.011407642\n",
       "226 rsq     standard   0.5709892 50 0.011170153\n",
       "227 rsq     standard   0.5615738 50 0.010387700\n",
       "228 rsq     standard   0.5534907 50 0.010042181\n",
       "229 rsq     standard   0.5529841 50 0.010036241\n",
       "230 rsq     standard   0.5464276 50 0.012524304\n",
       "231 rsq     standard   0.5462543 50 0.010124418\n",
       "232 rsq     standard   0.5459209 50 0.010133167\n",
       "233 rsq     standard   0.5404456 50 0.010360900\n",
       "234 rsq     standard   0.5404042 50 0.010376206\n",
       "235 rsq     standard   0.5403643 50 0.010377567\n",
       "236 rsq     standard   0.5401245 50 0.010378136\n",
       "237 rsq     standard   0.5401244 50 0.010378140\n",
       "238 rsq     standard   0.5401244 50 0.010378138\n",
       "239 rsq     standard   0.5401101 50 0.010359292\n",
       "240 rsq     standard   0.5400438 50 0.010380819\n",
       "241 rsq     standard   0.5399771 50 0.010397742\n",
       "242 rsq     standard   0.5399528 50 0.010383442\n",
       "243 rsq     standard   0.5399383 50 0.010400814\n",
       "244 rsq     standard   0.5399265 50 0.010401747\n",
       "245 rsq     standard   0.5398894 50 0.010358748\n",
       "246 rsq     standard   0.5398633 50 0.010427954\n",
       "247 rsq     standard   0.5398632 50 0.010427964\n",
       "248 rsq     standard   0.5385069 50 0.007945303\n",
       "249 rsq     standard   0.5251417 50 0.012690308\n",
       "250 rsq     standard   0.5160462 50 0.008660939\n",
       "251 rsq     standard   0.4989405 50 0.012494975\n",
       "252 rsq     standard   0.4805978 50 0.013464463"
      ]
     },
     "metadata": {},
     "output_type": "display_data"
    }
   ],
   "source": [
    "collect_metrics(grid_results) |>\n",
    "               filter(.metric == 'rsq') |>\n",
    "               arrange(desc(mean)) "
   ]
  },
  {
   "cell_type": "markdown",
   "id": "a3522442-b462-4cfc-a9d8-aac6e7442d8e",
   "metadata": {},
   "source": [
    "The option column now contains all of the options that we used in the workflow_map() call. This makes our results reproducible. In the result columns, the “tune[+]” and “rsmp[+]” notations mean that the object had no issues. A value such as “tune[x]” occurs if all of the models failed for some reason.\r\n",
    "\r\n",
    "There are a few convenience functions for examining results such as grid_results. The rank_results() function will order the models by some performance metric. By default, it uses the first metric in the metric set (RMSE in this instance). Let’s filter() to look only at RMSE:"
   ]
  },
  {
   "cell_type": "code",
   "execution_count": 118,
   "id": "08ecf810-7e54-48b3-ace9-620937ce7d0e",
   "metadata": {},
   "outputs": [
    {
     "data": {
      "text/html": [
       "<table class=\"dataframe\">\n",
       "<caption>A tibble: 252 × 4</caption>\n",
       "<thead>\n",
       "\t<tr><th scope=col>model</th><th scope=col>.config</th><th scope=col>rmse</th><th scope=col>rank</th></tr>\n",
       "\t<tr><th scope=col>&lt;chr&gt;</th><th scope=col>&lt;chr&gt;</th><th scope=col>&lt;dbl&gt;</th><th scope=col>&lt;int&gt;</th></tr>\n",
       "</thead>\n",
       "<tbody>\n",
       "\t<tr><td>boost_tree  </td><td>Preprocessor1_Model04</td><td>0.9334518</td><td> 1</td></tr>\n",
       "\t<tr><td>boost_tree  </td><td>Preprocessor1_Model06</td><td>0.9319413</td><td> 2</td></tr>\n",
       "\t<tr><td>boost_tree  </td><td>Preprocessor1_Model13</td><td>0.9314912</td><td> 3</td></tr>\n",
       "\t<tr><td>boost_tree  </td><td>Preprocessor1_Model14</td><td>0.9286359</td><td> 4</td></tr>\n",
       "\t<tr><td>boost_tree  </td><td>Preprocessor1_Model16</td><td>0.9267659</td><td> 5</td></tr>\n",
       "\t<tr><td>boost_tree  </td><td>Preprocessor1_Model03</td><td>0.9271602</td><td> 6</td></tr>\n",
       "\t<tr><td>boost_tree  </td><td>Preprocessor1_Model15</td><td>0.9264740</td><td> 7</td></tr>\n",
       "\t<tr><td>boost_tree  </td><td>Preprocessor1_Model05</td><td>0.9244940</td><td> 8</td></tr>\n",
       "\t<tr><td>boost_tree  </td><td>Preprocessor1_Model20</td><td>0.9188046</td><td> 9</td></tr>\n",
       "\t<tr><td>cubist_rules</td><td>Preprocessor1_Model24</td><td>0.9190887</td><td>10</td></tr>\n",
       "\t<tr><td>cubist_rules</td><td>Preprocessor1_Model21</td><td>0.9189927</td><td>11</td></tr>\n",
       "\t<tr><td>cubist_rules</td><td>Preprocessor1_Model10</td><td>0.9175625</td><td>12</td></tr>\n",
       "\t<tr><td>cubist_rules</td><td>Preprocessor1_Model23</td><td>0.9169959</td><td>13</td></tr>\n",
       "\t<tr><td>cubist_rules</td><td>Preprocessor1_Model16</td><td>0.9170111</td><td>14</td></tr>\n",
       "\t<tr><td>cubist_rules</td><td>Preprocessor1_Model19</td><td>0.9168524</td><td>15</td></tr>\n",
       "\t<tr><td>cubist_rules</td><td>Preprocessor1_Model22</td><td>0.9150346</td><td>16</td></tr>\n",
       "\t<tr><td>cubist_rules</td><td>Preprocessor1_Model17</td><td>0.9148244</td><td>17</td></tr>\n",
       "\t<tr><td>boost_tree  </td><td>Preprocessor1_Model08</td><td>0.9144055</td><td>18</td></tr>\n",
       "\t<tr><td>cubist_rules</td><td>Preprocessor1_Model08</td><td>0.9136809</td><td>19</td></tr>\n",
       "\t<tr><td>cubist_rules</td><td>Preprocessor1_Model18</td><td>0.9132194</td><td>20</td></tr>\n",
       "\t<tr><td>cubist_rules</td><td>Preprocessor1_Model15</td><td>0.9129347</td><td>21</td></tr>\n",
       "\t<tr><td>cubist_rules</td><td>Preprocessor1_Model12</td><td>0.9110438</td><td>22</td></tr>\n",
       "\t<tr><td>cubist_rules</td><td>Preprocessor1_Model25</td><td>0.9105721</td><td>23</td></tr>\n",
       "\t<tr><td>cubist_rules</td><td>Preprocessor1_Model09</td><td>0.9106780</td><td>24</td></tr>\n",
       "\t<tr><td>cubist_rules</td><td>Preprocessor1_Model20</td><td>0.9104115</td><td>25</td></tr>\n",
       "\t<tr><td>cubist_rules</td><td>Preprocessor1_Model03</td><td>0.9098240</td><td>26</td></tr>\n",
       "\t<tr><td>cubist_rules</td><td>Preprocessor1_Model02</td><td>0.9096831</td><td>27</td></tr>\n",
       "\t<tr><td>cubist_rules</td><td>Preprocessor1_Model13</td><td>0.9097659</td><td>28</td></tr>\n",
       "\t<tr><td>cubist_rules</td><td>Preprocessor1_Model06</td><td>0.9096834</td><td>29</td></tr>\n",
       "\t<tr><td>cubist_rules</td><td>Preprocessor1_Model14</td><td>0.9084483</td><td>30</td></tr>\n",
       "\t<tr><td>⋮</td><td>⋮</td><td>⋮</td><td>⋮</td></tr>\n",
       "\t<tr><td>decision_tree   </td><td>Preprocessor1_Model20</td><td>0.5385069</td><td>223</td></tr>\n",
       "\t<tr><td>nearest_neighbor</td><td>Preprocessor1_Model11</td><td>0.5464276</td><td>224</td></tr>\n",
       "\t<tr><td>decision_tree   </td><td>Preprocessor1_Model01</td><td>0.5160462</td><td>225</td></tr>\n",
       "\t<tr><td>nearest_neighbor</td><td>Preprocessor1_Model11</td><td>0.5251417</td><td>226</td></tr>\n",
       "\t<tr><td>nearest_neighbor</td><td>Preprocessor1_Model01</td><td>0.4989405</td><td>227</td></tr>\n",
       "\t<tr><td>nearest_neighbor</td><td>Preprocessor1_Model01</td><td>0.4805978</td><td>228</td></tr>\n",
       "\t<tr><td>svm_rbf         </td><td>Preprocessor1_Model08</td><td>0.5615738</td><td>229</td></tr>\n",
       "\t<tr><td>boost_tree      </td><td>Preprocessor1_Model25</td><td>0.6722699</td><td>230</td></tr>\n",
       "\t<tr><td>svm_rbf         </td><td>Preprocessor1_Model03</td><td>0.5534907</td><td>231</td></tr>\n",
       "\t<tr><td>svm_rbf         </td><td>Preprocessor1_Model04</td><td>0.5529841</td><td>232</td></tr>\n",
       "\t<tr><td>svm_rbf         </td><td>Preprocessor1_Model17</td><td>0.5459209</td><td>233</td></tr>\n",
       "\t<tr><td>svm_rbf         </td><td>Preprocessor1_Model18</td><td>0.5462543</td><td>234</td></tr>\n",
       "\t<tr><td>svm_rbf         </td><td>Preprocessor1_Model14</td><td>0.5404456</td><td>235</td></tr>\n",
       "\t<tr><td>svm_rbf         </td><td>Preprocessor1_Model15</td><td>0.5403643</td><td>236</td></tr>\n",
       "\t<tr><td>svm_rbf         </td><td>Preprocessor1_Model07</td><td>0.5404042</td><td>237</td></tr>\n",
       "\t<tr><td>svm_rbf         </td><td>Preprocessor1_Model20</td><td>0.5401101</td><td>238</td></tr>\n",
       "\t<tr><td>svm_rbf         </td><td>Preprocessor1_Model16</td><td>0.5399383</td><td>239</td></tr>\n",
       "\t<tr><td>svm_rbf         </td><td>Preprocessor1_Model21</td><td>0.5399265</td><td>240</td></tr>\n",
       "\t<tr><td>svm_rbf         </td><td>Preprocessor1_Model06</td><td>0.5399771</td><td>241</td></tr>\n",
       "\t<tr><td>svm_rbf         </td><td>Preprocessor1_Model11</td><td>0.5398894</td><td>242</td></tr>\n",
       "\t<tr><td>svm_rbf         </td><td>Preprocessor1_Model05</td><td>0.5399528</td><td>243</td></tr>\n",
       "\t<tr><td>svm_rbf         </td><td>Preprocessor1_Model23</td><td>0.5398633</td><td>244</td></tr>\n",
       "\t<tr><td>svm_rbf         </td><td>Preprocessor1_Model13</td><td>0.5398632</td><td>245</td></tr>\n",
       "\t<tr><td>svm_rbf         </td><td>Preprocessor1_Model22</td><td>0.5400438</td><td>246</td></tr>\n",
       "\t<tr><td>svm_rbf         </td><td>Preprocessor1_Model02</td><td>0.5401245</td><td>247</td></tr>\n",
       "\t<tr><td>svm_rbf         </td><td>Preprocessor1_Model10</td><td>0.5401244</td><td>248</td></tr>\n",
       "\t<tr><td>svm_rbf         </td><td>Preprocessor1_Model19</td><td>0.5401244</td><td>249</td></tr>\n",
       "\t<tr><td>boost_tree      </td><td>Preprocessor1_Model09</td><td>0.7946843</td><td>250</td></tr>\n",
       "\t<tr><td>boost_tree      </td><td>Preprocessor1_Model07</td><td>0.7615387</td><td>251</td></tr>\n",
       "\t<tr><td>boost_tree      </td><td>Preprocessor1_Model22</td><td>0.7325437</td><td>252</td></tr>\n",
       "</tbody>\n",
       "</table>\n"
      ],
      "text/latex": [
       "A tibble: 252 × 4\n",
       "\\begin{tabular}{llll}\n",
       " model & .config & rmse & rank\\\\\n",
       " <chr> & <chr> & <dbl> & <int>\\\\\n",
       "\\hline\n",
       "\t boost\\_tree   & Preprocessor1\\_Model04 & 0.9334518 &  1\\\\\n",
       "\t boost\\_tree   & Preprocessor1\\_Model06 & 0.9319413 &  2\\\\\n",
       "\t boost\\_tree   & Preprocessor1\\_Model13 & 0.9314912 &  3\\\\\n",
       "\t boost\\_tree   & Preprocessor1\\_Model14 & 0.9286359 &  4\\\\\n",
       "\t boost\\_tree   & Preprocessor1\\_Model16 & 0.9267659 &  5\\\\\n",
       "\t boost\\_tree   & Preprocessor1\\_Model03 & 0.9271602 &  6\\\\\n",
       "\t boost\\_tree   & Preprocessor1\\_Model15 & 0.9264740 &  7\\\\\n",
       "\t boost\\_tree   & Preprocessor1\\_Model05 & 0.9244940 &  8\\\\\n",
       "\t boost\\_tree   & Preprocessor1\\_Model20 & 0.9188046 &  9\\\\\n",
       "\t cubist\\_rules & Preprocessor1\\_Model24 & 0.9190887 & 10\\\\\n",
       "\t cubist\\_rules & Preprocessor1\\_Model21 & 0.9189927 & 11\\\\\n",
       "\t cubist\\_rules & Preprocessor1\\_Model10 & 0.9175625 & 12\\\\\n",
       "\t cubist\\_rules & Preprocessor1\\_Model23 & 0.9169959 & 13\\\\\n",
       "\t cubist\\_rules & Preprocessor1\\_Model16 & 0.9170111 & 14\\\\\n",
       "\t cubist\\_rules & Preprocessor1\\_Model19 & 0.9168524 & 15\\\\\n",
       "\t cubist\\_rules & Preprocessor1\\_Model22 & 0.9150346 & 16\\\\\n",
       "\t cubist\\_rules & Preprocessor1\\_Model17 & 0.9148244 & 17\\\\\n",
       "\t boost\\_tree   & Preprocessor1\\_Model08 & 0.9144055 & 18\\\\\n",
       "\t cubist\\_rules & Preprocessor1\\_Model08 & 0.9136809 & 19\\\\\n",
       "\t cubist\\_rules & Preprocessor1\\_Model18 & 0.9132194 & 20\\\\\n",
       "\t cubist\\_rules & Preprocessor1\\_Model15 & 0.9129347 & 21\\\\\n",
       "\t cubist\\_rules & Preprocessor1\\_Model12 & 0.9110438 & 22\\\\\n",
       "\t cubist\\_rules & Preprocessor1\\_Model25 & 0.9105721 & 23\\\\\n",
       "\t cubist\\_rules & Preprocessor1\\_Model09 & 0.9106780 & 24\\\\\n",
       "\t cubist\\_rules & Preprocessor1\\_Model20 & 0.9104115 & 25\\\\\n",
       "\t cubist\\_rules & Preprocessor1\\_Model03 & 0.9098240 & 26\\\\\n",
       "\t cubist\\_rules & Preprocessor1\\_Model02 & 0.9096831 & 27\\\\\n",
       "\t cubist\\_rules & Preprocessor1\\_Model13 & 0.9097659 & 28\\\\\n",
       "\t cubist\\_rules & Preprocessor1\\_Model06 & 0.9096834 & 29\\\\\n",
       "\t cubist\\_rules & Preprocessor1\\_Model14 & 0.9084483 & 30\\\\\n",
       "\t ⋮ & ⋮ & ⋮ & ⋮\\\\\n",
       "\t decision\\_tree    & Preprocessor1\\_Model20 & 0.5385069 & 223\\\\\n",
       "\t nearest\\_neighbor & Preprocessor1\\_Model11 & 0.5464276 & 224\\\\\n",
       "\t decision\\_tree    & Preprocessor1\\_Model01 & 0.5160462 & 225\\\\\n",
       "\t nearest\\_neighbor & Preprocessor1\\_Model11 & 0.5251417 & 226\\\\\n",
       "\t nearest\\_neighbor & Preprocessor1\\_Model01 & 0.4989405 & 227\\\\\n",
       "\t nearest\\_neighbor & Preprocessor1\\_Model01 & 0.4805978 & 228\\\\\n",
       "\t svm\\_rbf          & Preprocessor1\\_Model08 & 0.5615738 & 229\\\\\n",
       "\t boost\\_tree       & Preprocessor1\\_Model25 & 0.6722699 & 230\\\\\n",
       "\t svm\\_rbf          & Preprocessor1\\_Model03 & 0.5534907 & 231\\\\\n",
       "\t svm\\_rbf          & Preprocessor1\\_Model04 & 0.5529841 & 232\\\\\n",
       "\t svm\\_rbf          & Preprocessor1\\_Model17 & 0.5459209 & 233\\\\\n",
       "\t svm\\_rbf          & Preprocessor1\\_Model18 & 0.5462543 & 234\\\\\n",
       "\t svm\\_rbf          & Preprocessor1\\_Model14 & 0.5404456 & 235\\\\\n",
       "\t svm\\_rbf          & Preprocessor1\\_Model15 & 0.5403643 & 236\\\\\n",
       "\t svm\\_rbf          & Preprocessor1\\_Model07 & 0.5404042 & 237\\\\\n",
       "\t svm\\_rbf          & Preprocessor1\\_Model20 & 0.5401101 & 238\\\\\n",
       "\t svm\\_rbf          & Preprocessor1\\_Model16 & 0.5399383 & 239\\\\\n",
       "\t svm\\_rbf          & Preprocessor1\\_Model21 & 0.5399265 & 240\\\\\n",
       "\t svm\\_rbf          & Preprocessor1\\_Model06 & 0.5399771 & 241\\\\\n",
       "\t svm\\_rbf          & Preprocessor1\\_Model11 & 0.5398894 & 242\\\\\n",
       "\t svm\\_rbf          & Preprocessor1\\_Model05 & 0.5399528 & 243\\\\\n",
       "\t svm\\_rbf          & Preprocessor1\\_Model23 & 0.5398633 & 244\\\\\n",
       "\t svm\\_rbf          & Preprocessor1\\_Model13 & 0.5398632 & 245\\\\\n",
       "\t svm\\_rbf          & Preprocessor1\\_Model22 & 0.5400438 & 246\\\\\n",
       "\t svm\\_rbf          & Preprocessor1\\_Model02 & 0.5401245 & 247\\\\\n",
       "\t svm\\_rbf          & Preprocessor1\\_Model10 & 0.5401244 & 248\\\\\n",
       "\t svm\\_rbf          & Preprocessor1\\_Model19 & 0.5401244 & 249\\\\\n",
       "\t boost\\_tree       & Preprocessor1\\_Model09 & 0.7946843 & 250\\\\\n",
       "\t boost\\_tree       & Preprocessor1\\_Model07 & 0.7615387 & 251\\\\\n",
       "\t boost\\_tree       & Preprocessor1\\_Model22 & 0.7325437 & 252\\\\\n",
       "\\end{tabular}\n"
      ],
      "text/markdown": [
       "\n",
       "A tibble: 252 × 4\n",
       "\n",
       "| model &lt;chr&gt; | .config &lt;chr&gt; | rmse &lt;dbl&gt; | rank &lt;int&gt; |\n",
       "|---|---|---|---|\n",
       "| boost_tree   | Preprocessor1_Model04 | 0.9334518 |  1 |\n",
       "| boost_tree   | Preprocessor1_Model06 | 0.9319413 |  2 |\n",
       "| boost_tree   | Preprocessor1_Model13 | 0.9314912 |  3 |\n",
       "| boost_tree   | Preprocessor1_Model14 | 0.9286359 |  4 |\n",
       "| boost_tree   | Preprocessor1_Model16 | 0.9267659 |  5 |\n",
       "| boost_tree   | Preprocessor1_Model03 | 0.9271602 |  6 |\n",
       "| boost_tree   | Preprocessor1_Model15 | 0.9264740 |  7 |\n",
       "| boost_tree   | Preprocessor1_Model05 | 0.9244940 |  8 |\n",
       "| boost_tree   | Preprocessor1_Model20 | 0.9188046 |  9 |\n",
       "| cubist_rules | Preprocessor1_Model24 | 0.9190887 | 10 |\n",
       "| cubist_rules | Preprocessor1_Model21 | 0.9189927 | 11 |\n",
       "| cubist_rules | Preprocessor1_Model10 | 0.9175625 | 12 |\n",
       "| cubist_rules | Preprocessor1_Model23 | 0.9169959 | 13 |\n",
       "| cubist_rules | Preprocessor1_Model16 | 0.9170111 | 14 |\n",
       "| cubist_rules | Preprocessor1_Model19 | 0.9168524 | 15 |\n",
       "| cubist_rules | Preprocessor1_Model22 | 0.9150346 | 16 |\n",
       "| cubist_rules | Preprocessor1_Model17 | 0.9148244 | 17 |\n",
       "| boost_tree   | Preprocessor1_Model08 | 0.9144055 | 18 |\n",
       "| cubist_rules | Preprocessor1_Model08 | 0.9136809 | 19 |\n",
       "| cubist_rules | Preprocessor1_Model18 | 0.9132194 | 20 |\n",
       "| cubist_rules | Preprocessor1_Model15 | 0.9129347 | 21 |\n",
       "| cubist_rules | Preprocessor1_Model12 | 0.9110438 | 22 |\n",
       "| cubist_rules | Preprocessor1_Model25 | 0.9105721 | 23 |\n",
       "| cubist_rules | Preprocessor1_Model09 | 0.9106780 | 24 |\n",
       "| cubist_rules | Preprocessor1_Model20 | 0.9104115 | 25 |\n",
       "| cubist_rules | Preprocessor1_Model03 | 0.9098240 | 26 |\n",
       "| cubist_rules | Preprocessor1_Model02 | 0.9096831 | 27 |\n",
       "| cubist_rules | Preprocessor1_Model13 | 0.9097659 | 28 |\n",
       "| cubist_rules | Preprocessor1_Model06 | 0.9096834 | 29 |\n",
       "| cubist_rules | Preprocessor1_Model14 | 0.9084483 | 30 |\n",
       "| ⋮ | ⋮ | ⋮ | ⋮ |\n",
       "| decision_tree    | Preprocessor1_Model20 | 0.5385069 | 223 |\n",
       "| nearest_neighbor | Preprocessor1_Model11 | 0.5464276 | 224 |\n",
       "| decision_tree    | Preprocessor1_Model01 | 0.5160462 | 225 |\n",
       "| nearest_neighbor | Preprocessor1_Model11 | 0.5251417 | 226 |\n",
       "| nearest_neighbor | Preprocessor1_Model01 | 0.4989405 | 227 |\n",
       "| nearest_neighbor | Preprocessor1_Model01 | 0.4805978 | 228 |\n",
       "| svm_rbf          | Preprocessor1_Model08 | 0.5615738 | 229 |\n",
       "| boost_tree       | Preprocessor1_Model25 | 0.6722699 | 230 |\n",
       "| svm_rbf          | Preprocessor1_Model03 | 0.5534907 | 231 |\n",
       "| svm_rbf          | Preprocessor1_Model04 | 0.5529841 | 232 |\n",
       "| svm_rbf          | Preprocessor1_Model17 | 0.5459209 | 233 |\n",
       "| svm_rbf          | Preprocessor1_Model18 | 0.5462543 | 234 |\n",
       "| svm_rbf          | Preprocessor1_Model14 | 0.5404456 | 235 |\n",
       "| svm_rbf          | Preprocessor1_Model15 | 0.5403643 | 236 |\n",
       "| svm_rbf          | Preprocessor1_Model07 | 0.5404042 | 237 |\n",
       "| svm_rbf          | Preprocessor1_Model20 | 0.5401101 | 238 |\n",
       "| svm_rbf          | Preprocessor1_Model16 | 0.5399383 | 239 |\n",
       "| svm_rbf          | Preprocessor1_Model21 | 0.5399265 | 240 |\n",
       "| svm_rbf          | Preprocessor1_Model06 | 0.5399771 | 241 |\n",
       "| svm_rbf          | Preprocessor1_Model11 | 0.5398894 | 242 |\n",
       "| svm_rbf          | Preprocessor1_Model05 | 0.5399528 | 243 |\n",
       "| svm_rbf          | Preprocessor1_Model23 | 0.5398633 | 244 |\n",
       "| svm_rbf          | Preprocessor1_Model13 | 0.5398632 | 245 |\n",
       "| svm_rbf          | Preprocessor1_Model22 | 0.5400438 | 246 |\n",
       "| svm_rbf          | Preprocessor1_Model02 | 0.5401245 | 247 |\n",
       "| svm_rbf          | Preprocessor1_Model10 | 0.5401244 | 248 |\n",
       "| svm_rbf          | Preprocessor1_Model19 | 0.5401244 | 249 |\n",
       "| boost_tree       | Preprocessor1_Model09 | 0.7946843 | 250 |\n",
       "| boost_tree       | Preprocessor1_Model07 | 0.7615387 | 251 |\n",
       "| boost_tree       | Preprocessor1_Model22 | 0.7325437 | 252 |\n",
       "\n"
      ],
      "text/plain": [
       "    model            .config               rmse      rank\n",
       "1   boost_tree       Preprocessor1_Model04 0.9334518  1  \n",
       "2   boost_tree       Preprocessor1_Model06 0.9319413  2  \n",
       "3   boost_tree       Preprocessor1_Model13 0.9314912  3  \n",
       "4   boost_tree       Preprocessor1_Model14 0.9286359  4  \n",
       "5   boost_tree       Preprocessor1_Model16 0.9267659  5  \n",
       "6   boost_tree       Preprocessor1_Model03 0.9271602  6  \n",
       "7   boost_tree       Preprocessor1_Model15 0.9264740  7  \n",
       "8   boost_tree       Preprocessor1_Model05 0.9244940  8  \n",
       "9   boost_tree       Preprocessor1_Model20 0.9188046  9  \n",
       "10  cubist_rules     Preprocessor1_Model24 0.9190887 10  \n",
       "11  cubist_rules     Preprocessor1_Model21 0.9189927 11  \n",
       "12  cubist_rules     Preprocessor1_Model10 0.9175625 12  \n",
       "13  cubist_rules     Preprocessor1_Model23 0.9169959 13  \n",
       "14  cubist_rules     Preprocessor1_Model16 0.9170111 14  \n",
       "15  cubist_rules     Preprocessor1_Model19 0.9168524 15  \n",
       "16  cubist_rules     Preprocessor1_Model22 0.9150346 16  \n",
       "17  cubist_rules     Preprocessor1_Model17 0.9148244 17  \n",
       "18  boost_tree       Preprocessor1_Model08 0.9144055 18  \n",
       "19  cubist_rules     Preprocessor1_Model08 0.9136809 19  \n",
       "20  cubist_rules     Preprocessor1_Model18 0.9132194 20  \n",
       "21  cubist_rules     Preprocessor1_Model15 0.9129347 21  \n",
       "22  cubist_rules     Preprocessor1_Model12 0.9110438 22  \n",
       "23  cubist_rules     Preprocessor1_Model25 0.9105721 23  \n",
       "24  cubist_rules     Preprocessor1_Model09 0.9106780 24  \n",
       "25  cubist_rules     Preprocessor1_Model20 0.9104115 25  \n",
       "26  cubist_rules     Preprocessor1_Model03 0.9098240 26  \n",
       "27  cubist_rules     Preprocessor1_Model02 0.9096831 27  \n",
       "28  cubist_rules     Preprocessor1_Model13 0.9097659 28  \n",
       "29  cubist_rules     Preprocessor1_Model06 0.9096834 29  \n",
       "30  cubist_rules     Preprocessor1_Model14 0.9084483 30  \n",
       "⋮   ⋮                ⋮                     ⋮         ⋮   \n",
       "223 decision_tree    Preprocessor1_Model20 0.5385069 223 \n",
       "224 nearest_neighbor Preprocessor1_Model11 0.5464276 224 \n",
       "225 decision_tree    Preprocessor1_Model01 0.5160462 225 \n",
       "226 nearest_neighbor Preprocessor1_Model11 0.5251417 226 \n",
       "227 nearest_neighbor Preprocessor1_Model01 0.4989405 227 \n",
       "228 nearest_neighbor Preprocessor1_Model01 0.4805978 228 \n",
       "229 svm_rbf          Preprocessor1_Model08 0.5615738 229 \n",
       "230 boost_tree       Preprocessor1_Model25 0.6722699 230 \n",
       "231 svm_rbf          Preprocessor1_Model03 0.5534907 231 \n",
       "232 svm_rbf          Preprocessor1_Model04 0.5529841 232 \n",
       "233 svm_rbf          Preprocessor1_Model17 0.5459209 233 \n",
       "234 svm_rbf          Preprocessor1_Model18 0.5462543 234 \n",
       "235 svm_rbf          Preprocessor1_Model14 0.5404456 235 \n",
       "236 svm_rbf          Preprocessor1_Model15 0.5403643 236 \n",
       "237 svm_rbf          Preprocessor1_Model07 0.5404042 237 \n",
       "238 svm_rbf          Preprocessor1_Model20 0.5401101 238 \n",
       "239 svm_rbf          Preprocessor1_Model16 0.5399383 239 \n",
       "240 svm_rbf          Preprocessor1_Model21 0.5399265 240 \n",
       "241 svm_rbf          Preprocessor1_Model06 0.5399771 241 \n",
       "242 svm_rbf          Preprocessor1_Model11 0.5398894 242 \n",
       "243 svm_rbf          Preprocessor1_Model05 0.5399528 243 \n",
       "244 svm_rbf          Preprocessor1_Model23 0.5398633 244 \n",
       "245 svm_rbf          Preprocessor1_Model13 0.5398632 245 \n",
       "246 svm_rbf          Preprocessor1_Model22 0.5400438 246 \n",
       "247 svm_rbf          Preprocessor1_Model02 0.5401245 247 \n",
       "248 svm_rbf          Preprocessor1_Model10 0.5401244 248 \n",
       "249 svm_rbf          Preprocessor1_Model19 0.5401244 249 \n",
       "250 boost_tree       Preprocessor1_Model09 0.7946843 250 \n",
       "251 boost_tree       Preprocessor1_Model07 0.7615387 251 \n",
       "252 boost_tree       Preprocessor1_Model22 0.7325437 252 "
      ]
     },
     "metadata": {},
     "output_type": "display_data"
    }
   ],
   "source": [
    "grid_results %>% \n",
    "   rank_results() %>% \n",
    "   filter(.metric == \"rsq\") %>% \n",
    "   select(model, .config, rmse = mean, rank)"
   ]
  },
  {
   "cell_type": "markdown",
   "id": "09f795e7-28a9-49c6-ad5d-cf07e379b2f8",
   "metadata": {},
   "source": [
    "Also by default, the function ranks all of the candidate sets; that’s why the same model can show up multiple times in the output. An option, called select_best, can be used to rank the models using their best tuning parameter combination.\n",
    "\n",
    "The autoplot() method plots the rankings; it also has a select_best argument. The plot in Figure 15.1 visualizes the best results for each model and is generated with:"
   ]
  },
  {
   "cell_type": "code",
   "execution_count": 132,
   "id": "01087c0b-68af-48b3-9f43-29e7eb5c38a8",
   "metadata": {},
   "outputs": [
    {
     "data": {
      "image/png": "[encoded data removed]",
      "text/plain": [
       "plot without title"
      ]
     },
     "metadata": {
      "image/png": {
       "height": 420,
       "width": 420
      }
     },
     "output_type": "display_data"
    }
   ],
   "source": [
    "autoplot(\n",
    "   grid_results,\n",
    "   rank_metric = \"rsq\",  # <- how to order models\n",
    "   metric = \"rsq\",       # <- which metric to visualize\n",
    "   select_best = TRUE     # <- one point per workflow\n",
    ") +\n",
    "   geom_text(aes(y = mean - 0.03, label = wflow_id), angle = 90, hjust = 1) +\n",
    "   lims(y = c(0.65, 0.95)) +\n",
    "   theme(legend.position = \"none\")"
   ]
  },
  {
   "cell_type": "code",
   "execution_count": 133,
   "id": "98daae92-3bcf-45f8-8ad2-3b804a34b044",
   "metadata": {},
   "outputs": [
    {
     "data": {
      "image/png": "[encoded data removed]",
      "text/plain": [
       "plot without title"
      ]
     },
     "metadata": {
      "image/png": {
       "height": 420,
       "width": 420
      }
     },
     "output_type": "display_data"
    }
   ],
   "source": [
    "autoplot(\n",
    "   grid_results,\n",
    "   rank_metric = \"rmse\",  # <- how to order models\n",
    "   metric = \"rmse\",       # <- which metric to visualize\n",
    "   select_best = TRUE     # <- one point per workflow\n",
    ") +\n",
    "   geom_text(aes(y = mean - 1/2, label = wflow_id), angle = 90, hjust = 1) +\n",
    "   lims(y = c(3.5, 9.5)) +\n",
    "   theme(legend.position = \"none\")"
   ]
  },
  {
   "cell_type": "markdown",
   "id": "f7776f94-a4d8-4baa-9021-b19a14d717c2",
   "metadata": {},
   "source": [
    "# Finalizing a model\n"
   ]
  },
  {
   "cell_type": "code",
   "execution_count": 135,
   "id": "e183771c-45d0-491a-9e80-7fb98439bd56",
   "metadata": {},
   "outputs": [
    {
     "data": {
      "text/html": [
       "<table class=\"dataframe\">\n",
       "<caption>A tibble: 1 × 7</caption>\n",
       "<thead>\n",
       "\t<tr><th scope=col>trees</th><th scope=col>min_n</th><th scope=col>tree_depth</th><th scope=col>learn_rate</th><th scope=col>loss_reduction</th><th scope=col>sample_size</th><th scope=col>.config</th></tr>\n",
       "\t<tr><th scope=col>&lt;int&gt;</th><th scope=col>&lt;int&gt;</th><th scope=col>&lt;int&gt;</th><th scope=col>&lt;dbl&gt;</th><th scope=col>&lt;dbl&gt;</th><th scope=col>&lt;dbl&gt;</th><th scope=col>&lt;chr&gt;</th></tr>\n",
       "</thead>\n",
       "<tbody>\n",
       "\t<tr><td>1478</td><td>7</td><td>7</td><td>0.0900109</td><td>0.0006992648</td><td>0.8244187</td><td>Preprocessor1_Model04</td></tr>\n",
       "</tbody>\n",
       "</table>\n"
      ],
      "text/latex": [
       "A tibble: 1 × 7\n",
       "\\begin{tabular}{lllllll}\n",
       " trees & min\\_n & tree\\_depth & learn\\_rate & loss\\_reduction & sample\\_size & .config\\\\\n",
       " <int> & <int> & <int> & <dbl> & <dbl> & <dbl> & <chr>\\\\\n",
       "\\hline\n",
       "\t 1478 & 7 & 7 & 0.0900109 & 0.0006992648 & 0.8244187 & Preprocessor1\\_Model04\\\\\n",
       "\\end{tabular}\n"
      ],
      "text/markdown": [
       "\n",
       "A tibble: 1 × 7\n",
       "\n",
       "| trees &lt;int&gt; | min_n &lt;int&gt; | tree_depth &lt;int&gt; | learn_rate &lt;dbl&gt; | loss_reduction &lt;dbl&gt; | sample_size &lt;dbl&gt; | .config &lt;chr&gt; |\n",
       "|---|---|---|---|---|---|---|\n",
       "| 1478 | 7 | 7 | 0.0900109 | 0.0006992648 | 0.8244187 | Preprocessor1_Model04 |\n",
       "\n"
      ],
      "text/plain": [
       "  trees min_n tree_depth learn_rate loss_reduction sample_size\n",
       "1 1478  7     7          0.0900109  0.0006992648   0.8244187  \n",
       "  .config              \n",
       "1 Preprocessor1_Model04"
      ]
     },
     "metadata": {},
     "output_type": "display_data"
    }
   ],
   "source": [
    "best_results <- \n",
    "   grid_results %>% \n",
    "   extract_workflow_set_result(\"boosting\") %>% \n",
    "   select_best(metric = \"rmse\")\n",
    "best_results"
   ]
  },
  {
   "cell_type": "code",
   "execution_count": 138,
   "id": "b9d99e91-08c7-4682-8ba9-58524dfb0ed8",
   "metadata": {},
   "outputs": [],
   "source": [
    "boosting_test_results <- \n",
    "   grid_results %>% \n",
    "   extract_workflow(\"boosting\") %>% \n",
    "   finalize_workflow(best_results) %>% \n",
    "   last_fit(split = concrete_split)"
   ]
  },
  {
   "cell_type": "code",
   "execution_count": 139,
   "id": "407b7782-0a03-4e08-b4da-d5cfa4f9ef1f",
   "metadata": {},
   "outputs": [
    {
     "data": {
      "text/html": [
       "<table class=\"dataframe\">\n",
       "<caption>A tibble: 2 × 4</caption>\n",
       "<thead>\n",
       "\t<tr><th scope=col>.metric</th><th scope=col>.estimator</th><th scope=col>.estimate</th><th scope=col>.config</th></tr>\n",
       "\t<tr><th scope=col>&lt;chr&gt;</th><th scope=col>&lt;chr&gt;</th><th scope=col>&lt;dbl&gt;</th><th scope=col>&lt;chr&gt;</th></tr>\n",
       "</thead>\n",
       "<tbody>\n",
       "\t<tr><td>rmse</td><td>standard</td><td>3.3599983</td><td>Preprocessor1_Model1</td></tr>\n",
       "\t<tr><td>rsq </td><td>standard</td><td>0.9553756</td><td>Preprocessor1_Model1</td></tr>\n",
       "</tbody>\n",
       "</table>\n"
      ],
      "text/latex": [
       "A tibble: 2 × 4\n",
       "\\begin{tabular}{llll}\n",
       " .metric & .estimator & .estimate & .config\\\\\n",
       " <chr> & <chr> & <dbl> & <chr>\\\\\n",
       "\\hline\n",
       "\t rmse & standard & 3.3599983 & Preprocessor1\\_Model1\\\\\n",
       "\t rsq  & standard & 0.9553756 & Preprocessor1\\_Model1\\\\\n",
       "\\end{tabular}\n"
      ],
      "text/markdown": [
       "\n",
       "A tibble: 2 × 4\n",
       "\n",
       "| .metric &lt;chr&gt; | .estimator &lt;chr&gt; | .estimate &lt;dbl&gt; | .config &lt;chr&gt; |\n",
       "|---|---|---|---|\n",
       "| rmse | standard | 3.3599983 | Preprocessor1_Model1 |\n",
       "| rsq  | standard | 0.9553756 | Preprocessor1_Model1 |\n",
       "\n"
      ],
      "text/plain": [
       "  .metric .estimator .estimate .config             \n",
       "1 rmse    standard   3.3599983 Preprocessor1_Model1\n",
       "2 rsq     standard   0.9553756 Preprocessor1_Model1"
      ]
     },
     "metadata": {},
     "output_type": "display_data"
    }
   ],
   "source": [
    "collect_metrics(boosting_test_results)"
   ]
  },
  {
   "cell_type": "code",
   "execution_count": 140,
   "id": "34660f6b-6d10-4bcd-b6c4-e02a9ba6b47a",
   "metadata": {},
   "outputs": [
    {
     "data": {
      "image/png": "[encoded data removed]",
      "text/plain": [
       "plot without title"
      ]
     },
     "metadata": {
      "image/png": {
       "height": 420,
       "width": 420
      }
     },
     "output_type": "display_data"
    }
   ],
   "source": [
    "boosting_test_results %>% \n",
    "   collect_predictions() %>% \n",
    "   ggplot(aes(x = compressive_strength, y = .pred)) + \n",
    "   geom_abline(color = \"gray50\", lty = 2) + \n",
    "   geom_point(alpha = 0.5) + \n",
    "   coord_obs_pred() + \n",
    "   labs(x = \"observed\", y = \"predicted\")"
   ]
  },
  {
   "cell_type": "markdown",
   "id": "329e1cfc-d929-4acc-b7b4-350479ab0533",
   "metadata": {},
   "source": [
    "# Summary Notes\n",
    "\n",
    "> Before you start building your model, make sure your data is in a `tidy` format. You do not need to perform any imputation or feature engineering prior to the modelling.\n",
    "\n",
    "\n",
    "## Step 1\n",
    "- Specify the **Model**\n",
    "- Set the **Engine**\n",
    "- Set the **Mode** (regression or classification?)\n",
    "All models are available @ [all_parsnip_models](https://www.tidymodels.org/find/parsnip)\n",
    "\n",
    "## Step 2\n",
    "- Split data into training and testing using the **rsample**\n",
    "- Use k-fold cross_validation (larger datasets) or Bootstrapping (smaller datasets) on your training data and compare results of fitting models on the cross-validated trained data set\n",
    "\n",
    "\n",
    "## Step 3\n",
    "- Build better features using **recipes**\n",
    "- Add the recipe to a model in a **workflow**\n",
    "- Fit the worflow to the training data"
   ]
  },
  {
   "cell_type": "code",
   "execution_count": null,
   "id": "735bf7f4-0c1e-4027-9d26-7f8c63e0e781",
   "metadata": {},
   "outputs": [],
   "source": []
  },
  {
   "cell_type": "code",
   "execution_count": null,
   "id": "c3614d7e-2174-4581-89c6-10c24a4ba3d3",
   "metadata": {},
   "outputs": [],
   "source": []
  },
  {
   "cell_type": "code",
   "execution_count": null,
   "id": "231d5a32-0b5a-422c-83ea-896849280550",
   "metadata": {},
   "outputs": [],
   "source": []
  },
  {
   "cell_type": "code",
   "execution_count": null,
   "id": "7bd2159f-efb2-498c-843b-2e7b20202c03",
   "metadata": {},
   "outputs": [],
   "source": []
  },
  {
   "cell_type": "code",
   "execution_count": null,
   "id": "095a4f36-f8a1-400e-b67a-e1a336620e2c",
   "metadata": {},
   "outputs": [],
   "source": []
  },
  {
   "cell_type": "code",
   "execution_count": null,
   "id": "d3389c53-1988-420f-80ee-6a50aa4dacdc",
   "metadata": {},
   "outputs": [],
   "source": []
  },
  {
   "cell_type": "code",
   "execution_count": null,
   "id": "2831ec90-8398-4f43-b416-820030d3e69c",
   "metadata": {},
   "outputs": [],
   "source": []
  }
 ],
 "metadata": {
  "kernelspec": {
   "display_name": "R",
   "language": "R",
   "name": "ir"
  },
  "language_info": {
   "codemirror_mode": "r",
   "file_extension": ".r",
   "mimetype": "text/x-r-source",
   "name": "R",
   "pygments_lexer": "r",
   "version": "4.3.1"
  }
 },
 "nbformat": 4,
 "nbformat_minor": 5
}

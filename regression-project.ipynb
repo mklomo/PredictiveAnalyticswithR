{
 "cells": [
  {
   "cell_type": "markdown",
   "id": "ef865d22-7c38-4f0e-8e4e-54686f674cac",
   "metadata": {},
   "source": [
    "# Assignment 4 - Marvin Lomo"
   ]
  },
  {
   "cell_type": "markdown",
   "id": "05162d59-031d-4469-a974-a3e442782aaa",
   "metadata": {},
   "source": [
    "Import the Credit Card dataset. This datset contains the following information:\n",
    "\n",
    "1. Gender (categorical): Male/Female\n",
    "2. Car Owner (categorical): Yes/No\n",
    "3. Property Owner (Categorical): Yes/No\n",
    "4. Children (Numerical): Number of Children\n",
    "5. Annual Income (Numerical): Income of the applicant in dollar\n",
    "6. Type Income (Categorical): Applicant's source of income\n",
    "7. Higher Education (Categorical): Yes/No\n",
    "8. Marital Status (Categorical): Married/Not-Married\n",
    "9. Age (Numerical)\n",
    "10. Employed (Categorical): Yes/No\n",
    "11. Family Members (Numerical): Applicant's family size\n",
    "12. Approved (Categorical): Dependent Variable. Credit Card request is approved or not?"
   ]
  },
  {
   "cell_type": "markdown",
   "id": "57b1e265-a150-4f19-9a66-49f9f1971ff1",
   "metadata": {},
   "source": [
    "## Logistic Regression:\n"
   ]
  },
  {
   "cell_type": "code",
   "execution_count": 1,
   "id": "f118150c-1402-4436-99b3-38c6f1b08535",
   "metadata": {},
   "outputs": [
    {
     "name": "stderr",
     "output_type": "stream",
     "text": [
      "── \u001b[1mAttaching core tidyverse packages\u001b[22m ─────────────────────────────────────────────────────────────────────────────── tidyverse 2.0.0 ──\n",
      "\u001b[32m✔\u001b[39m \u001b[34mdplyr    \u001b[39m 1.1.2     \u001b[32m✔\u001b[39m \u001b[34mreadr    \u001b[39m 2.1.4\n",
      "\u001b[32m✔\u001b[39m \u001b[34mforcats  \u001b[39m 1.0.0     \u001b[32m✔\u001b[39m \u001b[34mstringr  \u001b[39m 1.5.0\n",
      "\u001b[32m✔\u001b[39m \u001b[34mggplot2  \u001b[39m 3.4.3     \u001b[32m✔\u001b[39m \u001b[34mtibble   \u001b[39m 3.2.1\n",
      "\u001b[32m✔\u001b[39m \u001b[34mlubridate\u001b[39m 1.9.2     \u001b[32m✔\u001b[39m \u001b[34mtidyr    \u001b[39m 1.3.0\n",
      "\u001b[32m✔\u001b[39m \u001b[34mpurrr    \u001b[39m 1.0.2     \n",
      "── \u001b[1mConflicts\u001b[22m ───────────────────────────────────────────────────────────────────────────────────────────────── tidyverse_conflicts() ──\n",
      "\u001b[31m✖\u001b[39m \u001b[34mdplyr\u001b[39m::\u001b[32mfilter()\u001b[39m masks \u001b[34mstats\u001b[39m::filter()\n",
      "\u001b[31m✖\u001b[39m \u001b[34mdplyr\u001b[39m::\u001b[32mlag()\u001b[39m    masks \u001b[34mstats\u001b[39m::lag()\n",
      "\u001b[36mℹ\u001b[39m Use the conflicted package (\u001b[3m\u001b[34m<http://conflicted.r-lib.org/>\u001b[39m\u001b[23m) to force all conflicts to become errors\n",
      "── \u001b[1mAttaching packages\u001b[22m ───────────────────────────────────────────────────────────────────────────────────────────── tidymodels 1.1.0 ──\n",
      "\n",
      "\u001b[32m✔\u001b[39m \u001b[34mbroom       \u001b[39m 1.0.5     \u001b[32m✔\u001b[39m \u001b[34mrsample     \u001b[39m 1.1.1\n",
      "\u001b[32m✔\u001b[39m \u001b[34mdials       \u001b[39m 1.2.0     \u001b[32m✔\u001b[39m \u001b[34mtune        \u001b[39m 1.1.1\n",
      "\u001b[32m✔\u001b[39m \u001b[34minfer       \u001b[39m 1.0.4     \u001b[32m✔\u001b[39m \u001b[34mworkflows   \u001b[39m 1.1.3\n",
      "\u001b[32m✔\u001b[39m \u001b[34mmodeldata   \u001b[39m 1.2.0     \u001b[32m✔\u001b[39m \u001b[34mworkflowsets\u001b[39m 1.0.1\n",
      "\u001b[32m✔\u001b[39m \u001b[34mparsnip     \u001b[39m 1.1.0     \u001b[32m✔\u001b[39m \u001b[34myardstick   \u001b[39m 1.2.0\n",
      "\u001b[32m✔\u001b[39m \u001b[34mrecipes     \u001b[39m 1.0.7     \n",
      "\n",
      "── \u001b[1mConflicts\u001b[22m ──────────────────────────────────────────────────────────────────────────────────────────────── tidymodels_conflicts() ──\n",
      "\u001b[31m✖\u001b[39m \u001b[34mscales\u001b[39m::\u001b[32mdiscard()\u001b[39m masks \u001b[34mpurrr\u001b[39m::discard()\n",
      "\u001b[31m✖\u001b[39m \u001b[34mdplyr\u001b[39m::\u001b[32mfilter()\u001b[39m   masks \u001b[34mstats\u001b[39m::filter()\n",
      "\u001b[31m✖\u001b[39m \u001b[34mrecipes\u001b[39m::\u001b[32mfixed()\u001b[39m  masks \u001b[34mstringr\u001b[39m::fixed()\n",
      "\u001b[31m✖\u001b[39m \u001b[34mdplyr\u001b[39m::\u001b[32mlag()\u001b[39m      masks \u001b[34mstats\u001b[39m::lag()\n",
      "\u001b[31m✖\u001b[39m \u001b[34myardstick\u001b[39m::\u001b[32mspec()\u001b[39m masks \u001b[34mreadr\u001b[39m::spec()\n",
      "\u001b[31m✖\u001b[39m \u001b[34mrecipes\u001b[39m::\u001b[32mstep()\u001b[39m   masks \u001b[34mstats\u001b[39m::step()\n",
      "\u001b[34m•\u001b[39m Search for functions across packages at \u001b[32mhttps://www.tidymodels.org/find/\u001b[39m\n",
      "\n",
      "Warning message:\n",
      "\"package 'corrr' was built under R version 4.3.2\"\n",
      "Warning message:\n",
      "\"package 'rpart.plot' was built under R version 4.3.2\"\n",
      "Loading required package: rpart\n",
      "\n",
      "\n",
      "Attaching package: 'rpart'\n",
      "\n",
      "\n",
      "The following object is masked from 'package:dials':\n",
      "\n",
      "    prune\n",
      "\n",
      "\n"
     ]
    }
   ],
   "source": [
    "library(tidyverse)\n",
    "library(tidymodels)\n",
    "library(corrr)\n",
    "library(rpart.plot)"
   ]
  },
  {
   "cell_type": "code",
   "execution_count": 2,
   "id": "c05cd7d2-711f-4cbc-b2f3-73404aca6083",
   "metadata": {},
   "outputs": [
    {
     "name": "stderr",
     "output_type": "stream",
     "text": [
      "\u001b[1mRows: \u001b[22m\u001b[34m1496\u001b[39m \u001b[1mColumns: \u001b[22m\u001b[34m13\u001b[39m\n",
      "\u001b[36m──\u001b[39m \u001b[1mColumn specification\u001b[22m \u001b[36m───────────────────────────────────────────────────────────────────────────────────────────────────────────────\u001b[39m\n",
      "\u001b[1mDelimiter:\u001b[22m \",\"\n",
      "\u001b[31mchr\u001b[39m (7): GENDER, Car_Owner, Propert_Owner, Type_Income, Higher Education, Ma...\n",
      "\u001b[32mdbl\u001b[39m (6): Ind_ID, CHILDREN, Annual_income, Age, Family_Members, Approved\n",
      "\n",
      "\u001b[36mℹ\u001b[39m Use `spec()` to retrieve the full column specification for this data.\n",
      "\u001b[36mℹ\u001b[39m Specify the column types or set `show_col_types = FALSE` to quiet this message.\n"
     ]
    },
    {
     "data": {
      "text/html": [
       "<table class=\"dataframe\">\n",
       "<caption>A tibble: 6 × 13</caption>\n",
       "<thead>\n",
       "\t<tr><th scope=col>Ind_ID</th><th scope=col>GENDER</th><th scope=col>Car_Owner</th><th scope=col>Propert_Owner</th><th scope=col>CHILDREN</th><th scope=col>Annual_income</th><th scope=col>Type_Income</th><th scope=col>Higher Education</th><th scope=col>Marital_status</th><th scope=col>Age</th><th scope=col>Employed</th><th scope=col>Family_Members</th><th scope=col>Approved</th></tr>\n",
       "\t<tr><th scope=col>&lt;dbl&gt;</th><th scope=col>&lt;chr&gt;</th><th scope=col>&lt;chr&gt;</th><th scope=col>&lt;chr&gt;</th><th scope=col>&lt;dbl&gt;</th><th scope=col>&lt;dbl&gt;</th><th scope=col>&lt;chr&gt;</th><th scope=col>&lt;chr&gt;</th><th scope=col>&lt;chr&gt;</th><th scope=col>&lt;dbl&gt;</th><th scope=col>&lt;chr&gt;</th><th scope=col>&lt;dbl&gt;</th><th scope=col>&lt;dbl&gt;</th></tr>\n",
       "</thead>\n",
       "<tbody>\n",
       "\t<tr><td>5008827</td><td>M</td><td>Y</td><td>Y</td><td>0</td><td>180000</td><td>Pensioner           </td><td>Y</td><td>Married</td><td>51</td><td>N</td><td>2</td><td>0</td></tr>\n",
       "\t<tr><td>5009744</td><td>F</td><td>Y</td><td>N</td><td>0</td><td>315000</td><td>Commercial associate</td><td>Y</td><td>Married</td><td>37</td><td>Y</td><td>2</td><td>0</td></tr>\n",
       "\t<tr><td>5009752</td><td>F</td><td>Y</td><td>N</td><td>0</td><td>315000</td><td>Commercial associate</td><td>Y</td><td>Married</td><td>37</td><td>Y</td><td>2</td><td>0</td></tr>\n",
       "\t<tr><td>5009754</td><td>F</td><td>Y</td><td>N</td><td>0</td><td>315000</td><td>Commercial associate</td><td>Y</td><td>Married</td><td>37</td><td>Y</td><td>2</td><td>0</td></tr>\n",
       "\t<tr><td>5009894</td><td>F</td><td>N</td><td>N</td><td>0</td><td>180000</td><td>Pensioner           </td><td>N</td><td>Married</td><td>60</td><td>N</td><td>2</td><td>0</td></tr>\n",
       "\t<tr><td>5010864</td><td>M</td><td>Y</td><td>Y</td><td>1</td><td>450000</td><td>Commercial associate</td><td>N</td><td>Married</td><td>49</td><td>Y</td><td>3</td><td>0</td></tr>\n",
       "</tbody>\n",
       "</table>\n"
      ],
      "text/latex": [
       "A tibble: 6 × 13\n",
       "\\begin{tabular}{lllllllllllll}\n",
       " Ind\\_ID & GENDER & Car\\_Owner & Propert\\_Owner & CHILDREN & Annual\\_income & Type\\_Income & Higher Education & Marital\\_status & Age & Employed & Family\\_Members & Approved\\\\\n",
       " <dbl> & <chr> & <chr> & <chr> & <dbl> & <dbl> & <chr> & <chr> & <chr> & <dbl> & <chr> & <dbl> & <dbl>\\\\\n",
       "\\hline\n",
       "\t 5008827 & M & Y & Y & 0 & 180000 & Pensioner            & Y & Married & 51 & N & 2 & 0\\\\\n",
       "\t 5009744 & F & Y & N & 0 & 315000 & Commercial associate & Y & Married & 37 & Y & 2 & 0\\\\\n",
       "\t 5009752 & F & Y & N & 0 & 315000 & Commercial associate & Y & Married & 37 & Y & 2 & 0\\\\\n",
       "\t 5009754 & F & Y & N & 0 & 315000 & Commercial associate & Y & Married & 37 & Y & 2 & 0\\\\\n",
       "\t 5009894 & F & N & N & 0 & 180000 & Pensioner            & N & Married & 60 & N & 2 & 0\\\\\n",
       "\t 5010864 & M & Y & Y & 1 & 450000 & Commercial associate & N & Married & 49 & Y & 3 & 0\\\\\n",
       "\\end{tabular}\n"
      ],
      "text/markdown": [
       "\n",
       "A tibble: 6 × 13\n",
       "\n",
       "| Ind_ID &lt;dbl&gt; | GENDER &lt;chr&gt; | Car_Owner &lt;chr&gt; | Propert_Owner &lt;chr&gt; | CHILDREN &lt;dbl&gt; | Annual_income &lt;dbl&gt; | Type_Income &lt;chr&gt; | Higher Education &lt;chr&gt; | Marital_status &lt;chr&gt; | Age &lt;dbl&gt; | Employed &lt;chr&gt; | Family_Members &lt;dbl&gt; | Approved &lt;dbl&gt; |\n",
       "|---|---|---|---|---|---|---|---|---|---|---|---|---|\n",
       "| 5008827 | M | Y | Y | 0 | 180000 | Pensioner            | Y | Married | 51 | N | 2 | 0 |\n",
       "| 5009744 | F | Y | N | 0 | 315000 | Commercial associate | Y | Married | 37 | Y | 2 | 0 |\n",
       "| 5009752 | F | Y | N | 0 | 315000 | Commercial associate | Y | Married | 37 | Y | 2 | 0 |\n",
       "| 5009754 | F | Y | N | 0 | 315000 | Commercial associate | Y | Married | 37 | Y | 2 | 0 |\n",
       "| 5009894 | F | N | N | 0 | 180000 | Pensioner            | N | Married | 60 | N | 2 | 0 |\n",
       "| 5010864 | M | Y | Y | 1 | 450000 | Commercial associate | N | Married | 49 | Y | 3 | 0 |\n",
       "\n"
      ],
      "text/plain": [
       "  Ind_ID  GENDER Car_Owner Propert_Owner CHILDREN Annual_income\n",
       "1 5008827 M      Y         Y             0        180000       \n",
       "2 5009744 F      Y         N             0        315000       \n",
       "3 5009752 F      Y         N             0        315000       \n",
       "4 5009754 F      Y         N             0        315000       \n",
       "5 5009894 F      N         N             0        180000       \n",
       "6 5010864 M      Y         Y             1        450000       \n",
       "  Type_Income          Higher Education Marital_status Age Employed\n",
       "1 Pensioner            Y                Married        51  N       \n",
       "2 Commercial associate Y                Married        37  Y       \n",
       "3 Commercial associate Y                Married        37  Y       \n",
       "4 Commercial associate Y                Married        37  Y       \n",
       "5 Pensioner            N                Married        60  N       \n",
       "6 Commercial associate N                Married        49  Y       \n",
       "  Family_Members Approved\n",
       "1 2              0       \n",
       "2 2              0       \n",
       "3 2              0       \n",
       "4 2              0       \n",
       "5 2              0       \n",
       "6 3              0       "
      ]
     },
     "metadata": {},
     "output_type": "display_data"
    }
   ],
   "source": [
    "# Loading the dataset\n",
    "df_url <- 'data/credit_card.csv'\n",
    "\n",
    "\n",
    "credit_df <- read_csv(df_url)\n",
    "\n",
    "\n",
    "# Preview the df\n",
    "head(credit_df)"
   ]
  },
  {
   "cell_type": "code",
   "execution_count": 3,
   "id": "72fefbe1-a9ff-4402-b353-3e99e97924cc",
   "metadata": {},
   "outputs": [
    {
     "name": "stdout",
     "output_type": "stream",
     "text": [
      "Rows: 1,496\n",
      "Columns: 13\n",
      "$ Ind_ID             \u001b[3m\u001b[90m<dbl>\u001b[39m\u001b[23m 5008827, 5009744, 5009752, 5009754, 5009894, 501086…\n",
      "$ GENDER             \u001b[3m\u001b[90m<chr>\u001b[39m\u001b[23m \"M\", \"F\", \"F\", \"F\", \"F\", \"M\", \"M\", \"M\", \"F\", \"F\", \"…\n",
      "$ Car_Owner          \u001b[3m\u001b[90m<chr>\u001b[39m\u001b[23m \"Y\", \"Y\", \"Y\", \"Y\", \"N\", \"Y\", \"Y\", \"Y\", \"Y\", \"Y\", \"…\n",
      "$ Propert_Owner      \u001b[3m\u001b[90m<chr>\u001b[39m\u001b[23m \"Y\", \"N\", \"N\", \"N\", \"N\", \"Y\", \"Y\", \"Y\", \"Y\", \"Y\", \"…\n",
      "$ CHILDREN           \u001b[3m\u001b[90m<dbl>\u001b[39m\u001b[23m 0, 0, 0, 0, 0, 1, 1, 1, 0, 0, 1, 0, 0, 0, 0, 0, 0, …\n",
      "$ Annual_income      \u001b[3m\u001b[90m<dbl>\u001b[39m\u001b[23m 180000, 315000, 315000, 315000, 180000, 450000, 450…\n",
      "$ Type_Income        \u001b[3m\u001b[90m<chr>\u001b[39m\u001b[23m \"Pensioner\", \"Commercial associate\", \"Commercial as…\n",
      "$ `Higher Education` \u001b[3m\u001b[90m<chr>\u001b[39m\u001b[23m \"Y\", \"Y\", \"Y\", \"Y\", \"N\", \"N\", \"N\", \"N\", \"N\", \"N\", \"…\n",
      "$ Marital_status     \u001b[3m\u001b[90m<chr>\u001b[39m\u001b[23m \"Married\", \"Married\", \"Married\", \"Married\", \"Marrie…\n",
      "$ Age                \u001b[3m\u001b[90m<dbl>\u001b[39m\u001b[23m 51, 37, 37, 37, 60, 49, 49, 49, 51, 51, 24, 46, 46,…\n",
      "$ Employed           \u001b[3m\u001b[90m<chr>\u001b[39m\u001b[23m \"N\", \"Y\", \"Y\", \"Y\", \"N\", \"Y\", \"Y\", \"Y\", \"Y\", \"Y\", \"…\n",
      "$ Family_Members     \u001b[3m\u001b[90m<dbl>\u001b[39m\u001b[23m 2, 2, 2, 2, 2, 3, 3, 1, 2, 2, 3, 2, 2, 1, 1, 2, 1, …\n",
      "$ Approved           \u001b[3m\u001b[90m<dbl>\u001b[39m\u001b[23m 0, 0, 0, 0, 0, 0, 0, 0, 0, 0, 0, 0, 0, 0, 0, 0, 0, …\n"
     ]
    }
   ],
   "source": [
    "# glimpse of the data\n",
    "glimpse(credit_df)"
   ]
  },
  {
   "cell_type": "markdown",
   "id": "0918c0ed-a3c1-4c74-bec9-038acd63531b",
   "metadata": {},
   "source": [
    "### Question 1.\n",
    "\n",
    "#### Part1: \n",
    "Use ggplot to plot the results of credit card applications (i.e., Approved) against applicant's annual income. (use geo_point function)."
   ]
  },
  {
   "cell_type": "code",
   "execution_count": 4,
   "id": "f30d78aa-1bf7-47fb-9285-e7ab0bf7d34b",
   "metadata": {},
   "outputs": [
    {
     "data": {
      "image/png": "[encoded data removed]",
      "text/plain": [
       "plot without title"
      ]
     },
     "metadata": {
      "image/png": {
       "height": 420,
       "width": 420
      }
     },
     "output_type": "display_data"
    }
   ],
   "source": [
    "credit_df |>\n",
    "        ggplot(\n",
    "            aes(x = as.factor(Approved), y = Annual_income)\n",
    "            ) +\n",
    "            # Producing a scatterplot\n",
    "            geom_point()"
   ]
  },
  {
   "cell_type": "code",
   "execution_count": 5,
   "id": "0681f248-92e5-4559-8222-4a3427b6b93a",
   "metadata": {},
   "outputs": [
    {
     "data": {
      "image/png": "[encoded data removed]",
      "text/plain": [
       "plot without title"
      ]
     },
     "metadata": {
      "image/png": {
       "height": 420,
       "width": 420
      }
     },
     "output_type": "display_data"
    }
   ],
   "source": [
    "credit_df |>\n",
    "        ggplot(\n",
    "            aes(x = as.factor(Approved), y = Annual_income)\n",
    "            ) +\n",
    "            # Producing a boxplot\n",
    "            geom_boxplot()"
   ]
  },
  {
   "cell_type": "code",
   "execution_count": 6,
   "id": "d78d7b40-1a80-4fa0-816e-d8b9fc34eb8e",
   "metadata": {},
   "outputs": [
    {
     "data": {
      "image/png": "[encoded data removed]",
      "text/plain": [
       "plot without title"
      ]
     },
     "metadata": {
      "image/png": {
       "height": 420,
       "width": 420
      }
     },
     "output_type": "display_data"
    }
   ],
   "source": [
    "credit_df |>\n",
    "        ggplot(\n",
    "            aes(x = as.factor(Approved), y = Annual_income)\n",
    "            ) +\n",
    "            # Producing a Jitter\n",
    "            geom_jitter()"
   ]
  },
  {
   "cell_type": "markdown",
   "id": "e46ea811-08ac-4fc0-be0e-b453a36d79aa",
   "metadata": {},
   "source": [
    "> The boxplot above shows that on average approved owners with higher annual income receive more approved transactions."
   ]
  },
  {
   "cell_type": "code",
   "execution_count": 7,
   "id": "ca943f65-4901-41bc-a0eb-22d8953f2548",
   "metadata": {},
   "outputs": [],
   "source": [
    "# Converting the target colum to a facto\n",
    "credit_df <- mutate(credit_df, Approved = as.factor(Approved))\n",
    "\n",
    "# Building a recipe to prepare the data\n",
    "\n",
    "credit_recipe <-\n",
    "        # The formula for the logistic regression model\n",
    "        recipe(Approved ~ ., data = credit_df) |>\n",
    "        # update the role of Ind_ID\n",
    "        update_role(Ind_ID, new_role = 'unique_id') |>\n",
    "        # Normalize all numerical features\n",
    "        step_normalize(all_numeric_predictors()) |>\n",
    "        # Dummy all the nominal data\n",
    "        step_dummy(all_nominal_predictors())"
   ]
  },
  {
   "cell_type": "code",
   "execution_count": 8,
   "id": "0cf8d4e8-1027-47b8-93a9-4bfdfedf9a02",
   "metadata": {},
   "outputs": [
    {
     "name": "stdout",
     "output_type": "stream",
     "text": [
      "Rows: 1,496\n",
      "Columns: 15\n",
      "$ Ind_ID                     \u001b[3m\u001b[90m<dbl>\u001b[39m\u001b[23m 5008827, 5009744, 5009752, 5009754, 5009894…\n",
      "$ CHILDREN                   \u001b[3m\u001b[90m<dbl>\u001b[39m\u001b[23m -0.5325100, -0.5325100, -0.5325100, -0.5325…\n",
      "$ Annual_income              \u001b[3m\u001b[90m<dbl>\u001b[39m\u001b[23m -0.09523779, 1.09799131, 1.09799131, 1.0979…\n",
      "$ Age                        \u001b[3m\u001b[90m<dbl>\u001b[39m\u001b[23m 0.65379636, -0.55520161, -0.55520161, -0.55…\n",
      "$ Family_Members             \u001b[3m\u001b[90m<dbl>\u001b[39m\u001b[23m -0.1734769, -0.1734769, -0.1734769, -0.1734…\n",
      "$ Approved                   \u001b[3m\u001b[90m<fct>\u001b[39m\u001b[23m 0, 0, 0, 0, 0, 0, 0, 0, 0, 0, 0, 0, 0, 0, 0…\n",
      "$ GENDER_M                   \u001b[3m\u001b[90m<dbl>\u001b[39m\u001b[23m 1, 0, 0, 0, 0, 1, 1, 1, 0, 0, 1, 1, 1, 0, 0…\n",
      "$ Car_Owner_Y                \u001b[3m\u001b[90m<dbl>\u001b[39m\u001b[23m 1, 1, 1, 1, 0, 1, 1, 1, 1, 1, 0, 0, 0, 0, 0…\n",
      "$ Propert_Owner_Y            \u001b[3m\u001b[90m<dbl>\u001b[39m\u001b[23m 1, 0, 0, 0, 0, 1, 1, 1, 1, 1, 0, 1, 1, 1, 1…\n",
      "$ Type_Income_Pensioner      \u001b[3m\u001b[90m<dbl>\u001b[39m\u001b[23m 1, 0, 0, 0, 1, 0, 1, 0, 0, 0, 1, 0, 0, 0, 0…\n",
      "$ Type_Income_State.servant  \u001b[3m\u001b[90m<dbl>\u001b[39m\u001b[23m 0, 0, 0, 0, 0, 0, 0, 0, 0, 0, 0, 0, 0, 0, 0…\n",
      "$ Type_Income_Working        \u001b[3m\u001b[90m<dbl>\u001b[39m\u001b[23m 0, 0, 0, 0, 0, 0, 0, 0, 1, 1, 0, 1, 1, 0, 0…\n",
      "$ `Higher Education_Y`       \u001b[3m\u001b[90m<dbl>\u001b[39m\u001b[23m 1, 1, 1, 1, 0, 0, 0, 0, 0, 0, 1, 0, 0, 1, 1…\n",
      "$ Marital_status_Not.Married \u001b[3m\u001b[90m<dbl>\u001b[39m\u001b[23m 0, 0, 0, 0, 0, 0, 0, 1, 0, 0, 0, 0, 1, 1, 1…\n",
      "$ Employed_Y                 \u001b[3m\u001b[90m<dbl>\u001b[39m\u001b[23m 0, 1, 1, 1, 0, 1, 1, 1, 1, 1, 1, 1, 1, 1, 1…\n"
     ]
    }
   ],
   "source": [
    "# Preview the Prepared Data\n",
    "credit_recipe |>\n",
    "    prep() |>\n",
    "    bake(new_data=NULL) |>\n",
    "    glimpse()"
   ]
  },
  {
   "cell_type": "markdown",
   "id": "c98925ca-8a37-47d1-9d18-f9d672e35fbe",
   "metadata": {},
   "source": [
    "#### Part 2: \n",
    "\n",
    "Develop a Logistic Regression model in which the dependent variable is \"Approved\" and the independent variables are all other variables in the dataset (except for the ID column).\n",
    "Which variables are significant predictors of the credit card approval?"
   ]
  },
  {
   "cell_type": "code",
   "execution_count": 9,
   "id": "5c20388c-13c3-44ea-8149-2b9dd65adc54",
   "metadata": {},
   "outputs": [
    {
     "data": {
      "text/html": [
       "<table class=\"dataframe\">\n",
       "<caption>A tibble: 14 × 6</caption>\n",
       "<thead>\n",
       "\t<tr><th scope=col>term</th><th scope=col>estimate</th><th scope=col>std.error</th><th scope=col>statistic</th><th scope=col>p.value</th><th scope=col>significance</th></tr>\n",
       "\t<tr><th scope=col>&lt;chr&gt;</th><th scope=col>&lt;dbl&gt;</th><th scope=col>&lt;dbl&gt;</th><th scope=col>&lt;dbl&gt;</th><th scope=col>&lt;dbl&gt;</th><th scope=col>&lt;chr&gt;</th></tr>\n",
       "</thead>\n",
       "<tbody>\n",
       "\t<tr><td>(Intercept)               </td><td> 6.46416018</td><td>1.16286691</td><td> 5.5588134</td><td>2.716149e-08</td><td>Significant    </td></tr>\n",
       "\t<tr><td>CHILDREN                  </td><td> 1.76440744</td><td>0.50481217</td><td> 3.4951761</td><td>4.737491e-04</td><td>Significant    </td></tr>\n",
       "\t<tr><td>Annual_income             </td><td> 0.03379591</td><td>0.09749829</td><td> 0.3466308</td><td>7.288687e-01</td><td>Not Significant</td></tr>\n",
       "\t<tr><td>Age                       </td><td>-0.19467752</td><td>0.11384931</td><td>-1.7099579</td><td>8.727367e-02</td><td>Not Significant</td></tr>\n",
       "\t<tr><td>Family_Members            </td><td>-2.15175182</td><td>0.60111591</td><td>-3.5795955</td><td>3.441265e-04</td><td>Significant    </td></tr>\n",
       "\t<tr><td>GENDER_M                  </td><td>-0.55122132</td><td>0.19534112</td><td>-2.8218397</td><td>4.774904e-03</td><td>Significant    </td></tr>\n",
       "\t<tr><td>Car_Owner_Y               </td><td> 0.25675379</td><td>0.19879853</td><td> 1.2915276</td><td>1.965208e-01</td><td>Not Significant</td></tr>\n",
       "\t<tr><td>Propert_Owner_Y           </td><td> 0.12823463</td><td>0.18192983</td><td> 0.7048577</td><td>4.808988e-01</td><td>Not Significant</td></tr>\n",
       "\t<tr><td>Type_Income_Pensioner     </td><td>-3.52684312</td><td>1.10956180</td><td>-3.1785910</td><td>1.479928e-03</td><td>Significant    </td></tr>\n",
       "\t<tr><td>Type_Income_State.servant </td><td> 1.23439797</td><td>0.49438082</td><td> 2.4968565</td><td>1.252997e-02</td><td>Significant    </td></tr>\n",
       "\t<tr><td>Type_Income_Working       </td><td> 0.38767871</td><td>0.20916809</td><td> 1.8534314</td><td>6.382055e-02</td><td>Not Significant</td></tr>\n",
       "\t<tr><td>`Higher Education_Y`      </td><td>-0.17675146</td><td>0.19908932</td><td>-0.8877998</td><td>3.746485e-01</td><td>Not Significant</td></tr>\n",
       "\t<tr><td>Marital_status_Not.Married</td><td>-2.55639924</td><td>0.61927408</td><td>-4.1280579</td><td>3.658400e-05</td><td>Significant    </td></tr>\n",
       "\t<tr><td>Employed_Y                </td><td>-3.83720417</td><td>1.13607811</td><td>-3.3775883</td><td>7.312446e-04</td><td>Significant    </td></tr>\n",
       "</tbody>\n",
       "</table>\n"
      ],
      "text/latex": [
       "A tibble: 14 × 6\n",
       "\\begin{tabular}{llllll}\n",
       " term & estimate & std.error & statistic & p.value & significance\\\\\n",
       " <chr> & <dbl> & <dbl> & <dbl> & <dbl> & <chr>\\\\\n",
       "\\hline\n",
       "\t (Intercept)                &  6.46416018 & 1.16286691 &  5.5588134 & 2.716149e-08 & Significant    \\\\\n",
       "\t CHILDREN                   &  1.76440744 & 0.50481217 &  3.4951761 & 4.737491e-04 & Significant    \\\\\n",
       "\t Annual\\_income              &  0.03379591 & 0.09749829 &  0.3466308 & 7.288687e-01 & Not Significant\\\\\n",
       "\t Age                        & -0.19467752 & 0.11384931 & -1.7099579 & 8.727367e-02 & Not Significant\\\\\n",
       "\t Family\\_Members             & -2.15175182 & 0.60111591 & -3.5795955 & 3.441265e-04 & Significant    \\\\\n",
       "\t GENDER\\_M                   & -0.55122132 & 0.19534112 & -2.8218397 & 4.774904e-03 & Significant    \\\\\n",
       "\t Car\\_Owner\\_Y                &  0.25675379 & 0.19879853 &  1.2915276 & 1.965208e-01 & Not Significant\\\\\n",
       "\t Propert\\_Owner\\_Y            &  0.12823463 & 0.18192983 &  0.7048577 & 4.808988e-01 & Not Significant\\\\\n",
       "\t Type\\_Income\\_Pensioner      & -3.52684312 & 1.10956180 & -3.1785910 & 1.479928e-03 & Significant    \\\\\n",
       "\t Type\\_Income\\_State.servant  &  1.23439797 & 0.49438082 &  2.4968565 & 1.252997e-02 & Significant    \\\\\n",
       "\t Type\\_Income\\_Working        &  0.38767871 & 0.20916809 &  1.8534314 & 6.382055e-02 & Not Significant\\\\\n",
       "\t `Higher Education\\_Y`       & -0.17675146 & 0.19908932 & -0.8877998 & 3.746485e-01 & Not Significant\\\\\n",
       "\t Marital\\_status\\_Not.Married & -2.55639924 & 0.61927408 & -4.1280579 & 3.658400e-05 & Significant    \\\\\n",
       "\t Employed\\_Y                 & -3.83720417 & 1.13607811 & -3.3775883 & 7.312446e-04 & Significant    \\\\\n",
       "\\end{tabular}\n"
      ],
      "text/markdown": [
       "\n",
       "A tibble: 14 × 6\n",
       "\n",
       "| term &lt;chr&gt; | estimate &lt;dbl&gt; | std.error &lt;dbl&gt; | statistic &lt;dbl&gt; | p.value &lt;dbl&gt; | significance &lt;chr&gt; |\n",
       "|---|---|---|---|---|---|\n",
       "| (Intercept)                |  6.46416018 | 1.16286691 |  5.5588134 | 2.716149e-08 | Significant     |\n",
       "| CHILDREN                   |  1.76440744 | 0.50481217 |  3.4951761 | 4.737491e-04 | Significant     |\n",
       "| Annual_income              |  0.03379591 | 0.09749829 |  0.3466308 | 7.288687e-01 | Not Significant |\n",
       "| Age                        | -0.19467752 | 0.11384931 | -1.7099579 | 8.727367e-02 | Not Significant |\n",
       "| Family_Members             | -2.15175182 | 0.60111591 | -3.5795955 | 3.441265e-04 | Significant     |\n",
       "| GENDER_M                   | -0.55122132 | 0.19534112 | -2.8218397 | 4.774904e-03 | Significant     |\n",
       "| Car_Owner_Y                |  0.25675379 | 0.19879853 |  1.2915276 | 1.965208e-01 | Not Significant |\n",
       "| Propert_Owner_Y            |  0.12823463 | 0.18192983 |  0.7048577 | 4.808988e-01 | Not Significant |\n",
       "| Type_Income_Pensioner      | -3.52684312 | 1.10956180 | -3.1785910 | 1.479928e-03 | Significant     |\n",
       "| Type_Income_State.servant  |  1.23439797 | 0.49438082 |  2.4968565 | 1.252997e-02 | Significant     |\n",
       "| Type_Income_Working        |  0.38767871 | 0.20916809 |  1.8534314 | 6.382055e-02 | Not Significant |\n",
       "| `Higher Education_Y`       | -0.17675146 | 0.19908932 | -0.8877998 | 3.746485e-01 | Not Significant |\n",
       "| Marital_status_Not.Married | -2.55639924 | 0.61927408 | -4.1280579 | 3.658400e-05 | Significant     |\n",
       "| Employed_Y                 | -3.83720417 | 1.13607811 | -3.3775883 | 7.312446e-04 | Significant     |\n",
       "\n"
      ],
      "text/plain": [
       "   term                       estimate    std.error  statistic  p.value     \n",
       "1  (Intercept)                 6.46416018 1.16286691  5.5588134 2.716149e-08\n",
       "2  CHILDREN                    1.76440744 0.50481217  3.4951761 4.737491e-04\n",
       "3  Annual_income               0.03379591 0.09749829  0.3466308 7.288687e-01\n",
       "4  Age                        -0.19467752 0.11384931 -1.7099579 8.727367e-02\n",
       "5  Family_Members             -2.15175182 0.60111591 -3.5795955 3.441265e-04\n",
       "6  GENDER_M                   -0.55122132 0.19534112 -2.8218397 4.774904e-03\n",
       "7  Car_Owner_Y                 0.25675379 0.19879853  1.2915276 1.965208e-01\n",
       "8  Propert_Owner_Y             0.12823463 0.18192983  0.7048577 4.808988e-01\n",
       "9  Type_Income_Pensioner      -3.52684312 1.10956180 -3.1785910 1.479928e-03\n",
       "10 Type_Income_State.servant   1.23439797 0.49438082  2.4968565 1.252997e-02\n",
       "11 Type_Income_Working         0.38767871 0.20916809  1.8534314 6.382055e-02\n",
       "12 `Higher Education_Y`       -0.17675146 0.19908932 -0.8877998 3.746485e-01\n",
       "13 Marital_status_Not.Married -2.55639924 0.61927408 -4.1280579 3.658400e-05\n",
       "14 Employed_Y                 -3.83720417 1.13607811 -3.3775883 7.312446e-04\n",
       "   significance   \n",
       "1  Significant    \n",
       "2  Significant    \n",
       "3  Not Significant\n",
       "4  Not Significant\n",
       "5  Significant    \n",
       "6  Significant    \n",
       "7  Not Significant\n",
       "8  Not Significant\n",
       "9  Significant    \n",
       "10 Significant    \n",
       "11 Not Significant\n",
       "12 Not Significant\n",
       "13 Significant    \n",
       "14 Significant    "
      ]
     },
     "metadata": {},
     "output_type": "display_data"
    }
   ],
   "source": [
    "# Defining the logistic regression model\n",
    "\n",
    "log_reg_mod <- logistic_reg() |>\n",
    "                set_engine('glm') \n",
    "\n",
    "\n",
    "\n",
    "# The workflow\n",
    "log_reg_wflow <- workflow() |>\n",
    "                 add_model(log_reg_mod) |>\n",
    "                 add_recipe(credit_recipe)\n",
    "\n",
    "\n",
    "# Fit the log_Reg model to the data\n",
    "log_reg_fit <- fit(log_reg_wflow, credit_df)\n",
    "\n",
    "# Preview the summary\n",
    "log_reg_fit |>\n",
    "        tidy() |>\n",
    "        # Checking for significance\n",
    "        mutate(significance = ifelse(test = (p.value <= 0.05), yes = 'Significant',no = 'Not Significant'))\n"
   ]
  },
  {
   "cell_type": "markdown",
   "id": "ab151113-ffe8-49b6-b226-9fe2dadb2666",
   "metadata": {},
   "source": [
    "#### Part 3: \n",
    "\n",
    "How do you interpret the estimated coefficient for the annual-income variable? "
   ]
  },
  {
   "cell_type": "markdown",
   "id": "c3a78fd4-2eab-4543-b8af-78ad59d5bff4",
   "metadata": {},
   "source": [
    "> The `annual_income` variable has a `positive coefficient` meaning that higher annual income increases the likelihood/probability of an Approved credit card request"
   ]
  },
  {
   "cell_type": "markdown",
   "id": "7254b7d9-8ab2-4e9c-9411-993a6e1d2da3",
   "metadata": {},
   "source": [
    "#### Part 4: \n",
    "\n",
    "How do you interpret the estimated coefficients for the different levels of the \"Type_Income\" Variable?"
   ]
  },
  {
   "cell_type": "markdown",
   "id": "d75d88d7-3160-48a6-90c3-c1d27cfb5e0d",
   "metadata": {},
   "source": [
    "The `type_income` variable has the ff levels:\n",
    "- `Type_Income_Pensioner` has a `negative coefficient` meaning pensioners have a lower chance of having a credit card request approved\n",
    "-  `Type_Income_State.servant` and `Type_Income_Working` have a `positive coefficient` meaning servants and working professionals have a higher likelihood of approved credit card request.\n",
    "-  `Commercial Associates` have a higher likelihood of credit card approval than pensioners."
   ]
  },
  {
   "cell_type": "markdown",
   "id": "2114cd0e-8873-403a-afe6-936ff728d645",
   "metadata": {},
   "source": [
    "### Question 2:"
   ]
  },
  {
   "cell_type": "markdown",
   "id": "f23cd6fa-956c-4ec0-9725-8de1d633b414",
   "metadata": {},
   "source": [
    "#### Part 1: \n",
    "\n",
    "In the previous Regression model, two of the independent variables have the potential to be highly correlated. Which variables do you think are highly correlated? Why? (use cor() function to measure their correlation). "
   ]
  },
  {
   "cell_type": "code",
   "execution_count": 10,
   "id": "5f384235-3ee7-4703-90bf-f42bf40f2c80",
   "metadata": {},
   "outputs": [
    {
     "name": "stderr",
     "output_type": "stream",
     "text": [
      "Non-numeric variables removed from input: `GENDER`, `Car_Owner`, `Propert_Owner`, `Type_Income`, `Higher Education`, `Marital_status`, `Employed`, and `Approved`\n",
      "Correlation computed with\n",
      "\u001b[36m•\u001b[39m Method: 'pearson'\n",
      "\u001b[36m•\u001b[39m Missing treated using: 'pairwise.complete.obs'\n"
     ]
    },
    {
     "data": {
      "text/html": [
       "<table class=\"dataframe\">\n",
       "<caption>A cor_df: 5 × 6</caption>\n",
       "<thead>\n",
       "\t<tr><th scope=col>term</th><th scope=col>Ind_ID</th><th scope=col>CHILDREN</th><th scope=col>Annual_income</th><th scope=col>Age</th><th scope=col>Family_Members</th></tr>\n",
       "\t<tr><th scope=col>&lt;chr&gt;</th><th scope=col>&lt;dbl&gt;</th><th scope=col>&lt;dbl&gt;</th><th scope=col>&lt;dbl&gt;</th><th scope=col>&lt;dbl&gt;</th><th scope=col>&lt;dbl&gt;</th></tr>\n",
       "</thead>\n",
       "<tbody>\n",
       "\t<tr><td>Ind_ID        </td><td>         NA</td><td> 0.02607782</td><td> 0.03116802</td><td>-0.02399296</td><td> 0.01021936</td></tr>\n",
       "\t<tr><td>CHILDREN      </td><td> 0.02607782</td><td>         NA</td><td> 0.07888430</td><td>-0.28134775</td><td> 0.89139940</td></tr>\n",
       "\t<tr><td>Annual_income </td><td> 0.03116802</td><td> 0.07888430</td><td>         NA</td><td>-0.10825501</td><td> 0.05154557</td></tr>\n",
       "\t<tr><td>Age           </td><td>-0.02399296</td><td>-0.28134775</td><td>-0.10825501</td><td>         NA</td><td>-0.27008001</td></tr>\n",
       "\t<tr><td>Family_Members</td><td> 0.01021936</td><td> 0.89139940</td><td> 0.05154557</td><td>-0.27008001</td><td>         NA</td></tr>\n",
       "</tbody>\n",
       "</table>\n"
      ],
      "text/latex": [
       "A cor\\_df: 5 × 6\n",
       "\\begin{tabular}{llllll}\n",
       " term & Ind\\_ID & CHILDREN & Annual\\_income & Age & Family\\_Members\\\\\n",
       " <chr> & <dbl> & <dbl> & <dbl> & <dbl> & <dbl>\\\\\n",
       "\\hline\n",
       "\t Ind\\_ID         &          NA &  0.02607782 &  0.03116802 & -0.02399296 &  0.01021936\\\\\n",
       "\t CHILDREN       &  0.02607782 &          NA &  0.07888430 & -0.28134775 &  0.89139940\\\\\n",
       "\t Annual\\_income  &  0.03116802 &  0.07888430 &          NA & -0.10825501 &  0.05154557\\\\\n",
       "\t Age            & -0.02399296 & -0.28134775 & -0.10825501 &          NA & -0.27008001\\\\\n",
       "\t Family\\_Members &  0.01021936 &  0.89139940 &  0.05154557 & -0.27008001 &          NA\\\\\n",
       "\\end{tabular}\n"
      ],
      "text/markdown": [
       "\n",
       "A cor_df: 5 × 6\n",
       "\n",
       "| term &lt;chr&gt; | Ind_ID &lt;dbl&gt; | CHILDREN &lt;dbl&gt; | Annual_income &lt;dbl&gt; | Age &lt;dbl&gt; | Family_Members &lt;dbl&gt; |\n",
       "|---|---|---|---|---|---|\n",
       "| Ind_ID         |          NA |  0.02607782 |  0.03116802 | -0.02399296 |  0.01021936 |\n",
       "| CHILDREN       |  0.02607782 |          NA |  0.07888430 | -0.28134775 |  0.89139940 |\n",
       "| Annual_income  |  0.03116802 |  0.07888430 |          NA | -0.10825501 |  0.05154557 |\n",
       "| Age            | -0.02399296 | -0.28134775 | -0.10825501 |          NA | -0.27008001 |\n",
       "| Family_Members |  0.01021936 |  0.89139940 |  0.05154557 | -0.27008001 |          NA |\n",
       "\n"
      ],
      "text/plain": [
       "  term           Ind_ID      CHILDREN    Annual_income Age        \n",
       "1 Ind_ID                  NA  0.02607782  0.03116802   -0.02399296\n",
       "2 CHILDREN        0.02607782          NA  0.07888430   -0.28134775\n",
       "3 Annual_income   0.03116802  0.07888430          NA   -0.10825501\n",
       "4 Age            -0.02399296 -0.28134775 -0.10825501            NA\n",
       "5 Family_Members  0.01021936  0.89139940  0.05154557   -0.27008001\n",
       "  Family_Members\n",
       "1  0.01021936   \n",
       "2  0.89139940   \n",
       "3  0.05154557   \n",
       "4 -0.27008001   \n",
       "5          NA   "
      ]
     },
     "metadata": {},
     "output_type": "display_data"
    }
   ],
   "source": [
    "# Correlation matrix with correlate\n",
    "correlate(credit_df)"
   ]
  },
  {
   "cell_type": "markdown",
   "id": "29c416c0-f6bf-4956-9501-45e0d60c1a1a",
   "metadata": {},
   "source": [
    "From the above correlation matrix. The ff variables are highly correlated:\n",
    "- Family Members and Children"
   ]
  },
  {
   "cell_type": "markdown",
   "id": "d0a8ecd6-92bb-4735-b86c-52367edf7d23",
   "metadata": {},
   "source": [
    "#### Part 2: \n",
    "\n",
    "Develop another logistic regression model similar to the previous model (LogisticRegression1), but drop one of the two highly correlated variables and keep the other one. Is the preserved variable still significant?"
   ]
  },
  {
   "cell_type": "code",
   "execution_count": 11,
   "id": "fbde701f-eeaf-4192-9251-3f142b9afff7",
   "metadata": {},
   "outputs": [
    {
     "name": "stdout",
     "output_type": "stream",
     "text": [
      "Rows: 1,496\n",
      "Columns: 15\n",
      "$ Ind_ID                     \u001b[3m\u001b[90m<dbl>\u001b[39m\u001b[23m 5008827, 5009744, 5009752, 5009754, 5009894…\n",
      "$ CHILDREN                   \u001b[3m\u001b[90m<dbl>\u001b[39m\u001b[23m -0.5325100, -0.5325100, -0.5325100, -0.5325…\n",
      "$ Annual_income              \u001b[3m\u001b[90m<dbl>\u001b[39m\u001b[23m -0.09523779, 1.09799131, 1.09799131, 1.0979…\n",
      "$ Age                        \u001b[3m\u001b[90m<dbl>\u001b[39m\u001b[23m 0.65379636, -0.55520161, -0.55520161, -0.55…\n",
      "$ Family_Members             \u001b[3m\u001b[90m<dbl>\u001b[39m\u001b[23m 2, 2, 2, 2, 2, 3, 3, 1, 2, 2, 3, 2, 2, 1, 1…\n",
      "$ Approved                   \u001b[3m\u001b[90m<fct>\u001b[39m\u001b[23m 0, 0, 0, 0, 0, 0, 0, 0, 0, 0, 0, 0, 0, 0, 0…\n",
      "$ GENDER_M                   \u001b[3m\u001b[90m<dbl>\u001b[39m\u001b[23m 1, 0, 0, 0, 0, 1, 1, 1, 0, 0, 1, 1, 1, 0, 0…\n",
      "$ Car_Owner_Y                \u001b[3m\u001b[90m<dbl>\u001b[39m\u001b[23m 1, 1, 1, 1, 0, 1, 1, 1, 1, 1, 0, 0, 0, 0, 0…\n",
      "$ Propert_Owner_Y            \u001b[3m\u001b[90m<dbl>\u001b[39m\u001b[23m 1, 0, 0, 0, 0, 1, 1, 1, 1, 1, 0, 1, 1, 1, 1…\n",
      "$ Type_Income_Pensioner      \u001b[3m\u001b[90m<dbl>\u001b[39m\u001b[23m 1, 0, 0, 0, 1, 0, 1, 0, 0, 0, 1, 0, 0, 0, 0…\n",
      "$ Type_Income_State.servant  \u001b[3m\u001b[90m<dbl>\u001b[39m\u001b[23m 0, 0, 0, 0, 0, 0, 0, 0, 0, 0, 0, 0, 0, 0, 0…\n",
      "$ Type_Income_Working        \u001b[3m\u001b[90m<dbl>\u001b[39m\u001b[23m 0, 0, 0, 0, 0, 0, 0, 0, 1, 1, 0, 1, 1, 0, 0…\n",
      "$ `Higher Education_Y`       \u001b[3m\u001b[90m<dbl>\u001b[39m\u001b[23m 1, 1, 1, 1, 0, 0, 0, 0, 0, 0, 1, 0, 0, 1, 1…\n",
      "$ Marital_status_Not.Married \u001b[3m\u001b[90m<dbl>\u001b[39m\u001b[23m 0, 0, 0, 0, 0, 0, 0, 1, 0, 0, 0, 0, 1, 1, 1…\n",
      "$ Employed_Y                 \u001b[3m\u001b[90m<dbl>\u001b[39m\u001b[23m 0, 1, 1, 1, 0, 1, 1, 1, 1, 1, 1, 1, 1, 1, 1…\n"
     ]
    }
   ],
   "source": [
    "# Building a recipe to prepare the data\n",
    "\n",
    "credit_recipe_2 <-\n",
    "        # The formula for the logistic regression model\n",
    "        recipe(Approved ~ ., data = credit_df) |>\n",
    "        # update the role of Ind_ID\n",
    "        update_role(Ind_ID, new_role = 'unique_id') |>\n",
    "        # Dropping the Family_Members column |>\n",
    "        update_role(Family_Members, new_role = 'dropped_fam_col') |>\n",
    "        # Normalize all numerical features\n",
    "        step_normalize(all_numeric_predictors()) |>\n",
    "        # Dummy all the nominal data\n",
    "        step_dummy(all_nominal_predictors())\n",
    "\n",
    "\n",
    "\n",
    "# Preview the Prepared Data\n",
    "credit_recipe_2 |>\n",
    "    prep() |>\n",
    "    bake(new_data=NULL) |>\n",
    "    glimpse()"
   ]
  },
  {
   "cell_type": "code",
   "execution_count": 12,
   "id": "4bb6db6f-7ada-47c5-8924-da6ee71c74f2",
   "metadata": {},
   "outputs": [
    {
     "data": {
      "text/html": [
       "<table class=\"dataframe\">\n",
       "<caption>A tibble: 13 × 6</caption>\n",
       "<thead>\n",
       "\t<tr><th scope=col>term</th><th scope=col>estimate</th><th scope=col>std.error</th><th scope=col>statistic</th><th scope=col>p.value</th><th scope=col>significance</th></tr>\n",
       "\t<tr><th scope=col>&lt;chr&gt;</th><th scope=col>&lt;dbl&gt;</th><th scope=col>&lt;dbl&gt;</th><th scope=col>&lt;dbl&gt;</th><th scope=col>&lt;dbl&gt;</th><th scope=col>&lt;chr&gt;</th></tr>\n",
       "</thead>\n",
       "<tbody>\n",
       "\t<tr><td>(Intercept)               </td><td> 6.08013159</td><td>1.14166314</td><td> 5.3256791</td><td>1.005765e-07</td><td>Significant    </td></tr>\n",
       "\t<tr><td>CHILDREN                  </td><td>-0.01052731</td><td>0.08805540</td><td>-0.1195532</td><td>9.048371e-01</td><td>Not Significant</td></tr>\n",
       "\t<tr><td>Annual_income             </td><td> 0.04974508</td><td>0.09787191</td><td> 0.5082672</td><td>6.112660e-01</td><td>Not Significant</td></tr>\n",
       "\t<tr><td>Age                       </td><td>-0.19115143</td><td>0.11283262</td><td>-1.6941149</td><td>9.024346e-02</td><td>Not Significant</td></tr>\n",
       "\t<tr><td>GENDER_M                  </td><td>-0.55214576</td><td>0.19418566</td><td>-2.8433910</td><td>4.463628e-03</td><td>Significant    </td></tr>\n",
       "\t<tr><td>Car_Owner_Y               </td><td> 0.25117345</td><td>0.19745302</td><td> 1.2720669</td><td>2.033494e-01</td><td>Not Significant</td></tr>\n",
       "\t<tr><td>Propert_Owner_Y           </td><td> 0.13541311</td><td>0.18046115</td><td> 0.7503727</td><td>4.530303e-01</td><td>Not Significant</td></tr>\n",
       "\t<tr><td>Type_Income_Pensioner     </td><td>-3.68485639</td><td>1.09650667</td><td>-3.3605417</td><td>7.778978e-04</td><td>Significant    </td></tr>\n",
       "\t<tr><td>Type_Income_State.servant </td><td> 1.18969121</td><td>0.48625111</td><td> 2.4466602</td><td>1.441867e-02</td><td>Significant    </td></tr>\n",
       "\t<tr><td>Type_Income_Working       </td><td> 0.39201387</td><td>0.20759180</td><td> 1.8883880</td><td>5.897388e-02</td><td>Not Significant</td></tr>\n",
       "\t<tr><td>`Higher Education_Y`      </td><td>-0.14869903</td><td>0.19772163</td><td>-0.7520625</td><td>4.520135e-01</td><td>Not Significant</td></tr>\n",
       "\t<tr><td>Marital_status_Not.Married</td><td>-0.41980211</td><td>0.19121373</td><td>-2.1954600</td><td>2.813061e-02</td><td>Significant    </td></tr>\n",
       "\t<tr><td>Employed_Y                </td><td>-4.03393691</td><td>1.12158231</td><td>-3.5966481</td><td>3.223441e-04</td><td>Significant    </td></tr>\n",
       "</tbody>\n",
       "</table>\n"
      ],
      "text/latex": [
       "A tibble: 13 × 6\n",
       "\\begin{tabular}{llllll}\n",
       " term & estimate & std.error & statistic & p.value & significance\\\\\n",
       " <chr> & <dbl> & <dbl> & <dbl> & <dbl> & <chr>\\\\\n",
       "\\hline\n",
       "\t (Intercept)                &  6.08013159 & 1.14166314 &  5.3256791 & 1.005765e-07 & Significant    \\\\\n",
       "\t CHILDREN                   & -0.01052731 & 0.08805540 & -0.1195532 & 9.048371e-01 & Not Significant\\\\\n",
       "\t Annual\\_income              &  0.04974508 & 0.09787191 &  0.5082672 & 6.112660e-01 & Not Significant\\\\\n",
       "\t Age                        & -0.19115143 & 0.11283262 & -1.6941149 & 9.024346e-02 & Not Significant\\\\\n",
       "\t GENDER\\_M                   & -0.55214576 & 0.19418566 & -2.8433910 & 4.463628e-03 & Significant    \\\\\n",
       "\t Car\\_Owner\\_Y                &  0.25117345 & 0.19745302 &  1.2720669 & 2.033494e-01 & Not Significant\\\\\n",
       "\t Propert\\_Owner\\_Y            &  0.13541311 & 0.18046115 &  0.7503727 & 4.530303e-01 & Not Significant\\\\\n",
       "\t Type\\_Income\\_Pensioner      & -3.68485639 & 1.09650667 & -3.3605417 & 7.778978e-04 & Significant    \\\\\n",
       "\t Type\\_Income\\_State.servant  &  1.18969121 & 0.48625111 &  2.4466602 & 1.441867e-02 & Significant    \\\\\n",
       "\t Type\\_Income\\_Working        &  0.39201387 & 0.20759180 &  1.8883880 & 5.897388e-02 & Not Significant\\\\\n",
       "\t `Higher Education\\_Y`       & -0.14869903 & 0.19772163 & -0.7520625 & 4.520135e-01 & Not Significant\\\\\n",
       "\t Marital\\_status\\_Not.Married & -0.41980211 & 0.19121373 & -2.1954600 & 2.813061e-02 & Significant    \\\\\n",
       "\t Employed\\_Y                 & -4.03393691 & 1.12158231 & -3.5966481 & 3.223441e-04 & Significant    \\\\\n",
       "\\end{tabular}\n"
      ],
      "text/markdown": [
       "\n",
       "A tibble: 13 × 6\n",
       "\n",
       "| term &lt;chr&gt; | estimate &lt;dbl&gt; | std.error &lt;dbl&gt; | statistic &lt;dbl&gt; | p.value &lt;dbl&gt; | significance &lt;chr&gt; |\n",
       "|---|---|---|---|---|---|\n",
       "| (Intercept)                |  6.08013159 | 1.14166314 |  5.3256791 | 1.005765e-07 | Significant     |\n",
       "| CHILDREN                   | -0.01052731 | 0.08805540 | -0.1195532 | 9.048371e-01 | Not Significant |\n",
       "| Annual_income              |  0.04974508 | 0.09787191 |  0.5082672 | 6.112660e-01 | Not Significant |\n",
       "| Age                        | -0.19115143 | 0.11283262 | -1.6941149 | 9.024346e-02 | Not Significant |\n",
       "| GENDER_M                   | -0.55214576 | 0.19418566 | -2.8433910 | 4.463628e-03 | Significant     |\n",
       "| Car_Owner_Y                |  0.25117345 | 0.19745302 |  1.2720669 | 2.033494e-01 | Not Significant |\n",
       "| Propert_Owner_Y            |  0.13541311 | 0.18046115 |  0.7503727 | 4.530303e-01 | Not Significant |\n",
       "| Type_Income_Pensioner      | -3.68485639 | 1.09650667 | -3.3605417 | 7.778978e-04 | Significant     |\n",
       "| Type_Income_State.servant  |  1.18969121 | 0.48625111 |  2.4466602 | 1.441867e-02 | Significant     |\n",
       "| Type_Income_Working        |  0.39201387 | 0.20759180 |  1.8883880 | 5.897388e-02 | Not Significant |\n",
       "| `Higher Education_Y`       | -0.14869903 | 0.19772163 | -0.7520625 | 4.520135e-01 | Not Significant |\n",
       "| Marital_status_Not.Married | -0.41980211 | 0.19121373 | -2.1954600 | 2.813061e-02 | Significant     |\n",
       "| Employed_Y                 | -4.03393691 | 1.12158231 | -3.5966481 | 3.223441e-04 | Significant     |\n",
       "\n"
      ],
      "text/plain": [
       "   term                       estimate    std.error  statistic  p.value     \n",
       "1  (Intercept)                 6.08013159 1.14166314  5.3256791 1.005765e-07\n",
       "2  CHILDREN                   -0.01052731 0.08805540 -0.1195532 9.048371e-01\n",
       "3  Annual_income               0.04974508 0.09787191  0.5082672 6.112660e-01\n",
       "4  Age                        -0.19115143 0.11283262 -1.6941149 9.024346e-02\n",
       "5  GENDER_M                   -0.55214576 0.19418566 -2.8433910 4.463628e-03\n",
       "6  Car_Owner_Y                 0.25117345 0.19745302  1.2720669 2.033494e-01\n",
       "7  Propert_Owner_Y             0.13541311 0.18046115  0.7503727 4.530303e-01\n",
       "8  Type_Income_Pensioner      -3.68485639 1.09650667 -3.3605417 7.778978e-04\n",
       "9  Type_Income_State.servant   1.18969121 0.48625111  2.4466602 1.441867e-02\n",
       "10 Type_Income_Working         0.39201387 0.20759180  1.8883880 5.897388e-02\n",
       "11 `Higher Education_Y`       -0.14869903 0.19772163 -0.7520625 4.520135e-01\n",
       "12 Marital_status_Not.Married -0.41980211 0.19121373 -2.1954600 2.813061e-02\n",
       "13 Employed_Y                 -4.03393691 1.12158231 -3.5966481 3.223441e-04\n",
       "   significance   \n",
       "1  Significant    \n",
       "2  Not Significant\n",
       "3  Not Significant\n",
       "4  Not Significant\n",
       "5  Significant    \n",
       "6  Not Significant\n",
       "7  Not Significant\n",
       "8  Significant    \n",
       "9  Significant    \n",
       "10 Not Significant\n",
       "11 Not Significant\n",
       "12 Significant    \n",
       "13 Significant    "
      ]
     },
     "metadata": {},
     "output_type": "display_data"
    }
   ],
   "source": [
    "# Defining the logistic regression model\n",
    "\n",
    "log_reg_mod_2 <- logistic_reg() |>\n",
    "                set_engine('glm') \n",
    "\n",
    "\n",
    "\n",
    "# The workflow\n",
    "log_reg_wflow_2 <- workflow() |>\n",
    "                 add_model(log_reg_mod_2) |>\n",
    "                 add_recipe(credit_recipe_2)\n",
    "\n",
    "\n",
    "# Fit the log_Reg model to the data\n",
    "log_reg_fit_2 <- fit(log_reg_wflow_2, credit_df)\n",
    "\n",
    "# Preview the summary\n",
    "log_reg_fit_2 |>\n",
    "        tidy() |>\n",
    "        # Checking for significance\n",
    "        mutate(significance = ifelse(test = (p.value <= 0.05), yes = 'Significant',no = 'Not Significant'))\n"
   ]
  },
  {
   "cell_type": "markdown",
   "id": "6a1f7a25-ea59-440b-a368-d3d1b326e22d",
   "metadata": {},
   "source": [
    "### Question 3:"
   ]
  },
  {
   "cell_type": "markdown",
   "id": "bdfe88fb-8745-4747-b259-75656163a933",
   "metadata": {},
   "source": [
    "#### Part 1: \n",
    "\n",
    "Split the Credit_Card_Data into a training (70%) and a test set (30%). "
   ]
  },
  {
   "cell_type": "code",
   "execution_count": 13,
   "id": "9862c2de-6a46-43dc-94e2-84f4a04963ad",
   "metadata": {},
   "outputs": [],
   "source": [
    "# Spliting df into train and test\n",
    "\n",
    "set.seed(123)\n",
    "\n",
    "# Provide the criterial for spliting\n",
    "credit_split <- initial_split(credit_df, prop = 0.7, strata = Approved) \n",
    "\n",
    "# Greate the train df\n",
    "credit_train_df <- training(credit_split)\n",
    "\n",
    "# Create the test df\n",
    "credit_test_df <- testing(credit_split)"
   ]
  },
  {
   "cell_type": "code",
   "execution_count": 14,
   "id": "13ac3c5a-6698-4e0f-9e30-f9283ce1774a",
   "metadata": {},
   "outputs": [
    {
     "name": "stdout",
     "output_type": "stream",
     "text": [
      "Rows: 1,047\n",
      "Columns: 13\n",
      "$ Ind_ID             \u001b[3m\u001b[90m<dbl>\u001b[39m\u001b[23m 5009754, 5009894, 5010864, 5010868, 5010869, 502131…\n",
      "$ GENDER             \u001b[3m\u001b[90m<chr>\u001b[39m\u001b[23m \"F\", \"F\", \"M\", \"M\", \"M\", \"M\", \"M\", \"F\", \"F\", \"M\", \"…\n",
      "$ Car_Owner          \u001b[3m\u001b[90m<chr>\u001b[39m\u001b[23m \"Y\", \"N\", \"Y\", \"Y\", \"Y\", \"N\", \"N\", \"N\", \"N\", \"N\", \"…\n",
      "$ Propert_Owner      \u001b[3m\u001b[90m<chr>\u001b[39m\u001b[23m \"N\", \"N\", \"Y\", \"Y\", \"Y\", \"Y\", \"Y\", \"Y\", \"Y\", \"Y\", \"…\n",
      "$ CHILDREN           \u001b[3m\u001b[90m<dbl>\u001b[39m\u001b[23m 0, 0, 1, 1, 1, 0, 0, 0, 0, 0, 0, 0, 0, 0, 0, 0, 0, …\n",
      "$ Annual_income      \u001b[3m\u001b[90m<dbl>\u001b[39m\u001b[23m 315000, 180000, 450000, 450000, 450000, 270000, 270…\n",
      "$ Type_Income        \u001b[3m\u001b[90m<chr>\u001b[39m\u001b[23m \"Commercial associate\", \"Pensioner\", \"Commercial as…\n",
      "$ `Higher Education` \u001b[3m\u001b[90m<chr>\u001b[39m\u001b[23m \"Y\", \"N\", \"N\", \"N\", \"N\", \"N\", \"N\", \"Y\", \"Y\", \"N\", \"…\n",
      "$ Marital_status     \u001b[3m\u001b[90m<chr>\u001b[39m\u001b[23m \"Married\", \"Married\", \"Married\", \"Married\", \"Not-Ma…\n",
      "$ Age                \u001b[3m\u001b[90m<dbl>\u001b[39m\u001b[23m 37, 60, 49, 49, 49, 46, 46, 51, 51, 51, 35, 43, 43,…\n",
      "$ Employed           \u001b[3m\u001b[90m<chr>\u001b[39m\u001b[23m \"Y\", \"N\", \"Y\", \"Y\", \"Y\", \"Y\", \"Y\", \"Y\", \"Y\", \"Y\", \"…\n",
      "$ Family_Members     \u001b[3m\u001b[90m<dbl>\u001b[39m\u001b[23m 2, 2, 3, 3, 1, 2, 2, 1, 1, 2, 1, 2, 2, 2, 2, 2, 2, …\n",
      "$ Approved           \u001b[3m\u001b[90m<fct>\u001b[39m\u001b[23m 0, 0, 0, 0, 0, 0, 0, 0, 0, 0, 0, 0, 0, 0, 0, 0, 0, …\n"
     ]
    }
   ],
   "source": [
    "# Preview the train df\n",
    "glimpse(credit_train_df)"
   ]
  },
  {
   "cell_type": "code",
   "execution_count": 15,
   "id": "acc008a8-9bba-4fb7-98b6-2f24fbb56088",
   "metadata": {},
   "outputs": [
    {
     "name": "stdout",
     "output_type": "stream",
     "text": [
      "Rows: 449\n",
      "Columns: 13\n",
      "$ Ind_ID             \u001b[3m\u001b[90m<dbl>\u001b[39m\u001b[23m 5008827, 5009744, 5009752, 5018498, 5018503, 502130…\n",
      "$ GENDER             \u001b[3m\u001b[90m<chr>\u001b[39m\u001b[23m \"M\", \"F\", \"F\", \"F\", \"F\", \"M\", \"M\", \"M\", \"F\", \"F\", \"…\n",
      "$ Car_Owner          \u001b[3m\u001b[90m<chr>\u001b[39m\u001b[23m \"Y\", \"Y\", \"Y\", \"Y\", \"Y\", \"N\", \"Y\", \"N\", \"N\", \"Y\", \"…\n",
      "$ Propert_Owner      \u001b[3m\u001b[90m<chr>\u001b[39m\u001b[23m \"Y\", \"N\", \"N\", \"Y\", \"Y\", \"N\", \"Y\", \"Y\", \"Y\", \"N\", \"…\n",
      "$ CHILDREN           \u001b[3m\u001b[90m<dbl>\u001b[39m\u001b[23m 0, 0, 0, 0, 0, 1, 0, 0, 2, 1, 0, 0, 0, 0, 1, 0, 1, …\n",
      "$ Annual_income      \u001b[3m\u001b[90m<dbl>\u001b[39m\u001b[23m 180000, 315000, 315000, 90000, 90000, 472500, 20250…\n",
      "$ Type_Income        \u001b[3m\u001b[90m<chr>\u001b[39m\u001b[23m \"Pensioner\", \"Commercial associate\", \"Commercial as…\n",
      "$ `Higher Education` \u001b[3m\u001b[90m<chr>\u001b[39m\u001b[23m \"Y\", \"Y\", \"Y\", \"N\", \"N\", \"Y\", \"N\", \"Y\", \"N\", \"N\", \"…\n",
      "$ Marital_status     \u001b[3m\u001b[90m<chr>\u001b[39m\u001b[23m \"Married\", \"Married\", \"Married\", \"Married\", \"Marrie…\n",
      "$ Age                \u001b[3m\u001b[90m<dbl>\u001b[39m\u001b[23m 51, 37, 37, 51, 51, 24, 32, 48, 33, 43, 52, 63, 50,…\n",
      "$ Employed           \u001b[3m\u001b[90m<chr>\u001b[39m\u001b[23m \"N\", \"Y\", \"Y\", \"Y\", \"Y\", \"Y\", \"Y\", \"Y\", \"Y\", \"Y\", \"…\n",
      "$ Family_Members     \u001b[3m\u001b[90m<dbl>\u001b[39m\u001b[23m 2, 2, 2, 2, 2, 3, 2, 2, 4, 3, 2, 1, 2, 2, 3, 2, 3, …\n",
      "$ Approved           \u001b[3m\u001b[90m<fct>\u001b[39m\u001b[23m 0, 0, 0, 0, 0, 0, 0, 0, 0, 0, 0, 0, 0, 0, 0, 0, 0, …\n"
     ]
    }
   ],
   "source": [
    "# Preview the test df\n",
    "glimpse(credit_test_df)"
   ]
  },
  {
   "cell_type": "markdown",
   "id": "095ea01a-71a7-45cf-93b7-8268aeb121cb",
   "metadata": {},
   "source": [
    "#### Part 2: \n",
    "\n",
    "Train another logistic regression model similar to Question 2, but use the following independent variables instead: Gender, Annual-Income, Type_Income, Marital_Status, Employed. Name this model as LogistiRegression3. Make sure to use the training dataset to train this model."
   ]
  },
  {
   "cell_type": "code",
   "execution_count": 16,
   "id": "28696a62-7d72-4c0b-a06c-543148a8d3be",
   "metadata": {},
   "outputs": [
    {
     "name": "stdout",
     "output_type": "stream",
     "text": [
      "Rows: 1,047\n",
      "Columns: 8\n",
      "$ Annual_income              \u001b[3m\u001b[90m<dbl>\u001b[39m\u001b[23m 1.03054337, -0.11197434, 2.17306108, 2.1730…\n",
      "$ Approved                   \u001b[3m\u001b[90m<fct>\u001b[39m\u001b[23m 0, 0, 0, 0, 0, 0, 0, 0, 0, 0, 0, 0, 0, 0, 0…\n",
      "$ GENDER_M                   \u001b[3m\u001b[90m<dbl>\u001b[39m\u001b[23m 0, 0, 1, 1, 1, 1, 1, 0, 0, 1, 1, 0, 0, 0, 1…\n",
      "$ Type_Income_Pensioner      \u001b[3m\u001b[90m<dbl>\u001b[39m\u001b[23m 0, 1, 0, 1, 0, 0, 0, 0, 0, 1, 0, 0, 0, 1, 0…\n",
      "$ Type_Income_State.servant  \u001b[3m\u001b[90m<dbl>\u001b[39m\u001b[23m 0, 0, 0, 0, 0, 0, 0, 0, 0, 0, 0, 0, 0, 0, 0…\n",
      "$ Type_Income_Working        \u001b[3m\u001b[90m<dbl>\u001b[39m\u001b[23m 0, 0, 0, 0, 0, 1, 1, 0, 0, 0, 1, 1, 0, 0, 0…\n",
      "$ Marital_status_Not.Married \u001b[3m\u001b[90m<dbl>\u001b[39m\u001b[23m 0, 0, 0, 0, 1, 0, 1, 1, 1, 0, 1, 0, 0, 0, 0…\n",
      "$ Employed_Y                 \u001b[3m\u001b[90m<dbl>\u001b[39m\u001b[23m 1, 0, 1, 1, 1, 1, 1, 1, 1, 1, 1, 1, 1, 0, 1…\n"
     ]
    }
   ],
   "source": [
    "credit_recipe_3 <-\n",
    "        # The formula for the logistic regression model using the training dataset\n",
    "        recipe(Approved ~ GENDER + Annual_income + Type_Income + Marital_status + Employed, data = credit_train_df) |>\n",
    "        # Normalize all numerical features\n",
    "        step_normalize(all_numeric_predictors()) |>\n",
    "        # Dummy all the nominal data\n",
    "        step_dummy(all_nominal_predictors())\n",
    "\n",
    "\n",
    "\n",
    "# Preview the Prepared Data\n",
    "credit_recipe_3 |>\n",
    "    prep() |>\n",
    "    bake(new_data=NULL) |>\n",
    "    glimpse()"
   ]
  },
  {
   "cell_type": "code",
   "execution_count": 17,
   "id": "d444278b-bd0c-482f-9691-f1063a1e0fe6",
   "metadata": {},
   "outputs": [
    {
     "data": {
      "text/html": [
       "<table class=\"dataframe\">\n",
       "<caption>A tibble: 8 × 6</caption>\n",
       "<thead>\n",
       "\t<tr><th scope=col>term</th><th scope=col>estimate</th><th scope=col>std.error</th><th scope=col>statistic</th><th scope=col>p.value</th><th scope=col>significance</th></tr>\n",
       "\t<tr><th scope=col>&lt;chr&gt;</th><th scope=col>&lt;dbl&gt;</th><th scope=col>&lt;dbl&gt;</th><th scope=col>&lt;dbl&gt;</th><th scope=col>&lt;dbl&gt;</th><th scope=col>&lt;chr&gt;</th></tr>\n",
       "</thead>\n",
       "<tbody>\n",
       "\t<tr><td>(Intercept)               </td><td> 5.99404323</td><td>1.1863063</td><td> 5.0526943</td><td>4.356208e-07</td><td>Significant    </td></tr>\n",
       "\t<tr><td>Annual_income             </td><td> 0.04048643</td><td>0.1097949</td><td> 0.3687459</td><td>7.123172e-01</td><td>Not Significant</td></tr>\n",
       "\t<tr><td>GENDER_M                  </td><td>-0.57312265</td><td>0.2162950</td><td>-2.6497264</td><td>8.055697e-03</td><td>Significant    </td></tr>\n",
       "\t<tr><td>Type_Income_Pensioner     </td><td>-3.56815957</td><td>1.1456821</td><td>-3.1144412</td><td>1.842937e-03</td><td>Significant    </td></tr>\n",
       "\t<tr><td>Type_Income_State.servant </td><td> 0.80498259</td><td>0.5527807</td><td> 1.4562423</td><td>1.453256e-01</td><td>Not Significant</td></tr>\n",
       "\t<tr><td>Type_Income_Working       </td><td> 0.14170658</td><td>0.2503523</td><td> 0.5660288</td><td>5.713742e-01</td><td>Not Significant</td></tr>\n",
       "\t<tr><td>Marital_status_Not.Married</td><td>-0.58077565</td><td>0.2175246</td><td>-2.6699305</td><td>7.586695e-03</td><td>Significant    </td></tr>\n",
       "\t<tr><td>Employed_Y                </td><td>-3.51678041</td><td>1.1594842</td><td>-3.0330559</td><td>2.420908e-03</td><td>Significant    </td></tr>\n",
       "</tbody>\n",
       "</table>\n"
      ],
      "text/latex": [
       "A tibble: 8 × 6\n",
       "\\begin{tabular}{llllll}\n",
       " term & estimate & std.error & statistic & p.value & significance\\\\\n",
       " <chr> & <dbl> & <dbl> & <dbl> & <dbl> & <chr>\\\\\n",
       "\\hline\n",
       "\t (Intercept)                &  5.99404323 & 1.1863063 &  5.0526943 & 4.356208e-07 & Significant    \\\\\n",
       "\t Annual\\_income              &  0.04048643 & 0.1097949 &  0.3687459 & 7.123172e-01 & Not Significant\\\\\n",
       "\t GENDER\\_M                   & -0.57312265 & 0.2162950 & -2.6497264 & 8.055697e-03 & Significant    \\\\\n",
       "\t Type\\_Income\\_Pensioner      & -3.56815957 & 1.1456821 & -3.1144412 & 1.842937e-03 & Significant    \\\\\n",
       "\t Type\\_Income\\_State.servant  &  0.80498259 & 0.5527807 &  1.4562423 & 1.453256e-01 & Not Significant\\\\\n",
       "\t Type\\_Income\\_Working        &  0.14170658 & 0.2503523 &  0.5660288 & 5.713742e-01 & Not Significant\\\\\n",
       "\t Marital\\_status\\_Not.Married & -0.58077565 & 0.2175246 & -2.6699305 & 7.586695e-03 & Significant    \\\\\n",
       "\t Employed\\_Y                 & -3.51678041 & 1.1594842 & -3.0330559 & 2.420908e-03 & Significant    \\\\\n",
       "\\end{tabular}\n"
      ],
      "text/markdown": [
       "\n",
       "A tibble: 8 × 6\n",
       "\n",
       "| term &lt;chr&gt; | estimate &lt;dbl&gt; | std.error &lt;dbl&gt; | statistic &lt;dbl&gt; | p.value &lt;dbl&gt; | significance &lt;chr&gt; |\n",
       "|---|---|---|---|---|---|\n",
       "| (Intercept)                |  5.99404323 | 1.1863063 |  5.0526943 | 4.356208e-07 | Significant     |\n",
       "| Annual_income              |  0.04048643 | 0.1097949 |  0.3687459 | 7.123172e-01 | Not Significant |\n",
       "| GENDER_M                   | -0.57312265 | 0.2162950 | -2.6497264 | 8.055697e-03 | Significant     |\n",
       "| Type_Income_Pensioner      | -3.56815957 | 1.1456821 | -3.1144412 | 1.842937e-03 | Significant     |\n",
       "| Type_Income_State.servant  |  0.80498259 | 0.5527807 |  1.4562423 | 1.453256e-01 | Not Significant |\n",
       "| Type_Income_Working        |  0.14170658 | 0.2503523 |  0.5660288 | 5.713742e-01 | Not Significant |\n",
       "| Marital_status_Not.Married | -0.58077565 | 0.2175246 | -2.6699305 | 7.586695e-03 | Significant     |\n",
       "| Employed_Y                 | -3.51678041 | 1.1594842 | -3.0330559 | 2.420908e-03 | Significant     |\n",
       "\n"
      ],
      "text/plain": [
       "  term                       estimate    std.error statistic  p.value     \n",
       "1 (Intercept)                 5.99404323 1.1863063  5.0526943 4.356208e-07\n",
       "2 Annual_income               0.04048643 0.1097949  0.3687459 7.123172e-01\n",
       "3 GENDER_M                   -0.57312265 0.2162950 -2.6497264 8.055697e-03\n",
       "4 Type_Income_Pensioner      -3.56815957 1.1456821 -3.1144412 1.842937e-03\n",
       "5 Type_Income_State.servant   0.80498259 0.5527807  1.4562423 1.453256e-01\n",
       "6 Type_Income_Working         0.14170658 0.2503523  0.5660288 5.713742e-01\n",
       "7 Marital_status_Not.Married -0.58077565 0.2175246 -2.6699305 7.586695e-03\n",
       "8 Employed_Y                 -3.51678041 1.1594842 -3.0330559 2.420908e-03\n",
       "  significance   \n",
       "1 Significant    \n",
       "2 Not Significant\n",
       "3 Significant    \n",
       "4 Significant    \n",
       "5 Not Significant\n",
       "6 Not Significant\n",
       "7 Significant    \n",
       "8 Significant    "
      ]
     },
     "metadata": {},
     "output_type": "display_data"
    }
   ],
   "source": [
    "# Defining the logistic regression model\n",
    "\n",
    "log_reg_mod_3 <- logistic_reg() |>\n",
    "                set_engine('glm') \n",
    "\n",
    "\n",
    "\n",
    "# The workflow\n",
    "log_reg_wflow_3 <- workflow() |>\n",
    "                 add_model(log_reg_mod_3) |>\n",
    "                 add_recipe(credit_recipe_3)\n",
    "\n",
    "\n",
    "# Fit the log_Reg model to the training data\n",
    "log_reg_fit_3 <- fit(log_reg_wflow_3, credit_train_df)\n",
    "\n",
    "# Preview the summary\n",
    "log_reg_fit_3 |>\n",
    "        tidy() |>\n",
    "        # Checking for significance\n",
    "        mutate(significance = ifelse(test = (p.value <= 0.05), yes = 'Significant',no = 'Not Significant'))\n"
   ]
  },
  {
   "cell_type": "markdown",
   "id": "6b3f8959-03df-4ff2-8dfb-642976136d11",
   "metadata": {},
   "source": [
    "#### Part 3: \n",
    "\n",
    "Make a prediction for the values of the dependent variable in the \"test set\" using the LogisticRegression3 model. Use mutate to add the predicted values to the test set. Note: Make sure to convert the predicted probabilities into actual labels (0 and 1) as shown in the week 10 lecture note."
   ]
  },
  {
   "cell_type": "code",
   "execution_count": 18,
   "id": "e24693a1-665e-484f-9a66-8d053650a60d",
   "metadata": {},
   "outputs": [
    {
     "data": {
      "text/html": [
       "<table class=\"dataframe\">\n",
       "<caption>A tibble: 6 × 14</caption>\n",
       "<thead>\n",
       "\t<tr><th scope=col>Ind_ID</th><th scope=col>GENDER</th><th scope=col>Car_Owner</th><th scope=col>Propert_Owner</th><th scope=col>CHILDREN</th><th scope=col>Annual_income</th><th scope=col>Type_Income</th><th scope=col>Higher Education</th><th scope=col>Marital_status</th><th scope=col>Age</th><th scope=col>Employed</th><th scope=col>Family_Members</th><th scope=col>Approved</th><th scope=col>log_reg_pred</th></tr>\n",
       "\t<tr><th scope=col>&lt;dbl&gt;</th><th scope=col>&lt;chr&gt;</th><th scope=col>&lt;chr&gt;</th><th scope=col>&lt;chr&gt;</th><th scope=col>&lt;dbl&gt;</th><th scope=col>&lt;dbl&gt;</th><th scope=col>&lt;chr&gt;</th><th scope=col>&lt;chr&gt;</th><th scope=col>&lt;chr&gt;</th><th scope=col>&lt;dbl&gt;</th><th scope=col>&lt;chr&gt;</th><th scope=col>&lt;dbl&gt;</th><th scope=col>&lt;fct&gt;</th><th scope=col>&lt;fct&gt;</th></tr>\n",
       "</thead>\n",
       "<tbody>\n",
       "\t<tr><td>5008827</td><td>M</td><td>Y</td><td>Y</td><td>0</td><td>180000</td><td>Pensioner           </td><td>Y</td><td>Married</td><td>51</td><td>N</td><td>2</td><td>0</td><td>1</td></tr>\n",
       "\t<tr><td>5009744</td><td>F</td><td>Y</td><td>N</td><td>0</td><td>315000</td><td>Commercial associate</td><td>Y</td><td>Married</td><td>37</td><td>Y</td><td>2</td><td>0</td><td>1</td></tr>\n",
       "\t<tr><td>5009752</td><td>F</td><td>Y</td><td>N</td><td>0</td><td>315000</td><td>Commercial associate</td><td>Y</td><td>Married</td><td>37</td><td>Y</td><td>2</td><td>0</td><td>1</td></tr>\n",
       "\t<tr><td>5018498</td><td>F</td><td>Y</td><td>Y</td><td>0</td><td> 90000</td><td>Working             </td><td>N</td><td>Married</td><td>51</td><td>Y</td><td>2</td><td>0</td><td>1</td></tr>\n",
       "\t<tr><td>5018503</td><td>F</td><td>Y</td><td>Y</td><td>0</td><td> 90000</td><td>Working             </td><td>N</td><td>Married</td><td>51</td><td>Y</td><td>2</td><td>0</td><td>1</td></tr>\n",
       "\t<tr><td>5021303</td><td>M</td><td>N</td><td>N</td><td>1</td><td>472500</td><td>Pensioner           </td><td>Y</td><td>Married</td><td>24</td><td>Y</td><td>3</td><td>0</td><td>0</td></tr>\n",
       "</tbody>\n",
       "</table>\n"
      ],
      "text/latex": [
       "A tibble: 6 × 14\n",
       "\\begin{tabular}{llllllllllllll}\n",
       " Ind\\_ID & GENDER & Car\\_Owner & Propert\\_Owner & CHILDREN & Annual\\_income & Type\\_Income & Higher Education & Marital\\_status & Age & Employed & Family\\_Members & Approved & log\\_reg\\_pred\\\\\n",
       " <dbl> & <chr> & <chr> & <chr> & <dbl> & <dbl> & <chr> & <chr> & <chr> & <dbl> & <chr> & <dbl> & <fct> & <fct>\\\\\n",
       "\\hline\n",
       "\t 5008827 & M & Y & Y & 0 & 180000 & Pensioner            & Y & Married & 51 & N & 2 & 0 & 1\\\\\n",
       "\t 5009744 & F & Y & N & 0 & 315000 & Commercial associate & Y & Married & 37 & Y & 2 & 0 & 1\\\\\n",
       "\t 5009752 & F & Y & N & 0 & 315000 & Commercial associate & Y & Married & 37 & Y & 2 & 0 & 1\\\\\n",
       "\t 5018498 & F & Y & Y & 0 &  90000 & Working              & N & Married & 51 & Y & 2 & 0 & 1\\\\\n",
       "\t 5018503 & F & Y & Y & 0 &  90000 & Working              & N & Married & 51 & Y & 2 & 0 & 1\\\\\n",
       "\t 5021303 & M & N & N & 1 & 472500 & Pensioner            & Y & Married & 24 & Y & 3 & 0 & 0\\\\\n",
       "\\end{tabular}\n"
      ],
      "text/markdown": [
       "\n",
       "A tibble: 6 × 14\n",
       "\n",
       "| Ind_ID &lt;dbl&gt; | GENDER &lt;chr&gt; | Car_Owner &lt;chr&gt; | Propert_Owner &lt;chr&gt; | CHILDREN &lt;dbl&gt; | Annual_income &lt;dbl&gt; | Type_Income &lt;chr&gt; | Higher Education &lt;chr&gt; | Marital_status &lt;chr&gt; | Age &lt;dbl&gt; | Employed &lt;chr&gt; | Family_Members &lt;dbl&gt; | Approved &lt;fct&gt; | log_reg_pred &lt;fct&gt; |\n",
       "|---|---|---|---|---|---|---|---|---|---|---|---|---|---|\n",
       "| 5008827 | M | Y | Y | 0 | 180000 | Pensioner            | Y | Married | 51 | N | 2 | 0 | 1 |\n",
       "| 5009744 | F | Y | N | 0 | 315000 | Commercial associate | Y | Married | 37 | Y | 2 | 0 | 1 |\n",
       "| 5009752 | F | Y | N | 0 | 315000 | Commercial associate | Y | Married | 37 | Y | 2 | 0 | 1 |\n",
       "| 5018498 | F | Y | Y | 0 |  90000 | Working              | N | Married | 51 | Y | 2 | 0 | 1 |\n",
       "| 5018503 | F | Y | Y | 0 |  90000 | Working              | N | Married | 51 | Y | 2 | 0 | 1 |\n",
       "| 5021303 | M | N | N | 1 | 472500 | Pensioner            | Y | Married | 24 | Y | 3 | 0 | 0 |\n",
       "\n"
      ],
      "text/plain": [
       "  Ind_ID  GENDER Car_Owner Propert_Owner CHILDREN Annual_income\n",
       "1 5008827 M      Y         Y             0        180000       \n",
       "2 5009744 F      Y         N             0        315000       \n",
       "3 5009752 F      Y         N             0        315000       \n",
       "4 5018498 F      Y         Y             0         90000       \n",
       "5 5018503 F      Y         Y             0         90000       \n",
       "6 5021303 M      N         N             1        472500       \n",
       "  Type_Income          Higher Education Marital_status Age Employed\n",
       "1 Pensioner            Y                Married        51  N       \n",
       "2 Commercial associate Y                Married        37  Y       \n",
       "3 Commercial associate Y                Married        37  Y       \n",
       "4 Working              N                Married        51  Y       \n",
       "5 Working              N                Married        51  Y       \n",
       "6 Pensioner            Y                Married        24  Y       \n",
       "  Family_Members Approved log_reg_pred\n",
       "1 2              0        1           \n",
       "2 2              0        1           \n",
       "3 2              0        1           \n",
       "4 2              0        1           \n",
       "5 2              0        1           \n",
       "6 3              0        0           "
      ]
     },
     "metadata": {},
     "output_type": "display_data"
    }
   ],
   "source": [
    "# Get your predictions\n",
    "pred_class <- predict(log_reg_fit_3, new_data = credit_test_df)\n",
    "\n",
    "# Augment the test dataframe with predicted class\n",
    "credit_test_df <- credit_test_df |>\n",
    "                    mutate(log_reg_pred = pred_class$.pred_class)\n",
    "# Preview resulting df\n",
    "head(credit_test_df)"
   ]
  },
  {
   "cell_type": "markdown",
   "id": "f002ea68-526b-4317-ba92-d1054a8369fb",
   "metadata": {},
   "source": [
    "#### Part 4: \n",
    "\n",
    "use confusion matrix to measure the accuracy of the trained model."
   ]
  },
  {
   "cell_type": "code",
   "execution_count": 19,
   "id": "fbe5a06a-37b7-4469-b993-a0b8f6208016",
   "metadata": {},
   "outputs": [
    {
     "data": {
      "text/plain": [
       "          Truth\n",
       "Prediction   0   1\n",
       "         0   2   0\n",
       "         1  46 401"
      ]
     },
     "metadata": {},
     "output_type": "display_data"
    }
   ],
   "source": [
    "# Confusion Matrix\n",
    "conf_mat(credit_test_df, truth = Approved, estimate = log_reg_pred)"
   ]
  },
  {
   "cell_type": "code",
   "execution_count": 20,
   "id": "c41cc215-7a24-4eb3-b9a3-f399672f3478",
   "metadata": {},
   "outputs": [
    {
     "data": {
      "text/html": [
       "<table class=\"dataframe\">\n",
       "<caption>A tibble: 1 × 3</caption>\n",
       "<thead>\n",
       "\t<tr><th scope=col>.metric</th><th scope=col>.estimator</th><th scope=col>.estimate</th></tr>\n",
       "\t<tr><th scope=col>&lt;chr&gt;</th><th scope=col>&lt;chr&gt;</th><th scope=col>&lt;dbl&gt;</th></tr>\n",
       "</thead>\n",
       "<tbody>\n",
       "\t<tr><td>accuracy</td><td>binary</td><td>0.8975501</td></tr>\n",
       "</tbody>\n",
       "</table>\n"
      ],
      "text/latex": [
       "A tibble: 1 × 3\n",
       "\\begin{tabular}{lll}\n",
       " .metric & .estimator & .estimate\\\\\n",
       " <chr> & <chr> & <dbl>\\\\\n",
       "\\hline\n",
       "\t accuracy & binary & 0.8975501\\\\\n",
       "\\end{tabular}\n"
      ],
      "text/markdown": [
       "\n",
       "A tibble: 1 × 3\n",
       "\n",
       "| .metric &lt;chr&gt; | .estimator &lt;chr&gt; | .estimate &lt;dbl&gt; |\n",
       "|---|---|---|\n",
       "| accuracy | binary | 0.8975501 |\n",
       "\n"
      ],
      "text/plain": [
       "  .metric  .estimator .estimate\n",
       "1 accuracy binary     0.8975501"
      ]
     },
     "metadata": {},
     "output_type": "display_data"
    }
   ],
   "source": [
    "accuracy(credit_test_df, truth = Approved, estimate = log_reg_pred)"
   ]
  },
  {
   "cell_type": "markdown",
   "id": "5f258cbf-b386-4f18-bdab-592ba2b9d9d9",
   "metadata": {},
   "source": [
    "### Question 4 - Decision Tree"
   ]
  },
  {
   "cell_type": "markdown",
   "id": "69a4d576-3b57-41ec-be84-5512ea7bd4ce",
   "metadata": {},
   "source": [
    "#### Part 1: \n",
    "\n",
    "Train a decision tree using Approved as the dependent variable, and the following variables as the independent variables:\n",
    "GENDER, Type_Income, Marital_status, Employed."
   ]
  },
  {
   "cell_type": "code",
   "execution_count": 33,
   "id": "39128a4d-e1f7-4eda-a2f7-3fd322a8200e",
   "metadata": {},
   "outputs": [
    {
     "name": "stdout",
     "output_type": "stream",
     "text": [
      "Rows: 1,496\n",
      "Columns: 7\n",
      "$ Approved                   \u001b[3m\u001b[90m<fct>\u001b[39m\u001b[23m 0, 0, 0, 0, 0, 0, 0, 0, 0, 0, 0, 0, 0, 0, 0…\n",
      "$ GENDER_M                   \u001b[3m\u001b[90m<dbl>\u001b[39m\u001b[23m 1, 0, 0, 0, 0, 1, 1, 1, 0, 0, 1, 1, 1, 0, 0…\n",
      "$ Type_Income_Pensioner      \u001b[3m\u001b[90m<dbl>\u001b[39m\u001b[23m 1, 0, 0, 0, 1, 0, 1, 0, 0, 0, 1, 0, 0, 0, 0…\n",
      "$ Type_Income_State.servant  \u001b[3m\u001b[90m<dbl>\u001b[39m\u001b[23m 0, 0, 0, 0, 0, 0, 0, 0, 0, 0, 0, 0, 0, 0, 0…\n",
      "$ Type_Income_Working        \u001b[3m\u001b[90m<dbl>\u001b[39m\u001b[23m 0, 0, 0, 0, 0, 0, 0, 0, 1, 1, 0, 1, 1, 0, 0…\n",
      "$ Marital_status_Not.Married \u001b[3m\u001b[90m<dbl>\u001b[39m\u001b[23m 0, 0, 0, 0, 0, 0, 0, 1, 0, 0, 0, 0, 1, 1, 1…\n",
      "$ Employed_Y                 \u001b[3m\u001b[90m<dbl>\u001b[39m\u001b[23m 0, 1, 1, 1, 0, 1, 1, 1, 1, 1, 1, 1, 1, 1, 1…\n"
     ]
    }
   ],
   "source": [
    "dec_tree_class = decision_tree(mode = 'classification') |>\n",
    "                    set_engine('rpart')\n",
    "\n",
    "credit_recipe_4 <-\n",
    "        # The formula for the logistic regression model\n",
    "        recipe(Approved ~ GENDER + Type_Income + Marital_status + Employed, data = credit_df) |>\n",
    "        # Dummy all the nominal data\n",
    "        step_dummy(all_nominal_predictors())\n",
    "\n",
    "\n",
    "\n",
    "# Preview the Prepared Data\n",
    "credit_recipe_4 |>\n",
    "    prep() |>\n",
    "    bake(new_data=NULL) |>\n",
    "    glimpse()"
   ]
  },
  {
   "cell_type": "code",
   "execution_count": 34,
   "id": "2e4b74ba-e9b4-4065-8d62-38ee4d028a9d",
   "metadata": {},
   "outputs": [],
   "source": [
    "# The workflow\n",
    "dec_tree_class_wflow <- workflow() |>\n",
    "                     add_model(dec_tree_class) |>\n",
    "                     add_recipe(credit_recipe_4) \n",
    "\n",
    "# Fit the workflow to the training data\n",
    "dec_tree_class_fit = fit(dec_tree_class_wflow, data = credit_df)"
   ]
  },
  {
   "cell_type": "markdown",
   "id": "521561c1-776e-4ba3-ab9a-ba100c4d4090",
   "metadata": {},
   "source": [
    "#### Part 2: \n",
    "\n",
    "Plot the tree."
   ]
  },
  {
   "cell_type": "code",
   "execution_count": 35,
   "id": "1886e84b-e869-4fbd-a772-441b7fa9ba19",
   "metadata": {},
   "outputs": [
    {
     "name": "stderr",
     "output_type": "stream",
     "text": [
      "Warning message:\n",
      "\"Cannot retrieve the data used to build the model (so cannot determine roundint and is.binary for the variables).\n",
      "To silence this warning:\n",
      "    Call rpart.plot with roundint=FALSE,\n",
      "    or rebuild the rpart model with model=TRUE.\"\n"
     ]
    },
    {
     "data": {
      "image/png": "[encoded data removed]",
      "text/plain": [
       "plot without title"
      ]
     },
     "metadata": {
      "image/png": {
       "height": 420,
       "width": 420
      }
     },
     "output_type": "display_data"
    }
   ],
   "source": [
    "rpart.plot(dec_tree_class_fit$fit$fit$fit)"
   ]
  },
  {
   "cell_type": "markdown",
   "id": "d63caf47-be90-46ef-af45-d3d7d0e1e5f9",
   "metadata": {},
   "source": [
    "### Question 5:"
   ]
  },
  {
   "cell_type": "markdown",
   "id": "d3c970df-59cd-4694-9100-cc2db6acc6d2",
   "metadata": {},
   "source": [
    "#### Part 1: \n",
    "\n",
    "Train a decision tree using the \"Credit_Card_Data_train\" dataset. The model should be similar to question 4."
   ]
  },
  {
   "cell_type": "code",
   "execution_count": 24,
   "id": "864242cf-bdfc-457c-bf3b-c7c085120e3b",
   "metadata": {},
   "outputs": [
    {
     "name": "stdout",
     "output_type": "stream",
     "text": [
      "Rows: 1,047\n",
      "Columns: 7\n",
      "$ Approved                   \u001b[3m\u001b[90m<fct>\u001b[39m\u001b[23m 0, 0, 0, 0, 0, 0, 0, 0, 0, 0, 0, 0, 0, 0, 0…\n",
      "$ GENDER_M                   \u001b[3m\u001b[90m<dbl>\u001b[39m\u001b[23m 0, 0, 1, 1, 1, 1, 1, 0, 0, 1, 1, 0, 0, 0, 1…\n",
      "$ Type_Income_Pensioner      \u001b[3m\u001b[90m<dbl>\u001b[39m\u001b[23m 0, 1, 0, 1, 0, 0, 0, 0, 0, 1, 0, 0, 0, 1, 0…\n",
      "$ Type_Income_State.servant  \u001b[3m\u001b[90m<dbl>\u001b[39m\u001b[23m 0, 0, 0, 0, 0, 0, 0, 0, 0, 0, 0, 0, 0, 0, 0…\n",
      "$ Type_Income_Working        \u001b[3m\u001b[90m<dbl>\u001b[39m\u001b[23m 0, 0, 0, 0, 0, 1, 1, 0, 0, 0, 1, 1, 0, 0, 0…\n",
      "$ Marital_status_Not.Married \u001b[3m\u001b[90m<dbl>\u001b[39m\u001b[23m 0, 0, 0, 0, 1, 0, 1, 1, 1, 0, 1, 0, 0, 0, 0…\n",
      "$ Employed_Y                 \u001b[3m\u001b[90m<dbl>\u001b[39m\u001b[23m 1, 0, 1, 1, 1, 1, 1, 1, 1, 1, 1, 1, 1, 0, 1…\n"
     ]
    }
   ],
   "source": [
    "dec_tree_class_2 = decision_tree(mode = 'classification') |>\n",
    "                    set_engine('rpart')\n",
    "\n",
    "credit_recipe_5 <-\n",
    "        # The formula for the logistic regression model\n",
    "        recipe(Approved ~ GENDER + Type_Income + Marital_status + Employed, data = credit_train_df) |>\n",
    "        # Dummy all the nominal data\n",
    "        step_dummy(all_nominal_predictors())\n",
    "\n",
    "\n",
    "\n",
    "# Preview the Prepared Data\n",
    "credit_recipe_5 |>\n",
    "    prep() |>\n",
    "    bake(new_data=NULL) |>\n",
    "    glimpse()"
   ]
  },
  {
   "cell_type": "code",
   "execution_count": 53,
   "id": "227fa410-957e-4f09-91fe-f567fb324bfa",
   "metadata": {},
   "outputs": [],
   "source": [
    "# The workflow\n",
    "dec_tree_class_wflow_2 <- workflow() |>\n",
    "                         add_model(dec_tree_class_2) |>\n",
    "                         add_recipe(credit_recipe_5) \n",
    "\n",
    "# Fit the workflow to the training data\n",
    "dec_tree_class_fit_2 = fit(dec_tree_class_wflow_2, data = credit_train_df)"
   ]
  },
  {
   "cell_type": "code",
   "execution_count": 44,
   "id": "5556ae1c-2a48-4d7b-83c9-0be510d554db",
   "metadata": {},
   "outputs": [
    {
     "name": "stderr",
     "output_type": "stream",
     "text": [
      "Warning message:\n",
      "\"Cannot retrieve the data used to build the model (so cannot determine roundint and is.binary for the variables).\n",
      "To silence this warning:\n",
      "    Call rpart.plot with roundint=FALSE,\n",
      "    or rebuild the rpart model with model=TRUE.\"\n"
     ]
    },
    {
     "data": {
      "image/png": "[encoded data removed]",
      "text/plain": [
       "plot without title"
      ]
     },
     "metadata": {
      "image/png": {
       "height": 420,
       "width": 420
      }
     },
     "output_type": "display_data"
    }
   ],
   "source": [
    "rpart.plot(dec_tree_class_fit_2$fit$fit$fit)"
   ]
  },
  {
   "cell_type": "markdown",
   "id": "ce9e920c-ac38-4838-8e8b-6142d03c2d85",
   "metadata": {},
   "source": [
    "#### Part 2: \n",
    "\n",
    "Use the trained decision tree to make a prediction for the test set (i.e., Credit_Card_Data_test)."
   ]
  },
  {
   "cell_type": "code",
   "execution_count": 26,
   "id": "d1642d36-a740-4a5e-83a1-52937f40691e",
   "metadata": {},
   "outputs": [
    {
     "data": {
      "text/html": [
       "<table class=\"dataframe\">\n",
       "<caption>A tibble: 6 × 15</caption>\n",
       "<thead>\n",
       "\t<tr><th scope=col>Ind_ID</th><th scope=col>GENDER</th><th scope=col>Car_Owner</th><th scope=col>Propert_Owner</th><th scope=col>CHILDREN</th><th scope=col>Annual_income</th><th scope=col>Type_Income</th><th scope=col>Higher Education</th><th scope=col>Marital_status</th><th scope=col>Age</th><th scope=col>Employed</th><th scope=col>Family_Members</th><th scope=col>Approved</th><th scope=col>log_reg_pred</th><th scope=col>dec_tree_pred</th></tr>\n",
       "\t<tr><th scope=col>&lt;dbl&gt;</th><th scope=col>&lt;chr&gt;</th><th scope=col>&lt;chr&gt;</th><th scope=col>&lt;chr&gt;</th><th scope=col>&lt;dbl&gt;</th><th scope=col>&lt;dbl&gt;</th><th scope=col>&lt;chr&gt;</th><th scope=col>&lt;chr&gt;</th><th scope=col>&lt;chr&gt;</th><th scope=col>&lt;dbl&gt;</th><th scope=col>&lt;chr&gt;</th><th scope=col>&lt;dbl&gt;</th><th scope=col>&lt;fct&gt;</th><th scope=col>&lt;fct&gt;</th><th scope=col>&lt;fct&gt;</th></tr>\n",
       "</thead>\n",
       "<tbody>\n",
       "\t<tr><td>5008827</td><td>M</td><td>Y</td><td>Y</td><td>0</td><td>180000</td><td>Pensioner           </td><td>Y</td><td>Married</td><td>51</td><td>N</td><td>2</td><td>0</td><td>1</td><td>1</td></tr>\n",
       "\t<tr><td>5009744</td><td>F</td><td>Y</td><td>N</td><td>0</td><td>315000</td><td>Commercial associate</td><td>Y</td><td>Married</td><td>37</td><td>Y</td><td>2</td><td>0</td><td>1</td><td>1</td></tr>\n",
       "\t<tr><td>5009752</td><td>F</td><td>Y</td><td>N</td><td>0</td><td>315000</td><td>Commercial associate</td><td>Y</td><td>Married</td><td>37</td><td>Y</td><td>2</td><td>0</td><td>1</td><td>1</td></tr>\n",
       "\t<tr><td>5018498</td><td>F</td><td>Y</td><td>Y</td><td>0</td><td> 90000</td><td>Working             </td><td>N</td><td>Married</td><td>51</td><td>Y</td><td>2</td><td>0</td><td>1</td><td>1</td></tr>\n",
       "\t<tr><td>5018503</td><td>F</td><td>Y</td><td>Y</td><td>0</td><td> 90000</td><td>Working             </td><td>N</td><td>Married</td><td>51</td><td>Y</td><td>2</td><td>0</td><td>1</td><td>1</td></tr>\n",
       "\t<tr><td>5021303</td><td>M</td><td>N</td><td>N</td><td>1</td><td>472500</td><td>Pensioner           </td><td>Y</td><td>Married</td><td>24</td><td>Y</td><td>3</td><td>0</td><td>0</td><td>1</td></tr>\n",
       "</tbody>\n",
       "</table>\n"
      ],
      "text/latex": [
       "A tibble: 6 × 15\n",
       "\\begin{tabular}{lllllllllllllll}\n",
       " Ind\\_ID & GENDER & Car\\_Owner & Propert\\_Owner & CHILDREN & Annual\\_income & Type\\_Income & Higher Education & Marital\\_status & Age & Employed & Family\\_Members & Approved & log\\_reg\\_pred & dec\\_tree\\_pred\\\\\n",
       " <dbl> & <chr> & <chr> & <chr> & <dbl> & <dbl> & <chr> & <chr> & <chr> & <dbl> & <chr> & <dbl> & <fct> & <fct> & <fct>\\\\\n",
       "\\hline\n",
       "\t 5008827 & M & Y & Y & 0 & 180000 & Pensioner            & Y & Married & 51 & N & 2 & 0 & 1 & 1\\\\\n",
       "\t 5009744 & F & Y & N & 0 & 315000 & Commercial associate & Y & Married & 37 & Y & 2 & 0 & 1 & 1\\\\\n",
       "\t 5009752 & F & Y & N & 0 & 315000 & Commercial associate & Y & Married & 37 & Y & 2 & 0 & 1 & 1\\\\\n",
       "\t 5018498 & F & Y & Y & 0 &  90000 & Working              & N & Married & 51 & Y & 2 & 0 & 1 & 1\\\\\n",
       "\t 5018503 & F & Y & Y & 0 &  90000 & Working              & N & Married & 51 & Y & 2 & 0 & 1 & 1\\\\\n",
       "\t 5021303 & M & N & N & 1 & 472500 & Pensioner            & Y & Married & 24 & Y & 3 & 0 & 0 & 1\\\\\n",
       "\\end{tabular}\n"
      ],
      "text/markdown": [
       "\n",
       "A tibble: 6 × 15\n",
       "\n",
       "| Ind_ID &lt;dbl&gt; | GENDER &lt;chr&gt; | Car_Owner &lt;chr&gt; | Propert_Owner &lt;chr&gt; | CHILDREN &lt;dbl&gt; | Annual_income &lt;dbl&gt; | Type_Income &lt;chr&gt; | Higher Education &lt;chr&gt; | Marital_status &lt;chr&gt; | Age &lt;dbl&gt; | Employed &lt;chr&gt; | Family_Members &lt;dbl&gt; | Approved &lt;fct&gt; | log_reg_pred &lt;fct&gt; | dec_tree_pred &lt;fct&gt; |\n",
       "|---|---|---|---|---|---|---|---|---|---|---|---|---|---|---|\n",
       "| 5008827 | M | Y | Y | 0 | 180000 | Pensioner            | Y | Married | 51 | N | 2 | 0 | 1 | 1 |\n",
       "| 5009744 | F | Y | N | 0 | 315000 | Commercial associate | Y | Married | 37 | Y | 2 | 0 | 1 | 1 |\n",
       "| 5009752 | F | Y | N | 0 | 315000 | Commercial associate | Y | Married | 37 | Y | 2 | 0 | 1 | 1 |\n",
       "| 5018498 | F | Y | Y | 0 |  90000 | Working              | N | Married | 51 | Y | 2 | 0 | 1 | 1 |\n",
       "| 5018503 | F | Y | Y | 0 |  90000 | Working              | N | Married | 51 | Y | 2 | 0 | 1 | 1 |\n",
       "| 5021303 | M | N | N | 1 | 472500 | Pensioner            | Y | Married | 24 | Y | 3 | 0 | 0 | 1 |\n",
       "\n"
      ],
      "text/plain": [
       "  Ind_ID  GENDER Car_Owner Propert_Owner CHILDREN Annual_income\n",
       "1 5008827 M      Y         Y             0        180000       \n",
       "2 5009744 F      Y         N             0        315000       \n",
       "3 5009752 F      Y         N             0        315000       \n",
       "4 5018498 F      Y         Y             0         90000       \n",
       "5 5018503 F      Y         Y             0         90000       \n",
       "6 5021303 M      N         N             1        472500       \n",
       "  Type_Income          Higher Education Marital_status Age Employed\n",
       "1 Pensioner            Y                Married        51  N       \n",
       "2 Commercial associate Y                Married        37  Y       \n",
       "3 Commercial associate Y                Married        37  Y       \n",
       "4 Working              N                Married        51  Y       \n",
       "5 Working              N                Married        51  Y       \n",
       "6 Pensioner            Y                Married        24  Y       \n",
       "  Family_Members Approved log_reg_pred dec_tree_pred\n",
       "1 2              0        1            1            \n",
       "2 2              0        1            1            \n",
       "3 2              0        1            1            \n",
       "4 2              0        1            1            \n",
       "5 2              0        1            1            \n",
       "6 3              0        0            1            "
      ]
     },
     "metadata": {},
     "output_type": "display_data"
    }
   ],
   "source": [
    "# Get your predictions\n",
    "pred_class <- predict(dec_tree_class_fit_2, \n",
    "                      new_data = credit_test_df)\n",
    "\n",
    "\n",
    "\n",
    "# Augment the test dataframe with predicted class\n",
    "credit_test_df <- credit_test_df |>\n",
    "                    mutate(dec_tree_pred = pred_class$.pred_class)\n",
    "# Preview resulting df\n",
    "head(credit_test_df)"
   ]
  },
  {
   "cell_type": "markdown",
   "id": "e451b5b8-94d1-4dd7-ab90-8513d7ae8bf1",
   "metadata": {},
   "source": [
    "#### Part 3: \n",
    "\n",
    "Use confusion matrix to measure the accuracy of the decision tree."
   ]
  },
  {
   "cell_type": "code",
   "execution_count": 27,
   "id": "0aa126f4-a12e-4bd9-ac33-cb7d0bc453d2",
   "metadata": {},
   "outputs": [
    {
     "data": {
      "text/plain": [
       "          Truth\n",
       "Prediction   0   1\n",
       "         0   0   0\n",
       "         1  48 401"
      ]
     },
     "metadata": {},
     "output_type": "display_data"
    }
   ],
   "source": [
    "# Confusion Matrix\n",
    "conf_mat(credit_test_df, truth = Approved, estimate = dec_tree_pred)"
   ]
  },
  {
   "cell_type": "code",
   "execution_count": 28,
   "id": "2e18c023-513c-4652-a2c2-100992412b63",
   "metadata": {},
   "outputs": [
    {
     "data": {
      "text/html": [
       "<table class=\"dataframe\">\n",
       "<caption>A tibble: 1 × 3</caption>\n",
       "<thead>\n",
       "\t<tr><th scope=col>.metric</th><th scope=col>.estimator</th><th scope=col>.estimate</th></tr>\n",
       "\t<tr><th scope=col>&lt;chr&gt;</th><th scope=col>&lt;chr&gt;</th><th scope=col>&lt;dbl&gt;</th></tr>\n",
       "</thead>\n",
       "<tbody>\n",
       "\t<tr><td>accuracy</td><td>binary</td><td>0.8930958</td></tr>\n",
       "</tbody>\n",
       "</table>\n"
      ],
      "text/latex": [
       "A tibble: 1 × 3\n",
       "\\begin{tabular}{lll}\n",
       " .metric & .estimator & .estimate\\\\\n",
       " <chr> & <chr> & <dbl>\\\\\n",
       "\\hline\n",
       "\t accuracy & binary & 0.8930958\\\\\n",
       "\\end{tabular}\n"
      ],
      "text/markdown": [
       "\n",
       "A tibble: 1 × 3\n",
       "\n",
       "| .metric &lt;chr&gt; | .estimator &lt;chr&gt; | .estimate &lt;dbl&gt; |\n",
       "|---|---|---|\n",
       "| accuracy | binary | 0.8930958 |\n",
       "\n"
      ],
      "text/plain": [
       "  .metric  .estimator .estimate\n",
       "1 accuracy binary     0.8930958"
      ]
     },
     "metadata": {},
     "output_type": "display_data"
    }
   ],
   "source": [
    "# Accuracy\n",
    "accuracy(credit_test_df, truth = Approved, estimate = dec_tree_pred)"
   ]
  },
  {
   "cell_type": "code",
   "execution_count": 29,
   "id": "75028b34-a4f8-4683-8056-53bb19cd5284",
   "metadata": {},
   "outputs": [
    {
     "name": "stderr",
     "output_type": "stream",
     "text": [
      "Warning message:\n",
      "\"Cannot retrieve the data used to build the model (so cannot determine roundint and is.binary for the variables).\n",
      "To silence this warning:\n",
      "    Call rpart.plot with roundint=FALSE,\n",
      "    or rebuild the rpart model with model=TRUE.\"\n"
     ]
    },
    {
     "data": {
      "image/png": "[encoded data removed]",
      "text/plain": [
       "plot without title"
      ]
     },
     "metadata": {
      "image/png": {
       "height": 420,
       "width": 420
      }
     },
     "output_type": "display_data"
    }
   ],
   "source": [
    "dec_tree_class_fit_3 <- workflow() |>\n",
    "                         add_recipe(credit_recipe_5) |>\n",
    "                         add_model(dec_tree_class_2) |>\n",
    "                         fit(data = credit_train_df)\n",
    "\n",
    "rpart.plot::rpart.plot(dec_tree_class_fit_3$fit$fit$fit)"
   ]
  }
 ],
 "metadata": {
  "kernelspec": {
   "display_name": "R",
   "language": "R",
   "name": "ir"
  },
  "language_info": {
   "codemirror_mode": "r",
   "file_extension": ".r",
   "mimetype": "text/x-r-source",
   "name": "R",
   "pygments_lexer": "r",
   "version": "4.3.1"
  }
 },
 "nbformat": 4,
 "nbformat_minor": 5
}

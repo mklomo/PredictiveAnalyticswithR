{
 "cells": [
  {
   "cell_type": "markdown",
   "id": "19f5265a-3af8-4846-9dd2-e612157b7c60",
   "metadata": {},
   "source": [
    "# Assignment 1\n",
    "\n",
    "- Author: Marvin Lomo\n",
    "- Date: 9/5/2023\n",
    "- Output: Jupyter Notebook\n"
   ]
  },
  {
   "cell_type": "markdown",
   "id": "863eb615-ae61-4290-a307-655817760784",
   "metadata": {},
   "source": [
    "## Loading the Dataset and Relevant Libraries\n"
   ]
  },
  {
   "cell_type": "code",
   "execution_count": 1,
   "id": "2b57871c-ccbe-4ec0-b57a-3557e830c602",
   "metadata": {},
   "outputs": [
    {
     "name": "stderr",
     "output_type": "stream",
     "text": [
      "── \u001b[1mAttaching core tidyverse packages\u001b[22m ───────────────────────────────────────────────────────────────────── tidyverse 2.0.0 ──\n",
      "\u001b[32m✔\u001b[39m \u001b[34mdplyr    \u001b[39m 1.1.2     \u001b[32m✔\u001b[39m \u001b[34mreadr    \u001b[39m 2.1.4\n",
      "\u001b[32m✔\u001b[39m \u001b[34mforcats  \u001b[39m 1.0.0     \u001b[32m✔\u001b[39m \u001b[34mstringr  \u001b[39m 1.5.0\n",
      "\u001b[32m✔\u001b[39m \u001b[34mggplot2  \u001b[39m 3.4.3     \u001b[32m✔\u001b[39m \u001b[34mtibble   \u001b[39m 3.2.1\n",
      "\u001b[32m✔\u001b[39m \u001b[34mlubridate\u001b[39m 1.9.2     \u001b[32m✔\u001b[39m \u001b[34mtidyr    \u001b[39m 1.3.0\n",
      "\u001b[32m✔\u001b[39m \u001b[34mpurrr    \u001b[39m 1.0.2     \n",
      "── \u001b[1mConflicts\u001b[22m ─────────────────────────────────────────────────────────────────────────────────────── tidyverse_conflicts() ──\n",
      "\u001b[31m✖\u001b[39m \u001b[34mdplyr\u001b[39m::\u001b[32mfilter()\u001b[39m masks \u001b[34mstats\u001b[39m::filter()\n",
      "\u001b[31m✖\u001b[39m \u001b[34mdplyr\u001b[39m::\u001b[32mlag()\u001b[39m    masks \u001b[34mstats\u001b[39m::lag()\n",
      "\u001b[36mℹ\u001b[39m Use the conflicted package (\u001b[3m\u001b[34m<http://conflicted.r-lib.org/>\u001b[39m\u001b[23m) to force all conflicts to become errors\n"
     ]
    },
    {
     "name": "stdout",
     "output_type": "stream",
     "text": [
      "Rows: 336,776\n",
      "Columns: 19\n",
      "$ year           \u001b[3m\u001b[90m<int>\u001b[39m\u001b[23m 2013, 2013, 2013, 2013, 2013, 2013, 2013, 2013, 2013, 2…\n",
      "$ month          \u001b[3m\u001b[90m<int>\u001b[39m\u001b[23m 1, 1, 1, 1, 1, 1, 1, 1, 1, 1, 1, 1, 1, 1, 1, 1, 1, 1, 1…\n",
      "$ day            \u001b[3m\u001b[90m<int>\u001b[39m\u001b[23m 1, 1, 1, 1, 1, 1, 1, 1, 1, 1, 1, 1, 1, 1, 1, 1, 1, 1, 1…\n",
      "$ dep_time       \u001b[3m\u001b[90m<int>\u001b[39m\u001b[23m 517, 533, 542, 544, 554, 554, 555, 557, 557, 558, 558, …\n",
      "$ sched_dep_time \u001b[3m\u001b[90m<int>\u001b[39m\u001b[23m 515, 529, 540, 545, 600, 558, 600, 600, 600, 600, 600, …\n",
      "$ dep_delay      \u001b[3m\u001b[90m<dbl>\u001b[39m\u001b[23m 2, 4, 2, -1, -6, -4, -5, -3, -3, -2, -2, -2, -2, -2, -1…\n",
      "$ arr_time       \u001b[3m\u001b[90m<int>\u001b[39m\u001b[23m 830, 850, 923, 1004, 812, 740, 913, 709, 838, 753, 849,…\n",
      "$ sched_arr_time \u001b[3m\u001b[90m<int>\u001b[39m\u001b[23m 819, 830, 850, 1022, 837, 728, 854, 723, 846, 745, 851,…\n",
      "$ arr_delay      \u001b[3m\u001b[90m<dbl>\u001b[39m\u001b[23m 11, 20, 33, -18, -25, 12, 19, -14, -8, 8, -2, -3, 7, -1…\n",
      "$ carrier        \u001b[3m\u001b[90m<chr>\u001b[39m\u001b[23m \"UA\", \"UA\", \"AA\", \"B6\", \"DL\", \"UA\", \"B6\", \"EV\", \"B6\", \"…\n",
      "$ flight         \u001b[3m\u001b[90m<int>\u001b[39m\u001b[23m 1545, 1714, 1141, 725, 461, 1696, 507, 5708, 79, 301, 4…\n",
      "$ tailnum        \u001b[3m\u001b[90m<chr>\u001b[39m\u001b[23m \"N14228\", \"N24211\", \"N619AA\", \"N804JB\", \"N668DN\", \"N394…\n",
      "$ origin         \u001b[3m\u001b[90m<chr>\u001b[39m\u001b[23m \"EWR\", \"LGA\", \"JFK\", \"JFK\", \"LGA\", \"EWR\", \"EWR\", \"LGA\",…\n",
      "$ dest           \u001b[3m\u001b[90m<chr>\u001b[39m\u001b[23m \"IAH\", \"IAH\", \"MIA\", \"BQN\", \"ATL\", \"ORD\", \"FLL\", \"IAD\",…\n",
      "$ air_time       \u001b[3m\u001b[90m<dbl>\u001b[39m\u001b[23m 227, 227, 160, 183, 116, 150, 158, 53, 140, 138, 149, 1…\n",
      "$ distance       \u001b[3m\u001b[90m<dbl>\u001b[39m\u001b[23m 1400, 1416, 1089, 1576, 762, 719, 1065, 229, 944, 733, …\n",
      "$ hour           \u001b[3m\u001b[90m<dbl>\u001b[39m\u001b[23m 5, 5, 5, 5, 6, 5, 6, 6, 6, 6, 6, 6, 6, 6, 6, 5, 6, 6, 6…\n",
      "$ minute         \u001b[3m\u001b[90m<dbl>\u001b[39m\u001b[23m 15, 29, 40, 45, 0, 58, 0, 0, 0, 0, 0, 0, 0, 0, 0, 59, 0…\n",
      "$ time_hour      \u001b[3m\u001b[90m<dttm>\u001b[39m\u001b[23m 2013-01-01 05:00:00, 2013-01-01 05:00:00, 2013-01-01 0…\n"
     ]
    }
   ],
   "source": [
    "# Loading the tidyverse library\n",
    "library(tidyverse)\n",
    "# Loading the nyc flight 13 library\n",
    "library(nycflights13)\n",
    "\n",
    "# loading the flights dataset\n",
    "flights_df <- flights\n",
    "\n",
    "# Preview the data\n",
    "glimpse(flights_df)"
   ]
  },
  {
   "cell_type": "markdown",
   "id": "1c67f269-6d48-4394-bdc5-ecb5647e20e8",
   "metadata": {},
   "source": [
    "## Question 1.1"
   ]
  },
  {
   "cell_type": "code",
   "execution_count": 93,
   "id": "fc8c3492-689d-463c-9773-4b2476d77b14",
   "metadata": {},
   "outputs": [
    {
     "data": {
      "text/html": [
       "<table class=\"dataframe\">\n",
       "<caption>A tibble: 3 × 2</caption>\n",
       "<thead>\n",
       "\t<tr><th scope=col>carrier</th><th scope=col>avg_dep_delay</th></tr>\n",
       "\t<tr><th scope=col>&lt;chr&gt;</th><th scope=col>&lt;dbl&gt;</th></tr>\n",
       "</thead>\n",
       "<tbody>\n",
       "\t<tr><td>F9</td><td>20.21554</td></tr>\n",
       "\t<tr><td>EV</td><td>19.95539</td></tr>\n",
       "\t<tr><td>YV</td><td>18.99633</td></tr>\n",
       "</tbody>\n",
       "</table>\n"
      ],
      "text/latex": [
       "A tibble: 3 × 2\n",
       "\\begin{tabular}{ll}\n",
       " carrier & avg\\_dep\\_delay\\\\\n",
       " <chr> & <dbl>\\\\\n",
       "\\hline\n",
       "\t F9 & 20.21554\\\\\n",
       "\t EV & 19.95539\\\\\n",
       "\t YV & 18.99633\\\\\n",
       "\\end{tabular}\n"
      ],
      "text/markdown": [
       "\n",
       "A tibble: 3 × 2\n",
       "\n",
       "| carrier &lt;chr&gt; | avg_dep_delay &lt;dbl&gt; |\n",
       "|---|---|\n",
       "| F9 | 20.21554 |\n",
       "| EV | 19.95539 |\n",
       "| YV | 18.99633 |\n",
       "\n"
      ],
      "text/plain": [
       "  carrier avg_dep_delay\n",
       "1 F9      20.21554     \n",
       "2 EV      19.95539     \n",
       "3 YV      18.99633     "
      ]
     },
     "metadata": {},
     "output_type": "display_data"
    }
   ],
   "source": [
    "flights_df |>\n",
    "    # Grouping by carriers\n",
    "    group_by(carrier) |>\n",
    "    # Summarise each group by the average dep_delay\n",
    "    summarise(avg_dep_delay = mean(dep_delay, na.rm=TRUE)) |>\n",
    "    # Arrange in descending order\n",
    "    arrange(desc(avg_dep_delay)) |>\n",
    "    # Select the top 3\n",
    "    head(3)\n",
    "    \n",
    "    "
   ]
  },
  {
   "cell_type": "markdown",
   "id": "596f58fd-057a-4802-babf-5315a8cb85a6",
   "metadata": {},
   "source": [
    "## Question 1.2 "
   ]
  },
  {
   "cell_type": "code",
   "execution_count": 97,
   "id": "b52b383c-9d87-43d5-9c91-a788af06f372",
   "metadata": {},
   "outputs": [
    {
     "name": "stderr",
     "output_type": "stream",
     "text": [
      "\u001b[1m\u001b[22m`summarise()` has grouped output by 'carrier'. You can override using the `.groups` argument.\n"
     ]
    },
    {
     "data": {
      "text/html": [
       "<table class=\"dataframe\">\n",
       "<caption>A tibble: 12 × 4</caption>\n",
       "<thead>\n",
       "\t<tr><th scope=col>month</th><th scope=col>EV</th><th scope=col>F9</th><th scope=col>YV</th></tr>\n",
       "\t<tr><th scope=col>&lt;int&gt;</th><th scope=col>&lt;dbl&gt;</th><th scope=col>&lt;dbl&gt;</th><th scope=col>&lt;dbl&gt;</th></tr>\n",
       "</thead>\n",
       "<tbody>\n",
       "\t<tr><td> 1</td><td>24.228879</td><td>10.000000</td><td>15.846154</td></tr>\n",
       "\t<tr><td> 2</td><td>21.523328</td><td>29.770833</td><td>10.673913</td></tr>\n",
       "\t<tr><td> 3</td><td>26.169820</td><td>16.754386</td><td>31.888889</td></tr>\n",
       "\t<tr><td> 4</td><td>22.767549</td><td>24.631579</td><td>27.111111</td></tr>\n",
       "\t<tr><td> 5</td><td>20.242477</td><td>35.948276</td><td>15.409091</td></tr>\n",
       "\t<tr><td> 6</td><td>25.496834</td><td>29.436364</td><td>42.794872</td></tr>\n",
       "\t<tr><td> 7</td><td>26.504722</td><td>31.810345</td><td>22.434783</td></tr>\n",
       "\t<tr><td> 8</td><td>16.261828</td><td>22.218182</td><td>19.066667</td></tr>\n",
       "\t<tr><td> 9</td><td> 8.237970</td><td> 8.263158</td><td> 8.880952</td></tr>\n",
       "\t<tr><td>10</td><td>13.418050</td><td> 9.701754</td><td>20.000000</td></tr>\n",
       "\t<tr><td>11</td><td> 9.827979</td><td>13.533333</td><td>10.520833</td></tr>\n",
       "\t<tr><td>12</td><td>27.887183</td><td>13.147541</td><td>13.113636</td></tr>\n",
       "</tbody>\n",
       "</table>\n"
      ],
      "text/latex": [
       "A tibble: 12 × 4\n",
       "\\begin{tabular}{llll}\n",
       " month & EV & F9 & YV\\\\\n",
       " <int> & <dbl> & <dbl> & <dbl>\\\\\n",
       "\\hline\n",
       "\t  1 & 24.228879 & 10.000000 & 15.846154\\\\\n",
       "\t  2 & 21.523328 & 29.770833 & 10.673913\\\\\n",
       "\t  3 & 26.169820 & 16.754386 & 31.888889\\\\\n",
       "\t  4 & 22.767549 & 24.631579 & 27.111111\\\\\n",
       "\t  5 & 20.242477 & 35.948276 & 15.409091\\\\\n",
       "\t  6 & 25.496834 & 29.436364 & 42.794872\\\\\n",
       "\t  7 & 26.504722 & 31.810345 & 22.434783\\\\\n",
       "\t  8 & 16.261828 & 22.218182 & 19.066667\\\\\n",
       "\t  9 &  8.237970 &  8.263158 &  8.880952\\\\\n",
       "\t 10 & 13.418050 &  9.701754 & 20.000000\\\\\n",
       "\t 11 &  9.827979 & 13.533333 & 10.520833\\\\\n",
       "\t 12 & 27.887183 & 13.147541 & 13.113636\\\\\n",
       "\\end{tabular}\n"
      ],
      "text/markdown": [
       "\n",
       "A tibble: 12 × 4\n",
       "\n",
       "| month &lt;int&gt; | EV &lt;dbl&gt; | F9 &lt;dbl&gt; | YV &lt;dbl&gt; |\n",
       "|---|---|---|---|\n",
       "|  1 | 24.228879 | 10.000000 | 15.846154 |\n",
       "|  2 | 21.523328 | 29.770833 | 10.673913 |\n",
       "|  3 | 26.169820 | 16.754386 | 31.888889 |\n",
       "|  4 | 22.767549 | 24.631579 | 27.111111 |\n",
       "|  5 | 20.242477 | 35.948276 | 15.409091 |\n",
       "|  6 | 25.496834 | 29.436364 | 42.794872 |\n",
       "|  7 | 26.504722 | 31.810345 | 22.434783 |\n",
       "|  8 | 16.261828 | 22.218182 | 19.066667 |\n",
       "|  9 |  8.237970 |  8.263158 |  8.880952 |\n",
       "| 10 | 13.418050 |  9.701754 | 20.000000 |\n",
       "| 11 |  9.827979 | 13.533333 | 10.520833 |\n",
       "| 12 | 27.887183 | 13.147541 | 13.113636 |\n",
       "\n"
      ],
      "text/plain": [
       "   month EV        F9        YV       \n",
       "1   1    24.228879 10.000000 15.846154\n",
       "2   2    21.523328 29.770833 10.673913\n",
       "3   3    26.169820 16.754386 31.888889\n",
       "4   4    22.767549 24.631579 27.111111\n",
       "5   5    20.242477 35.948276 15.409091\n",
       "6   6    25.496834 29.436364 42.794872\n",
       "7   7    26.504722 31.810345 22.434783\n",
       "8   8    16.261828 22.218182 19.066667\n",
       "9   9     8.237970  8.263158  8.880952\n",
       "10 10    13.418050  9.701754 20.000000\n",
       "11 11     9.827979 13.533333 10.520833\n",
       "12 12    27.887183 13.147541 13.113636"
      ]
     },
     "metadata": {},
     "output_type": "display_data"
    }
   ],
   "source": [
    "flights_df |>\n",
    "    # Filtering for records of the top 3 Carriers\n",
    "    filter(carrier %in% c('F9', 'EV', 'YV')) |>\n",
    "    # Group by carrier and month\n",
    "    group_by(carrier, month) |>\n",
    "    # Monthly average for the selected carries\n",
    "    summarise(avg_dep_delay = mean(dep_delay, na.rm=TRUE)) |>\n",
    "    # Using pivot_wider to place the carriers side-by-side\n",
    "    pivot_wider(names_from = carrier, values_from = avg_dep_delay)\n",
    "    "
   ]
  },
  {
   "cell_type": "markdown",
   "id": "c2ccad05-a393-4e2d-8637-d15fcee206a4",
   "metadata": {},
   "source": [
    "## Question 1.3\n",
    "\n"
   ]
  },
  {
   "cell_type": "code",
   "execution_count": 4,
   "id": "f1cc1315-e84f-4a6f-a303-15b443e4215e",
   "metadata": {},
   "outputs": [
    {
     "data": {
      "text/html": [
       "<table class=\"dataframe\">\n",
       "<caption>A tibble: 3 × 2</caption>\n",
       "<thead>\n",
       "\t<tr><th scope=col>month</th><th scope=col>avg_dep</th></tr>\n",
       "\t<tr><th scope=col>&lt;int&gt;</th><th scope=col>&lt;dbl&gt;</th></tr>\n",
       "</thead>\n",
       "<tbody>\n",
       "\t<tr><td> 7</td><td>21.72779</td></tr>\n",
       "\t<tr><td> 6</td><td>20.84633</td></tr>\n",
       "\t<tr><td>12</td><td>16.57669</td></tr>\n",
       "</tbody>\n",
       "</table>\n"
      ],
      "text/latex": [
       "A tibble: 3 × 2\n",
       "\\begin{tabular}{ll}\n",
       " month & avg\\_dep\\\\\n",
       " <int> & <dbl>\\\\\n",
       "\\hline\n",
       "\t  7 & 21.72779\\\\\n",
       "\t  6 & 20.84633\\\\\n",
       "\t 12 & 16.57669\\\\\n",
       "\\end{tabular}\n"
      ],
      "text/markdown": [
       "\n",
       "A tibble: 3 × 2\n",
       "\n",
       "| month &lt;int&gt; | avg_dep &lt;dbl&gt; |\n",
       "|---|---|\n",
       "|  7 | 21.72779 |\n",
       "|  6 | 20.84633 |\n",
       "| 12 | 16.57669 |\n",
       "\n"
      ],
      "text/plain": [
       "  month avg_dep \n",
       "1  7    21.72779\n",
       "2  6    20.84633\n",
       "3 12    16.57669"
      ]
     },
     "metadata": {},
     "output_type": "display_data"
    }
   ],
   "source": [
    "flights_df |>\n",
    "    # Using the by syntax to group and summarise\n",
    "    summarise(.by=month,\n",
    "             avg_dep = mean(dep_delay, na.rm=TRUE)) |>\n",
    "    # Arrange by the avg_dep in desc order\n",
    "    arrange(desc(avg_dep)) |>\n",
    "    # Select the top 3\n",
    "    head(3)"
   ]
  },
  {
   "cell_type": "markdown",
   "id": "a964a66a-7366-4319-869f-f5efb54bd309",
   "metadata": {},
   "source": [
    "## Question 1.4\n",
    "\n"
   ]
  },
  {
   "cell_type": "code",
   "execution_count": 99,
   "id": "262f3f97-def7-4e4d-b8eb-bc84b6c0c6c9",
   "metadata": {},
   "outputs": [
    {
     "data": {
      "text/html": [
       "<table class=\"dataframe\">\n",
       "<caption>A tibble: 8 × 2</caption>\n",
       "<thead>\n",
       "\t<tr><th scope=col>carrier</th><th scope=col>unique_orgin_count</th></tr>\n",
       "\t<tr><th scope=col>&lt;chr&gt;</th><th scope=col>&lt;int&gt;</th></tr>\n",
       "</thead>\n",
       "<tbody>\n",
       "\t<tr><td>UA</td><td>3</td></tr>\n",
       "\t<tr><td>AA</td><td>3</td></tr>\n",
       "\t<tr><td>B6</td><td>3</td></tr>\n",
       "\t<tr><td>DL</td><td>3</td></tr>\n",
       "\t<tr><td>EV</td><td>3</td></tr>\n",
       "\t<tr><td>MQ</td><td>3</td></tr>\n",
       "\t<tr><td>US</td><td>3</td></tr>\n",
       "\t<tr><td>9E</td><td>3</td></tr>\n",
       "</tbody>\n",
       "</table>\n"
      ],
      "text/latex": [
       "A tibble: 8 × 2\n",
       "\\begin{tabular}{ll}\n",
       " carrier & unique\\_orgin\\_count\\\\\n",
       " <chr> & <int>\\\\\n",
       "\\hline\n",
       "\t UA & 3\\\\\n",
       "\t AA & 3\\\\\n",
       "\t B6 & 3\\\\\n",
       "\t DL & 3\\\\\n",
       "\t EV & 3\\\\\n",
       "\t MQ & 3\\\\\n",
       "\t US & 3\\\\\n",
       "\t 9E & 3\\\\\n",
       "\\end{tabular}\n"
      ],
      "text/markdown": [
       "\n",
       "A tibble: 8 × 2\n",
       "\n",
       "| carrier &lt;chr&gt; | unique_orgin_count &lt;int&gt; |\n",
       "|---|---|\n",
       "| UA | 3 |\n",
       "| AA | 3 |\n",
       "| B6 | 3 |\n",
       "| DL | 3 |\n",
       "| EV | 3 |\n",
       "| MQ | 3 |\n",
       "| US | 3 |\n",
       "| 9E | 3 |\n",
       "\n"
      ],
      "text/plain": [
       "  carrier unique_orgin_count\n",
       "1 UA      3                 \n",
       "2 AA      3                 \n",
       "3 B6      3                 \n",
       "4 DL      3                 \n",
       "5 EV      3                 \n",
       "6 MQ      3                 \n",
       "7 US      3                 \n",
       "8 9E      3                 "
      ]
     },
     "metadata": {},
     "output_type": "display_data"
    }
   ],
   "source": [
    "flights_df |>\n",
    "    # Grouping by Carriers and Counting the unique origins\n",
    "    summarise(.by=carrier, unique_orgin_count=n_distinct(origin)) |>\n",
    "    # Filter for Records where only unique origin count is 3\n",
    "    filter(unique_orgin_count == 3)\n",
    "    "
   ]
  },
  {
   "cell_type": "markdown",
   "id": "8d75a86b-de03-4258-a425-88d9968da14d",
   "metadata": {},
   "source": [
    "## Question 1.5 Solution"
   ]
  },
  {
   "cell_type": "code",
   "execution_count": 6,
   "id": "a3eacee6-33d3-4d53-8e6b-92e7690ba725",
   "metadata": {},
   "outputs": [
    {
     "data": {
      "text/html": [
       "<table class=\"dataframe\">\n",
       "<caption>A tibble: 3 × 2</caption>\n",
       "<thead>\n",
       "\t<tr><th scope=col>dest</th><th scope=col>avg_dep</th></tr>\n",
       "\t<tr><th scope=col>&lt;chr&gt;</th><th scope=col>&lt;dbl&gt;</th></tr>\n",
       "</thead>\n",
       "<tbody>\n",
       "\t<tr><td>LEX</td><td>-9.000000</td></tr>\n",
       "\t<tr><td>PSP</td><td>-2.944444</td></tr>\n",
       "\t<tr><td>EYW</td><td> 3.647059</td></tr>\n",
       "</tbody>\n",
       "</table>\n"
      ],
      "text/latex": [
       "A tibble: 3 × 2\n",
       "\\begin{tabular}{ll}\n",
       " dest & avg\\_dep\\\\\n",
       " <chr> & <dbl>\\\\\n",
       "\\hline\n",
       "\t LEX & -9.000000\\\\\n",
       "\t PSP & -2.944444\\\\\n",
       "\t EYW &  3.647059\\\\\n",
       "\\end{tabular}\n"
      ],
      "text/markdown": [
       "\n",
       "A tibble: 3 × 2\n",
       "\n",
       "| dest &lt;chr&gt; | avg_dep &lt;dbl&gt; |\n",
       "|---|---|\n",
       "| LEX | -9.000000 |\n",
       "| PSP | -2.944444 |\n",
       "| EYW |  3.647059 |\n",
       "\n"
      ],
      "text/plain": [
       "  dest avg_dep  \n",
       "1 LEX  -9.000000\n",
       "2 PSP  -2.944444\n",
       "3 EYW   3.647059"
      ]
     },
     "metadata": {},
     "output_type": "display_data"
    }
   ],
   "source": [
    "flights |>\n",
    "    # group by Destination and find the avg departure delay\n",
    "    summarise(.by=dest, avg_dep=mean(dep_delay, na.rm=TRUE)) |>\n",
    "    # Arrange in ascending order of average departure\n",
    "    arrange(avg_dep) |>\n",
    "    # select the top 3\n",
    "    head(3)"
   ]
  },
  {
   "cell_type": "markdown",
   "id": "fc71a648-cbc8-4d7e-bff2-e61691037ab1",
   "metadata": {},
   "source": [
    "## Question 1.6 Solution\n"
   ]
  },
  {
   "cell_type": "code",
   "execution_count": 7,
   "id": "c098c7b1-dfda-4b14-9b0d-1ad454a0fd11",
   "metadata": {},
   "outputs": [
    {
     "data": {
      "text/html": [
       "<table class=\"dataframe\">\n",
       "<caption>A tibble: 1 × 2</caption>\n",
       "<thead>\n",
       "\t<tr><th scope=col>origin</th><th scope=col>avg_dep</th></tr>\n",
       "\t<tr><th scope=col>&lt;chr&gt;</th><th scope=col>&lt;dbl&gt;</th></tr>\n",
       "</thead>\n",
       "<tbody>\n",
       "\t<tr><td>LGA</td><td>11.28732</td></tr>\n",
       "</tbody>\n",
       "</table>\n"
      ],
      "text/latex": [
       "A tibble: 1 × 2\n",
       "\\begin{tabular}{ll}\n",
       " origin & avg\\_dep\\\\\n",
       " <chr> & <dbl>\\\\\n",
       "\\hline\n",
       "\t LGA & 11.28732\\\\\n",
       "\\end{tabular}\n"
      ],
      "text/markdown": [
       "\n",
       "A tibble: 1 × 2\n",
       "\n",
       "| origin &lt;chr&gt; | avg_dep &lt;dbl&gt; |\n",
       "|---|---|\n",
       "| LGA | 11.28732 |\n",
       "\n"
      ],
      "text/plain": [
       "  origin avg_dep \n",
       "1 LGA    11.28732"
      ]
     },
     "metadata": {},
     "output_type": "display_data"
    }
   ],
   "source": [
    "# 1.6 Suppose you want to fly from New York to Tamp Florida (TPA). \n",
    "# a Which airport is expected to have the lowest average delay\n",
    "\n",
    "flights_df |>\n",
    "    # filter by the  Dest TPA\n",
    "    filter(dest=='TPA') |>\n",
    "    # Group by Airport and determine the average delay\n",
    "    summarise(.by=origin, avg_dep=mean(dep_delay, na.rm=TRUE)) |>\n",
    "    # Select the airport with the lowest average departure delay\n",
    "    arrange(avg_dep) |>\n",
    "    # Select lowest\n",
    "    head(1)"
   ]
  },
  {
   "cell_type": "code",
   "execution_count": 8,
   "id": "ea2bf745-7c1f-4657-8ee2-f688a08d2860",
   "metadata": {},
   "outputs": [
    {
     "data": {
      "text/html": [
       "<table class=\"dataframe\">\n",
       "<caption>A tibble: 1 × 2</caption>\n",
       "<thead>\n",
       "\t<tr><th scope=col>carrier</th><th scope=col>avg_dep</th></tr>\n",
       "\t<tr><th scope=col>&lt;chr&gt;</th><th scope=col>&lt;dbl&gt;</th></tr>\n",
       "</thead>\n",
       "<tbody>\n",
       "\t<tr><td>9E</td><td>-4.333333</td></tr>\n",
       "</tbody>\n",
       "</table>\n"
      ],
      "text/latex": [
       "A tibble: 1 × 2\n",
       "\\begin{tabular}{ll}\n",
       " carrier & avg\\_dep\\\\\n",
       " <chr> & <dbl>\\\\\n",
       "\\hline\n",
       "\t 9E & -4.333333\\\\\n",
       "\\end{tabular}\n"
      ],
      "text/markdown": [
       "\n",
       "A tibble: 1 × 2\n",
       "\n",
       "| carrier &lt;chr&gt; | avg_dep &lt;dbl&gt; |\n",
       "|---|---|\n",
       "| 9E | -4.333333 |\n",
       "\n"
      ],
      "text/plain": [
       "  carrier avg_dep  \n",
       "1 9E      -4.333333"
      ]
     },
     "metadata": {},
     "output_type": "display_data"
    }
   ],
   "source": [
    "# 1.6 Suppose you want to fly from New York to Tamp Florida (TPA). \n",
    "# Which carrier has the lowest delay\n",
    "\n",
    "flights_df |>\n",
    "    # filter by the  Dest TPA\n",
    "    filter(dest=='TPA') |>\n",
    "    # Group by Carrier and determine the average delay\n",
    "    summarise(.by=carrier, avg_dep=mean(dep_delay, na.rm=TRUE)) |>\n",
    "    # Select the airport with the lowest average departure delay\n",
    "    arrange(avg_dep) |>\n",
    "    # Select lowest\n",
    "    head(1)"
   ]
  },
  {
   "cell_type": "code",
   "execution_count": 9,
   "id": "c17fd105-6b87-4d52-b191-df7ad1db9070",
   "metadata": {},
   "outputs": [
    {
     "data": {
      "text/html": [
       "<table class=\"dataframe\">\n",
       "<caption>A tibble: 1 × 3</caption>\n",
       "<thead>\n",
       "\t<tr><th scope=col>carrier</th><th scope=col>origin</th><th scope=col>avg_dep</th></tr>\n",
       "\t<tr><th scope=col>&lt;chr&gt;</th><th scope=col>&lt;chr&gt;</th><th scope=col>&lt;dbl&gt;</th></tr>\n",
       "</thead>\n",
       "<tbody>\n",
       "\t<tr><td>9E</td><td>JFK</td><td>-4.333333</td></tr>\n",
       "</tbody>\n",
       "</table>\n"
      ],
      "text/latex": [
       "A tibble: 1 × 3\n",
       "\\begin{tabular}{lll}\n",
       " carrier & origin & avg\\_dep\\\\\n",
       " <chr> & <chr> & <dbl>\\\\\n",
       "\\hline\n",
       "\t 9E & JFK & -4.333333\\\\\n",
       "\\end{tabular}\n"
      ],
      "text/markdown": [
       "\n",
       "A tibble: 1 × 3\n",
       "\n",
       "| carrier &lt;chr&gt; | origin &lt;chr&gt; | avg_dep &lt;dbl&gt; |\n",
       "|---|---|---|\n",
       "| 9E | JFK | -4.333333 |\n",
       "\n"
      ],
      "text/plain": [
       "  carrier origin avg_dep  \n",
       "1 9E      JFK    -4.333333"
      ]
     },
     "metadata": {},
     "output_type": "display_data"
    }
   ],
   "source": [
    "# 1.6 Suppose you want to fly from New York to Tamp Florida (TPA). \n",
    "#  Finally, if you were to select a carrier from one of the three airports with \n",
    "# the lowest average flight delay for trips to Tampa, which carrier and airport would you choose?\n",
    "\n",
    "flights_df |>\n",
    "    # filter by the  Dest TPA\n",
    "    filter(dest=='TPA') |>\n",
    "    # Group by Airport and determine the average delay\n",
    "    summarise(.by=c(carrier, origin), avg_dep=mean(dep_delay, na.rm=TRUE)) |>\n",
    "    # Select the airport with the lowest average departure delay\n",
    "    arrange(avg_dep) |>\n",
    "    # Select lowest\n",
    "    head(1)"
   ]
  },
  {
   "cell_type": "markdown",
   "id": "550b8552-649a-4799-90b4-300cb0a12b38",
   "metadata": {},
   "source": [
    "## Question 1.7 Solution\n"
   ]
  },
  {
   "cell_type": "code",
   "execution_count": 10,
   "id": "7812fc7a-0464-4d2d-9345-7ced7871230c",
   "metadata": {},
   "outputs": [
    {
     "data": {
      "text/html": [
       "<table class=\"dataframe\">\n",
       "<caption>A tibble: 36 × 4</caption>\n",
       "<thead>\n",
       "\t<tr><th scope=col>origin</th><th scope=col>month</th><th scope=col>num_flights_delayed</th><th scope=col>monthly_delay_cost</th></tr>\n",
       "\t<tr><th scope=col>&lt;chr&gt;</th><th scope=col>&lt;int&gt;</th><th scope=col>&lt;int&gt;</th><th scope=col>&lt;dbl&gt;</th></tr>\n",
       "</thead>\n",
       "<tbody>\n",
       "\t<tr><td>EWR</td><td> 1</td><td>1637</td><td>1637000</td></tr>\n",
       "\t<tr><td>LGA</td><td> 1</td><td> 741</td><td> 741000</td></tr>\n",
       "\t<tr><td>JFK</td><td> 1</td><td> 972</td><td> 972000</td></tr>\n",
       "\t<tr><td>EWR</td><td> 2</td><td>1327</td><td>1327000</td></tr>\n",
       "\t<tr><td>JFK</td><td> 2</td><td>1138</td><td>1138000</td></tr>\n",
       "\t<tr><td>LGA</td><td> 2</td><td> 717</td><td> 717000</td></tr>\n",
       "\t<tr><td>JFK</td><td> 3</td><td>1262</td><td>1262000</td></tr>\n",
       "\t<tr><td>LGA</td><td> 3</td><td>1033</td><td>1033000</td></tr>\n",
       "\t<tr><td>EWR</td><td> 3</td><td>2014</td><td>2014000</td></tr>\n",
       "\t<tr><td>EWR</td><td> 4</td><td>1999</td><td>1999000</td></tr>\n",
       "\t<tr><td>LGA</td><td> 4</td><td>1224</td><td>1224000</td></tr>\n",
       "\t<tr><td>JFK</td><td> 4</td><td>1308</td><td>1308000</td></tr>\n",
       "\t<tr><td>JFK</td><td> 5</td><td>1342</td><td>1342000</td></tr>\n",
       "\t<tr><td>LGA</td><td> 5</td><td>1173</td><td>1173000</td></tr>\n",
       "\t<tr><td>EWR</td><td> 5</td><td>1901</td><td>1901000</td></tr>\n",
       "\t<tr><td>EWR</td><td> 6</td><td>2219</td><td>2219000</td></tr>\n",
       "\t<tr><td>JFK</td><td> 6</td><td>1905</td><td>1905000</td></tr>\n",
       "\t<tr><td>LGA</td><td> 6</td><td>1593</td><td>1593000</td></tr>\n",
       "\t<tr><td>JFK</td><td> 7</td><td>2279</td><td>2279000</td></tr>\n",
       "\t<tr><td>LGA</td><td> 7</td><td>1639</td><td>1639000</td></tr>\n",
       "\t<tr><td>EWR</td><td> 7</td><td>2255</td><td>2255000</td></tr>\n",
       "\t<tr><td>LGA</td><td> 8</td><td>1186</td><td>1186000</td></tr>\n",
       "\t<tr><td>JFK</td><td> 8</td><td>1460</td><td>1460000</td></tr>\n",
       "\t<tr><td>EWR</td><td> 8</td><td>1592</td><td>1592000</td></tr>\n",
       "\t<tr><td>JFK</td><td> 9</td><td> 793</td><td> 793000</td></tr>\n",
       "\t<tr><td>EWR</td><td> 9</td><td> 852</td><td> 852000</td></tr>\n",
       "\t<tr><td>LGA</td><td> 9</td><td> 774</td><td> 774000</td></tr>\n",
       "\t<tr><td>EWR</td><td>10</td><td>1126</td><td>1126000</td></tr>\n",
       "\t<tr><td>LGA</td><td>10</td><td> 894</td><td> 894000</td></tr>\n",
       "\t<tr><td>JFK</td><td>10</td><td> 677</td><td> 677000</td></tr>\n",
       "\t<tr><td>JFK</td><td>11</td><td> 652</td><td> 652000</td></tr>\n",
       "\t<tr><td>LGA</td><td>11</td><td> 806</td><td> 806000</td></tr>\n",
       "\t<tr><td>EWR</td><td>11</td><td> 930</td><td> 930000</td></tr>\n",
       "\t<tr><td>JFK</td><td>12</td><td>1453</td><td>1453000</td></tr>\n",
       "\t<tr><td>EWR</td><td>12</td><td>2062</td><td>2062000</td></tr>\n",
       "\t<tr><td>LGA</td><td>12</td><td>1356</td><td>1356000</td></tr>\n",
       "</tbody>\n",
       "</table>\n"
      ],
      "text/latex": [
       "A tibble: 36 × 4\n",
       "\\begin{tabular}{llll}\n",
       " origin & month & num\\_flights\\_delayed & monthly\\_delay\\_cost\\\\\n",
       " <chr> & <int> & <int> & <dbl>\\\\\n",
       "\\hline\n",
       "\t EWR &  1 & 1637 & 1637000\\\\\n",
       "\t LGA &  1 &  741 &  741000\\\\\n",
       "\t JFK &  1 &  972 &  972000\\\\\n",
       "\t EWR &  2 & 1327 & 1327000\\\\\n",
       "\t JFK &  2 & 1138 & 1138000\\\\\n",
       "\t LGA &  2 &  717 &  717000\\\\\n",
       "\t JFK &  3 & 1262 & 1262000\\\\\n",
       "\t LGA &  3 & 1033 & 1033000\\\\\n",
       "\t EWR &  3 & 2014 & 2014000\\\\\n",
       "\t EWR &  4 & 1999 & 1999000\\\\\n",
       "\t LGA &  4 & 1224 & 1224000\\\\\n",
       "\t JFK &  4 & 1308 & 1308000\\\\\n",
       "\t JFK &  5 & 1342 & 1342000\\\\\n",
       "\t LGA &  5 & 1173 & 1173000\\\\\n",
       "\t EWR &  5 & 1901 & 1901000\\\\\n",
       "\t EWR &  6 & 2219 & 2219000\\\\\n",
       "\t JFK &  6 & 1905 & 1905000\\\\\n",
       "\t LGA &  6 & 1593 & 1593000\\\\\n",
       "\t JFK &  7 & 2279 & 2279000\\\\\n",
       "\t LGA &  7 & 1639 & 1639000\\\\\n",
       "\t EWR &  7 & 2255 & 2255000\\\\\n",
       "\t LGA &  8 & 1186 & 1186000\\\\\n",
       "\t JFK &  8 & 1460 & 1460000\\\\\n",
       "\t EWR &  8 & 1592 & 1592000\\\\\n",
       "\t JFK &  9 &  793 &  793000\\\\\n",
       "\t EWR &  9 &  852 &  852000\\\\\n",
       "\t LGA &  9 &  774 &  774000\\\\\n",
       "\t EWR & 10 & 1126 & 1126000\\\\\n",
       "\t LGA & 10 &  894 &  894000\\\\\n",
       "\t JFK & 10 &  677 &  677000\\\\\n",
       "\t JFK & 11 &  652 &  652000\\\\\n",
       "\t LGA & 11 &  806 &  806000\\\\\n",
       "\t EWR & 11 &  930 &  930000\\\\\n",
       "\t JFK & 12 & 1453 & 1453000\\\\\n",
       "\t EWR & 12 & 2062 & 2062000\\\\\n",
       "\t LGA & 12 & 1356 & 1356000\\\\\n",
       "\\end{tabular}\n"
      ],
      "text/markdown": [
       "\n",
       "A tibble: 36 × 4\n",
       "\n",
       "| origin &lt;chr&gt; | month &lt;int&gt; | num_flights_delayed &lt;int&gt; | monthly_delay_cost &lt;dbl&gt; |\n",
       "|---|---|---|---|\n",
       "| EWR |  1 | 1637 | 1637000 |\n",
       "| LGA |  1 |  741 |  741000 |\n",
       "| JFK |  1 |  972 |  972000 |\n",
       "| EWR |  2 | 1327 | 1327000 |\n",
       "| JFK |  2 | 1138 | 1138000 |\n",
       "| LGA |  2 |  717 |  717000 |\n",
       "| JFK |  3 | 1262 | 1262000 |\n",
       "| LGA |  3 | 1033 | 1033000 |\n",
       "| EWR |  3 | 2014 | 2014000 |\n",
       "| EWR |  4 | 1999 | 1999000 |\n",
       "| LGA |  4 | 1224 | 1224000 |\n",
       "| JFK |  4 | 1308 | 1308000 |\n",
       "| JFK |  5 | 1342 | 1342000 |\n",
       "| LGA |  5 | 1173 | 1173000 |\n",
       "| EWR |  5 | 1901 | 1901000 |\n",
       "| EWR |  6 | 2219 | 2219000 |\n",
       "| JFK |  6 | 1905 | 1905000 |\n",
       "| LGA |  6 | 1593 | 1593000 |\n",
       "| JFK |  7 | 2279 | 2279000 |\n",
       "| LGA |  7 | 1639 | 1639000 |\n",
       "| EWR |  7 | 2255 | 2255000 |\n",
       "| LGA |  8 | 1186 | 1186000 |\n",
       "| JFK |  8 | 1460 | 1460000 |\n",
       "| EWR |  8 | 1592 | 1592000 |\n",
       "| JFK |  9 |  793 |  793000 |\n",
       "| EWR |  9 |  852 |  852000 |\n",
       "| LGA |  9 |  774 |  774000 |\n",
       "| EWR | 10 | 1126 | 1126000 |\n",
       "| LGA | 10 |  894 |  894000 |\n",
       "| JFK | 10 |  677 |  677000 |\n",
       "| JFK | 11 |  652 |  652000 |\n",
       "| LGA | 11 |  806 |  806000 |\n",
       "| EWR | 11 |  930 |  930000 |\n",
       "| JFK | 12 | 1453 | 1453000 |\n",
       "| EWR | 12 | 2062 | 2062000 |\n",
       "| LGA | 12 | 1356 | 1356000 |\n",
       "\n"
      ],
      "text/plain": [
       "   origin month num_flights_delayed monthly_delay_cost\n",
       "1  EWR     1    1637                1637000           \n",
       "2  LGA     1     741                 741000           \n",
       "3  JFK     1     972                 972000           \n",
       "4  EWR     2    1327                1327000           \n",
       "5  JFK     2    1138                1138000           \n",
       "6  LGA     2     717                 717000           \n",
       "7  JFK     3    1262                1262000           \n",
       "8  LGA     3    1033                1033000           \n",
       "9  EWR     3    2014                2014000           \n",
       "10 EWR     4    1999                1999000           \n",
       "11 LGA     4    1224                1224000           \n",
       "12 JFK     4    1308                1308000           \n",
       "13 JFK     5    1342                1342000           \n",
       "14 LGA     5    1173                1173000           \n",
       "15 EWR     5    1901                1901000           \n",
       "16 EWR     6    2219                2219000           \n",
       "17 JFK     6    1905                1905000           \n",
       "18 LGA     6    1593                1593000           \n",
       "19 JFK     7    2279                2279000           \n",
       "20 LGA     7    1639                1639000           \n",
       "21 EWR     7    2255                2255000           \n",
       "22 LGA     8    1186                1186000           \n",
       "23 JFK     8    1460                1460000           \n",
       "24 EWR     8    1592                1592000           \n",
       "25 JFK     9     793                 793000           \n",
       "26 EWR     9     852                 852000           \n",
       "27 LGA     9     774                 774000           \n",
       "28 EWR    10    1126                1126000           \n",
       "29 LGA    10     894                 894000           \n",
       "30 JFK    10     677                 677000           \n",
       "31 JFK    11     652                 652000           \n",
       "32 LGA    11     806                 806000           \n",
       "33 EWR    11     930                 930000           \n",
       "34 JFK    12    1453                1453000           \n",
       "35 EWR    12    2062                2062000           \n",
       "36 LGA    12    1356                1356000           "
      ]
     },
     "metadata": {},
     "output_type": "display_data"
    }
   ],
   "source": [
    "# Assuming a penalty of $1000 for each delay exceeding 30 minutes, how much\n",
    "# penalty has each of the three airports paid due to flight delays per month?\n",
    "\n",
    "flights_df |>\n",
    "    # Filter the records for dep_delay exceeding 30 min\n",
    "    filter(dep_delay > 30) |>\n",
    "    # Summarize by airport and month and count the records for eacch\n",
    "    summarise(\n",
    "        .by = c(origin, month),\n",
    "        num_flights_delayed = n()\n",
    "    ) |>\n",
    "    # Calculating the cost of delay per month\n",
    "    mutate(monthly_delay_cost = 1000 * num_flights_delayed) |>\n",
    "    # Order the results by month\n",
    "    arrange(month)\n"
   ]
  },
  {
   "cell_type": "code",
   "execution_count": 100,
   "id": "d0247665-3a2f-415d-8005-626bef968f19",
   "metadata": {},
   "outputs": [
    {
     "data": {
      "text/html": [
       "<table class=\"dataframe\">\n",
       "<caption>A tibble: 1 × 3</caption>\n",
       "<thead>\n",
       "\t<tr><th scope=col>carrier</th><th scope=col>num_flights_delayed</th><th scope=col>delay_cost_per_carrier</th></tr>\n",
       "\t<tr><th scope=col>&lt;chr&gt;</th><th scope=col>&lt;int&gt;</th><th scope=col>&lt;dbl&gt;</th></tr>\n",
       "</thead>\n",
       "<tbody>\n",
       "\t<tr><td>B6</td><td>6439</td><td>6439000</td></tr>\n",
       "</tbody>\n",
       "</table>\n"
      ],
      "text/latex": [
       "A tibble: 1 × 3\n",
       "\\begin{tabular}{lll}\n",
       " carrier & num\\_flights\\_delayed & delay\\_cost\\_per\\_carrier\\\\\n",
       " <chr> & <int> & <dbl>\\\\\n",
       "\\hline\n",
       "\t B6 & 6439 & 6439000\\\\\n",
       "\\end{tabular}\n"
      ],
      "text/markdown": [
       "\n",
       "A tibble: 1 × 3\n",
       "\n",
       "| carrier &lt;chr&gt; | num_flights_delayed &lt;int&gt; | delay_cost_per_carrier &lt;dbl&gt; |\n",
       "|---|---|---|\n",
       "| B6 | 6439 | 6439000 |\n",
       "\n"
      ],
      "text/plain": [
       "  carrier num_flights_delayed delay_cost_per_carrier\n",
       "1 B6      6439                6439000               "
      ]
     },
     "metadata": {},
     "output_type": "display_data"
    }
   ],
   "source": [
    "# Which airline has caused the highest penalty to JFK?\n",
    "\n",
    "flights_df |>\n",
    "    # Filter the records for dep_delay exceeding 30 min at JFK\n",
    "    filter(dep_delay > 30 & origin == 'JFK') |>\n",
    "    # Summarize by carrier and find the number of delayed flight\n",
    "    summarise(\n",
    "        .by = c(carrier),\n",
    "        num_flights_delayed = n()\n",
    "    ) |>\n",
    "    # Calculating the cost of delay per carrier at JFK\n",
    "    mutate(delay_cost_per_carrier = 1000 * num_flights_delayed) |>\n",
    "    # Arrange in desc order of cost\n",
    "    arrange(desc(delay_cost_per_carrier)) |>\n",
    "    # Select the airline with the most cost\n",
    "    head(1)\n",
    "\n"
   ]
  },
  {
   "cell_type": "markdown",
   "id": "89bf751d-4f2e-4372-9cc1-eab99117e315",
   "metadata": {},
   "source": [
    "## Question 1.8 Solution\n"
   ]
  },
  {
   "cell_type": "code",
   "execution_count": 13,
   "id": "e7f6783b-6404-444f-bad6-9fa60a2fe835",
   "metadata": {},
   "outputs": [
    {
     "data": {
      "text/html": [
       "<table class=\"dataframe\">\n",
       "<caption>A tibble: 3450 × 19</caption>\n",
       "<thead>\n",
       "\t<tr><th scope=col>year</th><th scope=col>month</th><th scope=col>day</th><th scope=col>dep_time</th><th scope=col>sched_dep_time</th><th scope=col>dep_delay</th><th scope=col>arr_time</th><th scope=col>sched_arr_time</th><th scope=col>arr_delay</th><th scope=col>carrier</th><th scope=col>flight</th><th scope=col>tailnum</th><th scope=col>origin</th><th scope=col>dest</th><th scope=col>air_time</th><th scope=col>distance</th><th scope=col>hour</th><th scope=col>minute</th><th scope=col>time_hour</th></tr>\n",
       "\t<tr><th scope=col>&lt;int&gt;</th><th scope=col>&lt;int&gt;</th><th scope=col>&lt;int&gt;</th><th scope=col>&lt;int&gt;</th><th scope=col>&lt;int&gt;</th><th scope=col>&lt;dbl&gt;</th><th scope=col>&lt;int&gt;</th><th scope=col>&lt;int&gt;</th><th scope=col>&lt;dbl&gt;</th><th scope=col>&lt;chr&gt;</th><th scope=col>&lt;int&gt;</th><th scope=col>&lt;chr&gt;</th><th scope=col>&lt;chr&gt;</th><th scope=col>&lt;chr&gt;</th><th scope=col>&lt;dbl&gt;</th><th scope=col>&lt;dbl&gt;</th><th scope=col>&lt;dbl&gt;</th><th scope=col>&lt;dbl&gt;</th><th scope=col>&lt;dttm&gt;</th></tr>\n",
       "</thead>\n",
       "<tbody>\n",
       "\t<tr><td>2013</td><td>3</td><td>11</td><td>537</td><td>540</td><td> -3</td><td>819</td><td>850</td><td>-31</td><td>AA</td><td>1141</td><td>N5DRAA</td><td>JFK</td><td>MIA</td><td>138</td><td>1089</td><td>5</td><td>40</td><td>2013-03-11 05:00:00</td></tr>\n",
       "\t<tr><td>2013</td><td>3</td><td>11</td><td>539</td><td>545</td><td> -6</td><td>854</td><td>923</td><td>-29</td><td>B6</td><td> 725</td><td>N640JB</td><td>JFK</td><td>BQN</td><td>175</td><td>1576</td><td>5</td><td>45</td><td>2013-03-11 05:00:00</td></tr>\n",
       "\t<tr><td>2013</td><td>3</td><td>11</td><td>551</td><td>600</td><td> -9</td><td>654</td><td>715</td><td>-21</td><td>EV</td><td>5716</td><td>N829AS</td><td>JFK</td><td>IAD</td><td> 44</td><td> 228</td><td>6</td><td> 0</td><td>2013-03-11 06:00:00</td></tr>\n",
       "\t<tr><td>2013</td><td>3</td><td>11</td><td>551</td><td>600</td><td> -9</td><td>650</td><td>703</td><td>-13</td><td>US</td><td>2114</td><td>N702UW</td><td>LGA</td><td>BOS</td><td> 42</td><td> 184</td><td>6</td><td> 0</td><td>2013-03-11 06:00:00</td></tr>\n",
       "\t<tr><td>2013</td><td>3</td><td>11</td><td>552</td><td>600</td><td> -8</td><td>920</td><td>925</td><td> -5</td><td>UA</td><td> 303</td><td>N508UA</td><td>JFK</td><td>SFO</td><td>356</td><td>2586</td><td>6</td><td> 0</td><td>2013-03-11 06:00:00</td></tr>\n",
       "\t<tr><td>2013</td><td>3</td><td>11</td><td>553</td><td>600</td><td> -7</td><td>712</td><td>733</td><td>-21</td><td>UA</td><td> 997</td><td>N438UA</td><td>LGA</td><td>ORD</td><td>118</td><td> 733</td><td>6</td><td> 0</td><td>2013-03-11 06:00:00</td></tr>\n",
       "\t<tr><td>2013</td><td>3</td><td>11</td><td>554</td><td>600</td><td> -6</td><td>831</td><td>849</td><td>-18</td><td>B6</td><td> 145</td><td>N796JB</td><td>JFK</td><td>PBI</td><td>141</td><td>1028</td><td>6</td><td> 0</td><td>2013-03-11 06:00:00</td></tr>\n",
       "\t<tr><td>2013</td><td>3</td><td>11</td><td>555</td><td>600</td><td> -5</td><td>823</td><td>849</td><td>-26</td><td>B6</td><td>  79</td><td>N746JB</td><td>JFK</td><td>MCO</td><td>131</td><td> 944</td><td>6</td><td> 0</td><td>2013-03-11 06:00:00</td></tr>\n",
       "\t<tr><td>2013</td><td>3</td><td>11</td><td>555</td><td>600</td><td> -5</td><td>817</td><td>825</td><td> -8</td><td>MQ</td><td>4650</td><td>N516MQ</td><td>LGA</td><td>ATL</td><td>121</td><td> 762</td><td>6</td><td> 0</td><td>2013-03-11 06:00:00</td></tr>\n",
       "\t<tr><td>2013</td><td>3</td><td>11</td><td>555</td><td>605</td><td>-10</td><td>800</td><td>805</td><td> -5</td><td>MQ</td><td>4401</td><td>N737MQ</td><td>LGA</td><td>DTW</td><td> 93</td><td> 502</td><td>6</td><td> 5</td><td>2013-03-11 06:00:00</td></tr>\n",
       "\t<tr><td>2013</td><td>3</td><td>11</td><td>556</td><td>600</td><td> -4</td><td>903</td><td>910</td><td> -7</td><td>AA</td><td> 707</td><td>N3EHAA</td><td>LGA</td><td>DFW</td><td>226</td><td>1389</td><td>6</td><td> 0</td><td>2013-03-11 06:00:00</td></tr>\n",
       "\t<tr><td>2013</td><td>3</td><td>11</td><td>556</td><td>600</td><td> -4</td><td>709</td><td>723</td><td>-14</td><td>B6</td><td> 208</td><td>N192JB</td><td>JFK</td><td>BUF</td><td> 57</td><td> 301</td><td>6</td><td> 0</td><td>2013-03-11 06:00:00</td></tr>\n",
       "\t<tr><td>2013</td><td>3</td><td>11</td><td>556</td><td>600</td><td> -4</td><td>848</td><td>901</td><td>-13</td><td>B6</td><td> 371</td><td>N598JB</td><td>LGA</td><td>FLL</td><td>146</td><td>1076</td><td>6</td><td> 0</td><td>2013-03-11 06:00:00</td></tr>\n",
       "\t<tr><td>2013</td><td>3</td><td>11</td><td>556</td><td>600</td><td> -4</td><td>828</td><td>830</td><td> -2</td><td>DL</td><td> 461</td><td>N659DL</td><td>LGA</td><td>ATL</td><td>125</td><td> 762</td><td>6</td><td> 0</td><td>2013-03-11 06:00:00</td></tr>\n",
       "\t<tr><td>2013</td><td>3</td><td>11</td><td>556</td><td>600</td><td> -4</td><td>657</td><td>659</td><td> -2</td><td>US</td><td>2161</td><td>N765US</td><td>LGA</td><td>DCA</td><td> 45</td><td> 214</td><td>6</td><td> 0</td><td>2013-03-11 06:00:00</td></tr>\n",
       "\t<tr><td>2013</td><td>3</td><td>11</td><td>557</td><td>600</td><td> -3</td><td>813</td><td>805</td><td>  8</td><td>EV</td><td>5020</td><td>N398CA</td><td>LGA</td><td>MEM</td><td>149</td><td> 963</td><td>6</td><td> 0</td><td>2013-03-11 06:00:00</td></tr>\n",
       "\t<tr><td>2013</td><td>3</td><td>11</td><td>557</td><td>605</td><td> -8</td><td>849</td><td>907</td><td>-18</td><td>B6</td><td> 501</td><td>N637JB</td><td>JFK</td><td>FLL</td><td>145</td><td>1069</td><td>6</td><td> 5</td><td>2013-03-11 06:00:00</td></tr>\n",
       "\t<tr><td>2013</td><td>3</td><td>11</td><td>558</td><td>600</td><td> -2</td><td>710</td><td>724</td><td>-14</td><td>EV</td><td>5689</td><td>N833AS</td><td>LGA</td><td>IAD</td><td> 45</td><td> 229</td><td>6</td><td> 0</td><td>2013-03-11 06:00:00</td></tr>\n",
       "\t<tr><td>2013</td><td>3</td><td>11</td><td>558</td><td>600</td><td> -2</td><td>839</td><td>856</td><td>-17</td><td>B6</td><td> 507</td><td>N562JB</td><td>EWR</td><td>FLL</td><td>143</td><td>1065</td><td>6</td><td> 0</td><td>2013-03-11 06:00:00</td></tr>\n",
       "\t<tr><td>2013</td><td>3</td><td>11</td><td>558</td><td>600</td><td> -2</td><td>847</td><td>906</td><td>-19</td><td>UA</td><td>1431</td><td>N17719</td><td>EWR</td><td>DFW</td><td>217</td><td>1372</td><td>6</td><td> 0</td><td>2013-03-11 06:00:00</td></tr>\n",
       "\t<tr><td>2013</td><td>3</td><td>11</td><td>600</td><td>600</td><td>  0</td><td>731</td><td>745</td><td>-14</td><td>AA</td><td> 301</td><td>N3AXAA</td><td>LGA</td><td>ORD</td><td>123</td><td> 733</td><td>6</td><td> 0</td><td>2013-03-11 06:00:00</td></tr>\n",
       "\t<tr><td>2013</td><td>3</td><td>11</td><td>600</td><td>600</td><td>  0</td><td>848</td><td>911</td><td>-23</td><td>UA</td><td>1077</td><td>N39297</td><td>EWR</td><td>MIA</td><td>148</td><td>1085</td><td>6</td><td> 0</td><td>2013-03-11 06:00:00</td></tr>\n",
       "\t<tr><td>2013</td><td>3</td><td>11</td><td>601</td><td>600</td><td>  1</td><td>843</td><td>815</td><td> 28</td><td>FL</td><td> 345</td><td>N330AT</td><td>LGA</td><td>ATL</td><td>133</td><td> 762</td><td>6</td><td> 0</td><td>2013-03-11 06:00:00</td></tr>\n",
       "\t<tr><td>2013</td><td>3</td><td>11</td><td>602</td><td>610</td><td> -8</td><td>915</td><td>925</td><td>-10</td><td>UA</td><td> 797</td><td>N557UA</td><td>JFK</td><td>LAX</td><td>341</td><td>2475</td><td>6</td><td>10</td><td>2013-03-11 06:00:00</td></tr>\n",
       "\t<tr><td>2013</td><td>3</td><td>11</td><td>603</td><td>610</td><td> -7</td><td>814</td><td>855</td><td>-41</td><td>UA</td><td> 511</td><td>N595UA</td><td>EWR</td><td>LAS</td><td>292</td><td>2227</td><td>6</td><td>10</td><td>2013-03-11 06:00:00</td></tr>\n",
       "\t<tr><td>2013</td><td>3</td><td>11</td><td>604</td><td>610</td><td> -6</td><td>711</td><td>726</td><td>-15</td><td>EV</td><td>4354</td><td>N17984</td><td>EWR</td><td>IAD</td><td> 43</td><td> 212</td><td>6</td><td>10</td><td>2013-03-11 06:00:00</td></tr>\n",
       "\t<tr><td>2013</td><td>3</td><td>11</td><td>604</td><td>602</td><td>  2</td><td>718</td><td>726</td><td> -8</td><td>EV</td><td>4608</td><td>N13955</td><td>EWR</td><td>MKE</td><td>114</td><td> 725</td><td>6</td><td> 2</td><td>2013-03-11 06:00:00</td></tr>\n",
       "\t<tr><td>2013</td><td>3</td><td>11</td><td>605</td><td>617</td><td>-12</td><td>915</td><td>922</td><td> -7</td><td>UA</td><td>1072</td><td>N73251</td><td>LGA</td><td>IAH</td><td>224</td><td>1416</td><td>6</td><td>17</td><td>2013-03-11 06:00:00</td></tr>\n",
       "\t<tr><td>2013</td><td>3</td><td>11</td><td>606</td><td>615</td><td> -9</td><td>719</td><td>723</td><td> -4</td><td>B6</td><td> 380</td><td>N318JB</td><td>EWR</td><td>BOS</td><td> 46</td><td> 200</td><td>6</td><td>15</td><td>2013-03-11 06:00:00</td></tr>\n",
       "\t<tr><td>2013</td><td>3</td><td>11</td><td>606</td><td>610</td><td> -4</td><td>756</td><td>816</td><td>-20</td><td>DL</td><td>1919</td><td>N324US</td><td>LGA</td><td>MSP</td><td>145</td><td>1020</td><td>6</td><td>10</td><td>2013-03-11 06:00:00</td></tr>\n",
       "\t<tr><td>⋮</td><td>⋮</td><td>⋮</td><td>⋮</td><td>⋮</td><td>⋮</td><td>⋮</td><td>⋮</td><td>⋮</td><td>⋮</td><td>⋮</td><td>⋮</td><td>⋮</td><td>⋮</td><td>⋮</td><td>⋮</td><td>⋮</td><td>⋮</td><td>⋮</td></tr>\n",
       "\t<tr><td>2013</td><td>3</td><td>21</td><td>1027</td><td> 920</td><td>67</td><td>1302</td><td>1240</td><td> 22</td><td>AA</td><td>1589</td><td>N4YNAA</td><td>EWR</td><td>DFW</td><td>199</td><td>1372</td><td> 9</td><td>20</td><td>2013-03-21 09:00:00</td></tr>\n",
       "\t<tr><td>2013</td><td>3</td><td>21</td><td>1032</td><td>1041</td><td>-9</td><td>1137</td><td>1205</td><td>-28</td><td>EV</td><td>4322</td><td>N13132</td><td>EWR</td><td>MKE</td><td>101</td><td> 725</td><td>10</td><td>41</td><td>2013-03-21 10:00:00</td></tr>\n",
       "\t<tr><td>2013</td><td>3</td><td>21</td><td>1032</td><td>1030</td><td> 2</td><td>1205</td><td>1210</td><td> -5</td><td>AA</td><td> 321</td><td>N595AA</td><td>LGA</td><td>ORD</td><td>109</td><td> 733</td><td>10</td><td>30</td><td>2013-03-21 10:00:00</td></tr>\n",
       "\t<tr><td>2013</td><td>3</td><td>21</td><td>1032</td><td>1030</td><td> 2</td><td>1403</td><td>1410</td><td> -7</td><td>VX</td><td>  23</td><td>N848VA</td><td>JFK</td><td>SFO</td><td>359</td><td>2586</td><td>10</td><td>30</td><td>2013-03-21 10:00:00</td></tr>\n",
       "\t<tr><td>2013</td><td>3</td><td>21</td><td>1033</td><td> 915</td><td>78</td><td>1401</td><td>1232</td><td> 89</td><td>DL</td><td>2379</td><td>N361NW</td><td>LGA</td><td>FLL</td><td>163</td><td>1076</td><td> 9</td><td>15</td><td>2013-03-21 09:00:00</td></tr>\n",
       "\t<tr><td>2013</td><td>3</td><td>21</td><td>1033</td><td>1029</td><td> 4</td><td>1311</td><td>1308</td><td>  3</td><td>DL</td><td>1529</td><td>N395DN</td><td>JFK</td><td>LAS</td><td>302</td><td>2248</td><td>10</td><td>29</td><td>2013-03-21 10:00:00</td></tr>\n",
       "\t<tr><td>2013</td><td>3</td><td>21</td><td>1034</td><td>1032</td><td> 2</td><td>1205</td><td>1211</td><td> -6</td><td>EV</td><td>4662</td><td>N14902</td><td>EWR</td><td>RDU</td><td> 74</td><td> 416</td><td>10</td><td>32</td><td>2013-03-21 10:00:00</td></tr>\n",
       "\t<tr><td>2013</td><td>3</td><td>21</td><td>1037</td><td>1034</td><td> 3</td><td>1338</td><td>1350</td><td>-12</td><td>UA</td><td>1735</td><td>N37287</td><td>EWR</td><td>LAX</td><td>335</td><td>2454</td><td>10</td><td>34</td><td>2013-03-21 10:00:00</td></tr>\n",
       "\t<tr><td>2013</td><td>3</td><td>21</td><td>1039</td><td>1048</td><td>-9</td><td>1231</td><td>1301</td><td>-30</td><td>EV</td><td>4227</td><td>N16999</td><td>EWR</td><td>IND</td><td> 96</td><td> 645</td><td>10</td><td>48</td><td>2013-03-21 10:00:00</td></tr>\n",
       "\t<tr><td>2013</td><td>3</td><td>21</td><td>1042</td><td>1047</td><td>-5</td><td>1330</td><td>1340</td><td>-10</td><td>UA</td><td> 602</td><td>N671UA</td><td>EWR</td><td>IAH</td><td>203</td><td>1400</td><td>10</td><td>47</td><td>2013-03-21 10:00:00</td></tr>\n",
       "\t<tr><td>2013</td><td>3</td><td>21</td><td>1048</td><td>1045</td><td> 3</td><td>1342</td><td>1331</td><td> 11</td><td>B6</td><td> 545</td><td>N562JB</td><td>EWR</td><td>PBI</td><td>159</td><td>1023</td><td>10</td><td>45</td><td>2013-03-21 10:00:00</td></tr>\n",
       "\t<tr><td>2013</td><td>3</td><td>21</td><td>1048</td><td>1050</td><td>-2</td><td>1248</td><td>1250</td><td> -2</td><td>MQ</td><td>4589</td><td>N504MQ</td><td>LGA</td><td>DTW</td><td> 83</td><td> 502</td><td>10</td><td>50</td><td>2013-03-21 10:00:00</td></tr>\n",
       "\t<tr><td>2013</td><td>3</td><td>21</td><td>1050</td><td>1035</td><td>15</td><td>1252</td><td>1243</td><td>  9</td><td>EV</td><td>4269</td><td>N11164</td><td>EWR</td><td>CHS</td><td>101</td><td> 628</td><td>10</td><td>35</td><td>2013-03-21 10:00:00</td></tr>\n",
       "\t<tr><td>2013</td><td>3</td><td>21</td><td>1050</td><td>1056</td><td>-6</td><td>1152</td><td>1215</td><td>-23</td><td>EV</td><td>4221</td><td>N13964</td><td>EWR</td><td>BUF</td><td> 48</td><td> 282</td><td>10</td><td>56</td><td>2013-03-21 10:00:00</td></tr>\n",
       "\t<tr><td>2013</td><td>3</td><td>21</td><td>1051</td><td>1055</td><td>-4</td><td>1342</td><td>1342</td><td>  0</td><td>B6</td><td>1183</td><td>N563JB</td><td>JFK</td><td>MCO</td><td>140</td><td> 944</td><td>10</td><td>55</td><td>2013-03-21 10:00:00</td></tr>\n",
       "\t<tr><td>2013</td><td>3</td><td>21</td><td>1052</td><td>1050</td><td> 2</td><td>1402</td><td>1402</td><td>  0</td><td>DL</td><td>1903</td><td>N929DL</td><td>LGA</td><td>SRQ</td><td>149</td><td>1047</td><td>10</td><td>50</td><td>2013-03-21 10:00:00</td></tr>\n",
       "\t<tr><td>2013</td><td>3</td><td>21</td><td>1053</td><td>1030</td><td>23</td><td>1245</td><td>1215</td><td> 30</td><td>MQ</td><td>4471</td><td>N713MQ</td><td>LGA</td><td>RDU</td><td> 79</td><td> 431</td><td>10</td><td>30</td><td>2013-03-21 10:00:00</td></tr>\n",
       "\t<tr><td>2013</td><td>3</td><td>21</td><td>1054</td><td>1100</td><td>-6</td><td>1201</td><td>1209</td><td> -8</td><td>US</td><td>2124</td><td>N967UW</td><td>LGA</td><td>BOS</td><td> 31</td><td> 184</td><td>11</td><td> 0</td><td>2013-03-21 11:00:00</td></tr>\n",
       "\t<tr><td>2013</td><td>3</td><td>21</td><td>1054</td><td>1100</td><td>-6</td><td>1206</td><td>1215</td><td> -9</td><td>MQ</td><td>3792</td><td>N515MQ</td><td>JFK</td><td>DCA</td><td> 53</td><td> 213</td><td>11</td><td> 0</td><td>2013-03-21 11:00:00</td></tr>\n",
       "\t<tr><td>2013</td><td>3</td><td>21</td><td>1054</td><td>1050</td><td> 4</td><td>1359</td><td>1402</td><td> -3</td><td>UA</td><td>1183</td><td>N76504</td><td>EWR</td><td>RSW</td><td>165</td><td>1068</td><td>10</td><td>50</td><td>2013-03-21 10:00:00</td></tr>\n",
       "\t<tr><td>2013</td><td>3</td><td>21</td><td>1055</td><td>1100</td><td>-5</td><td>1347</td><td>1414</td><td>-27</td><td>DL</td><td>1275</td><td>N3760C</td><td>JFK</td><td>SLC</td><td>273</td><td>1990</td><td>11</td><td> 0</td><td>2013-03-21 11:00:00</td></tr>\n",
       "\t<tr><td>2013</td><td>3</td><td>21</td><td>1055</td><td>1100</td><td>-5</td><td>1412</td><td>1410</td><td>  2</td><td>AA</td><td> 739</td><td>N3FBAA</td><td>LGA</td><td>DFW</td><td>199</td><td>1389</td><td>11</td><td> 0</td><td>2013-03-21 11:00:00</td></tr>\n",
       "\t<tr><td>2013</td><td>3</td><td>21</td><td>1056</td><td>1100</td><td>-4</td><td>1225</td><td>1214</td><td> 11</td><td>US</td><td>2171</td><td>N732US</td><td>LGA</td><td>DCA</td><td> 44</td><td> 214</td><td>11</td><td> 0</td><td>2013-03-21 11:00:00</td></tr>\n",
       "\t<tr><td>2013</td><td>3</td><td>21</td><td>1058</td><td>1056</td><td> 2</td><td>1324</td><td>1341</td><td>-17</td><td>UA</td><td> 109</td><td>N38454</td><td>EWR</td><td>LAS</td><td>309</td><td>2227</td><td>10</td><td>56</td><td>2013-03-21 10:00:00</td></tr>\n",
       "\t<tr><td>2013</td><td>3</td><td>21</td><td>1058</td><td>1100</td><td>-2</td><td>1325</td><td>1326</td><td> -1</td><td>UA</td><td>1737</td><td>N14214</td><td>LGA</td><td>DEN</td><td>223</td><td>1620</td><td>11</td><td> 0</td><td>2013-03-21 11:00:00</td></tr>\n",
       "\t<tr><td>2013</td><td>3</td><td>21</td><td>1059</td><td>1100</td><td>-1</td><td>1418</td><td>1414</td><td>  4</td><td>DL</td><td> 930</td><td>N952DL</td><td>LGA</td><td>FLL</td><td>156</td><td>1076</td><td>11</td><td> 0</td><td>2013-03-21 11:00:00</td></tr>\n",
       "\t<tr><td>2013</td><td>3</td><td>21</td><td>1059</td><td>1100</td><td>-1</td><td>1307</td><td>1305</td><td>  2</td><td>DL</td><td>1573</td><td>N314NB</td><td>LGA</td><td>MEM</td><td>142</td><td> 963</td><td>11</td><td> 0</td><td>2013-03-21 11:00:00</td></tr>\n",
       "\t<tr><td>2013</td><td>3</td><td>21</td><td>1059</td><td>1100</td><td>-1</td><td>1343</td><td>1331</td><td> 12</td><td>DL</td><td>1647</td><td>N635DL</td><td>LGA</td><td>ATL</td><td>109</td><td> 762</td><td>11</td><td> 0</td><td>2013-03-21 11:00:00</td></tr>\n",
       "\t<tr><td>2013</td><td>3</td><td>21</td><td>1059</td><td>1106</td><td>-7</td><td>1409</td><td>1431</td><td>-22</td><td>UA</td><td> 642</td><td>N508UA</td><td>JFK</td><td>SFO</td><td>348</td><td>2586</td><td>11</td><td> 6</td><td>2013-03-21 11:00:00</td></tr>\n",
       "\t<tr><td>2013</td><td>3</td><td>21</td><td>1100</td><td>1100</td><td> 0</td><td>1358</td><td>1358</td><td>  0</td><td>UA</td><td>1143</td><td>N76503</td><td>EWR</td><td>PBI</td><td>156</td><td>1023</td><td>11</td><td> 0</td><td>2013-03-21 11:00:00</td></tr>\n",
       "</tbody>\n",
       "</table>\n"
      ],
      "text/latex": [
       "A tibble: 3450 × 19\n",
       "\\begin{tabular}{lllllllllllllllllll}\n",
       " year & month & day & dep\\_time & sched\\_dep\\_time & dep\\_delay & arr\\_time & sched\\_arr\\_time & arr\\_delay & carrier & flight & tailnum & origin & dest & air\\_time & distance & hour & minute & time\\_hour\\\\\n",
       " <int> & <int> & <int> & <int> & <int> & <dbl> & <int> & <int> & <dbl> & <chr> & <int> & <chr> & <chr> & <chr> & <dbl> & <dbl> & <dbl> & <dbl> & <dttm>\\\\\n",
       "\\hline\n",
       "\t 2013 & 3 & 11 & 537 & 540 &  -3 & 819 & 850 & -31 & AA & 1141 & N5DRAA & JFK & MIA & 138 & 1089 & 5 & 40 & 2013-03-11 05:00:00\\\\\n",
       "\t 2013 & 3 & 11 & 539 & 545 &  -6 & 854 & 923 & -29 & B6 &  725 & N640JB & JFK & BQN & 175 & 1576 & 5 & 45 & 2013-03-11 05:00:00\\\\\n",
       "\t 2013 & 3 & 11 & 551 & 600 &  -9 & 654 & 715 & -21 & EV & 5716 & N829AS & JFK & IAD &  44 &  228 & 6 &  0 & 2013-03-11 06:00:00\\\\\n",
       "\t 2013 & 3 & 11 & 551 & 600 &  -9 & 650 & 703 & -13 & US & 2114 & N702UW & LGA & BOS &  42 &  184 & 6 &  0 & 2013-03-11 06:00:00\\\\\n",
       "\t 2013 & 3 & 11 & 552 & 600 &  -8 & 920 & 925 &  -5 & UA &  303 & N508UA & JFK & SFO & 356 & 2586 & 6 &  0 & 2013-03-11 06:00:00\\\\\n",
       "\t 2013 & 3 & 11 & 553 & 600 &  -7 & 712 & 733 & -21 & UA &  997 & N438UA & LGA & ORD & 118 &  733 & 6 &  0 & 2013-03-11 06:00:00\\\\\n",
       "\t 2013 & 3 & 11 & 554 & 600 &  -6 & 831 & 849 & -18 & B6 &  145 & N796JB & JFK & PBI & 141 & 1028 & 6 &  0 & 2013-03-11 06:00:00\\\\\n",
       "\t 2013 & 3 & 11 & 555 & 600 &  -5 & 823 & 849 & -26 & B6 &   79 & N746JB & JFK & MCO & 131 &  944 & 6 &  0 & 2013-03-11 06:00:00\\\\\n",
       "\t 2013 & 3 & 11 & 555 & 600 &  -5 & 817 & 825 &  -8 & MQ & 4650 & N516MQ & LGA & ATL & 121 &  762 & 6 &  0 & 2013-03-11 06:00:00\\\\\n",
       "\t 2013 & 3 & 11 & 555 & 605 & -10 & 800 & 805 &  -5 & MQ & 4401 & N737MQ & LGA & DTW &  93 &  502 & 6 &  5 & 2013-03-11 06:00:00\\\\\n",
       "\t 2013 & 3 & 11 & 556 & 600 &  -4 & 903 & 910 &  -7 & AA &  707 & N3EHAA & LGA & DFW & 226 & 1389 & 6 &  0 & 2013-03-11 06:00:00\\\\\n",
       "\t 2013 & 3 & 11 & 556 & 600 &  -4 & 709 & 723 & -14 & B6 &  208 & N192JB & JFK & BUF &  57 &  301 & 6 &  0 & 2013-03-11 06:00:00\\\\\n",
       "\t 2013 & 3 & 11 & 556 & 600 &  -4 & 848 & 901 & -13 & B6 &  371 & N598JB & LGA & FLL & 146 & 1076 & 6 &  0 & 2013-03-11 06:00:00\\\\\n",
       "\t 2013 & 3 & 11 & 556 & 600 &  -4 & 828 & 830 &  -2 & DL &  461 & N659DL & LGA & ATL & 125 &  762 & 6 &  0 & 2013-03-11 06:00:00\\\\\n",
       "\t 2013 & 3 & 11 & 556 & 600 &  -4 & 657 & 659 &  -2 & US & 2161 & N765US & LGA & DCA &  45 &  214 & 6 &  0 & 2013-03-11 06:00:00\\\\\n",
       "\t 2013 & 3 & 11 & 557 & 600 &  -3 & 813 & 805 &   8 & EV & 5020 & N398CA & LGA & MEM & 149 &  963 & 6 &  0 & 2013-03-11 06:00:00\\\\\n",
       "\t 2013 & 3 & 11 & 557 & 605 &  -8 & 849 & 907 & -18 & B6 &  501 & N637JB & JFK & FLL & 145 & 1069 & 6 &  5 & 2013-03-11 06:00:00\\\\\n",
       "\t 2013 & 3 & 11 & 558 & 600 &  -2 & 710 & 724 & -14 & EV & 5689 & N833AS & LGA & IAD &  45 &  229 & 6 &  0 & 2013-03-11 06:00:00\\\\\n",
       "\t 2013 & 3 & 11 & 558 & 600 &  -2 & 839 & 856 & -17 & B6 &  507 & N562JB & EWR & FLL & 143 & 1065 & 6 &  0 & 2013-03-11 06:00:00\\\\\n",
       "\t 2013 & 3 & 11 & 558 & 600 &  -2 & 847 & 906 & -19 & UA & 1431 & N17719 & EWR & DFW & 217 & 1372 & 6 &  0 & 2013-03-11 06:00:00\\\\\n",
       "\t 2013 & 3 & 11 & 600 & 600 &   0 & 731 & 745 & -14 & AA &  301 & N3AXAA & LGA & ORD & 123 &  733 & 6 &  0 & 2013-03-11 06:00:00\\\\\n",
       "\t 2013 & 3 & 11 & 600 & 600 &   0 & 848 & 911 & -23 & UA & 1077 & N39297 & EWR & MIA & 148 & 1085 & 6 &  0 & 2013-03-11 06:00:00\\\\\n",
       "\t 2013 & 3 & 11 & 601 & 600 &   1 & 843 & 815 &  28 & FL &  345 & N330AT & LGA & ATL & 133 &  762 & 6 &  0 & 2013-03-11 06:00:00\\\\\n",
       "\t 2013 & 3 & 11 & 602 & 610 &  -8 & 915 & 925 & -10 & UA &  797 & N557UA & JFK & LAX & 341 & 2475 & 6 & 10 & 2013-03-11 06:00:00\\\\\n",
       "\t 2013 & 3 & 11 & 603 & 610 &  -7 & 814 & 855 & -41 & UA &  511 & N595UA & EWR & LAS & 292 & 2227 & 6 & 10 & 2013-03-11 06:00:00\\\\\n",
       "\t 2013 & 3 & 11 & 604 & 610 &  -6 & 711 & 726 & -15 & EV & 4354 & N17984 & EWR & IAD &  43 &  212 & 6 & 10 & 2013-03-11 06:00:00\\\\\n",
       "\t 2013 & 3 & 11 & 604 & 602 &   2 & 718 & 726 &  -8 & EV & 4608 & N13955 & EWR & MKE & 114 &  725 & 6 &  2 & 2013-03-11 06:00:00\\\\\n",
       "\t 2013 & 3 & 11 & 605 & 617 & -12 & 915 & 922 &  -7 & UA & 1072 & N73251 & LGA & IAH & 224 & 1416 & 6 & 17 & 2013-03-11 06:00:00\\\\\n",
       "\t 2013 & 3 & 11 & 606 & 615 &  -9 & 719 & 723 &  -4 & B6 &  380 & N318JB & EWR & BOS &  46 &  200 & 6 & 15 & 2013-03-11 06:00:00\\\\\n",
       "\t 2013 & 3 & 11 & 606 & 610 &  -4 & 756 & 816 & -20 & DL & 1919 & N324US & LGA & MSP & 145 & 1020 & 6 & 10 & 2013-03-11 06:00:00\\\\\n",
       "\t ⋮ & ⋮ & ⋮ & ⋮ & ⋮ & ⋮ & ⋮ & ⋮ & ⋮ & ⋮ & ⋮ & ⋮ & ⋮ & ⋮ & ⋮ & ⋮ & ⋮ & ⋮ & ⋮\\\\\n",
       "\t 2013 & 3 & 21 & 1027 &  920 & 67 & 1302 & 1240 &  22 & AA & 1589 & N4YNAA & EWR & DFW & 199 & 1372 &  9 & 20 & 2013-03-21 09:00:00\\\\\n",
       "\t 2013 & 3 & 21 & 1032 & 1041 & -9 & 1137 & 1205 & -28 & EV & 4322 & N13132 & EWR & MKE & 101 &  725 & 10 & 41 & 2013-03-21 10:00:00\\\\\n",
       "\t 2013 & 3 & 21 & 1032 & 1030 &  2 & 1205 & 1210 &  -5 & AA &  321 & N595AA & LGA & ORD & 109 &  733 & 10 & 30 & 2013-03-21 10:00:00\\\\\n",
       "\t 2013 & 3 & 21 & 1032 & 1030 &  2 & 1403 & 1410 &  -7 & VX &   23 & N848VA & JFK & SFO & 359 & 2586 & 10 & 30 & 2013-03-21 10:00:00\\\\\n",
       "\t 2013 & 3 & 21 & 1033 &  915 & 78 & 1401 & 1232 &  89 & DL & 2379 & N361NW & LGA & FLL & 163 & 1076 &  9 & 15 & 2013-03-21 09:00:00\\\\\n",
       "\t 2013 & 3 & 21 & 1033 & 1029 &  4 & 1311 & 1308 &   3 & DL & 1529 & N395DN & JFK & LAS & 302 & 2248 & 10 & 29 & 2013-03-21 10:00:00\\\\\n",
       "\t 2013 & 3 & 21 & 1034 & 1032 &  2 & 1205 & 1211 &  -6 & EV & 4662 & N14902 & EWR & RDU &  74 &  416 & 10 & 32 & 2013-03-21 10:00:00\\\\\n",
       "\t 2013 & 3 & 21 & 1037 & 1034 &  3 & 1338 & 1350 & -12 & UA & 1735 & N37287 & EWR & LAX & 335 & 2454 & 10 & 34 & 2013-03-21 10:00:00\\\\\n",
       "\t 2013 & 3 & 21 & 1039 & 1048 & -9 & 1231 & 1301 & -30 & EV & 4227 & N16999 & EWR & IND &  96 &  645 & 10 & 48 & 2013-03-21 10:00:00\\\\\n",
       "\t 2013 & 3 & 21 & 1042 & 1047 & -5 & 1330 & 1340 & -10 & UA &  602 & N671UA & EWR & IAH & 203 & 1400 & 10 & 47 & 2013-03-21 10:00:00\\\\\n",
       "\t 2013 & 3 & 21 & 1048 & 1045 &  3 & 1342 & 1331 &  11 & B6 &  545 & N562JB & EWR & PBI & 159 & 1023 & 10 & 45 & 2013-03-21 10:00:00\\\\\n",
       "\t 2013 & 3 & 21 & 1048 & 1050 & -2 & 1248 & 1250 &  -2 & MQ & 4589 & N504MQ & LGA & DTW &  83 &  502 & 10 & 50 & 2013-03-21 10:00:00\\\\\n",
       "\t 2013 & 3 & 21 & 1050 & 1035 & 15 & 1252 & 1243 &   9 & EV & 4269 & N11164 & EWR & CHS & 101 &  628 & 10 & 35 & 2013-03-21 10:00:00\\\\\n",
       "\t 2013 & 3 & 21 & 1050 & 1056 & -6 & 1152 & 1215 & -23 & EV & 4221 & N13964 & EWR & BUF &  48 &  282 & 10 & 56 & 2013-03-21 10:00:00\\\\\n",
       "\t 2013 & 3 & 21 & 1051 & 1055 & -4 & 1342 & 1342 &   0 & B6 & 1183 & N563JB & JFK & MCO & 140 &  944 & 10 & 55 & 2013-03-21 10:00:00\\\\\n",
       "\t 2013 & 3 & 21 & 1052 & 1050 &  2 & 1402 & 1402 &   0 & DL & 1903 & N929DL & LGA & SRQ & 149 & 1047 & 10 & 50 & 2013-03-21 10:00:00\\\\\n",
       "\t 2013 & 3 & 21 & 1053 & 1030 & 23 & 1245 & 1215 &  30 & MQ & 4471 & N713MQ & LGA & RDU &  79 &  431 & 10 & 30 & 2013-03-21 10:00:00\\\\\n",
       "\t 2013 & 3 & 21 & 1054 & 1100 & -6 & 1201 & 1209 &  -8 & US & 2124 & N967UW & LGA & BOS &  31 &  184 & 11 &  0 & 2013-03-21 11:00:00\\\\\n",
       "\t 2013 & 3 & 21 & 1054 & 1100 & -6 & 1206 & 1215 &  -9 & MQ & 3792 & N515MQ & JFK & DCA &  53 &  213 & 11 &  0 & 2013-03-21 11:00:00\\\\\n",
       "\t 2013 & 3 & 21 & 1054 & 1050 &  4 & 1359 & 1402 &  -3 & UA & 1183 & N76504 & EWR & RSW & 165 & 1068 & 10 & 50 & 2013-03-21 10:00:00\\\\\n",
       "\t 2013 & 3 & 21 & 1055 & 1100 & -5 & 1347 & 1414 & -27 & DL & 1275 & N3760C & JFK & SLC & 273 & 1990 & 11 &  0 & 2013-03-21 11:00:00\\\\\n",
       "\t 2013 & 3 & 21 & 1055 & 1100 & -5 & 1412 & 1410 &   2 & AA &  739 & N3FBAA & LGA & DFW & 199 & 1389 & 11 &  0 & 2013-03-21 11:00:00\\\\\n",
       "\t 2013 & 3 & 21 & 1056 & 1100 & -4 & 1225 & 1214 &  11 & US & 2171 & N732US & LGA & DCA &  44 &  214 & 11 &  0 & 2013-03-21 11:00:00\\\\\n",
       "\t 2013 & 3 & 21 & 1058 & 1056 &  2 & 1324 & 1341 & -17 & UA &  109 & N38454 & EWR & LAS & 309 & 2227 & 10 & 56 & 2013-03-21 10:00:00\\\\\n",
       "\t 2013 & 3 & 21 & 1058 & 1100 & -2 & 1325 & 1326 &  -1 & UA & 1737 & N14214 & LGA & DEN & 223 & 1620 & 11 &  0 & 2013-03-21 11:00:00\\\\\n",
       "\t 2013 & 3 & 21 & 1059 & 1100 & -1 & 1418 & 1414 &   4 & DL &  930 & N952DL & LGA & FLL & 156 & 1076 & 11 &  0 & 2013-03-21 11:00:00\\\\\n",
       "\t 2013 & 3 & 21 & 1059 & 1100 & -1 & 1307 & 1305 &   2 & DL & 1573 & N314NB & LGA & MEM & 142 &  963 & 11 &  0 & 2013-03-21 11:00:00\\\\\n",
       "\t 2013 & 3 & 21 & 1059 & 1100 & -1 & 1343 & 1331 &  12 & DL & 1647 & N635DL & LGA & ATL & 109 &  762 & 11 &  0 & 2013-03-21 11:00:00\\\\\n",
       "\t 2013 & 3 & 21 & 1059 & 1106 & -7 & 1409 & 1431 & -22 & UA &  642 & N508UA & JFK & SFO & 348 & 2586 & 11 &  6 & 2013-03-21 11:00:00\\\\\n",
       "\t 2013 & 3 & 21 & 1100 & 1100 &  0 & 1358 & 1358 &   0 & UA & 1143 & N76503 & EWR & PBI & 156 & 1023 & 11 &  0 & 2013-03-21 11:00:00\\\\\n",
       "\\end{tabular}\n"
      ],
      "text/markdown": [
       "\n",
       "A tibble: 3450 × 19\n",
       "\n",
       "| year &lt;int&gt; | month &lt;int&gt; | day &lt;int&gt; | dep_time &lt;int&gt; | sched_dep_time &lt;int&gt; | dep_delay &lt;dbl&gt; | arr_time &lt;int&gt; | sched_arr_time &lt;int&gt; | arr_delay &lt;dbl&gt; | carrier &lt;chr&gt; | flight &lt;int&gt; | tailnum &lt;chr&gt; | origin &lt;chr&gt; | dest &lt;chr&gt; | air_time &lt;dbl&gt; | distance &lt;dbl&gt; | hour &lt;dbl&gt; | minute &lt;dbl&gt; | time_hour &lt;dttm&gt; |\n",
       "|---|---|---|---|---|---|---|---|---|---|---|---|---|---|---|---|---|---|---|\n",
       "| 2013 | 3 | 11 | 537 | 540 |  -3 | 819 | 850 | -31 | AA | 1141 | N5DRAA | JFK | MIA | 138 | 1089 | 5 | 40 | 2013-03-11 05:00:00 |\n",
       "| 2013 | 3 | 11 | 539 | 545 |  -6 | 854 | 923 | -29 | B6 |  725 | N640JB | JFK | BQN | 175 | 1576 | 5 | 45 | 2013-03-11 05:00:00 |\n",
       "| 2013 | 3 | 11 | 551 | 600 |  -9 | 654 | 715 | -21 | EV | 5716 | N829AS | JFK | IAD |  44 |  228 | 6 |  0 | 2013-03-11 06:00:00 |\n",
       "| 2013 | 3 | 11 | 551 | 600 |  -9 | 650 | 703 | -13 | US | 2114 | N702UW | LGA | BOS |  42 |  184 | 6 |  0 | 2013-03-11 06:00:00 |\n",
       "| 2013 | 3 | 11 | 552 | 600 |  -8 | 920 | 925 |  -5 | UA |  303 | N508UA | JFK | SFO | 356 | 2586 | 6 |  0 | 2013-03-11 06:00:00 |\n",
       "| 2013 | 3 | 11 | 553 | 600 |  -7 | 712 | 733 | -21 | UA |  997 | N438UA | LGA | ORD | 118 |  733 | 6 |  0 | 2013-03-11 06:00:00 |\n",
       "| 2013 | 3 | 11 | 554 | 600 |  -6 | 831 | 849 | -18 | B6 |  145 | N796JB | JFK | PBI | 141 | 1028 | 6 |  0 | 2013-03-11 06:00:00 |\n",
       "| 2013 | 3 | 11 | 555 | 600 |  -5 | 823 | 849 | -26 | B6 |   79 | N746JB | JFK | MCO | 131 |  944 | 6 |  0 | 2013-03-11 06:00:00 |\n",
       "| 2013 | 3 | 11 | 555 | 600 |  -5 | 817 | 825 |  -8 | MQ | 4650 | N516MQ | LGA | ATL | 121 |  762 | 6 |  0 | 2013-03-11 06:00:00 |\n",
       "| 2013 | 3 | 11 | 555 | 605 | -10 | 800 | 805 |  -5 | MQ | 4401 | N737MQ | LGA | DTW |  93 |  502 | 6 |  5 | 2013-03-11 06:00:00 |\n",
       "| 2013 | 3 | 11 | 556 | 600 |  -4 | 903 | 910 |  -7 | AA |  707 | N3EHAA | LGA | DFW | 226 | 1389 | 6 |  0 | 2013-03-11 06:00:00 |\n",
       "| 2013 | 3 | 11 | 556 | 600 |  -4 | 709 | 723 | -14 | B6 |  208 | N192JB | JFK | BUF |  57 |  301 | 6 |  0 | 2013-03-11 06:00:00 |\n",
       "| 2013 | 3 | 11 | 556 | 600 |  -4 | 848 | 901 | -13 | B6 |  371 | N598JB | LGA | FLL | 146 | 1076 | 6 |  0 | 2013-03-11 06:00:00 |\n",
       "| 2013 | 3 | 11 | 556 | 600 |  -4 | 828 | 830 |  -2 | DL |  461 | N659DL | LGA | ATL | 125 |  762 | 6 |  0 | 2013-03-11 06:00:00 |\n",
       "| 2013 | 3 | 11 | 556 | 600 |  -4 | 657 | 659 |  -2 | US | 2161 | N765US | LGA | DCA |  45 |  214 | 6 |  0 | 2013-03-11 06:00:00 |\n",
       "| 2013 | 3 | 11 | 557 | 600 |  -3 | 813 | 805 |   8 | EV | 5020 | N398CA | LGA | MEM | 149 |  963 | 6 |  0 | 2013-03-11 06:00:00 |\n",
       "| 2013 | 3 | 11 | 557 | 605 |  -8 | 849 | 907 | -18 | B6 |  501 | N637JB | JFK | FLL | 145 | 1069 | 6 |  5 | 2013-03-11 06:00:00 |\n",
       "| 2013 | 3 | 11 | 558 | 600 |  -2 | 710 | 724 | -14 | EV | 5689 | N833AS | LGA | IAD |  45 |  229 | 6 |  0 | 2013-03-11 06:00:00 |\n",
       "| 2013 | 3 | 11 | 558 | 600 |  -2 | 839 | 856 | -17 | B6 |  507 | N562JB | EWR | FLL | 143 | 1065 | 6 |  0 | 2013-03-11 06:00:00 |\n",
       "| 2013 | 3 | 11 | 558 | 600 |  -2 | 847 | 906 | -19 | UA | 1431 | N17719 | EWR | DFW | 217 | 1372 | 6 |  0 | 2013-03-11 06:00:00 |\n",
       "| 2013 | 3 | 11 | 600 | 600 |   0 | 731 | 745 | -14 | AA |  301 | N3AXAA | LGA | ORD | 123 |  733 | 6 |  0 | 2013-03-11 06:00:00 |\n",
       "| 2013 | 3 | 11 | 600 | 600 |   0 | 848 | 911 | -23 | UA | 1077 | N39297 | EWR | MIA | 148 | 1085 | 6 |  0 | 2013-03-11 06:00:00 |\n",
       "| 2013 | 3 | 11 | 601 | 600 |   1 | 843 | 815 |  28 | FL |  345 | N330AT | LGA | ATL | 133 |  762 | 6 |  0 | 2013-03-11 06:00:00 |\n",
       "| 2013 | 3 | 11 | 602 | 610 |  -8 | 915 | 925 | -10 | UA |  797 | N557UA | JFK | LAX | 341 | 2475 | 6 | 10 | 2013-03-11 06:00:00 |\n",
       "| 2013 | 3 | 11 | 603 | 610 |  -7 | 814 | 855 | -41 | UA |  511 | N595UA | EWR | LAS | 292 | 2227 | 6 | 10 | 2013-03-11 06:00:00 |\n",
       "| 2013 | 3 | 11 | 604 | 610 |  -6 | 711 | 726 | -15 | EV | 4354 | N17984 | EWR | IAD |  43 |  212 | 6 | 10 | 2013-03-11 06:00:00 |\n",
       "| 2013 | 3 | 11 | 604 | 602 |   2 | 718 | 726 |  -8 | EV | 4608 | N13955 | EWR | MKE | 114 |  725 | 6 |  2 | 2013-03-11 06:00:00 |\n",
       "| 2013 | 3 | 11 | 605 | 617 | -12 | 915 | 922 |  -7 | UA | 1072 | N73251 | LGA | IAH | 224 | 1416 | 6 | 17 | 2013-03-11 06:00:00 |\n",
       "| 2013 | 3 | 11 | 606 | 615 |  -9 | 719 | 723 |  -4 | B6 |  380 | N318JB | EWR | BOS |  46 |  200 | 6 | 15 | 2013-03-11 06:00:00 |\n",
       "| 2013 | 3 | 11 | 606 | 610 |  -4 | 756 | 816 | -20 | DL | 1919 | N324US | LGA | MSP | 145 | 1020 | 6 | 10 | 2013-03-11 06:00:00 |\n",
       "| ⋮ | ⋮ | ⋮ | ⋮ | ⋮ | ⋮ | ⋮ | ⋮ | ⋮ | ⋮ | ⋮ | ⋮ | ⋮ | ⋮ | ⋮ | ⋮ | ⋮ | ⋮ | ⋮ |\n",
       "| 2013 | 3 | 21 | 1027 |  920 | 67 | 1302 | 1240 |  22 | AA | 1589 | N4YNAA | EWR | DFW | 199 | 1372 |  9 | 20 | 2013-03-21 09:00:00 |\n",
       "| 2013 | 3 | 21 | 1032 | 1041 | -9 | 1137 | 1205 | -28 | EV | 4322 | N13132 | EWR | MKE | 101 |  725 | 10 | 41 | 2013-03-21 10:00:00 |\n",
       "| 2013 | 3 | 21 | 1032 | 1030 |  2 | 1205 | 1210 |  -5 | AA |  321 | N595AA | LGA | ORD | 109 |  733 | 10 | 30 | 2013-03-21 10:00:00 |\n",
       "| 2013 | 3 | 21 | 1032 | 1030 |  2 | 1403 | 1410 |  -7 | VX |   23 | N848VA | JFK | SFO | 359 | 2586 | 10 | 30 | 2013-03-21 10:00:00 |\n",
       "| 2013 | 3 | 21 | 1033 |  915 | 78 | 1401 | 1232 |  89 | DL | 2379 | N361NW | LGA | FLL | 163 | 1076 |  9 | 15 | 2013-03-21 09:00:00 |\n",
       "| 2013 | 3 | 21 | 1033 | 1029 |  4 | 1311 | 1308 |   3 | DL | 1529 | N395DN | JFK | LAS | 302 | 2248 | 10 | 29 | 2013-03-21 10:00:00 |\n",
       "| 2013 | 3 | 21 | 1034 | 1032 |  2 | 1205 | 1211 |  -6 | EV | 4662 | N14902 | EWR | RDU |  74 |  416 | 10 | 32 | 2013-03-21 10:00:00 |\n",
       "| 2013 | 3 | 21 | 1037 | 1034 |  3 | 1338 | 1350 | -12 | UA | 1735 | N37287 | EWR | LAX | 335 | 2454 | 10 | 34 | 2013-03-21 10:00:00 |\n",
       "| 2013 | 3 | 21 | 1039 | 1048 | -9 | 1231 | 1301 | -30 | EV | 4227 | N16999 | EWR | IND |  96 |  645 | 10 | 48 | 2013-03-21 10:00:00 |\n",
       "| 2013 | 3 | 21 | 1042 | 1047 | -5 | 1330 | 1340 | -10 | UA |  602 | N671UA | EWR | IAH | 203 | 1400 | 10 | 47 | 2013-03-21 10:00:00 |\n",
       "| 2013 | 3 | 21 | 1048 | 1045 |  3 | 1342 | 1331 |  11 | B6 |  545 | N562JB | EWR | PBI | 159 | 1023 | 10 | 45 | 2013-03-21 10:00:00 |\n",
       "| 2013 | 3 | 21 | 1048 | 1050 | -2 | 1248 | 1250 |  -2 | MQ | 4589 | N504MQ | LGA | DTW |  83 |  502 | 10 | 50 | 2013-03-21 10:00:00 |\n",
       "| 2013 | 3 | 21 | 1050 | 1035 | 15 | 1252 | 1243 |   9 | EV | 4269 | N11164 | EWR | CHS | 101 |  628 | 10 | 35 | 2013-03-21 10:00:00 |\n",
       "| 2013 | 3 | 21 | 1050 | 1056 | -6 | 1152 | 1215 | -23 | EV | 4221 | N13964 | EWR | BUF |  48 |  282 | 10 | 56 | 2013-03-21 10:00:00 |\n",
       "| 2013 | 3 | 21 | 1051 | 1055 | -4 | 1342 | 1342 |   0 | B6 | 1183 | N563JB | JFK | MCO | 140 |  944 | 10 | 55 | 2013-03-21 10:00:00 |\n",
       "| 2013 | 3 | 21 | 1052 | 1050 |  2 | 1402 | 1402 |   0 | DL | 1903 | N929DL | LGA | SRQ | 149 | 1047 | 10 | 50 | 2013-03-21 10:00:00 |\n",
       "| 2013 | 3 | 21 | 1053 | 1030 | 23 | 1245 | 1215 |  30 | MQ | 4471 | N713MQ | LGA | RDU |  79 |  431 | 10 | 30 | 2013-03-21 10:00:00 |\n",
       "| 2013 | 3 | 21 | 1054 | 1100 | -6 | 1201 | 1209 |  -8 | US | 2124 | N967UW | LGA | BOS |  31 |  184 | 11 |  0 | 2013-03-21 11:00:00 |\n",
       "| 2013 | 3 | 21 | 1054 | 1100 | -6 | 1206 | 1215 |  -9 | MQ | 3792 | N515MQ | JFK | DCA |  53 |  213 | 11 |  0 | 2013-03-21 11:00:00 |\n",
       "| 2013 | 3 | 21 | 1054 | 1050 |  4 | 1359 | 1402 |  -3 | UA | 1183 | N76504 | EWR | RSW | 165 | 1068 | 10 | 50 | 2013-03-21 10:00:00 |\n",
       "| 2013 | 3 | 21 | 1055 | 1100 | -5 | 1347 | 1414 | -27 | DL | 1275 | N3760C | JFK | SLC | 273 | 1990 | 11 |  0 | 2013-03-21 11:00:00 |\n",
       "| 2013 | 3 | 21 | 1055 | 1100 | -5 | 1412 | 1410 |   2 | AA |  739 | N3FBAA | LGA | DFW | 199 | 1389 | 11 |  0 | 2013-03-21 11:00:00 |\n",
       "| 2013 | 3 | 21 | 1056 | 1100 | -4 | 1225 | 1214 |  11 | US | 2171 | N732US | LGA | DCA |  44 |  214 | 11 |  0 | 2013-03-21 11:00:00 |\n",
       "| 2013 | 3 | 21 | 1058 | 1056 |  2 | 1324 | 1341 | -17 | UA |  109 | N38454 | EWR | LAS | 309 | 2227 | 10 | 56 | 2013-03-21 10:00:00 |\n",
       "| 2013 | 3 | 21 | 1058 | 1100 | -2 | 1325 | 1326 |  -1 | UA | 1737 | N14214 | LGA | DEN | 223 | 1620 | 11 |  0 | 2013-03-21 11:00:00 |\n",
       "| 2013 | 3 | 21 | 1059 | 1100 | -1 | 1418 | 1414 |   4 | DL |  930 | N952DL | LGA | FLL | 156 | 1076 | 11 |  0 | 2013-03-21 11:00:00 |\n",
       "| 2013 | 3 | 21 | 1059 | 1100 | -1 | 1307 | 1305 |   2 | DL | 1573 | N314NB | LGA | MEM | 142 |  963 | 11 |  0 | 2013-03-21 11:00:00 |\n",
       "| 2013 | 3 | 21 | 1059 | 1100 | -1 | 1343 | 1331 |  12 | DL | 1647 | N635DL | LGA | ATL | 109 |  762 | 11 |  0 | 2013-03-21 11:00:00 |\n",
       "| 2013 | 3 | 21 | 1059 | 1106 | -7 | 1409 | 1431 | -22 | UA |  642 | N508UA | JFK | SFO | 348 | 2586 | 11 |  6 | 2013-03-21 11:00:00 |\n",
       "| 2013 | 3 | 21 | 1100 | 1100 |  0 | 1358 | 1358 |   0 | UA | 1143 | N76503 | EWR | PBI | 156 | 1023 | 11 |  0 | 2013-03-21 11:00:00 |\n",
       "\n"
      ],
      "text/plain": [
       "     year month day dep_time sched_dep_time dep_delay arr_time sched_arr_time\n",
       "1    2013 3     11  537      540             -3       819      850           \n",
       "2    2013 3     11  539      545             -6       854      923           \n",
       "3    2013 3     11  551      600             -9       654      715           \n",
       "4    2013 3     11  551      600             -9       650      703           \n",
       "5    2013 3     11  552      600             -8       920      925           \n",
       "6    2013 3     11  553      600             -7       712      733           \n",
       "7    2013 3     11  554      600             -6       831      849           \n",
       "8    2013 3     11  555      600             -5       823      849           \n",
       "9    2013 3     11  555      600             -5       817      825           \n",
       "10   2013 3     11  555      605            -10       800      805           \n",
       "11   2013 3     11  556      600             -4       903      910           \n",
       "12   2013 3     11  556      600             -4       709      723           \n",
       "13   2013 3     11  556      600             -4       848      901           \n",
       "14   2013 3     11  556      600             -4       828      830           \n",
       "15   2013 3     11  556      600             -4       657      659           \n",
       "16   2013 3     11  557      600             -3       813      805           \n",
       "17   2013 3     11  557      605             -8       849      907           \n",
       "18   2013 3     11  558      600             -2       710      724           \n",
       "19   2013 3     11  558      600             -2       839      856           \n",
       "20   2013 3     11  558      600             -2       847      906           \n",
       "21   2013 3     11  600      600              0       731      745           \n",
       "22   2013 3     11  600      600              0       848      911           \n",
       "23   2013 3     11  601      600              1       843      815           \n",
       "24   2013 3     11  602      610             -8       915      925           \n",
       "25   2013 3     11  603      610             -7       814      855           \n",
       "26   2013 3     11  604      610             -6       711      726           \n",
       "27   2013 3     11  604      602              2       718      726           \n",
       "28   2013 3     11  605      617            -12       915      922           \n",
       "29   2013 3     11  606      615             -9       719      723           \n",
       "30   2013 3     11  606      610             -4       756      816           \n",
       "⋮    ⋮    ⋮     ⋮   ⋮        ⋮              ⋮         ⋮        ⋮             \n",
       "3421 2013 3     21  1027      920           67        1302     1240          \n",
       "3422 2013 3     21  1032     1041           -9        1137     1205          \n",
       "3423 2013 3     21  1032     1030            2        1205     1210          \n",
       "3424 2013 3     21  1032     1030            2        1403     1410          \n",
       "3425 2013 3     21  1033      915           78        1401     1232          \n",
       "3426 2013 3     21  1033     1029            4        1311     1308          \n",
       "3427 2013 3     21  1034     1032            2        1205     1211          \n",
       "3428 2013 3     21  1037     1034            3        1338     1350          \n",
       "3429 2013 3     21  1039     1048           -9        1231     1301          \n",
       "3430 2013 3     21  1042     1047           -5        1330     1340          \n",
       "3431 2013 3     21  1048     1045            3        1342     1331          \n",
       "3432 2013 3     21  1048     1050           -2        1248     1250          \n",
       "3433 2013 3     21  1050     1035           15        1252     1243          \n",
       "3434 2013 3     21  1050     1056           -6        1152     1215          \n",
       "3435 2013 3     21  1051     1055           -4        1342     1342          \n",
       "3436 2013 3     21  1052     1050            2        1402     1402          \n",
       "3437 2013 3     21  1053     1030           23        1245     1215          \n",
       "3438 2013 3     21  1054     1100           -6        1201     1209          \n",
       "3439 2013 3     21  1054     1100           -6        1206     1215          \n",
       "3440 2013 3     21  1054     1050            4        1359     1402          \n",
       "3441 2013 3     21  1055     1100           -5        1347     1414          \n",
       "3442 2013 3     21  1055     1100           -5        1412     1410          \n",
       "3443 2013 3     21  1056     1100           -4        1225     1214          \n",
       "3444 2013 3     21  1058     1056            2        1324     1341          \n",
       "3445 2013 3     21  1058     1100           -2        1325     1326          \n",
       "3446 2013 3     21  1059     1100           -1        1418     1414          \n",
       "3447 2013 3     21  1059     1100           -1        1307     1305          \n",
       "3448 2013 3     21  1059     1100           -1        1343     1331          \n",
       "3449 2013 3     21  1059     1106           -7        1409     1431          \n",
       "3450 2013 3     21  1100     1100            0        1358     1358          \n",
       "     arr_delay carrier flight tailnum origin dest air_time distance hour minute\n",
       "1    -31       AA      1141   N5DRAA  JFK    MIA  138      1089     5    40    \n",
       "2    -29       B6       725   N640JB  JFK    BQN  175      1576     5    45    \n",
       "3    -21       EV      5716   N829AS  JFK    IAD   44       228     6     0    \n",
       "4    -13       US      2114   N702UW  LGA    BOS   42       184     6     0    \n",
       "5     -5       UA       303   N508UA  JFK    SFO  356      2586     6     0    \n",
       "6    -21       UA       997   N438UA  LGA    ORD  118       733     6     0    \n",
       "7    -18       B6       145   N796JB  JFK    PBI  141      1028     6     0    \n",
       "8    -26       B6        79   N746JB  JFK    MCO  131       944     6     0    \n",
       "9     -8       MQ      4650   N516MQ  LGA    ATL  121       762     6     0    \n",
       "10    -5       MQ      4401   N737MQ  LGA    DTW   93       502     6     5    \n",
       "11    -7       AA       707   N3EHAA  LGA    DFW  226      1389     6     0    \n",
       "12   -14       B6       208   N192JB  JFK    BUF   57       301     6     0    \n",
       "13   -13       B6       371   N598JB  LGA    FLL  146      1076     6     0    \n",
       "14    -2       DL       461   N659DL  LGA    ATL  125       762     6     0    \n",
       "15    -2       US      2161   N765US  LGA    DCA   45       214     6     0    \n",
       "16     8       EV      5020   N398CA  LGA    MEM  149       963     6     0    \n",
       "17   -18       B6       501   N637JB  JFK    FLL  145      1069     6     5    \n",
       "18   -14       EV      5689   N833AS  LGA    IAD   45       229     6     0    \n",
       "19   -17       B6       507   N562JB  EWR    FLL  143      1065     6     0    \n",
       "20   -19       UA      1431   N17719  EWR    DFW  217      1372     6     0    \n",
       "21   -14       AA       301   N3AXAA  LGA    ORD  123       733     6     0    \n",
       "22   -23       UA      1077   N39297  EWR    MIA  148      1085     6     0    \n",
       "23    28       FL       345   N330AT  LGA    ATL  133       762     6     0    \n",
       "24   -10       UA       797   N557UA  JFK    LAX  341      2475     6    10    \n",
       "25   -41       UA       511   N595UA  EWR    LAS  292      2227     6    10    \n",
       "26   -15       EV      4354   N17984  EWR    IAD   43       212     6    10    \n",
       "27    -8       EV      4608   N13955  EWR    MKE  114       725     6     2    \n",
       "28    -7       UA      1072   N73251  LGA    IAH  224      1416     6    17    \n",
       "29    -4       B6       380   N318JB  EWR    BOS   46       200     6    15    \n",
       "30   -20       DL      1919   N324US  LGA    MSP  145      1020     6    10    \n",
       "⋮    ⋮         ⋮       ⋮      ⋮       ⋮      ⋮    ⋮        ⋮        ⋮    ⋮     \n",
       "3421  22       AA      1589   N4YNAA  EWR    DFW  199      1372      9   20    \n",
       "3422 -28       EV      4322   N13132  EWR    MKE  101       725     10   41    \n",
       "3423  -5       AA       321   N595AA  LGA    ORD  109       733     10   30    \n",
       "3424  -7       VX        23   N848VA  JFK    SFO  359      2586     10   30    \n",
       "3425  89       DL      2379   N361NW  LGA    FLL  163      1076      9   15    \n",
       "3426   3       DL      1529   N395DN  JFK    LAS  302      2248     10   29    \n",
       "3427  -6       EV      4662   N14902  EWR    RDU   74       416     10   32    \n",
       "3428 -12       UA      1735   N37287  EWR    LAX  335      2454     10   34    \n",
       "3429 -30       EV      4227   N16999  EWR    IND   96       645     10   48    \n",
       "3430 -10       UA       602   N671UA  EWR    IAH  203      1400     10   47    \n",
       "3431  11       B6       545   N562JB  EWR    PBI  159      1023     10   45    \n",
       "3432  -2       MQ      4589   N504MQ  LGA    DTW   83       502     10   50    \n",
       "3433   9       EV      4269   N11164  EWR    CHS  101       628     10   35    \n",
       "3434 -23       EV      4221   N13964  EWR    BUF   48       282     10   56    \n",
       "3435   0       B6      1183   N563JB  JFK    MCO  140       944     10   55    \n",
       "3436   0       DL      1903   N929DL  LGA    SRQ  149      1047     10   50    \n",
       "3437  30       MQ      4471   N713MQ  LGA    RDU   79       431     10   30    \n",
       "3438  -8       US      2124   N967UW  LGA    BOS   31       184     11    0    \n",
       "3439  -9       MQ      3792   N515MQ  JFK    DCA   53       213     11    0    \n",
       "3440  -3       UA      1183   N76504  EWR    RSW  165      1068     10   50    \n",
       "3441 -27       DL      1275   N3760C  JFK    SLC  273      1990     11    0    \n",
       "3442   2       AA       739   N3FBAA  LGA    DFW  199      1389     11    0    \n",
       "3443  11       US      2171   N732US  LGA    DCA   44       214     11    0    \n",
       "3444 -17       UA       109   N38454  EWR    LAS  309      2227     10   56    \n",
       "3445  -1       UA      1737   N14214  LGA    DEN  223      1620     11    0    \n",
       "3446   4       DL       930   N952DL  LGA    FLL  156      1076     11    0    \n",
       "3447   2       DL      1573   N314NB  LGA    MEM  142       963     11    0    \n",
       "3448  12       DL      1647   N635DL  LGA    ATL  109       762     11    0    \n",
       "3449 -22       UA       642   N508UA  JFK    SFO  348      2586     11    6    \n",
       "3450   0       UA      1143   N76503  EWR    PBI  156      1023     11    0    \n",
       "     time_hour          \n",
       "1    2013-03-11 05:00:00\n",
       "2    2013-03-11 05:00:00\n",
       "3    2013-03-11 06:00:00\n",
       "4    2013-03-11 06:00:00\n",
       "5    2013-03-11 06:00:00\n",
       "6    2013-03-11 06:00:00\n",
       "7    2013-03-11 06:00:00\n",
       "8    2013-03-11 06:00:00\n",
       "9    2013-03-11 06:00:00\n",
       "10   2013-03-11 06:00:00\n",
       "11   2013-03-11 06:00:00\n",
       "12   2013-03-11 06:00:00\n",
       "13   2013-03-11 06:00:00\n",
       "14   2013-03-11 06:00:00\n",
       "15   2013-03-11 06:00:00\n",
       "16   2013-03-11 06:00:00\n",
       "17   2013-03-11 06:00:00\n",
       "18   2013-03-11 06:00:00\n",
       "19   2013-03-11 06:00:00\n",
       "20   2013-03-11 06:00:00\n",
       "21   2013-03-11 06:00:00\n",
       "22   2013-03-11 06:00:00\n",
       "23   2013-03-11 06:00:00\n",
       "24   2013-03-11 06:00:00\n",
       "25   2013-03-11 06:00:00\n",
       "26   2013-03-11 06:00:00\n",
       "27   2013-03-11 06:00:00\n",
       "28   2013-03-11 06:00:00\n",
       "29   2013-03-11 06:00:00\n",
       "30   2013-03-11 06:00:00\n",
       "⋮    ⋮                  \n",
       "3421 2013-03-21 09:00:00\n",
       "3422 2013-03-21 10:00:00\n",
       "3423 2013-03-21 10:00:00\n",
       "3424 2013-03-21 10:00:00\n",
       "3425 2013-03-21 09:00:00\n",
       "3426 2013-03-21 10:00:00\n",
       "3427 2013-03-21 10:00:00\n",
       "3428 2013-03-21 10:00:00\n",
       "3429 2013-03-21 10:00:00\n",
       "3430 2013-03-21 10:00:00\n",
       "3431 2013-03-21 10:00:00\n",
       "3432 2013-03-21 10:00:00\n",
       "3433 2013-03-21 10:00:00\n",
       "3434 2013-03-21 10:00:00\n",
       "3435 2013-03-21 10:00:00\n",
       "3436 2013-03-21 10:00:00\n",
       "3437 2013-03-21 10:00:00\n",
       "3438 2013-03-21 11:00:00\n",
       "3439 2013-03-21 11:00:00\n",
       "3440 2013-03-21 10:00:00\n",
       "3441 2013-03-21 11:00:00\n",
       "3442 2013-03-21 11:00:00\n",
       "3443 2013-03-21 11:00:00\n",
       "3444 2013-03-21 10:00:00\n",
       "3445 2013-03-21 11:00:00\n",
       "3446 2013-03-21 11:00:00\n",
       "3447 2013-03-21 11:00:00\n",
       "3448 2013-03-21 11:00:00\n",
       "3449 2013-03-21 11:00:00\n",
       "3450 2013-03-21 11:00:00"
      ]
     },
     "metadata": {},
     "output_type": "display_data"
    }
   ],
   "source": [
    "flights |>\n",
    "    # filter for March\n",
    "    filter(month == 3) |>\n",
    "    # Filter on day\n",
    "    filter(\n",
    "           day <= 21 &\n",
    "           day >= 11)  |>\n",
    "    # Filter for the time\n",
    "    filter(\n",
    "          dep_time >= 530 &\n",
    "          dep_time <= 1100\n",
    "          )\n",
    "    \n",
    "    "
   ]
  },
  {
   "cell_type": "markdown",
   "id": "97412163-ae6a-4de2-ba74-34c80873ae6c",
   "metadata": {},
   "source": [
    "# Question 1.9 Solution\n",
    "\n"
   ]
  },
  {
   "cell_type": "code",
   "execution_count": 32,
   "id": "7596c404-b292-414a-af9a-4a3f328cf4ff",
   "metadata": {},
   "outputs": [
    {
     "data": {
      "image/png": "[encoded data removed]",
      "text/plain": [
       "plot without title"
      ]
     },
     "metadata": {
      "image/png": {
       "height": 420,
       "width": 420
      }
     },
     "output_type": "display_data"
    }
   ],
   "source": [
    "flights_df |>\n",
    "    ggplot(aes(x=distance, fill=origin)) +\n",
    "    geom_histogram(alpha=0.75, binwidth = 200) +\n",
    "    facet_grid(origin~.)"
   ]
  },
  {
   "cell_type": "markdown",
   "id": "7be7db17-7e33-4fb2-bbe6-994c92218af4",
   "metadata": {},
   "source": [
    "# Question 1.9 Discussion \n",
    "\n",
    "\n",
    "There is a meaningful difference in the distribution of distance travelled between origin and all destinations. From the graph it looks like carriers using the JFK and EWR airports tend to travel more distances compared to carriers using the LGA airport. This might be due to the fact that JFK and LGA may be connecting hubs for flights to longer destinations as compared to LGA."
   ]
  },
  {
   "cell_type": "markdown",
   "id": "26eb3ee7-b9f3-484d-b7e8-ac1c81bba034",
   "metadata": {},
   "source": [
    "# Question 1.10 Solution \n",
    "\n",
    "## 1.10.a"
   ]
  },
  {
   "cell_type": "code",
   "execution_count": 46,
   "id": "80569630-c66c-43e4-9df3-1769c4e8908f",
   "metadata": {},
   "outputs": [
    {
     "data": {
      "text/html": [
       "<table class=\"dataframe\">\n",
       "<caption>A tibble: 12 × 2</caption>\n",
       "<thead>\n",
       "\t<tr><th scope=col>month</th><th scope=col>sum_monthly_tax</th></tr>\n",
       "\t<tr><th scope=col>&lt;int&gt;</th><th scope=col>&lt;dbl&gt;</th></tr>\n",
       "</thead>\n",
       "<tbody>\n",
       "\t<tr><td> 1</td><td>6777189</td></tr>\n",
       "\t<tr><td> 2</td><td>6239683</td></tr>\n",
       "\t<tr><td> 3</td><td>7235740</td></tr>\n",
       "\t<tr><td> 4</td><td>7580735</td></tr>\n",
       "\t<tr><td> 5</td><td>7714391</td></tr>\n",
       "\t<tr><td> 6</td><td>7833622</td></tr>\n",
       "\t<tr><td> 7</td><td>8008887</td></tr>\n",
       "\t<tr><td> 8</td><td>8162260</td></tr>\n",
       "\t<tr><td> 9</td><td>7360730</td></tr>\n",
       "\t<tr><td>10</td><td>7734657</td></tr>\n",
       "\t<tr><td>11</td><td>7447873</td></tr>\n",
       "\t<tr><td>12</td><td>7609757</td></tr>\n",
       "</tbody>\n",
       "</table>\n"
      ],
      "text/latex": [
       "A tibble: 12 × 2\n",
       "\\begin{tabular}{ll}\n",
       " month & sum\\_monthly\\_tax\\\\\n",
       " <int> & <dbl>\\\\\n",
       "\\hline\n",
       "\t  1 & 6777189\\\\\n",
       "\t  2 & 6239683\\\\\n",
       "\t  3 & 7235740\\\\\n",
       "\t  4 & 7580735\\\\\n",
       "\t  5 & 7714391\\\\\n",
       "\t  6 & 7833622\\\\\n",
       "\t  7 & 8008887\\\\\n",
       "\t  8 & 8162260\\\\\n",
       "\t  9 & 7360730\\\\\n",
       "\t 10 & 7734657\\\\\n",
       "\t 11 & 7447873\\\\\n",
       "\t 12 & 7609757\\\\\n",
       "\\end{tabular}\n"
      ],
      "text/markdown": [
       "\n",
       "A tibble: 12 × 2\n",
       "\n",
       "| month &lt;int&gt; | sum_monthly_tax &lt;dbl&gt; |\n",
       "|---|---|\n",
       "|  1 | 6777189 |\n",
       "|  2 | 6239683 |\n",
       "|  3 | 7235740 |\n",
       "|  4 | 7580735 |\n",
       "|  5 | 7714391 |\n",
       "|  6 | 7833622 |\n",
       "|  7 | 8008887 |\n",
       "|  8 | 8162260 |\n",
       "|  9 | 7360730 |\n",
       "| 10 | 7734657 |\n",
       "| 11 | 7447873 |\n",
       "| 12 | 7609757 |\n",
       "\n"
      ],
      "text/plain": [
       "   month sum_monthly_tax\n",
       "1   1    6777189        \n",
       "2   2    6239683        \n",
       "3   3    7235740        \n",
       "4   4    7580735        \n",
       "5   5    7714391        \n",
       "6   6    7833622        \n",
       "7   7    8008887        \n",
       "8   8    8162260        \n",
       "9   9    7360730        \n",
       "10 10    7734657        \n",
       "11 11    7447873        \n",
       "12 12    7609757        "
      ]
     },
     "metadata": {},
     "output_type": "display_data"
    }
   ],
   "source": [
    "# Consider a scenario in which an airline is obligated to pay a tax of $1 for each\n",
    "# mile of flight. Calculate the total tax that United Airlines (UA) has paid per month\n",
    "\n",
    "\n",
    "flights_df |>\n",
    "    # calculating the tax paid \n",
    "    mutate(tax_paid_usd = distance) |>\n",
    "    # Filtering our for UA flights\n",
    "    filter(carrier == 'UA') |>\n",
    "    # Find the total tax UA paid each month\n",
    "    summarise(.by=month, sum_monthly_tax=sum(tax_paid_usd)) |>\n",
    "    # Arrange order of the month\n",
    "    arrange(month)\n",
    "    \n"
   ]
  },
  {
   "cell_type": "code",
   "execution_count": 103,
   "id": "979779e5-fc49-4edc-8885-ee0c305b4929",
   "metadata": {},
   "outputs": [
    {
     "data": {
      "image/png": "[encoded data removed]",
      "text/plain": [
       "plot without title"
      ]
     },
     "metadata": {
      "image/png": {
       "height": 420,
       "width": 420
      }
     },
     "output_type": "display_data"
    }
   ],
   "source": [
    "# Consider a scenario in which an airline is obligated to pay a tax of $1 for each\n",
    "# mile of flight. Calculate the total tax that United Airlines (UA) has paid per month\n",
    "\n",
    "\n",
    "flights_df |>\n",
    "    # calculating the tax paid \n",
    "    mutate(tax_paid_usd = distance) |>\n",
    "    # Filtering our for UA flights\n",
    "    filter(carrier == 'UA') |>\n",
    "    # Find the total tax UA paid each month\n",
    "    summarise(.by=month, sum_monthly_tax=sum(tax_paid_usd)) |>\n",
    "    # Arrange order of the month\n",
    "    arrange(month) |>\n",
    "    # Lets plot now\n",
    "    ggplot() +\n",
    "    geom_col(aes(x=reorder(factor(month), sum_monthly_tax) , y=sum_monthly_tax)) +\n",
    "    labs(title = 'Tax Paid by UA per Month', x = 'Month', y = 'Total Monthly Tax') +\n",
    "    coord_flip()\n",
    "    \n"
   ]
  },
  {
   "cell_type": "markdown",
   "id": "466e77c3-fc3e-4f31-bde8-5ef58b18460f",
   "metadata": {},
   "source": [
    "## Q1.10.b Solution"
   ]
  },
  {
   "cell_type": "code",
   "execution_count": 102,
   "id": "0ce8e2a5-7535-4651-8bb8-e8f35a58ca35",
   "metadata": {},
   "outputs": [
    {
     "data": {
      "image/png": "[encoded data removed]",
      "text/plain": [
       "plot without title"
      ]
     },
     "metadata": {
      "image/png": {
       "height": 420,
       "width": 420
      }
     },
     "output_type": "display_data"
    }
   ],
   "source": [
    "flights_df |>\n",
    "    # calculating the tax paid \n",
    "    mutate(tax_paid_usd = distance) |>\n",
    "    # Filtering our for UA flights\n",
    "    filter(carrier == 'UA') |>\n",
    "    # Find the total tax UA paid each month\n",
    "    summarise(.by=dest, sum_monthly_tax=sum(tax_paid_usd)) |>\n",
    "    # Lets plot now\n",
    "    ggplot() +\n",
    "    geom_col(aes(x=reorder(dest, sum_monthly_tax, width = 0.95), y=sum_monthly_tax)) +\n",
    "    # Labels for the plot\n",
    "    labs(title = 'Tax Paid by UA per Flight Destination', x= 'Flight Destinations', y = 'Total Tax Paid') +\n",
    "    coord_flip()\n",
    "    \n",
    "    "
   ]
  }
 ],
 "metadata": {
  "kernelspec": {
   "display_name": "R",
   "language": "R",
   "name": "ir"
  },
  "language_info": {
   "codemirror_mode": "r",
   "file_extension": ".r",
   "mimetype": "text/x-r-source",
   "name": "R",
   "pygments_lexer": "r",
   "version": "4.3.1"
  }
 },
 "nbformat": 4,
 "nbformat_minor": 5
}
